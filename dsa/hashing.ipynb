{
 "cells": [
  {
   "cell_type": "code",
   "execution_count": 9,
   "metadata": {},
   "outputs": [
    {
     "name": "stdout",
     "output_type": "stream",
     "text": [
      "[0, 0, 0, 0, 0, 0, 0]\n",
      "1\n",
      "3\n",
      "1\n",
      "0\n",
      "2\n",
      "7\n"
     ]
    },
    {
     "data": {
      "text/plain": [
       "[2, 1, 1, 0, 0, 0, 2]"
      ]
     },
     "execution_count": 9,
     "metadata": {},
     "output_type": "execute_result"
    }
   ],
   "source": [
    "def countFrequency(n: int, m: int, edges):\n",
    "    freq = [0]*(n+1)\n",
    "    print(freq)\n",
    "    for i in range(n):\n",
    "        print(edges[i]%m)\n",
    "        freq[(edges[i]%m) -1]+=1\n",
    "    return freq\n",
    "\n",
    "countFrequency(6,9,[1,3,1,9,2,7])"
   ]
  },
  {
   "cell_type": "code",
   "execution_count": 27,
   "metadata": {},
   "outputs": [
    {
     "data": {
      "text/plain": [
       "[10, 10]"
      ]
     },
     "execution_count": 27,
     "metadata": {},
     "output_type": "execute_result"
    }
   ],
   "source": [
    "def getFrequency(n,v):\n",
    "    freq_map = {}\n",
    "    for i in range(n):\n",
    "        if v[i] in freq_map:\n",
    "            freq_map[v[i]]+=1\n",
    "        else:\n",
    "            freq_map[v[i]]=1\n",
    "    c1 = float('inf') # min count\n",
    "    c2 = float('-inf') # max count\n",
    "    ans = [-1,-1]\n",
    "    for i,v in freq_map.items():\n",
    "        if v>c2:\n",
    "                c2  = v\n",
    "                ans[0] = i\n",
    "        if v<c1:\n",
    "                c1 = v\n",
    "                ans[1] =i\n",
    "    return ans\n",
    "\n",
    "# getFrequency(6,[1,2,3,1,1,4])\n",
    "getFrequency(6,[10,10,10,3,3,3])\n",
    "# getFrequency(3,[12,17,16])\n"
   ]
  },
  {
   "cell_type": "code",
   "execution_count": 30,
   "metadata": {},
   "outputs": [
    {
     "name": "stdout",
     "output_type": "stream",
     "text": [
      "[('b', 2), ('A', 1), ('a', 1)]\n"
     ]
    },
    {
     "data": {
      "text/plain": [
       "'bbAa'"
      ]
     },
     "execution_count": 30,
     "metadata": {},
     "output_type": "execute_result"
    }
   ],
   "source": [
    "from operator import itemgetter\n",
    "def frequencySort( s: str) -> str:\n",
    "    hash_s = {}\n",
    "    n = len(s)\n",
    "    max_count = 0\n",
    "    for i in range(n): # o(n)\n",
    "        if s[i] in hash_s:\n",
    "            hash_s[s[i]]+=1 # o(1) in avg case\n",
    "            max_count = max(max_count, hash_s[s[i]])\n",
    "        else:\n",
    "            hash_s[s[i]] = 1 # o(1) in avg case\n",
    "    ans = ''\n",
    "    hash_s =sorted(hash_s.items(), key=lambda x: x[1],reverse=True)\n",
    "    print(hash_s)\n",
    "    for k,v in hash_s:\n",
    "        ans+=k*v\n",
    "    return ans\n",
    "# frequencySort('tree')\n",
    "# frequencySort('tffeeeerewt')\n",
    "frequencySort('Aabb')"
   ]
  },
  {
   "cell_type": "code",
   "execution_count": 33,
   "metadata": {},
   "outputs": [
    {
     "data": {
      "text/plain": [
       "3"
      ]
     },
     "execution_count": 33,
     "metadata": {},
     "output_type": "execute_result"
    }
   ],
   "source": [
    "def maxDepth(s: str) -> int:\n",
    "    c = 0\n",
    "    mans = 0\n",
    "    for i in range(len(s)):\n",
    "        if s[i]=='(':\n",
    "            c+=1\n",
    "        elif s[i]==')':\n",
    "            c-=1\n",
    "        mans = max(mans, c)\n",
    "\n",
    "    return mans\n",
    "maxDepth(\"(1+(2*3)+((8)/4))+1\")"
   ]
  },
  {
   "cell_type": "code",
   "execution_count": 36,
   "metadata": {},
   "outputs": [
    {
     "name": "stdout",
     "output_type": "stream",
     "text": [
      "I 1\n",
      "I 1\n",
      "I 1\n"
     ]
    },
    {
     "data": {
      "text/plain": [
       "3"
      ]
     },
     "execution_count": 36,
     "metadata": {},
     "output_type": "execute_result"
    }
   ],
   "source": [
    "def romanToInt(s: str) -> int:\n",
    "    r_v = {\n",
    "        'I':1,\n",
    "        'V':5,\n",
    "        'X':10,\n",
    "        'L':50,\n",
    "        'C':100,\n",
    "        'D':500,\n",
    "        'M':1000\n",
    "    }\n",
    "    sn = len(s)\n",
    "    n = 0\n",
    "    for i in range(len(s)):\n",
    "        print(s[i],r_v[s[i]])\n",
    "        if (i<n-1 )and s[i]=='I' and (s[i+1]=='V' or s[i+1]=='X'):\n",
    "            n-=r_v[s[i]]\n",
    "        elif (i<n-1) and s[i]=='X' and (s[i+1]=='L' or s[i+1]=='C'):\n",
    "            n-=r_v[s[i]]\n",
    "        elif (i<n-1) and s[i]=='C' and (s[i+1]=='D' or s[i+1]=='M'):\n",
    "            n-=r_v[s[i]]\n",
    "        else:\n",
    "            n+=r_v[s[i]]\n",
    "    return n\n",
    "romanToInt('III')"
   ]
  }
 ],
 "metadata": {
  "kernelspec": {
   "display_name": "prac_env",
   "language": "python",
   "name": "python3"
  },
  "language_info": {
   "codemirror_mode": {
    "name": "ipython",
    "version": 3
   },
   "file_extension": ".py",
   "mimetype": "text/x-python",
   "name": "python",
   "nbconvert_exporter": "python",
   "pygments_lexer": "ipython3",
   "version": "3.8.17"
  }
 },
 "nbformat": 4,
 "nbformat_minor": 2
}
