{
 "cells": [
  {
   "cell_type": "code",
   "execution_count": 1,
   "metadata": {},
   "outputs": [],
   "source": [
    "from typing import List"
   ]
  },
  {
   "cell_type": "markdown",
   "metadata": {},
   "source": [
    "# unnamed"
   ]
  },
  {
   "cell_type": "code",
   "execution_count": 15,
   "metadata": {},
   "outputs": [
    {
     "data": {
      "text/plain": [
       "True"
      ]
     },
     "execution_count": 15,
     "metadata": {},
     "output_type": "execute_result"
    }
   ],
   "source": [
    "def binary_search_asc(arr:list, target:int)->bool:\n",
    "    s = 0\n",
    "    e = len(arr)-1\n",
    "    if e < 1:\n",
    "        return -1\n",
    "    while s<=e:\n",
    "        mid = s + ((e-s) //2)\n",
    "        if target == arr[mid]:\n",
    "            return True\n",
    "        elif arr[mid] < target:\n",
    "            s = mid + 1\n",
    "        else:\n",
    "            e = mid-1\n",
    "    return False\n",
    "\n",
    "binary_search_asc([123,1234,12345,123456,1234567],1234567)"
   ]
  },
  {
   "cell_type": "code",
   "execution_count": 19,
   "metadata": {},
   "outputs": [
    {
     "data": {
      "text/plain": [
       "False"
      ]
     },
     "execution_count": 19,
     "metadata": {},
     "output_type": "execute_result"
    }
   ],
   "source": [
    "def binary_search_desc(arr: list, target:int) -> bool:\n",
    "    s = 0\n",
    "    e = len(arr)-1\n",
    "    while(s<=e):\n",
    "        mid = s + (e-s) //2\n",
    "        if arr[mid] == target:\n",
    "            return True\n",
    "        elif arr[mid] < target:\n",
    "            e = mid -1\n",
    "        else:\n",
    "            s = mid + 1\n",
    "    return False\n",
    "\n",
    "binary_search_desc([123,1234,12345,123456,1234567][::-1], 1234567)"
   ]
  },
  {
   "cell_type": "code",
   "execution_count": 24,
   "metadata": {},
   "outputs": [
    {
     "data": {
      "text/plain": [
       "-1"
      ]
     },
     "execution_count": 24,
     "metadata": {},
     "output_type": "execute_result"
    }
   ],
   "source": [
    "def OrderAgnosticBS(arr:list, target:int) ->bool:\n",
    "    start = 0\n",
    "    end = len(arr) -1\n",
    "    if end <1:\n",
    "        return -1\n",
    "    is_asc = arr[1] > arr[0]\n",
    "    while (start <=end):\n",
    "        mid = start + (end - start) //2\n",
    "        if target == arr[mid]:\n",
    "            return True\n",
    "        if is_asc:\n",
    "            if arr[mid] < target:\n",
    "                start = mid +1\n",
    "            else:\n",
    "                end  = mid -1\n",
    "        else:\n",
    "            if arr[mid] < target:\n",
    "                end = mid -1\n",
    "            else:\n",
    "                start  = mid +1             \n",
    "    return -1\n",
    "\n",
    "OrderAgnosticBS([123,1234,12345,123456,1234567][::-1], 124567)"
   ]
  },
  {
   "cell_type": "code",
   "execution_count": 41,
   "metadata": {},
   "outputs": [
    {
     "data": {
      "text/plain": [
       "2"
      ]
     },
     "execution_count": 41,
     "metadata": {},
     "output_type": "execute_result"
    }
   ],
   "source": [
    "def ceil_number(arr:list, target : int) -> int:\n",
    "    start = 0\n",
    "    end = len(arr)-1\n",
    "    if end <1:\n",
    "        return -1\n",
    "    is_asc = arr[1] > arr[0]\n",
    "    while (start <=end):\n",
    "        mid = start + (end - start) //2\n",
    "        if target == arr[mid]:\n",
    "            return target\n",
    "        if is_asc:\n",
    "            if arr[mid] < target:\n",
    "                start = mid +1\n",
    "            else:\n",
    "                end  = mid -1\n",
    "        else:\n",
    "            if arr[mid] < target:\n",
    "                end = mid -1\n",
    "            else:\n",
    "                start  = mid +1 \n",
    "    # print(start)  \n",
    "    return arr[start-1]\n",
    "ceil_number([1,2,3,4,5],2.6)"
   ]
  },
  {
   "cell_type": "code",
   "execution_count": null,
   "metadata": {},
   "outputs": [],
   "source": [
    "def searchMatrix(self, matrix: List[List[int]], target: int) -> bool:\n",
    "    m = len(matrix)\n",
    "    n = len(matrix[0])\n",
    "    if (m==1) | (n==1):\n",
    "        return matrix[m-1][n-1] == target\n",
    "    row = 0\n",
    "    col = n-1\n",
    "    while((row<m) & (col>0)):\n",
    "        print(row, col)\n",
    "        if matrix[row][col] == target:\n",
    "            return row,col\n",
    "        elif matrix[row][col] < target:\n",
    "            row+=1\n",
    "        elif matrix[row][col] > target:\n",
    "            col-=1\n",
    "    return False\n",
    "searchMatrix(None, [[1,3,5,7],[10,11,16,20],[23,30,34,60]], 13)\n",
    "searchMatrix(None, [[1,3]], 1)"
   ]
  },
  {
   "cell_type": "code",
   "execution_count": null,
   "metadata": {},
   "outputs": [
    {
     "data": {
      "text/plain": [
       "(0, 1)"
      ]
     },
     "metadata": {},
     "output_type": "display_data"
    }
   ],
   "source": [
    "def binary_search(self, nums, target, frstsearch):\n",
    "    s = 0\n",
    "    e = len(nums)-1\n",
    "    pos = -1\n",
    "    while (s<=e):\n",
    "        mid = s + (e-s)//2\n",
    "        if nums[mid] == target:\n",
    "            pos = mid\n",
    "            if frstsearch:\n",
    "                e = mid -1\n",
    "            else:\n",
    "                s = mid + 1\n",
    "        elif nums[mid] < target: \n",
    "            s = mid + 1\n",
    "        else:\n",
    "            e = mid -1\n",
    "    return pos\n",
    "def searchRange(self, nums: List[int], target: int) -> List[int]:\n",
    "    firstpos = binary_search(None, nums, target, True)\n",
    "    lastpos = binary_search(None, nums, target, False)\n",
    "    return (firstpos,lastpos)\n",
    "searchRange(None, [5,5], 5)"
   ]
  },
  {
   "cell_type": "code",
   "execution_count": null,
   "metadata": {},
   "outputs": [],
   "source": [
    "def binary_search(nums, target, s, e):\n",
    "    while (s<=e):\n",
    "        mid = s + (e-s) //2\n",
    "        if nums[mid] == target:\n",
    "            return mid\n",
    "        elif nums[mid] < target:\n",
    "            s = mid + 1\n",
    "        else:\n",
    "            e = mid -1\n",
    "    return -1\n",
    "\n",
    "def find_range(nums, target):\n",
    "    s = 0\n",
    "    e = 1\n",
    "    while (target <=nums[e]):\n",
    "        t = e+1\n",
    "        e = e  + (e-s + 1)*2\n",
    "        s = t\n",
    "    return binary_search(nums ,target, s,e)\n",
    "\n"
   ]
  },
  {
   "cell_type": "code",
   "execution_count": null,
   "metadata": {},
   "outputs": [
    {
     "data": {
      "text/plain": [
       "2"
      ]
     },
     "metadata": {},
     "output_type": "display_data"
    }
   ],
   "source": [
    "def findPeakElement(self, nums: List[int]) -> int:\n",
    "    n = len(nums)\n",
    "    max = float('-inf')\n",
    "    id = 0\n",
    "    for i in range(n):\n",
    "        if  max < nums[i]:\n",
    "            max = nums[i]\n",
    "            id = i\n",
    "        else:\n",
    "            break\n",
    "    return id\n",
    "findPeakElement(None,[1,2,3,1])"
   ]
  },
  {
   "cell_type": "code",
   "execution_count": null,
   "metadata": {},
   "outputs": [
    {
     "data": {
      "text/plain": [
       "3"
      ]
     },
     "metadata": {},
     "output_type": "display_data"
    }
   ],
   "source": [
    "def findPeakElement(self, nums: List[int]) -> int:\n",
    "    n = len(nums)\n",
    "    if n==1:\n",
    "        return 0\n",
    "    if nums[0] > nums[1]:\n",
    "        return 0\n",
    "    if nums[n-1] > nums[n-2]:\n",
    "        return n-1\n",
    "    s = 0\n",
    "    e = len(nums) - 1\n",
    "    while (s<=e):\n",
    "        mid = s + (e-s) //2\n",
    "        if (nums[mid] > nums[mid-1]) & (nums[mid] > nums[mid+1]):\n",
    "            return mid\n",
    "        elif nums[mid+1] > nums[mid]:\n",
    "            s = mid + 1\n",
    "        elif nums[mid-1] > nums[mid]:\n",
    "            e = mid \n",
    "    return mid\n",
    "findPeakElement(None,[1,2,12,13,1])"
   ]
  },
  {
   "cell_type": "code",
   "execution_count": null,
   "metadata": {},
   "outputs": [
    {
     "name": "stdout",
     "output_type": "stream",
     "text": [
      "6\n",
      "-1\n"
     ]
    }
   ],
   "source": [
    "# if len is one\n",
    "# if peak is at end\n",
    "def findpeakelem(nums):\n",
    "    n = len(nums)\n",
    "    if n == 1:\n",
    "        return 0 \n",
    "    if nums[n -1 ] > nums[n-2]:\n",
    "        return n-1\n",
    "    s = 0\n",
    "    e = n-1\n",
    "    while ( s <= e):\n",
    "        mid = s + (e-s) //2\n",
    "        if (nums[mid] > nums[mid-1]) & (nums[mid] > nums[mid+1]):\n",
    "            return mid\n",
    "        elif  nums[mid+1] > nums[mid] :\n",
    "            s = mid + 1\n",
    "        elif nums[mid-1] > nums[mid]: # \n",
    "            e = mid\n",
    "    return mid\n",
    "\n",
    "def orderagnostic_bs(nums, target, s, e, isasc):\n",
    "    while (s<=e):\n",
    "        mid = s + (e-s) //2\n",
    "        if nums[mid] == target:\n",
    "            print('target and mid of bin',nums[mid], target)\n",
    "            return mid\n",
    "        if isasc:\n",
    "            if nums[mid] < target:\n",
    "                s = mid + 1\n",
    "            else:\n",
    "                e = mid -1\n",
    "        else:\n",
    "            if nums[mid] < target:\n",
    "                e = mid -1\n",
    "            else:\n",
    "                s = mid +1\n",
    "    return -1\n",
    "\n",
    "\n",
    "def search_elem_biotonic(nums, target):\n",
    "    n = len(nums)\n",
    "    peak = findpeakelem(nums)\n",
    "    if nums[peak]==target:\n",
    "        print('peak - target', peak, target)\n",
    "        return peak\n",
    "    first_try = orderagnostic_bs(nums, target, 0, peak, True)\n",
    "    if first_try!=-1:\n",
    "        return first_try\n",
    "    return orderagnostic_bs(nums, target, peak+1, n-1, False)\n",
    "\n",
    "# 2 3 4 5 6 3 2 1\n",
    "print(findpeakelem([4,5,6,7,0,1,2]))\n",
    "print(search_elem_biotonic([4,5,6,7,0,1,2], 0))"
   ]
  },
  {
   "cell_type": "code",
   "execution_count": null,
   "metadata": {},
   "outputs": [
    {
     "name": "stdout",
     "output_type": "stream",
     "text": [
      "2\n",
      "1\n",
      "1\n"
     ]
    },
    {
     "data": {
      "text/plain": [
       "0"
      ]
     },
     "metadata": {},
     "output_type": "display_data"
    }
   ],
   "source": [
    "# case1 : the list is not rotated\n",
    "# case2: the len is 1\n",
    "# case3: the len is 2.\n",
    "# case4: the list is rotated once.\n",
    "def binary_search(nums, target, s, e):\n",
    "    while (s<=e):\n",
    "        mid = s + (e-s) //2\n",
    "        if nums[mid]==target:\n",
    "            return mid\n",
    "        elif nums[mid] < target:\n",
    "            s = mid +1\n",
    "        else:\n",
    "            e = mid-1\n",
    "    return -1\n",
    "\n",
    "def find_peak(nums):\n",
    "    s = 0\n",
    "    e = len(nums) -1\n",
    "    while (s<=e):\n",
    "        mid = s + (e-s) //2\n",
    "        print(mid)\n",
    "        if (nums[mid] > nums[mid-1]) & ((nums[mid] > nums[mid+1])):\n",
    "            return mid\n",
    "        elif nums[mid] > nums[0]:\n",
    "            s = mid +1\n",
    "        elif nums[mid] < nums[0]:\n",
    "            e = mid\n",
    "    return mid\n",
    "\n",
    "def search_elem_sort_rot(nums, target):\n",
    "    n  = len(nums)\n",
    "    if nums[0] == target:\n",
    "        return 0  \n",
    "    if n == 1:\n",
    "        return -1\n",
    "    if nums[-1] > nums[0]: # handles case 1, 3\n",
    "        return binary_search(nums , target, 0,n-1)\n",
    "    peak = find_peak(nums) \n",
    "    if nums[peak] == target:\n",
    "        return peak\n",
    "    first_try = binary_search(nums, target, 0, peak)\n",
    "    if first_try!=-1:\n",
    "        return first_try\n",
    "    return binary_search(nums, target, peak+1, n-1)\n",
    "# [4,5,6,7,0,1,2]\n",
    "'''\n",
    "s = 0\n",
    "e = n -1\n",
    "while (s<=e):\n",
    "\n",
    "'''\n",
    "print(find_peak([4,5,1,2,3]))\n",
    "search_elem_sort_rot([4,5,1,2,3], 4)"
   ]
  },
  {
   "cell_type": "code",
   "execution_count": null,
   "metadata": {},
   "outputs": [
    {
     "name": "stdout",
     "output_type": "stream",
     "text": [
      "3\n",
      "4\n",
      "0\n"
     ]
    }
   ],
   "source": [
    "# case1: arr is of length 1\n",
    "# case2: arr is not rotated\n",
    "# case3: arr of size 0 or empty array\n",
    "def rotationcount(nums):\n",
    "    n = len(nums)\n",
    "    s = 0\n",
    "    e = n-1\n",
    "    if n == 0:\n",
    "        return -1\n",
    "    if (nums[n-1] > nums[0]) |( n == 1): # case1, case 2\n",
    "        return 0\n",
    "    while (s<=e):\n",
    "        mid = s+ (e-s)//2\n",
    "        if (nums[mid] > nums[mid+1]) & (nums[mid]>nums[mid+1]):\n",
    "            return mid + 1\n",
    "        elif nums[0] > nums[mid]:\n",
    "            e = mid\n",
    "        elif nums[0] < nums[mid]:\n",
    "            s = mid +1\n",
    "    return mid +1\n",
    "\n",
    "print(rotationcount([4,3,2,1,0 ]))\n",
    "print(rotationcount([4,5,6,7,0,1,2 ]))\n",
    "print(rotationcount([1,2,3,4,5,6]))\n",
    "# 4,3,2,1,0    "
   ]
  },
  {
   "cell_type": "code",
   "execution_count": null,
   "metadata": {},
   "outputs": [
    {
     "name": "stdout",
     "output_type": "stream",
     "text": [
      "[1] [4, 4]\n",
      "[1, 4] [4]\n"
     ]
    },
    {
     "data": {
      "text/plain": [
       "5"
      ]
     },
     "metadata": {},
     "output_type": "display_data"
    }
   ],
   "source": [
    "def splitArray(self, nums: List[int], k: int) -> int:\n",
    "    n = len(nums)\n",
    "    max_ = float('-inf')\n",
    "    min_ = float('inf')\n",
    "    for i in range(1,n):\n",
    "        print(nums[i:n-k], )\n",
    "        max_ = max(sum(nums[:i]), sum(nums[i:]))\n",
    "        min_ = min(min_, max_)\n",
    "    return min_\n",
    "\n",
    "splitArray(None, [1,4,4],3)"
   ]
  },
  {
   "cell_type": "code",
   "execution_count": null,
   "metadata": {},
   "outputs": [
    {
     "name": "stdout",
     "output_type": "stream",
     "text": [
      "Subarray 1: [7, 2, 5, 6, 10]\n",
      "Subarray 2: [11, 1, 2, 5, 6]\n",
      "Subarray 3: [7, 1, 90, 2, 4]\n"
     ]
    }
   ],
   "source": [
    "a = [7, 2, 5, 6, 10,11,1,2,5,6,7,1,90,2,4]\n",
    "k = 3\n",
    "\n",
    "# Calculate the length of each subarray\n",
    "subarray_length = len(a) // k\n",
    "\n",
    "# Initialize an empty list to store the subarrays\n",
    "subarrays = []\n",
    "\n",
    "# Create the subarrays\n",
    "for i in range(k):\n",
    "    start_index = i * subarray_length\n",
    "    end_index = (i + 1) * subarray_length if i < k - 1 else None\n",
    "    subarray = a[start_index:end_index]\n",
    "    subarrays.append(subarray)\n",
    "\n",
    "# Print the subarrays\n",
    "for i, subarray in enumerate(subarrays):\n",
    "    print(f\"Subarray {i + 1}: {subarray}\")\n"
   ]
  },
  {
   "cell_type": "code",
   "execution_count": null,
   "metadata": {},
   "outputs": [
    {
     "data": {
      "text/plain": [
       "9"
      ]
     },
     "metadata": {},
     "output_type": "display_data"
    }
   ],
   "source": [
    "def subarray(nums, k):\n",
    "    n = len(nums)\n",
    "    subarr_len = n//k\n",
    "    subarrays = []\n",
    "    for i in range(k): # we'll make k-1 cuts.\n",
    "        start = i*subarr_len\n",
    "        end = start + subarr_len\n",
    "        subarray = nums[start:end]\n",
    "        subarrays.append(sum(subarray))\n",
    "    return min(subarrays)\n",
    "\n",
    "\n",
    "a = [7,2,5,10,8]\n",
    "k = 2\n",
    "subarray(a,k)"
   ]
  },
  {
   "cell_type": "code",
   "execution_count": null,
   "metadata": {},
   "outputs": [
    {
     "name": "stdout",
     "output_type": "stream",
     "text": [
      "[[1, 2, 3, 4], [2, 3, 4], [3, 4], [4], []]\n"
     ]
    }
   ],
   "source": [
    "def subarray(nums, k):\n",
    "    n=len(nums)\n",
    "    subarrs = []\n",
    "    for i in range(0,n):\n",
    "        subarr = []\n",
    "        for j in range(i+1, n):\n",
    "            subarr.append(j)\n",
    "        subarrs.append(subarr)\n",
    "    print(subarrs)\n",
    "subarray([7,2,5,10,8],2)"
   ]
  },
  {
   "cell_type": "code",
   "execution_count": null,
   "metadata": {},
   "outputs": [
    {
     "data": {
      "text/plain": [
       "18"
      ]
     },
     "metadata": {},
     "output_type": "display_data"
    }
   ],
   "source": [
    "def subarray(nums, k):\n",
    "    n = len(nums)\n",
    "    start = 0\n",
    "    end = 0\n",
    "    for i in range(n):\n",
    "        start = max(start, nums[i])\n",
    "        end  += nums[i]\n",
    "    while (start<end):\n",
    "        mid = start + (end-start)//2\n",
    "        pieces = 1\n",
    "        currsum = 0\n",
    "        for i in range(0,n):\n",
    "            if currsum + nums[i]>mid:\n",
    "                pieces +=1\n",
    "                currsum = nums[i]\n",
    "            else:\n",
    "                currsum += nums[i]\n",
    "        if pieces > k:\n",
    "            start = mid+1\n",
    "        else:\n",
    "            end = mid\n",
    "    return end\n",
    "\n",
    "subarray([7,2,5,10,8],2)"
   ]
  },
  {
   "cell_type": "code",
   "execution_count": 24,
   "metadata": {},
   "outputs": [
    {
     "data": {
      "text/plain": [
       "True"
      ]
     },
     "execution_count": 24,
     "metadata": {},
     "output_type": "execute_result"
    }
   ],
   "source": [
    "# i have a sorted matrix\n",
    "def binary_search(arr, target):\n",
    "    s = 0\n",
    "    e = len(arr) -1\n",
    "    while (s<=e):\n",
    "        mid = s + (e-s)//2\n",
    "        if arr[mid] == target:\n",
    "            return  True\n",
    "        elif arr[mid] < target:\n",
    "            s = mid +1\n",
    "        else:\n",
    "            e = mid -1\n",
    "    return False\n",
    "\n",
    "def searchMatrix(self, matrix: List[List[int]], target: int) -> bool:\n",
    "    m = len(matrix)\n",
    "    n = len(matrix[0])\n",
    "    if (m==1) and (n==1):\n",
    "        return matrix[m-1][n-1] == target\n",
    "    for i in range(m):\n",
    "        if (target >= matrix[i][0] ) & (target<=matrix[i][n-1]):\n",
    "            return binary_search(matrix[i], target)\n",
    "            \n",
    "    return False\n",
    "\n",
    "\n",
    "# searchMatrix(None, [[1,3,5,7],[10,11,16,20],[23,30,34,60]], 3)\n",
    "searchMatrix(None,[[1,3]], 1)\n"
   ]
  },
  {
   "cell_type": "code",
   "execution_count": 29,
   "metadata": {},
   "outputs": [
    {
     "data": {
      "text/plain": [
       "False"
      ]
     },
     "execution_count": 29,
     "metadata": {},
     "output_type": "execute_result"
    }
   ],
   "source": [
    "def searchMatrix(self, matrix: List[List[int]], target: int) -> bool:\n",
    "    m = len(matrix)\n",
    "    n = len(matrix[0])\n",
    "    s = 0\n",
    "    e = m*n -1\n",
    "    while (s<=e):\n",
    "        mid = s + (e-s) //2 # 6\n",
    "        row = mid //n\n",
    "        col = mid %n\n",
    "        if matrix[row][col] == target:\n",
    "            return True\n",
    "        elif matrix[row][col] < target:\n",
    "            s = mid +1\n",
    "        else:\n",
    "            e = mid -1\n",
    "    return False\n",
    "\n",
    "# 1,3,4,5\n",
    "# 6,7,8,9\n",
    "searchMatrix(None, [[1,3,5,7],[10,11,16,20],[23,30,34,60]], -3)"
   ]
  },
  {
   "cell_type": "markdown",
   "metadata": {},
   "source": [
    "# ub and lb\n",
    "1. Find single element\n",
    "2. Find first and last occurence"
   ]
  },
  {
   "cell_type": "code",
   "execution_count": 17,
   "metadata": {},
   "outputs": [
    {
     "name": "stdout",
     "output_type": "stream",
     "text": [
      "3\n",
      "4\n"
     ]
    }
   ],
   "source": [
    "def upper_bound(nums, n):\n",
    "    s = 0\n",
    "    e = len(nums)-1\n",
    "    while (s<=e):\n",
    "        mid = s + ((e-s) //2)\n",
    "        # print(s,e, mid)\n",
    "        # if nums[mid] == n:\n",
    "        #     return mid\n",
    "        if nums[mid] > n:\n",
    "            e = mid-1\n",
    "        else:\n",
    "            s = mid+1\n",
    "    return s\n",
    "print(upper_bound([1,2,2,3], 2))\n",
    "print(upper_bound([3,5,8,9,15,19], 9))"
   ]
  },
  {
   "cell_type": "code",
   "execution_count": 39,
   "metadata": {},
   "outputs": [
    {
     "data": {
      "text/plain": [
       "4"
      ]
     },
     "execution_count": 39,
     "metadata": {},
     "output_type": "execute_result"
    }
   ],
   "source": [
    "def search_insert(nums, target):\n",
    "    s = 0\n",
    "    e = len(nums)-1\n",
    "    while (s<=e):\n",
    "        mid = s + ((e-s) //2)\n",
    "        if nums[mid] == target:\n",
    "            return mid\n",
    "        elif nums[mid] < target:\n",
    "            s = mid+1\n",
    "        else:\n",
    "            e = mid-1\n",
    "    return e+1\n",
    "# search_insert([1,3,5,6], 7)\n",
    "# search_insert([1,3,5,6], 2)\n",
    "# search_insert([1,3,5,6], 3)\n",
    "# search_insert([1,3,5,6], 5)"
   ]
  },
  {
   "cell_type": "code",
   "execution_count": 35,
   "metadata": {},
   "outputs": [
    {
     "name": "stdout",
     "output_type": "stream",
     "text": [
      "2\n",
      "[-1, -1]\n"
     ]
    }
   ],
   "source": [
    "def firstandlastoccurence(nums,start, end, first_srch , target):\n",
    "    s = start\n",
    "    e = end\n",
    "    while (s<=e):\n",
    "        mid = s + (e-s)//2\n",
    "        if nums[mid] == target:\n",
    "            if first_srch:\n",
    "                e = mid -1\n",
    "            else:\n",
    "                s = mid +1\n",
    "        elif nums[mid] <target:\n",
    "            s = mid+1\n",
    "        else:\n",
    "            e = mid -1\n",
    "    if first_srch:\n",
    "        return s\n",
    "    else:\n",
    "        return e\n",
    "def searchRange(nums,target):\n",
    "    n=len(nums)\n",
    "    first_src= firstandlastoccurence(nums, 0, n-1, True, target)\n",
    "    print(first_src)\n",
    "    if ((first_src<n) and nums[first_src] ==target):\n",
    "        second_srch = firstandlastoccurence(nums, first_src, n-1, False, target)\n",
    "        if nums[second_srch] == target:\n",
    "            return first_src , second_srch\n",
    "    return [-1, -1]\n",
    "# print(searchRange([1,2,3,3,8,8,8,8,8,10], 10))\n",
    "# print(searchRange([5,7,7,8,8,10], 10))\n",
    "print(searchRange([2,2], 3))\n",
    "# print(firstandlastoccurence([1,2,3,3,8,8,8,8,8,10])"
   ]
  },
  {
   "cell_type": "code",
   "execution_count": 31,
   "metadata": {},
   "outputs": [
    {
     "data": {
      "text/plain": [
       "2"
      ]
     },
     "execution_count": 31,
     "metadata": {},
     "output_type": "execute_result"
    }
   ],
   "source": [
    "def single_elem(nums):\n",
    "    n = len(nums)\n",
    "    s = 1\n",
    "    e = n-2\n",
    "    if n==1:\n",
    "        return nums[0]\n",
    "    if nums[0] != nums[1]:\n",
    "        return nums[0]\n",
    "    if nums[n-1] != nums[n-2]:\n",
    "        return nums[n-1]\n",
    "    while (s<=e):\n",
    "        mid = s + (e-s)//2\n",
    "        if (nums[mid]!=nums[mid-1]) and (nums[mid]!=nums[mid+1]):\n",
    "            return nums[mid]\n",
    "        elif ((nums[mid]==nums[mid+1]) and (mid%2==0)) or ((nums[mid]==nums[mid-1]) and (mid%2!=0)):\n",
    "            s = mid+1\n",
    "        else:\n",
    "            e = mid-1\n",
    "    return -1\n",
    "# single_elem([1,1,2,2,3,4,4])\n",
    "single_elem([1,1,2])"
   ]
  },
  {
   "cell_type": "code",
   "execution_count": null,
   "metadata": {},
   "outputs": [],
   "source": []
  },
  {
   "cell_type": "markdown",
   "metadata": {},
   "source": [
    "# peak (rotated)\n",
    "1. Find peak in rotated\n",
    "1. Find peak in duplicated in rotated\n",
    "2. Search in rotated\n",
    "2. Search in duplicated in rotated\n",
    "3. Find min in rotated\n",
    "3. Find min in duplicated in rotated"
   ]
  },
  {
   "cell_type": "code",
   "execution_count": 63,
   "metadata": {},
   "outputs": [],
   "source": [
    "from typing import List"
   ]
  },
  {
   "cell_type": "code",
   "execution_count": 192,
   "metadata": {},
   "outputs": [
    {
     "name": "stdout",
     "output_type": "stream",
     "text": [
      "0 0 1\n",
      "here\n"
     ]
    },
    {
     "data": {
      "text/plain": [
       "(2, 0)"
      ]
     },
     "execution_count": 192,
     "metadata": {},
     "output_type": "execute_result"
    }
   ],
   "source": [
    "# [4,5,7,8,0,1,2,3]\n",
    "#  s       m     e\n",
    "\n",
    "# \n",
    "def find_peak(nums, n):\n",
    "    s = 0\n",
    "    e = n-1\n",
    "    while (s<=e):\n",
    "        mid = s + (e-s) //2\n",
    "        print(s, mid, e)\n",
    "        if nums[mid] > nums[mid+1]:\n",
    "            print('here')\n",
    "            return nums[mid], mid\n",
    "        if nums[mid]== nums[s]==nums[e]:\n",
    "            s+=1\n",
    "            e-=1\n",
    "        elif nums[mid] >= nums[s]:\n",
    "            s = mid + 1\n",
    "        else:\n",
    "            e = mid\n",
    "    return nums[e], e\n",
    "\n",
    "def findPeakDup(nums):\n",
    "    n = len(nums)\n",
    "    if n==1:\n",
    "        return nums[0]\n",
    "    if nums[0] <nums[n-1]: # sorted in ascending order\n",
    "        return nums[0]\n",
    "    return find_peak(nums, n)\n",
    "\n",
    "# findPeakDup([4,5,7,8,0,1,2,3])\n",
    "# findPeakDup([2,1])\n",
    "# findPeakDup([1,1,1,1,1,1,1,1,1,1,1,1,1,2,1,1,1,1,1])\n",
    "# findPeakDup([2,5,6,0,0,1,2])\n",
    "# findPeakDup([1,0,1,1,1])\n"
   ]
  },
  {
   "cell_type": "code",
   "execution_count": 84,
   "metadata": {},
   "outputs": [],
   "source": [
    "# time, space : 0(logn), 0(1)\n",
    "def binary_search(nums, start, end, target):\n",
    "    s = start\n",
    "    e  = end\n",
    "    while (s<=e):\n",
    "        mid = s + (e-s)//2\n",
    "        if nums[mid] == target:\n",
    "            print(start)\n",
    "            return mid\n",
    "        elif  nums[mid] < target:\n",
    "            s = mid +1\n",
    "        else: \n",
    "            e = mid -1\n",
    "    return -1\n",
    "\n",
    "# time, space : 0(logn), 0(1)\n",
    "def search_peak(nums, n):\n",
    "    s = 0\n",
    "    e = n-1\n",
    "    while (s<=e): # when add =, the start can pass end or end can pass start\n",
    "        mid = s + (e-s) //2\n",
    "        if nums[mid] >nums[mid+1]:\n",
    "            return mid\n",
    "        elif nums[mid] < nums[0]:\n",
    "            e = mid \n",
    "        else:\n",
    "            s = mid +1\n",
    "    return -1\n",
    "\n",
    "# search_peak([3,1],3)\n",
    "def search(self, nums: List[int], target: int) -> int:\n",
    "    n = len(nums)\n",
    "    # check if rotated\n",
    "    if nums[0] <= nums[n-1]:\n",
    "        return binary_search(nums, 0,n-1,target)\n",
    "\n",
    "    peak = search_peak(nums, n)\n",
    "    print(peak)\n",
    "    if target == nums[peak]:\n",
    "        return peak\n",
    "    elif (target >= nums[0] and target <= nums[peak] ):\n",
    "        print('yes')\n",
    "        return binary_search(nums, 0, peak, target)\n",
    "    \n",
    "    elif (target < nums[0] and target < nums[peak] ):\n",
    "        return binary_search(nums, peak+1, n-1,target)\n",
    "    return -1\n",
    "\n",
    "# search([4,5,6,7,0,1,2], 0)\n",
    "# search([4,5,6,7,0,1,2], 3)\n",
    "# search([1], 1)\n",
    "# search(None, [3,1], 3)\n"
   ]
  },
  {
   "cell_type": "code",
   "execution_count": 127,
   "metadata": {},
   "outputs": [
    {
     "data": {
      "text/plain": [
       "True"
      ]
     },
     "execution_count": 127,
     "metadata": {},
     "output_type": "execute_result"
    }
   ],
   "source": [
    "def binary_search(nums, start, end, target):\n",
    "    s = start\n",
    "    e = end\n",
    "    while(s<=e):\n",
    "        mid = s + (e-s)//2\n",
    "        if nums[mid]==target:\n",
    "            return True\n",
    "        elif nums[mid] < target:\n",
    "            s = mid +1\n",
    "        else:\n",
    "            e = mid-1\n",
    "    return False\n",
    "\n",
    "# [2,5,6,0,0,1,2]\n",
    "def find_peak(nums, n):\n",
    "    s = 0\n",
    "    e = n-1\n",
    "    while (s<=e):\n",
    "        mid = s + (e-s) //2\n",
    "        if (nums[mid] > nums[mid+1]) and (nums[mid] > nums[mid-1]): # since equal i not here, so e = mid, edge case peak at nums[0]\n",
    "            return mid\n",
    "        elif nums[mid] == nums[e] and nums[mid]==nums[s]:\n",
    "            s+=1\n",
    "            e-=1\n",
    "        elif nums[mid] < nums[s]:\n",
    "            e = mid\n",
    "        else:\n",
    "            s = mid +1\n",
    "    return -1\n",
    "\n",
    "def searchdup(nums, target):\n",
    "    n = len(nums)\n",
    "    if nums[0] >nums[n-1]: # sorted\n",
    "        return binary_search(nums, 0, n-1, target)\n",
    "    peak = find_peak(nums, n)\n",
    "    if peak==target:\n",
    "        return True\n",
    "    elif target < nums[0]:\n",
    "        return binary_search(nums, peak,n-1, target )\n",
    "    else:\n",
    "        return binary_search(nums, 0,peak+1, target)\n",
    "    return False\n",
    "# searchdup([2,5,6,0,0,1,2], 3)\n",
    "# searchdup([1,0,1,1,1], 1)\n",
    "# searchdup([1,1,1,1,1,1,1,1,1,1,1,1,1,2,1,1,1,1,1], 2)\n",
    "searchdup([1,1,1,1,1,1,1,1,1,1,1,1,1,2,1,1,1,1,1], 2)\n",
    "# searchdup([1,0,1,1,1], 3)\n",
    "    \n"
   ]
  },
  {
   "cell_type": "code",
   "execution_count": null,
   "metadata": {},
   "outputs": [],
   "source": [
    "# [4,5,7,8,0,1,2,3]\n",
    "#  s       m     e\n",
    "\n",
    "# \n",
    "def find_peak(nums, n):\n",
    "    s = 0\n",
    "    e = n-1\n",
    "    while (s<=e):\n",
    "        mid = s + (e-s) //2\n",
    "        print(s, mid, e)\n",
    "        if nums[mid] > nums[mid+1]:\n",
    "            return nums[mid +1]\n",
    "    \n",
    "        elif nums[mid] > nums[s]: # left part\n",
    "            s = mid +1\n",
    "        else:\n",
    "            e = mid\n",
    "    return nums[e]\n",
    "\n",
    "def findMin(nums):\n",
    "    n = len(nums)\n",
    "    if n==1:\n",
    "        return nums[0]\n",
    "    if nums[0] <nums[n-1]: # sorted in ascending order\n",
    "        return nums[0]\n",
    "    return find_peak(nums, n)\n",
    "\n",
    "# findMin([4,5,7,8,0,1,2,3])\n",
    "# findMin([2,1])\n",
    "findMin([1,1,1,1,1,1,1,1,1,1,1,1,1,2,1,1,1,1,1])\n",
    "# findMin([2,5,6,0,0,1,2])\n",
    "# findMin([1,0,1,1,1])\n"
   ]
  },
  {
   "cell_type": "code",
   "execution_count": 25,
   "metadata": {},
   "outputs": [
    {
     "name": "stdout",
     "output_type": "stream",
     "text": [
      "(8, 0)\n",
      "(2, 1)\n",
      "(1, 1)\n",
      "(6, 0)\n"
     ]
    }
   ],
   "source": [
    "# [4,5,7,8,0,1,2,3]\n",
    "#  s       m     e\n",
    "\n",
    "# \n",
    "def find_peak(nums, n):\n",
    "    s = 0\n",
    "    e = n-1\n",
    "    while (s<=e):\n",
    "        mid = s + (e-s) //2\n",
    "        # print(s, mid, e)\n",
    "        if nums[mid] > nums[e]: # min in the right part\n",
    "            s= mid+1\n",
    "        elif nums[mid]== nums[e]: # reduce e to be able to compare\n",
    "            e-=1\n",
    "            # e-=1\n",
    "        elif nums[mid] < nums[e]:\n",
    "            e=mid\n",
    "        # else:\n",
    "        #     e = mid\n",
    "    return nums[e], nums[s]\n",
    "\n",
    "def findMinDup(nums):\n",
    "    n = len(nums)\n",
    "    if n==1:\n",
    "        return nums[0]\n",
    "    if nums[0] <nums[n-1]: # sorted in ascending order\n",
    "        return nums[0]\n",
    "    return find_peak(nums, n)\n",
    "\n",
    "print(findMinDup([4,5,7,8,0,1,2,3]))\n",
    "print(findMinDup([2,1]))\n",
    "print(findMinDup([1,1,1,1,1,1,1,1,1,1,1,1,1,2,1,1,1,1,1]))\n",
    "print(findMinDup([2,5,6,0,0,1,2])) # min on left of the peak\n",
    "# print(findMinDup([1,0,1,1,1]) )# min on right of the peak\n"
   ]
  },
  {
   "cell_type": "code",
   "execution_count": 199,
   "metadata": {},
   "outputs": [
    {
     "data": {
      "text/plain": [
       "False"
      ]
     },
     "execution_count": 199,
     "metadata": {},
     "output_type": "execute_result"
    }
   ],
   "source": [
    "1>1"
   ]
  },
  {
   "cell_type": "markdown",
   "metadata": {},
   "source": [
    "# maths"
   ]
  },
  {
   "cell_type": "code",
   "execution_count": 39,
   "metadata": {},
   "outputs": [
    {
     "data": {
      "text/plain": [
       "2"
      ]
     },
     "execution_count": 39,
     "metadata": {},
     "output_type": "execute_result"
    }
   ],
   "source": [
    "def sqrt(x):\n",
    "    s = 1\n",
    "    e = x//2 +1\n",
    "    while (s<=e):\n",
    "        mid = s + (e-s)//2\n",
    "        if mid*mid ==x:\n",
    "            return mid\n",
    "        elif mid*mid <x:\n",
    "            s = mid+1\n",
    "        else:\n",
    "            e = mid-1\n",
    "    return e\n",
    "sqrt(8)"
   ]
  },
  {
   "cell_type": "code",
   "execution_count": 78,
   "metadata": {},
   "outputs": [
    {
     "name": "stdout",
     "output_type": "stream",
     "text": [
      "2\n"
     ]
    }
   ],
   "source": [
    "def apowerb(base, power):\n",
    "    ans = 1\n",
    "    while (power>0):\n",
    "        if power&1 == 1:\n",
    "            ans*=base\n",
    "\n",
    "        base*=base\n",
    "        power = power>>1\n",
    "    return ans\n",
    "\n",
    "\n",
    "def nrt(x, n):\n",
    "    s = 1\n",
    "    e = x//n + 1\n",
    "    while (s<=e):\n",
    "        mid = s+ (e-s)//2\n",
    "        ans = apowerb(mid, n)\n",
    "        # print(mid,ans)\n",
    "        if ans==x:\n",
    "            return mid\n",
    "        elif ans < x:\n",
    "            s = mid+1\n",
    "        else:\n",
    "            e = mid-1\n",
    "    return e\n",
    "print(nrt(10,3))"
   ]
  },
  {
   "cell_type": "markdown",
   "metadata": {},
   "source": [
    "# word probs"
   ]
  },
  {
   "cell_type": "code",
   "execution_count": 22,
   "metadata": {},
   "outputs": [],
   "source": [
    "import math"
   ]
  },
  {
   "cell_type": "code",
   "execution_count": 95,
   "metadata": {},
   "outputs": [
    {
     "data": {
      "text/plain": [
       "4"
      ]
     },
     "execution_count": 95,
     "metadata": {},
     "output_type": "execute_result"
    }
   ],
   "source": [
    "# time, space = o(n) + o(max_piles*n)\n",
    "def minEatingSpeed(piles, h):\n",
    "    n = len(piles)\n",
    "    max_time = max(piles) # o(n)\n",
    "    ans = float('inf')\n",
    "    for speed in range(1,max_time+1):\n",
    "        time_required = 0\n",
    "        for j in range(n):\n",
    "            time_required+=math.ceil(piles[j]/speed)\n",
    "        # print(time_required,speed)  \n",
    "        if time_required <=h:\n",
    "            ans = min(ans, speed)\n",
    "            break\n",
    "    return ans\n",
    "\n",
    "minEatingSpeed([3,6,7,11], 8)\n",
    "# minEatingSpeed([30,11,23,4,20], 5)\n",
    "# 1 2 3 4 5  6 7 8 9 10\n",
    "\n",
    "# # time, space = o(nlogn) + o(n)\n",
    "# def minEatingSpeed(piles, h):\n",
    "#     n = len(piles)\n",
    "#     ans = float('inf')\n",
    "#     start = 1\n",
    "#     end = max(piles) # o(n)\n",
    "#     while (start <= end):\n",
    "#         speed  = start + (end-start) //2\n",
    "#         t = 0\n",
    "#         for j in range(n):\n",
    "#             t+=math.ceil(piles[j]/speed)\n",
    "#         if t<=h:\n",
    "#             ans=min(ans, speed)\n",
    "#             end = speed-1\n",
    "#         else:\n",
    "#             start +=1\n",
    "#     return ans\n",
    "# minEatingSpeed([3,6,7,11], 8)\n",
    "# minEatingSpeed([30,11,23,4,20], 5)"
   ]
  },
  {
   "cell_type": "code",
   "execution_count": 16,
   "metadata": {},
   "outputs": [
    {
     "data": {
      "text/plain": [
       "1"
      ]
     },
     "execution_count": 16,
     "metadata": {},
     "output_type": "execute_result"
    }
   ],
   "source": [
    "# def minDays(bloomDay, m, k):\n",
    "#     ans = float('inf')\n",
    "#     n = len(bloomDay)\n",
    "#     if m*k >=n:\n",
    "#         return -1\n",
    "#     s = min(bloomDay)\n",
    "#     e = max(bloomDay) # o(n)\n",
    "#     for days in range(s, e+1): # starting from the 2nd day or after 1st day.\n",
    "#         count = 0\n",
    "#         for j in range(0,n,2):\n",
    "#             if bloomDay[j]<=days:\n",
    "#                 count+=1\n",
    "#             if bloomDay[j]>days:\n",
    "#                 break\n",
    "#         print(count, days)\n",
    "#         if count >= k:\n",
    "#             ans = min(ans, days)\n",
    "#     return ans\n",
    "# minDays([7,7,7,7,12,7,7], 2, 3)\n",
    "# minDays([1,10,3,10,2], 3, 2)\n",
    "# minDays([1,10,3,10,2], 3, 1)\n",
    "\n",
    "def possibles(arr, day, m, k):\n",
    "    c = 0\n",
    "    bqs = 0\n",
    "    for j in range(len(arr)):\n",
    "        if arr[j] <= day:\n",
    "            c+=1\n",
    "        else:\n",
    "            bqs+=c//k\n",
    "            c = 0\n",
    "    bqs+=c//k\n",
    "    return bqs\n",
    "\n",
    "def minDays(bloomDay, m, k):\n",
    "    n = len(bloomDay)\n",
    "    if m*k >n:\n",
    "        return -1\n",
    "    s = min(bloomDay)\n",
    "    e = max(bloomDay) # o(n)\n",
    "    \n",
    "    while (s <= e):\n",
    "        day = s+ (e-s)//2\n",
    "        bqs = possibles(bloomDay, day, m, k)\n",
    "        if bqs >=m:\n",
    "            e = day-1\n",
    "        else:\n",
    "            s = day+1\n",
    "    return s\n",
    "\n",
    "# minDays([7,7,7,7,12,7,7], 2, 3)\n",
    "# minDays([1,10,3,10,2], 3, 2)\n",
    "# minDays([1,10,3,10,2], 3, 1)\n",
    "minDays([1], 1, 1)"
   ]
  },
  {
   "cell_type": "code",
   "execution_count": 39,
   "metadata": {},
   "outputs": [
    {
     "name": "stdout",
     "output_type": "stream",
     "text": [
      "5\n",
      "44\n",
      "1\n",
      "34\n"
     ]
    }
   ],
   "source": [
    "def result(nums, div):\n",
    "    n = len(nums)\n",
    "    s = 0\n",
    "    for i in range(n):\n",
    "        s+= math.ceil(nums[i]/div)\n",
    "    return s\n",
    "\n",
    "def smallestDivisor(nums, threshold):\n",
    "    s = 1 # o(n) to reduce complexity, avoid this\n",
    "    e = max(nums) # o(n) to reduce complexity, avoid this\n",
    "    while (s<=e):\n",
    "        div = s + (e-s)//2\n",
    "        res = result(nums, div)\n",
    "        if res > threshold:\n",
    "            s = div+1\n",
    "        elif res<threshold:\n",
    "            e = div-1\n",
    "        else:\n",
    "            e = div-1\n",
    "    return s\n",
    "print(smallestDivisor([1,2,5,9], 6))\n",
    "print(smallestDivisor([44,22,33,11,1], 5))\n",
    "print(smallestDivisor([21212,10101,12121], 1000000))\n",
    "print(smallestDivisor([200,100,14], 10))"
   ]
  },
  {
   "cell_type": "code",
   "execution_count": 72,
   "metadata": {},
   "outputs": [
    {
     "data": {
      "text/plain": [
       "251000"
      ]
     },
     "execution_count": 72,
     "metadata": {},
     "output_type": "execute_result"
    }
   ],
   "source": [
    "def result(weight, weights):\n",
    "    n = len(weights)\n",
    "    day_req  = 1\n",
    "    init_weight = weight\n",
    "    for i in range(n):\n",
    "        # print(init_weight, weights[i])\n",
    "        # print(weights[i] <= init_weight)\n",
    "        if weights[i] <= init_weight:\n",
    "            init_weight-=weights[i]\n",
    "        else:\n",
    "            day_req+= 1\n",
    "            init_weight = weight- weights[i]\n",
    "    return day_req\n",
    "\n",
    "# result(15, [1,2,3,4,5,6,7,8,9,10])\n",
    "# result(5, [3,2,2,4,1,4])\n",
    "# result(3, [1,2,3,1,1])\n",
    "def shipWithinDays(weights, days):\n",
    "    n = len(weights)\n",
    "    s = max(weights)\n",
    "    e = 500*n\n",
    "    while (s<=e):\n",
    "        weight = s + (e-s)//2\n",
    "        day_req = result(weight, weights)\n",
    "        # print(day_req, weight)\n",
    "        if day_req < days:\n",
    "            e = weight -1\n",
    "        elif day_req > days:\n",
    "            s = weight+1\n",
    "        else:\n",
    "            e = weight -1\n",
    "    return s\n",
    "\n",
    "# shipWithinDays([1,2,3,4,5,6,7,8,9,10], 5)\n",
    "shipWithinDays([500,500,500,500,500,500,500,500,500,500,500,500],1)"
   ]
  },
  {
   "cell_type": "code",
   "execution_count": 5,
   "metadata": {},
   "outputs": [
    {
     "data": {
      "text/plain": [
       "9"
      ]
     },
     "execution_count": 5,
     "metadata": {},
     "output_type": "execute_result"
    }
   ],
   "source": [
    "# 0 1 2 3\n",
    "# 2 3 7 11\n",
    "# 1 1 4 7\n",
    "# def k_missing_number(nums, k):\n",
    "#     n = len(nums)\n",
    "#     if k <nums[0]:\n",
    "#         return k\n",
    "#     for i in range(n):\n",
    "#         if nums[i]<=k:\n",
    "#             k+=1\n",
    "#     return k\n",
    "# k_missing_number([3,4,7,11], 2)\n",
    "\n",
    "\n",
    "def k_missing_number(nums, k):\n",
    "    n = len(nums)\n",
    "    if k <nums[0]:\n",
    "        return k\n",
    "    s = 0\n",
    "    e = n-1\n",
    "    while(s<=e):\n",
    "        mid = s + (e-s)//2\n",
    "        miss_nums  = nums[mid] - (mid+1)\n",
    "        if miss_nums <k:\n",
    "            s = mid +1\n",
    "        elif miss_nums >= k:\n",
    "            e = mid -1\n",
    "    # return nums[e] + (miss_nums-k)\n",
    "    return k + e +1\n",
    "        \n",
    "# 1 2 3 4 5 6 7 8 9 10 11\n",
    "# k_missing_number([3,4,7,11], 5)\n",
    "k_missing_number([2,3,4,7,11], 5)\n",
    "            "
   ]
  },
  {
   "cell_type": "code",
   "execution_count": 31,
   "metadata": {},
   "outputs": [
    {
     "name": "stdout",
     "output_type": "stream",
     "text": [
      "5 2\n",
      "2 0\n",
      "3 0\n",
      "4 1\n"
     ]
    },
    {
     "data": {
      "text/plain": [
       "3"
      ]
     },
     "execution_count": 31,
     "metadata": {},
     "output_type": "execute_result"
    }
   ],
   "source": [
    "def result(arr,n, dist, k):\n",
    "    prev = arr[0]\n",
    "    k = k-1 # placing at 0\n",
    "    for i in range(1, n):\n",
    "        if arr[i]-prev >=dist:\n",
    "            k-=1\n",
    "            prev = arr[i]\n",
    "    return k\n",
    "\n",
    "# time, space = 0(nlogn) + 0(log(max_dist)), 0(1)\n",
    "def agg_cows(arr, k):\n",
    "    n=len(arr)\n",
    "    if k>n:\n",
    "        return -1    \n",
    "    arr.sort() # nlogn\n",
    "    max_dist = arr[n-1] - arr[0]\n",
    "    min_dist = 1\n",
    "    while (min_dist<=max_dist):\n",
    "        dist = min_dist + (max_dist - min_dist) //2\n",
    "        res = result(arr, n, dist, k)\n",
    "        if res <=0:\n",
    "            min_dist = dist +1\n",
    "        else:\n",
    "            max_dist = dist-1\n",
    "    return  max_dist\n",
    "\n",
    "\n",
    "agg_cows([0,3,4,7,10,9], 4)\n",
    "# agg_cows([4,2,1,3,6], 2)"
   ]
  },
  {
   "cell_type": "code",
   "execution_count": null,
   "metadata": {},
   "outputs": [],
   "source": [
    "def result(arr, n,dist, m):\n",
    "    m = m-1\n",
    "    prev = arr[0]\n",
    "    for i in range(n):\n",
    "        if arr[i] - prev >= dist:\n",
    "            m-=1\n",
    "            prev=  arr[i]\n",
    "        if m<=0:\n",
    "            return m\n",
    "    return m\n",
    "def maxDistance(pos, m):\n",
    "    pos.sort()\n",
    "    n = len(pos)\n",
    "    s = 1\n",
    "    e = pos[n-1] - pos[0]\n",
    "    while (s<=e):\n",
    "        mid = s + (e-s)//2\n",
    "        res = result(pos, n, mid, m)\n",
    "        if res<=0:\n",
    "            s = mid +1\n",
    "        else:\n",
    "            e = mid-1\n",
    "    return e\n"
   ]
  },
  {
   "cell_type": "code",
   "execution_count": 39,
   "metadata": {},
   "outputs": [
    {
     "name": "stdout",
     "output_type": "stream",
     "text": [
      "107 157\n",
      "59 157\n",
      "35 101\n",
      "23 101\n",
      "17 101\n",
      "14 101\n",
      "12 46\n"
     ]
    },
    {
     "data": {
      "text/plain": [
       "46"
      ]
     },
     "execution_count": 39,
     "metadata": {},
     "output_type": "execute_result"
    }
   ],
   "source": [
    "def result(arr, n,mid, m):\n",
    "    '''To check if this is possible'''\n",
    "    c = 0\n",
    "    s = 0\n",
    "    ans = []\n",
    "    for i in range(n):\n",
    "        s +=arr[i]\n",
    "        if s>=mid:\n",
    "            c+=1\n",
    "            ans.append(s)\n",
    "            s = 0\n",
    "            s+=arr[i]\n",
    "        if c >=m:\n",
    "            return max(ans)\n",
    "    return -1\n",
    "\n",
    "def findPages(arr, n, m):\n",
    "    s = min(arr)\n",
    "    e = sum(arr)\n",
    "    a = float('inf')\n",
    "    while (s<=e):\n",
    "        mid = s + (e-s)//2\n",
    "        ans = result(arr, n, mid, m)\n",
    "        a = min(ans, a)\n",
    "        print(mid, ans)\n",
    "        if ans <=a:\n",
    "            e = mid-1\n",
    "        else:\n",
    "            s = mid+1\n",
    "    return a\n",
    "\n",
    "# findPages([25, 46 ,28, 49, 24])\n",
    "findPages([12,34,67,90],4,2)"
   ]
  },
  {
   "cell_type": "code",
   "execution_count": 60,
   "metadata": {},
   "outputs": [
    {
     "name": "stdout",
     "output_type": "stream",
     "text": [
      "146 203\n",
      "117 203\n",
      "103 113\n",
      "96 113\n",
      "92 113\n",
      "90 113\n"
     ]
    },
    {
     "data": {
      "text/plain": [
       "113"
      ]
     },
     "execution_count": 60,
     "metadata": {},
     "output_type": "execute_result"
    }
   ],
   "source": [
    "def result(arr, n,mid, m):\n",
    "    '''To check if this is possible'''\n",
    "    ans = [0]*m\n",
    "    s = 0\n",
    "    st = 0\n",
    "    for i in range(n):\n",
    "        s = ans[st] + arr[i]\n",
    "        if s == mid:\n",
    "            ans[st] = s\n",
    "            st+=1\n",
    "        elif s>mid:\n",
    "            st+=1\n",
    "            if st <=m-1:\n",
    "                ans[st] = s\n",
    "            return max(ans)\n",
    "        else:\n",
    "            ans[st] = s\n",
    "        if st>=m:\n",
    "            return max(ans)\n",
    "    return -1\n",
    "\n",
    "# result([12,34,67,90],4,1, 2)\n",
    "def findPages(arr, n, m):\n",
    "    if m>n:\n",
    "        return -1\n",
    "\n",
    "    s = max(arr)\n",
    "    e = sum(arr)\n",
    "\n",
    "    a = float('inf')\n",
    "    while (s<=e):\n",
    "        mid = s + (e-s)//2\n",
    "        ans = result(arr, n, mid, m)\n",
    "        print(mid, ans)\n",
    "        if ans!=-1:\n",
    "            if ans <=a:\n",
    "                e = mid-1\n",
    "            else:\n",
    "                s = mid+1\n",
    "            a = min(ans, a)\n",
    "        else:\n",
    "            s = mid + 1\n",
    "    return a\n",
    "\n",
    "# findPages([25, 46 ,28, 49, 24])\n",
    "findPages([12,34,67,90],4,2)"
   ]
  },
  {
   "cell_type": "markdown",
   "metadata": {},
   "source": [
    "# word probs on arrays"
   ]
  },
  {
   "cell_type": "code",
   "execution_count": 73,
   "metadata": {},
   "outputs": [
    {
     "name": "stdout",
     "output_type": "stream",
     "text": [
      "2 21\n",
      "3 15\n",
      "2 18\n",
      "3 16\n",
      "3 17\n"
     ]
    },
    {
     "data": {
      "text/plain": [
       "(18, 17)"
      ]
     },
     "execution_count": 73,
     "metadata": {},
     "output_type": "execute_result"
    }
   ],
   "source": [
    "def result(nums, n, mid):\n",
    "    s = 0\n",
    "    ss = 1\n",
    "    for i in range(n):\n",
    "        if s + nums[i]<=mid:\n",
    "            s += nums[i]\n",
    "        else:\n",
    "            ss+=1\n",
    "            s = nums[i]\n",
    "    return ss\n",
    "\n",
    "def splitArray(nums, k) :\n",
    "    n = len(nums)\n",
    "    if n<k:\n",
    "        return -1\n",
    "    s = max(nums)\n",
    "    e = sum(nums)\n",
    "    while (s<=e):\n",
    "        mid = s + (e-s)//2\n",
    "        res = result(nums, n, mid)\n",
    "        if res>k:\n",
    "            s = mid+1\n",
    "        else:\n",
    "            e = mid-1\n",
    "    return s,e\n",
    "\n",
    "splitArray([7,2,5,10,8], 2)          \n"
   ]
  },
  {
   "cell_type": "code",
   "execution_count": 6,
   "metadata": {},
   "outputs": [
    {
     "name": "stdout",
     "output_type": "stream",
     "text": [
      "10\n",
      "60\n"
     ]
    }
   ],
   "source": [
    "def result(nums, n, mid, k):\n",
    "    c = 0\n",
    "    s = 0\n",
    "    for i in range(n):\n",
    "        if s+nums[i] >mid:\n",
    "            c+=1\n",
    "            s = nums[i]\n",
    "        else:\n",
    "            s +=nums[i]\n",
    "        if c>=k:\n",
    "            return c\n",
    "    return c\n",
    "\n",
    "def painter_partition(nums, k):\n",
    "    s = max(nums)\n",
    "    e = sum(nums)\n",
    "    n = len(nums)\n",
    "    while(s<=e):\n",
    "        mid = s + (e-s)//2\n",
    "        res = result(nums,n,mid,k)\n",
    "        if res>=k:\n",
    "            # e = mid-1\n",
    "            s = mid+1\n",
    "        else:\n",
    "            # s = mid+1\n",
    "            e = mid-1\n",
    "    return s\n",
    "print(painter_partition([5, 5, 5, 5], 2))\n",
    "print(painter_partition([10, 20, 30, 40], 2))"
   ]
  },
  {
   "cell_type": "code",
   "execution_count": 42,
   "metadata": {},
   "outputs": [
    {
     "name": "stdout",
     "output_type": "stream",
     "text": [
      "7 2\n",
      "4 5\n"
     ]
    },
    {
     "data": {
      "text/plain": [
       "-inf"
      ]
     },
     "execution_count": 42,
     "metadata": {},
     "output_type": "execute_result"
    }
   ],
   "source": [
    "def median_sorted(nums1, nums2):\n",
    "    n1 = 0\n",
    "    n2 =0\n",
    "    l1 = len(nums1)\n",
    "    l2 = len(nums2)\n",
    "    m_arr = []\n",
    "    while((n1<l1) and (n2<l2)):\n",
    "        if nums1[n1] <= nums2[n2]:\n",
    "            m_arr.append(nums1[n1])\n",
    "            n1+=1\n",
    "        else:\n",
    "            m_arr.append(nums2[n2])\n",
    "            n2+=1  \n",
    "    while(n1<l1):\n",
    "        m_arr.append(nums1[n1])\n",
    "        n1+=1              \n",
    "    while(n2<l2):\n",
    "        m_arr.append(nums2[n2])\n",
    "        n2+=1 \n",
    "    m = len(m_arr) //2\n",
    "    if len(m_arr)%2==0:\n",
    "        return (m_arr[m-1] + m_arr[m]) /2 # 0 indexed arrays\n",
    "    else:\n",
    "        print('here')\n",
    "        return m_arr[m]\n",
    "\n",
    "# median_sorted([1,3], [2])\n",
    "# median_sorted([], [2,3])\n",
    "median_sorted([1,2], [3,4])\n",
    "\n",
    "def median_sorted(nums1, nums2):\n",
    "    n1 = 0\n",
    "    n2 =0\n",
    "    l1 = len(nums1)\n",
    "    l2 = len(nums2)\n",
    "    # m1 = 0\n",
    "    # m2 = 0\n",
    "    c = 0\n",
    "    m = (l1+l2)//2 -1\n",
    "    while((n1<l1) and (n2<l2) and c <m):\n",
    "        if nums1[n1] <= nums2[n2]:\n",
    "            n1+=1\n",
    "        else:\n",
    "            n2+=1  \n",
    "        c+=1\n",
    "\n",
    "    while((n1<l1) and c<m):\n",
    "        n1+=1\n",
    "        c+=1              \n",
    "    while((n2<l2) and c<m):\n",
    "        n2+=1\n",
    "        c+=1\n",
    "    print(l1+l2,c)\n",
    "    print(nums1[n1], nums2[n2])\n",
    "    if (l1+l2)%2==0:\n",
    "        print('yes')\n",
    "        return (nums1[n1] + nums2[n2] ) /2\n",
    "    \n",
    "    return max((nums1[n1] , nums2[n2] ))\n",
    "# median_sorted([1,3,4,8],[2,5,7,10])\n",
    "median_sorted([1,3,4,8],[5,7,10])\n",
    "\n",
    "\n",
    "# [1,3,5,8], [2,4,6,7]    \n",
    "# [1 2,3,4,| 5,6,7,8]\n",
    "#\n",
    "# [     1,   ->  [3,5,8\n",
    "#   2,4,6] , ->  ,7] \n",
    "#\n",
    "def sort_median(a,b):\n",
    "    n1 = len(a)\n",
    "    n2 = len(b)\n",
    "    if n1>n2:\n",
    "        return sort_median(b, a)\n",
    "    # apply bs on smaller array\n",
    "    s = 0\n",
    "    e = n1\n",
    "    left_size = (n1+n2 +1) //2\n",
    "    while (s<=e):\n",
    "        mid1 = s + (e-s)//2\n",
    "        mid2 = left_size-mid1\n",
    "        l1 = float('-inf')\n",
    "        l2 = float('-inf')\n",
    "        if mid1-1>=0:\n",
    "            l1 = a[mid1-1]\n",
    "        if mid1-1>=0:\n",
    "            l2 = b[mid2-1]\n",
    "        r1 ,r2 = float('inf'),float('inf')\n",
    "        if mid1<n1:    \n",
    "            r1 = a[mid1]\n",
    "        if mid2<n2: \n",
    "            r2 = b[mid2]\n",
    "\n",
    "        \n",
    "        if l1<=r2 and l2<=r1:\n",
    "                # print(n1, n2)\n",
    "                if n1+n2 %2==0:\n",
    "                    return max(l1,l2) + min(l1,l2) /2\n",
    "                else:\n",
    "                    # print('h')\n",
    "                    return max(l1, l2)\n",
    "        elif l1 > r2:\n",
    "            e = mid1 - 1\n",
    "        elif l2>r1:\n",
    "            s = mid1+1\n",
    "            \n",
    "    return 0\n",
    "    \n",
    "        \n",
    "# a = [1,4,7,10,12]\n",
    "# b = [2,3,6,15]\n",
    "\n",
    "# sort_median(a,b)\n",
    "a = [1,3]\n",
    "b = [2]\n",
    "\n",
    "sort_median(a,b)"
   ]
  },
  {
   "cell_type": "code",
   "execution_count": 41,
   "metadata": {},
   "outputs": [
    {
     "data": {
      "text/plain": [
       "-1"
      ]
     },
     "execution_count": 41,
     "metadata": {},
     "output_type": "execute_result"
    }
   ],
   "source": [
    "def kth_elem(a,b,k):\n",
    "    n1 = len(a)\n",
    "    n2 = len(b)\n",
    "    if n1>n2:\n",
    "        return kth_elem(b, a,k)\n",
    "    s = max(0,k-n2)\n",
    "    e = min(k, n1)\n",
    "    left = k\n",
    "    while (s<=e):\n",
    "        mid1 = s + (e-s)//2\n",
    "        mid2 = left - mid1\n",
    "        l1 = float('-inf')\n",
    "        if mid1 <n1:\n",
    "            l1 = a[mid1]\n",
    "        l2 = float('-inf')\n",
    "        if mid2 <n2:\n",
    "            l2 = a[mid2]\n",
    "        r1 = float('inf')\n",
    "        if mid1-1>=0:\n",
    "            r1 = a[mid1-1]\n",
    "        r2 = float('inf')\n",
    "        if mid2-1>=0:\n",
    "            r2 = a[mid2-1]\n",
    "        \n",
    "        if l1<=r2 and l2<=r1:\n",
    "            return max(l1, l2)\n",
    "        elif l1>r2:\n",
    "            e = mid1 - 1\n",
    "        elif l2 > r1:\n",
    "            s = mid1 +1 \n",
    "    return -1\n",
    "# a = [2,3,6,7,9]\n",
    "# b = [1,4,8,10]\n",
    "# k = 4\n",
    "# kth_elem(a,b,k)\n",
    "nums1 = [2, 3, 6, 7, 9]\n",
    "nums2 = [1, 4, 8, 10]\n",
    "m = len(nums1)\n",
    "n = len(nums2)\n",
    "k = 5\n",
    "kth_elem(nums1,nums2,k)\n"
   ]
  },
  {
   "cell_type": "markdown",
   "metadata": {},
   "source": [
    "# 2d matrix"
   ]
  },
  {
   "cell_type": "code",
   "execution_count": 47,
   "metadata": {},
   "outputs": [],
   "source": [
    "def first_last_occ(nums,s,e, first, target):\n",
    "    while (s<=e):\n",
    "        mid = s + (e-s)//2\n",
    "        if nums[mid] == target:\n",
    "            if first:\n",
    "                e = mid-1\n",
    "            else:\n",
    "                s = mid+1\n",
    "        if nums[mid] <target:\n",
    "            s = mid+1\n",
    "        else:\n",
    "            e = mid-1\n",
    "    if first:\n",
    "        return s\n",
    "    else:\n",
    "        return e\n",
    "\n",
    "def searchRange(nums,target):\n",
    "    n=len(nums)\n",
    "    first_src= first_last_occ(nums, 0, n-1, True, target)\n",
    "    print(first_src)\n",
    "    if ((first_src<n) and nums[first_src] ==target):\n",
    "        second_srch = first_last_occ(nums, first_src, n-1, False, target)\n",
    "        if nums[second_srch] == target:\n",
    "            return first_src , second_srch\n",
    "    return [-1, -1]\n",
    "def result(nums):\n",
    "    nums.sort() # nlogn\n",
    "    f,l = searchRange(nums, 1)\n",
    "    return l-f + 1\n",
    "def matrix_ones(nums):\n",
    "    m = len(nums)\n",
    "    c = 0\n",
    "    idx = 0\n",
    "    for i in range(m):\n",
    "        occs = result(nums[i])\n",
    "        if occs>c:\n",
    "            idx = i\n",
    "            c = occs\n",
    "    return idx,c\n",
    "# mat = [[0,1],[1,0]]\n",
    "# matrix_ones(mat)\n",
    "mat = [[0,0,0],[0,1,1]]\n",
    "matrix_ones(mat)\n"
   ]
  },
  {
   "cell_type": "code",
   "execution_count": 51,
   "metadata": {},
   "outputs": [
    {
     "name": "stdout",
     "output_type": "stream",
     "text": [
      "3\n",
      "1\n"
     ]
    },
    {
     "data": {
      "text/plain": [
       "(0, 1)"
      ]
     },
     "execution_count": 51,
     "metadata": {},
     "output_type": "execute_result"
    }
   ],
   "source": [
    "def max_ones(mat, r1, r2, r3):\n",
    "\n",
    "    cand = 0\n",
    "    vote = 1\n",
    "    for i in range(len(mat)):\n",
    "        if "
   ]
  },
  {
   "cell_type": "code",
   "execution_count": 66,
   "metadata": {},
   "outputs": [
    {
     "name": "stdout",
     "output_type": "stream",
     "text": [
      "-5\n"
     ]
    },
    {
     "data": {
      "text/plain": [
       "True"
      ]
     },
     "execution_count": 66,
     "metadata": {},
     "output_type": "execute_result"
    }
   ],
   "source": [
    "def search_matrix_cols(matrix,target):\n",
    "    m = len(matrix)\n",
    "    n = len(matrix[0])\n",
    "    row = 0\n",
    "    col  = n-1\n",
    "    while (row<m and col>=0):\n",
    "        print(matrix[row][col])\n",
    "        if matrix[row][col] == target:\n",
    "            return True\n",
    "        elif matrix[row][col] > target:\n",
    "            col-=1\n",
    "        else:\n",
    "            row+=1\n",
    "    return False\n",
    "search_matrix_cols([[-5]], -5)"
   ]
  },
  {
   "cell_type": "code",
   "execution_count": 55,
   "metadata": {},
   "outputs": [
    {
     "data": {
      "text/plain": [
       "4"
      ]
     },
     "execution_count": 55,
     "metadata": {},
     "output_type": "execute_result"
    }
   ],
   "source": [
    "def maxtrix_elem(mat, n,m, col):\n",
    "    max_ele = float('-inf')\n",
    "    max_row = -1\n",
    "    for i in range(m):\n",
    "        if mat[i][col] > max_ele:\n",
    "            max_ele = mat[i][col]\n",
    "            max_row = i\n",
    "    return max_row,max_ele\n",
    "\n",
    "def peak_matrix(matrix):\n",
    "    m = len(matrix)\n",
    "    n = len(matrix[0])\n",
    "    s = 0\n",
    "    e  = n-1\n",
    "    while (s<=e):\n",
    "        col = s + (e-s)//2\n",
    "        max_row,max_ele = maxtrix_elem(mat, n,m, col)\n",
    "        left = mat[max_row][col-1]\n",
    "        right = mat[max_row][col+1]\n",
    "        if matrix[max_row][col] > left and matrix[max_row][col] > right:\n",
    "            return [max_row, col]\n",
    "        elif matrix[max_row][col] < left:\n",
    "            e  = col-1\n",
    "        else:\n",
    "            s = col+1\n",
    "    return -1\n"
   ]
  }
 ],
 "metadata": {
  "kernelspec": {
   "display_name": "prac_env",
   "language": "python",
   "name": "python3"
  },
  "language_info": {
   "codemirror_mode": {
    "name": "ipython",
    "version": 3
   },
   "file_extension": ".py",
   "mimetype": "text/x-python",
   "name": "python",
   "nbconvert_exporter": "python",
   "pygments_lexer": "ipython3",
   "version": "3.8.17"
  },
  "orig_nbformat": 4
 },
 "nbformat": 4,
 "nbformat_minor": 2
}
