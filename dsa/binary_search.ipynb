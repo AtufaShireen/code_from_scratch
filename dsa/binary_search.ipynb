{
 "cells": [
  {
   "cell_type": "code",
   "execution_count": 15,
   "metadata": {},
   "outputs": [
    {
     "data": {
      "text/plain": [
       "True"
      ]
     },
     "execution_count": 15,
     "metadata": {},
     "output_type": "execute_result"
    }
   ],
   "source": [
    "def binary_search_asc(arr:list, target:int)->bool:\n",
    "    s = 0\n",
    "    e = len(arr)-1\n",
    "    if e < 1:\n",
    "        return -1\n",
    "    while s<=e:\n",
    "        mid = s + ((e-s) //2)\n",
    "        if target == arr[mid]:\n",
    "            return True\n",
    "        elif arr[mid] < target:\n",
    "            s = mid + 1\n",
    "        else:\n",
    "            e = mid-1\n",
    "    return False\n",
    "\n",
    "binary_search_asc([123,1234,12345,123456,1234567],1234567)"
   ]
  },
  {
   "cell_type": "code",
   "execution_count": 19,
   "metadata": {},
   "outputs": [
    {
     "data": {
      "text/plain": [
       "False"
      ]
     },
     "execution_count": 19,
     "metadata": {},
     "output_type": "execute_result"
    }
   ],
   "source": [
    "def binary_search_desc(arr: list, target:int) -> bool:\n",
    "    s = 0\n",
    "    e = len(arr)-1\n",
    "    while(s<=e):\n",
    "        mid = s + (e-s) //2\n",
    "        if arr[mid] == target:\n",
    "            return True\n",
    "        elif arr[mid] < target:\n",
    "            e = mid -1\n",
    "        else:\n",
    "            s = mid + 1\n",
    "    return False\n",
    "\n",
    "binary_search_desc([123,1234,12345,123456,1234567][::-1], 1234567)"
   ]
  },
  {
   "cell_type": "code",
   "execution_count": 24,
   "metadata": {},
   "outputs": [
    {
     "data": {
      "text/plain": [
       "-1"
      ]
     },
     "execution_count": 24,
     "metadata": {},
     "output_type": "execute_result"
    }
   ],
   "source": [
    "def OrderAgnosticBS(arr:list, target:int) ->bool:\n",
    "    start = 0\n",
    "    end = len(arr) -1\n",
    "    if end <1:\n",
    "        return -1\n",
    "    is_asc = arr[1] > arr[0]\n",
    "    while (start <=end):\n",
    "        mid = start + (end - start) //2\n",
    "        if target == arr[mid]:\n",
    "            return True\n",
    "        if is_asc:\n",
    "            if arr[mid] < target:\n",
    "                start = mid +1\n",
    "            else:\n",
    "                end  = mid -1\n",
    "        else:\n",
    "            if arr[mid] < target:\n",
    "                end = mid -1\n",
    "            else:\n",
    "                start  = mid +1             \n",
    "    return -1\n",
    "\n",
    "OrderAgnosticBS([123,1234,12345,123456,1234567][::-1], 124567)"
   ]
  },
  {
   "cell_type": "code",
   "execution_count": 41,
   "metadata": {},
   "outputs": [
    {
     "data": {
      "text/plain": [
       "2"
      ]
     },
     "execution_count": 41,
     "metadata": {},
     "output_type": "execute_result"
    }
   ],
   "source": [
    "def ceil_number(arr:list, target : int) -> int:\n",
    "    start = 0\n",
    "    end = len(arr)-1\n",
    "    if end <1:\n",
    "        return -1\n",
    "    is_asc = arr[1] > arr[0]\n",
    "    while (start <=end):\n",
    "        mid = start + (end - start) //2\n",
    "        if target == arr[mid]:\n",
    "            return target\n",
    "        if is_asc:\n",
    "            if arr[mid] < target:\n",
    "                start = mid +1\n",
    "            else:\n",
    "                end  = mid -1\n",
    "        else:\n",
    "            if arr[mid] < target:\n",
    "                end = mid -1\n",
    "            else:\n",
    "                start  = mid +1 \n",
    "    # print(start)  \n",
    "    return arr[start-1]\n",
    "ceil_number([1,2,3,4,5],2.6)"
   ]
  }
 ],
 "metadata": {
  "kernelspec": {
   "display_name": "prac_env",
   "language": "python",
   "name": "python3"
  },
  "language_info": {
   "codemirror_mode": {
    "name": "ipython",
    "version": 3
   },
   "file_extension": ".py",
   "mimetype": "text/x-python",
   "name": "python",
   "nbconvert_exporter": "python",
   "pygments_lexer": "ipython3",
   "version": "3.8.17"
  },
  "orig_nbformat": 4
 },
 "nbformat": 4,
 "nbformat_minor": 2
}
