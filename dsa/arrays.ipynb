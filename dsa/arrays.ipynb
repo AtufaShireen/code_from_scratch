{
 "cells": [
  {
   "cell_type": "code",
   "execution_count": 20,
   "metadata": {},
   "outputs": [
    {
     "data": {
      "text/plain": [
       "2"
      ]
     },
     "execution_count": 20,
     "metadata": {},
     "output_type": "execute_result"
    }
   ],
   "source": [
    "# pair sum: to count the number of pairs with sum to be target\n",
    "# time, space: o(n^2), o(1)\n",
    "def pair_sum(arr:list, target:int)->int:\n",
    "    n = len(arr)\n",
    "    count = 0\n",
    "    for i in range(len(n)):\n",
    "        for j in range(i,len(n)):\n",
    "            if (arr[i]+arr[j])==target:\n",
    "                # count+=1\n",
    "                count= count + 1\n",
    "                break\n",
    "    return count\n",
    "\n",
    "# time, space: o(n2), o(n)     \n",
    "def pair_sum(arr:list,target:int)->int:\n",
    "    count = 0\n",
    "    n = len(arr)\n",
    "    hash_set = {}\n",
    "    for i in range(len(arr)):\n",
    "        req = target - arr[i]\n",
    "        if req in hash_set:\n",
    "            count+=1\n",
    "        hash_set.add(arr[i])\n",
    "    return count\n",
    "\n",
    "def pair_sum(arr:list,target:int)->int:\n",
    "    count = 0\n",
    "    n = len(arr)\n",
    "    arr.sort()\n",
    "    left = 0\n",
    "    right=n-1\n",
    "    while left<right:\n",
    "        num_sum = arr[left] + arr[right]\n",
    "        if num_sum ==target:\n",
    "            count+=1\n",
    "            left+=1\n",
    "            right-=1\n",
    "        elif num_sum < target:\n",
    "            left+=1\n",
    "        else:\n",
    "            right-=1\n",
    "    return count\n",
    "pair_sum([5,7,-1,1,100],6)"
   ]
  },
  {
   "cell_type": "code",
   "execution_count": 21,
   "metadata": {},
   "outputs": [
    {
     "data": {
      "text/plain": [
       "True"
      ]
     },
     "execution_count": 21,
     "metadata": {},
     "output_type": "execute_result"
    }
   ],
   "source": [
    "# subarray: to check if there are subarrays with sum 0. \n",
    "# notes: \n",
    "# 1. subarray: contigous blocks of array. n*(n+1) / 2\n",
    "# 2. subsequence: contigous and non contigous blocks of array.\n",
    "# time, space: o(n^2), o(1)\n",
    "def check_subarray_0_sum(arr):\n",
    "    n = len(arr)\n",
    "    for i in range(0,n):\n",
    "        cur_sum = 0\n",
    "        for j in range(i, n):\n",
    "            cur_sum+=arr[j]\n",
    "            if cur_sum==0:\n",
    "                return True\n",
    "    return False\n",
    "\n",
    "\n",
    "def check_subarray_0_sum(arr):\n",
    "    n = len(arr)\n",
    "    hash_set = set()\n",
    "    pref_sum = 0\n",
    "    for i in range(n):\n",
    "        pref_sum += arr[i]\n",
    "        if pref_sum ==0:\n",
    "            return True\n",
    "        if pref_sum in hash_set:\n",
    "            return True\n",
    "        else:\n",
    "            hash_set.add(pref_sum)\n",
    "    return False\n",
    "\n",
    "def check_subarray_0_sum(arr):\n",
    "    n = len(arr)\n",
    "    hash_map = dict()\n",
    "    pref_sum = 0\n",
    "    for i in range(n):\n",
    "        pref_sum += arr[i]\n",
    "        if pref_sum ==0:\n",
    "            return True\n",
    "        if pref_sum in hash_map:\n",
    "            return True\n",
    "        else:\n",
    "            hash_map[pref_sum] = i\n",
    "    return False\n",
    "check_subarray_0_sum([4,-3,2,1])\n"
   ]
  }
 ],
 "metadata": {
  "kernelspec": {
   "display_name": "meiro_venv",
   "language": "python",
   "name": "python3"
  },
  "language_info": {
   "codemirror_mode": {
    "name": "ipython",
    "version": 3
   },
   "file_extension": ".py",
   "mimetype": "text/x-python",
   "name": "python",
   "nbconvert_exporter": "python",
   "pygments_lexer": "ipython3",
   "version": "3.8.9"
  },
  "orig_nbformat": 4
 },
 "nbformat": 4,
 "nbformat_minor": 2
}
