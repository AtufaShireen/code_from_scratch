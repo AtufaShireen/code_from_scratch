{
 "cells": [
  {
   "cell_type": "code",
   "execution_count": 3,
   "metadata": {},
   "outputs": [],
   "source": [
    "from typing import List"
   ]
  },
  {
   "cell_type": "markdown",
   "metadata": {},
   "source": [
    "1. 2 sum \n",
    "2. 3 sum\n",
    "3. 4 sum"
   ]
  },
  {
   "cell_type": "markdown",
   "metadata": {},
   "source": [
    "1. array is sorted\n",
    "2. remove dup from sorted array\n",
    "3. length of dup removed"
   ]
  },
  {
   "cell_type": "markdown",
   "metadata": {},
   "source": [
    "1. left rotate an array by one place\n",
    "2. left rotate an array by D place\n",
    "3. move zeroes\n",
    "4. sort 0 and 1a\n",
    "5. sort 0,1,2\n"
   ]
  },
  {
   "cell_type": "markdown",
   "metadata": {},
   "source": [
    "1. maximum sub array sum,( lenth, print,count all)\n",
    "2. majority >n/2\n",
    "3. majority >n/3\n",
    "4. maximum sub array with given sum , (pos, neg)\n",
    "5. maximum product subarray"
   ]
  },
  {
   "cell_type": "markdown",
   "metadata": {},
   "source": [
    "1. print row, first n rows of pascal traingle\n",
    "2. print element from pascal traingle\n",
    "3. "
   ]
  },
  {
   "cell_type": "markdown",
   "metadata": {},
   "source": [
    "1. set matrix to 0"
   ]
  },
  {
   "cell_type": "markdown",
   "metadata": {},
   "source": [
    "1. merge 2 sorted arrays"
   ]
  },
  {
   "cell_type": "markdown",
   "metadata": {},
   "source": [
    "# unnamed"
   ]
  },
  {
   "cell_type": "code",
   "execution_count": 20,
   "metadata": {},
   "outputs": [
    {
     "data": {
      "text/plain": [
       "2"
      ]
     },
     "execution_count": 20,
     "metadata": {},
     "output_type": "execute_result"
    }
   ],
   "source": [
    "# pair sum: to count the number of pairs with sum to be target\n",
    "# time, space: o(n^2), o(1)\n",
    "def pair_sum(arr:list, target:int)->int:\n",
    "    n = len(arr)\n",
    "    count = 0\n",
    "    for i in range(len(n)):\n",
    "        for j in range(i,len(n)):\n",
    "            if (arr[i]+arr[j])==target:\n",
    "                # count+=1\n",
    "                count= count + 1\n",
    "                break\n",
    "    return count\n",
    "\n",
    "# time, space: o(n2), o(n)     \n",
    "def pair_sum(arr:list,target:int)->int:\n",
    "    count = 0\n",
    "    n = len(arr)\n",
    "    hash_set = {}\n",
    "    for i in range(len(arr)):\n",
    "        req = target - arr[i]\n",
    "        if req in hash_set:\n",
    "            count+=1\n",
    "        hash_set.add(arr[i])\n",
    "    return count\n",
    "\n",
    "def pair_sum(arr:list,target:int)->int:\n",
    "    count = 0\n",
    "    n = len(arr)\n",
    "    arr.sort()\n",
    "    left = 0\n",
    "    right=n-1\n",
    "    while left<right:\n",
    "        num_sum = arr[left] + arr[right]\n",
    "        if num_sum ==target:\n",
    "            count+=1\n",
    "            left+=1\n",
    "            right-=1\n",
    "        elif num_sum < target:\n",
    "            left+=1\n",
    "        else:\n",
    "            right-=1\n",
    "    return count\n",
    "pair_sum([5,7,-1,1,100],6)"
   ]
  },
  {
   "cell_type": "code",
   "execution_count": 21,
   "metadata": {},
   "outputs": [
    {
     "data": {
      "text/plain": [
       "True"
      ]
     },
     "execution_count": 21,
     "metadata": {},
     "output_type": "execute_result"
    }
   ],
   "source": [
    "# subarray: to check if there are subarrays with sum 0. \n",
    "# notes: \n",
    "# 1. subarray: contigous blocks of array. n*(n+1) / 2\n",
    "# 2. subsequence: contigous and non contigous blocks of array.\n",
    "# time, space: o(n^2), o(1)\n",
    "def check_subarray_0_sum(arr):\n",
    "    n = len(arr)\n",
    "    for i in range(0,n):\n",
    "        cur_sum = 0\n",
    "        for j in range(i, n):\n",
    "            cur_sum+=arr[j]\n",
    "            if cur_sum==0:\n",
    "                return True\n",
    "    return False\n",
    "\n",
    "\n",
    "def check_subarray_0_sum(arr):\n",
    "    n = len(arr)\n",
    "    hash_set = set()\n",
    "    pref_sum = 0\n",
    "    for i in range(n):\n",
    "        pref_sum += arr[i]\n",
    "        if pref_sum ==0:\n",
    "            return True\n",
    "        if pref_sum in hash_set:\n",
    "            return True\n",
    "        else:\n",
    "            hash_set.add(pref_sum)\n",
    "    return False\n",
    "\n",
    "def check_subarray_0_sum(arr):\n",
    "    n = len(arr)\n",
    "    hash_map = dict()\n",
    "    pref_sum = 0\n",
    "    for i in range(n):\n",
    "        pref_sum += arr[i]\n",
    "        if pref_sum ==0:\n",
    "            return True\n",
    "        if pref_sum in hash_map:\n",
    "            return True\n",
    "        else:\n",
    "            hash_map[pref_sum] = i\n",
    "    return False\n",
    "check_subarray_0_sum([4,-3,2,1])\n"
   ]
  },
  {
   "cell_type": "code",
   "execution_count": 1,
   "metadata": {},
   "outputs": [
    {
     "data": {
      "text/plain": [
       "[1, 4, 3, 2, 5, 6]"
      ]
     },
     "execution_count": 1,
     "metadata": {},
     "output_type": "execute_result"
    }
   ],
   "source": [
    "# swap the 2 elements of an array\n",
    "def swap_arr(arr, ind1, ind2):\n",
    "    a = arr[ind1]\n",
    "    arr[ind1] = arr[ind2]\n",
    "    arr[ind2] = a\n",
    "    return arr\n",
    "swap_arr([1,2,3,4,5,6],3,1)"
   ]
  },
  {
   "cell_type": "code",
   "execution_count": 6,
   "metadata": {},
   "outputs": [
    {
     "data": {
      "text/plain": [
       "67"
      ]
     },
     "execution_count": 6,
     "metadata": {},
     "output_type": "execute_result"
    }
   ],
   "source": [
    "# max of an element\n",
    "\n",
    "def max_elem(arr:list) -> int:\n",
    "    if len(arr) <1:\n",
    "        return -1\n",
    "    max_ = arr[0]\n",
    "    n = len(arr)\n",
    "    for i in range(1, n):\n",
    "        # max_ = max(max_,arr[i])\n",
    "        if max_ < arr[i]:\n",
    "            max_ = arr[i]\n",
    "    return max_\n",
    "\n",
    "max_elem([1,2,3,4,5,67,8, -1])"
   ]
  },
  {
   "cell_type": "code",
   "execution_count": 11,
   "metadata": {},
   "outputs": [
    {
     "data": {
      "text/plain": [
       "[4, 3, 2, 1]"
      ]
     },
     "execution_count": 11,
     "metadata": {},
     "output_type": "execute_result"
    }
   ],
   "source": [
    "def reverse_arr(arr:list)->list:\n",
    "    # return arr[::-1]\n",
    "    if len(arr) < 1:\n",
    "        return -1\n",
    "    start = 0\n",
    "    end = len(arr)-1\n",
    "    while start<end:\n",
    "        a = arr[start]\n",
    "        arr[start] = arr[end]\n",
    "        arr[end] = a\n",
    "        start+=1\n",
    "        end-=1\n",
    "    return arr\n",
    "reverse_arr([1,2,3,4])"
   ]
  },
  {
   "cell_type": "code",
   "execution_count": 13,
   "metadata": {},
   "outputs": [
    {
     "data": {
      "text/plain": [
       "True"
      ]
     },
     "execution_count": 13,
     "metadata": {},
     "output_type": "execute_result"
    }
   ],
   "source": [
    "def lin_search(arr:list, target:int)->list:\n",
    "    '''\n",
    "    worst case time, space: o(n), o(1)\n",
    "    best case time, space: o(1), o(1)\n",
    "    '''\n",
    "    n = len(arr)\n",
    "    for i in range(n):\n",
    "        if arr[i] == target:\n",
    "            return True\n",
    "    return False\n",
    "lin_search([1,2,3,4,6],6)"
   ]
  },
  {
   "cell_type": "code",
   "execution_count": 14,
   "metadata": {},
   "outputs": [
    {
     "data": {
      "text/plain": [
       "-9"
      ]
     },
     "execution_count": 14,
     "metadata": {},
     "output_type": "execute_result"
    }
   ],
   "source": [
    "def find_min(arr:list)->list:\n",
    "    n = len(arr)\n",
    "    if n<1:\n",
    "        return -1\n",
    "    arr_min = arr[0]\n",
    "    for i in range(1, n):\n",
    "        if arr_min > arr[i]:\n",
    "            arr_min = arr[i]\n",
    "    return arr_min\n",
    "find_min([1,-1,-9,10,-5])"
   ]
  },
  {
   "cell_type": "code",
   "execution_count": null,
   "metadata": {},
   "outputs": [],
   "source": [
    "def find2d(arr:list, target:int)->list:\n",
    "    if len(arr) <1:\n",
    "        return -1   \n",
    "    n = len(arr)\n",
    "    for i in range(n):\n",
    "        for j in range(len(arr[i])):\n",
    "            if target == arr[i][j]:\n",
    "                return True\n",
    "    return False"
   ]
  },
  {
   "cell_type": "code",
   "execution_count": 1,
   "metadata": {},
   "outputs": [],
   "source": [
    "import math\n",
    "import numpy as np"
   ]
  },
  {
   "cell_type": "code",
   "execution_count": 2,
   "metadata": {},
   "outputs": [
    {
     "data": {
      "text/plain": [
       "6"
      ]
     },
     "execution_count": 2,
     "metadata": {},
     "output_type": "execute_result"
    }
   ],
   "source": [
    "def count_digits(num:int)->int:\n",
    "    if num < 0:\n",
    "        num *=-1\n",
    "    count = 0\n",
    "    if num ==0:\n",
    "        return 1\n",
    "    while num >0:\n",
    "        # print(count)\n",
    "        num= num // 10\n",
    "        count+=1\n",
    "    return count\n",
    "\n",
    "def count_digits(num:int)->int:\n",
    "    if num < 0:\n",
    "        num *=-1\n",
    "    if num ==0:\n",
    "        return 1\n",
    "    return int(math.log10(num)) + 1\n",
    "\n",
    "def even_digits(arr:list)->list:\n",
    "    count = 0\n",
    "    n = len(arr)\n",
    "    for i in range(n):\n",
    "        digits = count_digits(arr[i])\n",
    "        if digits %2 ==0:\n",
    "            count+=1\n",
    "    return count\n",
    "\n",
    "even_digits([-1,-12,-34545,-1234,-12])\n",
    "\n",
    "\n",
    "def richest_person(arr:list)->int:\n",
    "    n_custs = len(arr)\n",
    "    max_w = np.iinfo(np.int32).min # \n",
    "    for i in range(n_custs):\n",
    "        wealth = sum(arr[i])\n",
    "        max_w = max(wealth, max_w)\n",
    "    return max_w\n",
    "richest_person([[1,2,3], [1,2,3]])"
   ]
  },
  {
   "cell_type": "code",
   "execution_count": 5,
   "metadata": {},
   "outputs": [
    {
     "data": {
      "text/plain": [
       "-9223372036854775808"
      ]
     },
     "execution_count": 5,
     "metadata": {},
     "output_type": "execute_result"
    }
   ],
   "source": [
    "import sys\n",
    "-sys.maxsize-1"
   ]
  },
  {
   "cell_type": "code",
   "execution_count": null,
   "metadata": {},
   "outputs": [],
   "source": [
    "def kidsWithCandies(candies: List[int], extraCandies: int) -> List[bool]:\n",
    "    max_cand = max(candies)\n",
    "    arr = []\n",
    "    n = len(candies)\n",
    "    for i in range(n):\n",
    "        print(candies[i]+extraCandies)\n",
    "        if candies[i]+extraCandies >= max_cand:\n",
    "            arr.append(\"true\")\n",
    "        else:\n",
    "            arr.append(\"false\")\n",
    "    return arr\n",
    "kidsWithCandies([2,3,5,1,3], 3)"
   ]
  },
  {
   "cell_type": "code",
   "execution_count": 3,
   "metadata": {},
   "outputs": [],
   "source": [
    "def numIdenticalPairs( nums: List[int]) -> int:\n",
    "    count = 0\n",
    "    for i in range(len(nums)):\n",
    "        for j in range(i+1, len(nums)):\n",
    "            if nums[i] == nums[j]:\n",
    "                count+=1\n",
    "    return count\n",
    "numIdenticalPairs([1,2,3,1,1,3])"
   ]
  },
  {
   "cell_type": "code",
   "execution_count": 6,
   "metadata": {},
   "outputs": [],
   "source": [
    "def createTargetArray(nums: List[int], index: List[int]) -> List[int]:\n",
    "    n = len(nums)\n",
    "    target_arr = [None]*len(nums)\n",
    "    for i in range(n):\n",
    "        target_arr[index[i]] = nums[i]\n",
    "    return target_arr\n",
    "createTargetArray([0,1,2,3,4],[0,1,2,2,1])"
   ]
  },
  {
   "cell_type": "code",
   "execution_count": 11,
   "metadata": {},
   "outputs": [
    {
     "data": {
      "text/plain": [
       "True"
      ]
     },
     "execution_count": 11,
     "metadata": {},
     "output_type": "execute_result"
    }
   ],
   "source": [
    "def checkIfPangram( sentence: str) -> bool:\n",
    "    n = len(sentence)\n",
    "    s = set()\n",
    "    for i in range(n):\n",
    "        if sentence[i] in s:\n",
    "            continue\n",
    "        else:\n",
    "            s.add(sentence[i])\n",
    "    return len(s) == 26\n",
    "checkIfPangram(\"thequickbrownfoxjumpsoverthelazydog\")"
   ]
  },
  {
   "cell_type": "code",
   "execution_count": 14,
   "metadata": {},
   "outputs": [
    {
     "name": "stdout",
     "output_type": "stream",
     "text": [
      "-39\n",
      "33\n"
     ]
    },
    {
     "data": {
      "text/plain": [
       "33"
      ]
     },
     "execution_count": 14,
     "metadata": {},
     "output_type": "execute_result"
    }
   ],
   "source": [
    "def largestAltitude(gain: List[int]) -> int:\n",
    "    max_ = 0\n",
    "    cur  = gain[0]\n",
    "    for i in range(1,len(gain)):\n",
    "        max_ = max(max_,cur)\n",
    "        cur +=gain[i]\n",
    "        print(cur)\n",
    "        \n",
    "    return max_\n",
    "largestAltitude([52,-91,72])"
   ]
  },
  {
   "cell_type": "code",
   "execution_count": 26,
   "metadata": {},
   "outputs": [
    {
     "data": {
      "text/plain": [
       "[[1, 0, 0], [0, 1, 0], [1, 1, 1]]"
      ]
     },
     "execution_count": 26,
     "metadata": {},
     "output_type": "execute_result"
    }
   ],
   "source": [
    "def flipAndInvertImage(image: List[List[int]]) -> List[List[int]]:\n",
    "    arr = []\n",
    "    n = len(image)\n",
    "    for i in range(0,n):\n",
    "        x = image[i]\n",
    "        jg = []\n",
    "        for j in range(len(x)):\n",
    "            if x[(len(x))-j-1]==0:\n",
    "                jg.append(1)\n",
    "            else:\n",
    "                jg.append(0)\n",
    "        arr.append(jg)\n",
    "    return arr\n",
    "\n",
    "flipAndInvertImage([[1,1,0],[1,0,1],[0,0,0]])"
   ]
  },
  {
   "cell_type": "code",
   "execution_count": null,
   "metadata": {},
   "outputs": [],
   "source": [
    "def oddCells( m: int, n: int, indices: List[List[int]]) -> int:\n",
    "    count = 0\n",
    "    for i in range(m):\n",
    "        print(i)\n",
    "        for j in range(n):\n",
    "            print(j)\n",
    "            if (indices[i][j]+1)%2 !=0:\n",
    "                count+=1\n",
    "            print('yield')\n",
    "    return count\n",
    "oddCells(2,3,[[0,1],[1,1]])"
   ]
  },
  {
   "cell_type": "code",
   "execution_count": null,
   "metadata": {},
   "outputs": [],
   "source": [
    "def diagonalSum(mat: List[List[int]]) -> int:\n",
    "    m = len(mat)\n",
    "    n = len(mat[0])\n",
    "    s = 0\n",
    "    for j in range(m):\n",
    "        print(mat[j][n-1-j])\n",
    "        print(mat[j][j])\n",
    "        if j == n-1-j:\n",
    "            s+=mat[j][j]\n",
    "            continue\n",
    "        s+=mat[j][n-1-j]\n",
    "        s+= mat[j][j]\n",
    "    return s\n",
    "\n",
    "diagonalSum([[1,1,1,1],[1,1,1,1],[1,1,1,1],[1,1,1,1]])"
   ]
  },
  {
   "cell_type": "code",
   "execution_count": 34,
   "metadata": {},
   "outputs": [
    {
     "name": "stdout",
     "output_type": "stream",
     "text": [
      "0 0\n",
      "1\n",
      "0\n",
      "0 1\n",
      "4\n",
      "0\n",
      "0 2\n"
     ]
    },
    {
     "ename": "IndexError",
     "evalue": "list index out of range",
     "output_type": "error",
     "traceback": [
      "\u001b[0;31m---------------------------------------------------------------------------\u001b[0m",
      "\u001b[0;31mIndexError\u001b[0m                                Traceback (most recent call last)",
      "\u001b[1;32m/Users/atufasheen/Downloads/projects/practice_code/dsa/arrays.ipynb Cell 21\u001b[0m line \u001b[0;36m1\n\u001b[1;32m     <a href='vscode-notebook-cell:/Users/atufasheen/Downloads/projects/practice_code/dsa/arrays.ipynb#X26sZmlsZQ%3D%3D?line=9'>10</a>\u001b[0m             arr[i][j] \u001b[39m=\u001b[39m matrix[j][i]\n\u001b[1;32m     <a href='vscode-notebook-cell:/Users/atufasheen/Downloads/projects/practice_code/dsa/arrays.ipynb#X26sZmlsZQ%3D%3D?line=10'>11</a>\u001b[0m     \u001b[39mreturn\u001b[39;00m arr\n\u001b[0;32m---> <a href='vscode-notebook-cell:/Users/atufasheen/Downloads/projects/practice_code/dsa/arrays.ipynb#X26sZmlsZQ%3D%3D?line=11'>12</a>\u001b[0m transpose([[\u001b[39m1\u001b[39;49m,\u001b[39m2\u001b[39;49m,\u001b[39m3\u001b[39;49m],[\u001b[39m4\u001b[39;49m,\u001b[39m5\u001b[39;49m,\u001b[39m6\u001b[39;49m]])\n",
      "\u001b[1;32m/Users/atufasheen/Downloads/projects/practice_code/dsa/arrays.ipynb Cell 21\u001b[0m line \u001b[0;36m8\n\u001b[1;32m      <a href='vscode-notebook-cell:/Users/atufasheen/Downloads/projects/practice_code/dsa/arrays.ipynb#X26sZmlsZQ%3D%3D?line=5'>6</a>\u001b[0m \u001b[39mfor\u001b[39;00m j \u001b[39min\u001b[39;00m \u001b[39mrange\u001b[39m(n):\n\u001b[1;32m      <a href='vscode-notebook-cell:/Users/atufasheen/Downloads/projects/practice_code/dsa/arrays.ipynb#X26sZmlsZQ%3D%3D?line=6'>7</a>\u001b[0m     \u001b[39mprint\u001b[39m(i,j)\n\u001b[0;32m----> <a href='vscode-notebook-cell:/Users/atufasheen/Downloads/projects/practice_code/dsa/arrays.ipynb#X26sZmlsZQ%3D%3D?line=7'>8</a>\u001b[0m     \u001b[39mprint\u001b[39m(matrix[j][i])\n\u001b[1;32m      <a href='vscode-notebook-cell:/Users/atufasheen/Downloads/projects/practice_code/dsa/arrays.ipynb#X26sZmlsZQ%3D%3D?line=8'>9</a>\u001b[0m     \u001b[39mprint\u001b[39m(arr[i][j])\n\u001b[1;32m     <a href='vscode-notebook-cell:/Users/atufasheen/Downloads/projects/practice_code/dsa/arrays.ipynb#X26sZmlsZQ%3D%3D?line=9'>10</a>\u001b[0m     arr[i][j] \u001b[39m=\u001b[39m matrix[j][i]\n",
      "\u001b[0;31mIndexError\u001b[0m: list index out of range"
     ]
    }
   ],
   "source": [
    "def transpose(matrix: List[List[int]]) -> List[List[int]]:\n",
    "    m = len(matrix)\n",
    "    n = len(matrix[0])\n",
    "    arr = [[0]*n for _ in range(m)]\n",
    "    for i in range(m):\n",
    "        for j in range(n):\n",
    "            print(i,j)\n",
    "            print(matrix[j][i])\n",
    "            print(arr[i][j])\n",
    "            arr[i][j] = matrix[j][i]\n",
    "    return arr\n",
    "transpose([[1,2,3],[4,5,6]])"
   ]
  },
  {
   "cell_type": "code",
   "execution_count": 30,
   "metadata": {},
   "outputs": [
    {
     "data": {
      "text/plain": [
       "[[1, 4, 7], [2, 5, 8], [3, 6, 9]]"
      ]
     },
     "execution_count": 30,
     "metadata": {},
     "output_type": "execute_result"
    }
   ],
   "source": [
    "def transpose(matrix: List[List[int]]) -> List[List[int]]:\n",
    "    m = len(matrix)\n",
    "    n = len(matrix[0])\n",
    "    arr = [[0]*n for _ in range(m)]\n",
    "    for i in range(m):\n",
    "        for j in range(n):\n",
    "            arr[i][j] = matrix[j][i]\n",
    "    return arr\n",
    "transpose([[1,2,3],[4,5,6],[7,8,9]])"
   ]
  },
  {
   "cell_type": "code",
   "execution_count": 26,
   "metadata": {},
   "outputs": [
    {
     "name": "stdout",
     "output_type": "stream",
     "text": [
      "0 1\n"
     ]
    },
    {
     "data": {
      "text/plain": [
       "[[1, 4, 3], [2, 5, 6], [7, 8, 9]]"
      ]
     },
     "execution_count": 26,
     "metadata": {},
     "output_type": "execute_result"
    }
   ],
   "source": [
    "def transpose(matrix: List[List[int]]) -> List[List[int]]:\n",
    "    m = len(matrix)\n",
    "    n = len(matrix[0])\n",
    "    for i in range(0,m-2):\n",
    "        for j in range(i+1, n-1):\n",
    "            print(i,j)\n",
    "            # print(matrix[i][j], matrix[j][i])\n",
    "            temp = matrix[i][j]\n",
    "            matrix[i][j] = matrix[j][i]\n",
    "            matrix[j][i] = temp\n",
    "    return matrix\n",
    "transpose([[1,2,3],[4,5,6],[7,8,9]])"
   ]
  },
  {
   "cell_type": "code",
   "execution_count": 62,
   "metadata": {},
   "outputs": [
    {
     "data": {
      "text/plain": [
       "[1, 9, 9, 0, 8, 5, 3, 5, 5]"
      ]
     },
     "execution_count": 62,
     "metadata": {},
     "output_type": "execute_result"
    }
   ],
   "source": [
    "def addToArrayForm(num: List[int], k: int) -> List[int]:\n",
    "    n = len(num)\n",
    "     # reverse a list\n",
    "    # s = 0\n",
    "    # e = n -1\n",
    "    # while s<=e:\n",
    "    #     a = num[e]\n",
    "    #     num[e] = num[s]\n",
    "    #     num[s] = a\n",
    "    #     s+=1\n",
    "    #     e-=1\n",
    "    num.reverse()\n",
    "    i = 0\n",
    "    while k:\n",
    "        digit = k%10\n",
    "        if i < len(num):\n",
    "            num[i]+=digit\n",
    "        else:\n",
    "            num.append(digit)\n",
    "        # to check the number that was added\n",
    "        num[i] = num[i] %10\n",
    "        carry  = num[i] //10\n",
    "        k//=10\n",
    "        k+= carry\n",
    "        i+=1\n",
    "    num.reverse()\n",
    "    return num\n",
    "\n",
    "addToArrayForm([1,2,9,7,9,3],199966662)"
   ]
  },
  {
   "cell_type": "code",
   "execution_count": 59,
   "metadata": {},
   "outputs": [
    {
     "data": {
      "text/plain": [
       "200096455"
      ]
     },
     "execution_count": 59,
     "metadata": {},
     "output_type": "execute_result"
    }
   ],
   "source": [
    "def maximumPopulation(self, logs: List[List[int]]) -> int:\n",
    "    min_year = 2051 # else: float('inf')\n",
    "    max_year = 1951 # else: float('-inf')\n",
    "    max_pop = 0\n",
    "    max_pop_year = None\n",
    "    # start with min birth year and max death year.\n",
    "    for birth, death in logs:\n",
    "        min_year = min(min_year, birth) # else: float('inf')\n",
    "        max_year = max(death, max_year) # else: float('-inf')\n",
    "    \n",
    "    for year in range(min_year, max_year+1):\n",
    "        pop = 0\n",
    "        for birth, death in logs:\n",
    "            if birth <= year <= death-1:\n",
    "                pop+=1\n",
    "        if pop >max_pop:\n",
    "            max_pop = pop\n",
    "            max_pop_year  = year\n",
    "    return max_pop_year"
   ]
  },
  {
   "cell_type": "code",
   "execution_count": 77,
   "metadata": {},
   "outputs": [
    {
     "data": {
      "text/plain": [
       "1993"
      ]
     },
     "execution_count": 77,
     "metadata": {},
     "output_type": "execute_result"
    }
   ],
   "source": [
    "def maximumPopulation(logs: List[List[int]]) -> int:\n",
    "    arr = [0]*(2050-1950) # 0(1) space\n",
    "    for i in range(len(logs)): # o(m*n)\n",
    "        for j in range(logs[i][0],logs[i][1]):\n",
    "            arr[j-1950] +=1\n",
    "    # return arr\n",
    "    max_year = 1950\n",
    "    max_val = 0\n",
    "    for i in range(2050-1950):\n",
    "        if arr[i] > max_val:\n",
    "            max_val = arr[i]\n",
    "            max_year = i+1950\n",
    "    return max_year\n",
    "\n",
    "maximumPopulation([[1993,1999],[2000,2010]])"
   ]
  },
  {
   "cell_type": "code",
   "execution_count": 80,
   "metadata": {},
   "outputs": [
    {
     "data": {
      "text/plain": [
       "1993"
      ]
     },
     "execution_count": 80,
     "metadata": {},
     "output_type": "execute_result"
    }
   ],
   "source": [
    "def maximumPopulation(logs: List[List[int]]) -> int:\n",
    "    arr = [0]*(2050-1950 + 1) # 0(1) space\n",
    "    for i in range(len(logs)): # o(m*n)\n",
    "        # running sum\n",
    "        arr[logs[i][0] - 1950] +=1\n",
    "        arr[logs[i][1] - 1950] -=1\n",
    "    for i in range(1,2050-1950):\n",
    "        arr[i] +=arr[i-1]\n",
    "    # return arr\n",
    "    max_year = 1950\n",
    "    max_val = 0\n",
    "    for i in range(2050-1950):\n",
    "        if arr[i] > max_val:\n",
    "            max_val = arr[i]\n",
    "            max_year = i+1950\n",
    "    return max_year\n",
    "\n",
    "maximumPopulation([[1993,1999],[2000,2010]])"
   ]
  },
  {
   "cell_type": "code",
   "execution_count": 92,
   "metadata": {},
   "outputs": [
    {
     "name": "stdout",
     "output_type": "stream",
     "text": [
      "[[1, 1, 0], [0, 0, 0], [0, 1, 1]]\n",
      "---\n",
      "[[1, 0, 0], [1, 0, 1], [0, 0, 1]]\n",
      "---\n",
      "[[1, 1, 0], [0, 0, 0], [0, 1, 1]]\n",
      "---\n",
      "[[1, 0, 0], [1, 0, 1], [0, 0, 1]]\n",
      "---\n"
     ]
    },
    {
     "data": {
      "text/plain": [
       "False"
      ]
     },
     "execution_count": 92,
     "metadata": {},
     "output_type": "execute_result"
    }
   ],
   "source": [
    "def rotate_matrix(matrix:List[List[int]]) -> List[List[int]]: # rotate by 90\n",
    "    m ,n = len(matrix), len(matrix)\n",
    "    for i in range(m):\n",
    "        for j in range(i+1,n):\n",
    "            # temp = matrix[i][n-j-1]\n",
    "            # matrix[i][n-j-1] = matrix[j][i]\n",
    "            # matrix[j][i] = temp\n",
    "            matrix[i][j], matrix[j][i] = matrix[j][i], matrix[i][j]\n",
    "    return matrix\n",
    "\n",
    "def check_equality(matrix: List[List[int]], target: List[List[int]] ) -> bool:\n",
    "    m = len(matrix)\n",
    "    n = len(matrix[0])\n",
    "    for i in range(m):\n",
    "        for j in range(n):\n",
    "            if matrix[i][j]!=target[i][j]:\n",
    "                return False\n",
    "    return True\n",
    "\n",
    "def findRotation(mat: List[List[int]], target: List[List[int]]) -> bool:\n",
    "    for _ in range(4):\n",
    "        if check_equality(mat,target):\n",
    "            return True\n",
    "        else:\n",
    "            mat = rotate_matrix(mat)\n",
    "            print(mat)\n",
    "            print('---')\n",
    "    return False\n",
    "findRotation([[1,0,0],[1,0,1],[0,0,1]], [[0,1,1],[0,0,0],[1,1,0]])"
   ]
  },
  {
   "cell_type": "code",
   "execution_count": 109,
   "metadata": {},
   "outputs": [
    {
     "data": {
      "text/plain": [
       "[0]"
      ]
     },
     "execution_count": 109,
     "metadata": {},
     "output_type": "execute_result"
    }
   ],
   "source": [
    "def sumZero(n: int) -> List[int]:\n",
    "    # consider as an arithmentic series\n",
    "    # sn = ( a[0] + a[n] ) * n/2\n",
    "    # a[0] + a[n-1] = 0\n",
    "    arr = [0]*n\n",
    "    for i in range(0,n-1,2):\n",
    "        arr[i] = i+1\n",
    "        arr[i+1] = -(i+1)\n",
    "        print(1-(n-i))\n",
    "    return arr\n",
    "sumZero(1)"
   ]
  },
  {
   "cell_type": "code",
   "execution_count": 111,
   "metadata": {},
   "outputs": [
    {
     "data": {
      "text/plain": [
       "[]"
      ]
     },
     "execution_count": 111,
     "metadata": {},
     "output_type": "execute_result"
    }
   ],
   "source": [
    "arr = [[1,2],[3,4]]\n",
    "arr[:0]"
   ]
  },
  {
   "cell_type": "code",
   "execution_count": 117,
   "metadata": {},
   "outputs": [
    {
     "name": "stdout",
     "output_type": "stream",
     "text": [
      "[3, 7, 8]\n",
      "[3, 9, 15]\n",
      "--\n",
      "[9, 11, 13]\n",
      "[7, 11, 16]\n",
      "--\n",
      "[15, 16, 17]\n",
      "[8, 13, 17]\n",
      "--\n"
     ]
    },
    {
     "data": {
      "text/plain": [
       "[]"
      ]
     },
     "execution_count": 117,
     "metadata": {},
     "output_type": "execute_result"
    }
   ],
   "source": [
    "def luckyNumbers (matrix: List[List[int]]) -> List[int]:\n",
    "    m = len(matrix)\n",
    "    n = len(matrix[0])\n",
    "    rng = min(m,n)\n",
    "    arr = []\n",
    "    for i in range(rng):\n",
    "        row = matrix[i]\n",
    "        col = [r[i] for r in matrix]\n",
    "        print(row)\n",
    "        print(col)\n",
    "        print('--')\n",
    "        if min(row) == max(col):\n",
    "            arr.append(min(row))\n",
    "    return arr\n",
    "luckyNumbers([[3,7,8],[9,11,13],[15,16,17]])"
   ]
  },
  {
   "cell_type": "code",
   "execution_count": 119,
   "metadata": {},
   "outputs": [
    {
     "data": {
      "text/plain": [
       "[15]"
      ]
     },
     "execution_count": 119,
     "metadata": {},
     "output_type": "execute_result"
    }
   ],
   "source": [
    "def luckyNumbers (matrix: List[List[int]]) -> List[int]:\n",
    "    minrows = []\n",
    "    luck = []\n",
    "    for i in matrix:\n",
    "        minrows.append(min(i))\n",
    "    for col in range(len(matrix[0])):\n",
    "        # col = [r[i] for r in matrix] taking space\n",
    "        max_col = float('-inf')\n",
    "        for row in matrix:\n",
    "            max_col = max(max_col, row[col])\n",
    "        if max_col in minrows:\n",
    "            luck.append(max_col)\n",
    "    return luck\n",
    "        \n",
    "\n",
    "\n",
    "luckyNumbers([[3,7,8],[9,11,13],[15,16,17]])"
   ]
  },
  {
   "cell_type": "code",
   "execution_count": null,
   "metadata": {},
   "outputs": [],
   "source": [
    "def luckyNumbers (matrix: List[List[int]]) -> List[int]:\n",
    "    '''with space: \n",
    "    add mins and maxs to sets\n",
    "    and return their intersection\n",
    "    edit below'''\n",
    "    minrows = []\n",
    "    luck = []\n",
    "    for i in matrix:\n",
    "        minrows.append(min(i))\n",
    "    for col in range(len(matrix[0])):\n",
    "        # col = [r[i] for r in matrix] taking space\n",
    "        max_col = float('-inf')\n",
    "        for row in matrix:\n",
    "            max_col = max(max_col, row[col])\n",
    "        if max_col in minrows:\n",
    "            luck.append(max_col)\n",
    "    return luck\n",
    "        \n",
    "\n",
    "\n",
    "luckyNumbers([[3,7,8],[9,11,13],[15,16,17]])"
   ]
  },
  {
   "cell_type": "code",
   "execution_count": 17,
   "metadata": {},
   "outputs": [
    {
     "data": {
      "text/plain": [
       "[[1, 2], [3, 4]]"
      ]
     },
     "execution_count": 17,
     "metadata": {},
     "output_type": "execute_result"
    }
   ],
   "source": [
    "def matrixReshape(mat: List[List[int]], r: int, c: int) -> List[List[int]]:\n",
    "    m = len(mat)\n",
    "    n = len(mat[0])\n",
    "    arr = [[0]*c for _ in range(r)]\n",
    "    if m*n != r*c:\n",
    "        return mat\n",
    "    if (r==m) &(c==n):\n",
    "        return mat\n",
    "    row = 0\n",
    "    col = 0\n",
    "    for i in range(m):\n",
    "        for j in range(n):\n",
    "            arr[row][col] = mat[i][j]\n",
    "            col+=1\n",
    "            if col == c:\n",
    "                col = 0\n",
    "                row+=1\n",
    "\n",
    "                    \n",
    "                \n",
    "    return arr\n",
    "\n",
    "matrixReshape([[1,2],[3,4]], 2, 4)"
   ]
  },
  {
   "cell_type": "code",
   "execution_count": null,
   "metadata": {},
   "outputs": [],
   "source": [
    "def matrixReshape(mat: List[List[int]], r: int, c: int) -> List[List[int]]:\n",
    "    m = len(mat)\n",
    "    n = len(mat[0])\n",
    "    arr = [[0]*c for _ in range(r)]\n",
    "    if m*n != r*c:\n",
    "        return mat\n",
    "    if (r==m) &(c==n):\n",
    "        return mat\n",
    "    row = 0\n",
    "    col = 0\n",
    "    for i in range(m):\n",
    "        for j in range(n):\n",
    "            arr[row][col] = mat[i][j]\n",
    "            col+=1\n",
    "            if col == c:\n",
    "                col = 0\n",
    "                row+=1\n",
    "\n",
    "                    \n",
    "                \n",
    "    return arr\n",
    "\n",
    "matrixReshape([[1,2],[3,4]], 2, 4)"
   ]
  },
  {
   "cell_type": "code",
   "execution_count": 29,
   "metadata": {},
   "outputs": [
    {
     "data": {
      "text/plain": [
       "[4, 3, 2, 2]"
      ]
     },
     "execution_count": 29,
     "metadata": {},
     "output_type": "execute_result"
    }
   ],
   "source": [
    "def plusOne(digits: List[int]) -> List[int]:\n",
    "    digits.reverse()\n",
    "    i = 0\n",
    "    toadd = 1\n",
    "    while toadd:\n",
    "        if i >= len(digits):\n",
    "            digits.append(toadd)\n",
    "        else:\n",
    "            digits[i] +=toadd\n",
    "        carry = digits[i] // 10\n",
    "        digits[i] = digits[i] %10\n",
    "        toadd-=1\n",
    "        toadd+=carry\n",
    "        i+=1\n",
    "    digits.reverse()\n",
    "    return digits\n",
    "\n",
    "plusOne([4,3,2,1])"
   ]
  },
  {
   "cell_type": "code",
   "execution_count": 12,
   "metadata": {},
   "outputs": [
    {
     "data": {
      "text/plain": [
       "5"
      ]
     },
     "execution_count": 12,
     "metadata": {},
     "output_type": "execute_result"
    }
   ],
   "source": [
    "def removeDuplicates(self, nums: List[int]) -> int:\n",
    "    j = 0\n",
    "    for i in range(1, len(nums)):\n",
    "        if nums[j]!= nums[i]:\n",
    "            j+=1\n",
    "            nums[j] = nums[i]\n",
    "    return j + 1\n",
    "removeDuplicates(None, [0,0,1,1,1,2,2,3,3,4])"
   ]
  },
  {
   "cell_type": "code",
   "execution_count": null,
   "metadata": {},
   "outputs": [],
   "source": [
    "def minCostToMoveChips(self, position: List[int]) -> int:\n",
    "    e = 0\n",
    "    o = 0\n",
    "    for pos in position:\n",
    "        if pos%2 == 0:\n",
    "            e+=1\n",
    "        else:\n",
    "            o+=1\n",
    "    return min(e,o)"
   ]
  },
  {
   "cell_type": "code",
   "execution_count": 22,
   "metadata": {},
   "outputs": [
    {
     "data": {
      "text/plain": [
       "'j'"
      ]
     },
     "execution_count": 22,
     "metadata": {},
     "output_type": "execute_result"
    }
   ],
   "source": [
    "def nextGreatestLetter(self, letters: List[str], target: str) -> str:\n",
    "    s= 0 \n",
    "    e = len(letters)-1\n",
    "    while (s<=e):\n",
    "        mid = s + (e-s)//2\n",
    "        if letters[mid] > target:\n",
    "            e = mid-1\n",
    "        else:\n",
    "            s = mid + 1\n",
    "    return letters[s%len(letters)]\n",
    "nextGreatestLetter(None, [\"c\",\"f\",\"j\"], \"f\")"
   ]
  },
  {
   "cell_type": "code",
   "execution_count": 50,
   "metadata": {},
   "outputs": [
    {
     "name": "stdout",
     "output_type": "stream",
     "text": [
      "2\n"
     ]
    },
    {
     "data": {
      "text/plain": [
       "[2, 1]"
      ]
     },
     "execution_count": 50,
     "metadata": {},
     "output_type": "execute_result"
    }
   ],
   "source": [
    "'''\n",
    "Edge cases: \n",
    "1. length of the array <0 (based on constraints)\n",
    "2. array length 1\n",
    "3. only one instance is present\n",
    "'''\n",
    "\n",
    "def searchRange(self, nums: List[int], target: int) -> List[int]:\n",
    "    s = 0\n",
    "    e = len(nums)\n",
    "    pos = [-1,-1]\n",
    "    if e<1:\n",
    "        return pos\n",
    "    while (s<e):\n",
    "        mid = s + (e-s)//2\n",
    "        print(mid)\n",
    "        if target == nums[mid]:\n",
    "            pos[0] = mid\n",
    "            if (mid+1 <= e):\n",
    "                if nums[mid+1] == target:\n",
    "                    pos[1] = mid+1\n",
    "                if nums[mid-1] == target:\n",
    "                    pos[1] = mid-1\n",
    "            else:\n",
    "                pos[1] = mid\n",
    "            return pos\n",
    "        elif nums[mid] < target:\n",
    "            s = mid+1\n",
    "        else:\n",
    "            e = mid-1\n",
    "    return sorted(pos)\n",
    "searchRange(None, [2,1,1,3], 1)"
   ]
  },
  {
   "cell_type": "code",
   "execution_count": 66,
   "metadata": {},
   "outputs": [
    {
     "data": {
      "text/plain": [
       "[5, 5]"
      ]
     },
     "execution_count": 66,
     "metadata": {},
     "output_type": "execute_result"
    }
   ],
   "source": [
    "def searchRange(self, nums: List[int], target: int) -> List[int]:\n",
    "    s1 = -1\n",
    "    e1  = -1\n",
    "    n = len(nums)\n",
    "    for i in range(n):\n",
    "        if (nums[i] == target) & (s1==-1):\n",
    "            s1 = i\n",
    "        if (nums[n-i-1] == target) & (e1==-1):\n",
    "            e1 = n-i-1\n",
    "    return[s1,e1]\n",
    "        \n",
    "searchRange(None, [5,7,7,8,8,10],10)\n",
    "\n",
    "# 1,2,3,4\n",
    "#[]\n",
    "\n",
    "def subsets(arr):\n",
    "    outer = [[]]\n",
    "    for i in range(len(arr)):\n",
    "        for j in range(len(outer)):\n",
    "            f = copy.deepcopy(outer[j])\n",
    "            f.append(arr[i])\n",
    "            outer.append(f)\n",
    "        print('f',f)\n",
    "\n",
    "    print('outer',outer)\n",
    "subsets([1,2,3,4])\n"
   ]
  },
  {
   "cell_type": "code",
   "execution_count": 19,
   "metadata": {},
   "outputs": [],
   "source": [
    "import copy"
   ]
  },
  {
   "cell_type": "code",
   "execution_count": 21,
   "metadata": {},
   "outputs": [
    {
     "name": "stdout",
     "output_type": "stream",
     "text": [
      "f [1]\n",
      "f [1, 2]\n",
      "f [1, 2, 3]\n",
      "f [1, 2, 3, 4]\n",
      "outer [[], [1], [2], [1, 2], [3], [1, 3], [2, 3], [1, 2, 3], [4], [1, 4], [2, 4], [1, 2, 4], [3, 4], [1, 3, 4], [2, 3, 4], [1, 2, 3, 4]]\n"
     ]
    }
   ],
   "source": [
    "# 1,2,3,4\n",
    "#[]\n",
    "\n",
    "def subsets(arr):\n",
    "    outer = [[]]\n",
    "    for i in range(len(arr)):\n",
    "        for j in range(len(outer)):\n",
    "            f = copy.deepcopy(outer[j])\n",
    "            f.append(arr[i])\n",
    "            outer.append(f)\n",
    "        print('f',f)\n",
    "\n",
    "    print('outer',outer)\n",
    "subsets([1,2,3,4])"
   ]
  },
  {
   "cell_type": "code",
   "execution_count": 15,
   "metadata": {},
   "outputs": [
    {
     "data": {
      "text/plain": [
       "['1111', '112', '121', '13', '211', '22', '31', '4']"
      ]
     },
     "execution_count": 15,
     "metadata": {},
     "output_type": "execute_result"
    }
   ],
   "source": [
    "def dice_throws(n, p):\n",
    "    if n==0:\n",
    "        return [p]\n",
    "    ans = []\n",
    "    for i in range(1, n+1):\n",
    "        ans.extend(dice_throws(n-i,p+str(i)))\n",
    "    return ans\n",
    "dice_throws(4, '')"
   ]
  },
  {
   "cell_type": "markdown",
   "metadata": {},
   "source": [
    "# pascal traingle"
   ]
  },
  {
   "cell_type": "code",
   "execution_count": 80,
   "metadata": {},
   "outputs": [
    {
     "data": {
      "text/plain": [
       "[1.0, 6.0, 15.0, 20.0, 15.0, 6.0, 1.0]"
      ]
     },
     "execution_count": 80,
     "metadata": {},
     "output_type": "execute_result"
    }
   ],
   "source": [
    "# with formula 1\n",
    "def fact(n):\n",
    "    f = 1\n",
    "    for i in range(2,n+1):\n",
    "        f*=i\n",
    "    return f\n",
    "def pascal2(n):\n",
    "    a = []\n",
    "    for i in range(n+1):\n",
    "        ncr=fact(n) / (fact(n-i)* fact(i))\n",
    "        a.append(ncr)\n",
    "    return a\n",
    "pascal2(6)\n",
    "\n",
    "# with recursion\n",
    "def pascal2(n,i): # can pass fact_n here\n",
    "    if i==n:\n",
    "        a = [1]\n",
    "        return a\n",
    "    a = []\n",
    "    ncr = fact(n) // (fact(n-i)* fact(i))\n",
    "    a.append(ncr)\n",
    "    a.extend(pascal2(n, i+1))\n",
    "    return a\n",
    "pascal2(3,0)"
   ]
  },
  {
   "cell_type": "code",
   "execution_count": 5,
   "metadata": {},
   "outputs": [
    {
     "data": {
      "text/plain": [
       "[1, [1, 1], [1, 2, 1], [1, 3, 3, 1], [1, 4, 6, 4, 1]]"
      ]
     },
     "execution_count": 5,
     "metadata": {},
     "output_type": "execute_result"
    }
   ],
   "source": [
    "class Solution:\n",
    "    def calc_ncr(self, n,r):\n",
    "        ans = 1\n",
    "        for i in range(r):\n",
    "            ans*=(n-i)\n",
    "            ans//=(i+1)\n",
    "        return ans\n",
    "    \n",
    "    def generate(self, numRows: int) -> List[List[int]]:\n",
    "        ans = [1]\n",
    "        for i in range(1,numRows):\n",
    "            k = []\n",
    "            for j in range(0,i):\n",
    "                k.append(self.calc_ncr(i,j))\n",
    "            k.append(1)\n",
    "            ans.append(k)\n",
    "        return ans\n",
    "f  = Solution()\n",
    "f.generate(5)"
   ]
  },
  {
   "cell_type": "markdown",
   "metadata": {},
   "source": [
    "# max element"
   ]
  },
  {
   "cell_type": "code",
   "execution_count": null,
   "metadata": {},
   "outputs": [],
   "source": [
    "# o(n)\n",
    "def maxelem(nums):\n",
    "    max  = nums[0]\n",
    "    for i in nums[1:]:\n",
    "        if i>max:\n",
    "            max = i\n",
    "    return max\n",
    "# o(nlogn)\n",
    "def maxelem(nums):\n",
    "    nums.sort()\n",
    "    return nums[-1]\n",
    "maxelem([1,2,3,8,1,2,0,5])\n"
   ]
  },
  {
   "cell_type": "code",
   "execution_count": 108,
   "metadata": {},
   "outputs": [
    {
     "name": "stdout",
     "output_type": "stream",
     "text": [
      "[3, 2, 3, 1, 2, 4, 5, 5]\n",
      "[3, 2, 3, 1, 2, 4, 5]\n",
      "[3, 2, 3, 1, 2, 5]\n",
      "[3, 2, 3, 1, 2]\n",
      "5\n",
      "[3, 2, 3, 1, 2, 4, 5, 5]\n",
      "[3, 2, 3, 1, 2, 4, 5]\n",
      "[3, 2, 3, 1, 2, 5]\n",
      "[3, 2, 3, 1, 2]\n",
      "[2, 3, 1, 2]\n",
      "3\n"
     ]
    }
   ],
   "source": [
    "\n",
    "# def kmaxelem(nums, k):\n",
    "#     nums.sort()\n",
    "#     return nums[-k]\n",
    "# kmaxelem([1,2,3,8,1,2,0,5],2)\n",
    "\n",
    "# def kmaxelem(nums, k):\n",
    "#     kmax = float('-inf')\n",
    "#     for _ in range(k+1):\n",
    "#         maxe = float('-inf')\n",
    "#         idx = -1\n",
    "#         for j in range(len(nums)):\n",
    "#             if nums[j] == kmax:\n",
    "#                 continue\n",
    "#             if maxe < nums[j]:\n",
    "#                 maxe = nums[j]\n",
    "#                 idx = j\n",
    "#         kmax = maxe\n",
    "#         # nums.pop(idx)\n",
    "#         nums.remove(maxe)\n",
    "#         print(nums)\n",
    "#     return kmax\n",
    "\n",
    "# print(kmaxelem([3,2,3,1,2,4,5,5,6],3))\n",
    "# print(kmaxelem([3,2,3,1,2,4,5,5,6],4))\n",
    "# # print(kmaxelem([1,2,3,8,1,2,0,5],9))"
   ]
  },
  {
   "cell_type": "code",
   "execution_count": 113,
   "metadata": {},
   "outputs": [
    {
     "data": {
      "text/plain": [
       "4"
      ]
     },
     "execution_count": 113,
     "metadata": {},
     "output_type": "execute_result"
    }
   ],
   "source": [
    "# o(n), o(1)\n",
    "def second_largest(nums):\n",
    "    first_largest = nums[0]\n",
    "    second_largest = float('-inf')\n",
    "    for i in range(len(nums)):\n",
    "        if (nums[i] > first_largest):\n",
    "            second_largest = first_largest\n",
    "            first_largest = nums[i]\n",
    "        \n",
    "    return second_largest\n",
    "second_largest([3,4,5,5,1,2])"
   ]
  },
  {
   "cell_type": "code",
   "execution_count": 7,
   "metadata": {},
   "outputs": [
    {
     "data": {
      "text/plain": [
       "3"
      ]
     },
     "execution_count": 7,
     "metadata": {},
     "output_type": "execute_result"
    }
   ],
   "source": [
    "# time, space  = o(n^2),o(1)\n",
    "def majority_elem(nums):\n",
    "    n = len(nums)\n",
    "    for i in range(n):\n",
    "        c = 0\n",
    "        for j in range(n):\n",
    "            if nums[j]==nums[i]:\n",
    "                c+=1\n",
    "        if c> n//2:\n",
    "            return nums[i]\n",
    "# majority_elem([3,2,3])\n",
    "\n",
    "# time, space  = o(nlogn),o(n)\n",
    "def majority_elem(nums):\n",
    "    n = len(nums)\n",
    "    print(n//2)\n",
    "    hash_map = {}\n",
    "    for i in range(n):\n",
    "        if nums[i] in hash_map:\n",
    "            hash_map[nums[i]]+=1\n",
    "            if hash_map[nums[i]]>n//2:\n",
    "                return nums[i]\n",
    "        else:\n",
    "            hash_map[nums[i]] = 1\n",
    "    return nums[0]\n",
    "# majority_elem([1])\n",
    "\n",
    "# o(n), o(1)\n",
    "def majority_elem(nums):\n",
    "    n  = len(nums)\n",
    "    cand = nums[0]\n",
    "    vote = 1\n",
    "    for i in range(1,n):\n",
    "        if nums[i] == cand:\n",
    "            vote+=1\n",
    "        else:\n",
    "            if vote <=0:\n",
    "                cand = nums[i]\n",
    "                vote = 1\n",
    "            else:\n",
    "                vote-=1\n",
    "    return cand\n",
    "# majority_elem([3,2,3])\n",
    "\n",
    "def majority_elem(nums):\n",
    "    n = len(nums)\n",
    "    x = sorted(nums)\n",
    "    if n%2==0:\n",
    "        search_space = n//2\n",
    "    else:\n",
    "        search_space = n//2 + 1\n",
    "    for i in range(search_space):\n",
    "        if x[i] == x[i + (n//2)]:\n",
    "            return x[i]\n",
    "    return -1\n",
    "\n",
    "majority_elem([1,2,2,3,3,3,3])"
   ]
  },
  {
   "cell_type": "code",
   "execution_count": 58,
   "metadata": {},
   "outputs": [
    {
     "data": {
      "text/plain": [
       "[22, 12, 6]"
      ]
     },
     "execution_count": 58,
     "metadata": {},
     "output_type": "execute_result"
    }
   ],
   "source": [
    "def leaders(nums):\n",
    "    n = len(nums)\n",
    "    leads = []\n",
    "    max_elem = float('-inf')\n",
    "    for i in range(n):\n",
    "        if nums[n-i-1] > max_elem:\n",
    "            leads.append(nums[n-i-1])\n",
    "            max_elem = nums[n-i-1]\n",
    "    return leads[::-1]\n",
    "leaders([10,22,12,3,0,6])"
   ]
  },
  {
   "cell_type": "code",
   "execution_count": 27,
   "metadata": {},
   "outputs": [
    {
     "name": "stdout",
     "output_type": "stream",
     "text": [
      "3\n",
      "2\n"
     ]
    },
    {
     "data": {
      "text/plain": [
       "[3]"
      ]
     },
     "execution_count": 27,
     "metadata": {},
     "output_type": "execute_result"
    }
   ],
   "source": [
    "def majority_elem_3(nums):\n",
    "    n = len(nums)\n",
    "    x = []\n",
    "    for i in range(n):\n",
    "        if (len(x)==0)  or (x[0]!=nums[i]):\n",
    "            print(nums[i])\n",
    "            c = 0\n",
    "            for j in range(n):\n",
    "                if nums[i]==nums[j]:\n",
    "                    c+=1\n",
    "                if c>(n//3):\n",
    "                    x.append(nums[j])\n",
    "                if len(x)==2:\n",
    "                    break\n",
    "    return x\n",
    "# majority_elem_3([1,2])\n",
    "majority_elem_3([3,2,3])"
   ]
  },
  {
   "cell_type": "code",
   "execution_count": 61,
   "metadata": {},
   "outputs": [
    {
     "data": {
      "text/plain": [
       "[1]"
      ]
     },
     "execution_count": 61,
     "metadata": {},
     "output_type": "execute_result"
    }
   ],
   "source": [
    "# time, space = o(nlogn), o(n)\n",
    "def majority_elem_3(nums):\n",
    "    x = []\n",
    "    n = len(nums)\n",
    "    hash_map = {}\n",
    "    for i in range(n):\n",
    "        if len(x) ==0 or x[0]!=nums[i]:\n",
    "            if nums[i] in hash_map:\n",
    "                hash_map[nums[i]] +=1\n",
    "            else:\n",
    "                hash_map[nums[i]] =1\n",
    "            if hash_map[nums[i]] > (n//3):\n",
    "                x.append(nums[i])\n",
    "        if len(x) >=2:\n",
    "            break\n",
    "    return x\n",
    "# majority_elem_3([2,2])\n",
    "# majority_elem_3([1,1,1,1,1,1,1,1,1,1,1,1,1,1,1,1,2,2,2,2,2,2,2,2,2,2,2,2,2,2,2,2,3,4,5,6,7,8,9])\n",
    "# majority_elem_3([1,2])\n",
    "# majority_elem_3([3,2,3])\n",
    "majority_elem_3([1,1,3,4])"
   ]
  },
  {
   "cell_type": "code",
   "execution_count": 68,
   "metadata": {},
   "outputs": [
    {
     "data": {
      "text/plain": [
       "[1]"
      ]
     },
     "execution_count": 68,
     "metadata": {},
     "output_type": "execute_result"
    }
   ],
   "source": [
    "def majority_elem_3(nums):\n",
    "    n = len(nums)\n",
    "    c1 = 0\n",
    "    c2 = 0\n",
    "    e1 = nums[0]\n",
    "    e2 = nums[0]\n",
    "    for i in range(n):\n",
    "        if c1<=0 and nums[i] !=e2:\n",
    "            c1=1\n",
    "            e1 = nums[i]\n",
    "        elif c2 <= 0 and nums[i]!=e1:\n",
    "            c2 = 1\n",
    "            e2  = nums[i]\n",
    "        elif nums[i]== e1:\n",
    "            c1+=1\n",
    "        elif nums[i] == e2:\n",
    "            c2+=1\n",
    "        else:\n",
    "            c1-=1\n",
    "            c2-=1\n",
    "    c1= 0\n",
    "    c2 =0\n",
    "    for i in range(n):\n",
    "        if nums[i] == e1:\n",
    "            c1+=1\n",
    "        elif nums[i] == e2:\n",
    "            c2+=1\n",
    "    x = []\n",
    "    if c1 > n//3:\n",
    "        x.append(e1)\n",
    "    if c2 > n//3:\n",
    "        x.append(e2)\n",
    "    return x\n",
    "majority_elem_3([1,1,3,4])"
   ]
  },
  {
   "cell_type": "markdown",
   "metadata": {},
   "source": [
    "# rotated"
   ]
  },
  {
   "cell_type": "code",
   "execution_count": 10,
   "metadata": {},
   "outputs": [
    {
     "data": {
      "text/plain": [
       "False"
      ]
     },
     "execution_count": 10,
     "metadata": {},
     "output_type": "execute_result"
    }
   ],
   "source": [
    "# o(n), o(1)\n",
    "def arraysorted(nums):\n",
    "    if len(nums)==1:\n",
    "        return True\n",
    "    for i in range(1, len(nums)):\n",
    "        if nums[i-1] > nums[i]:\n",
    "            return False\n",
    "    return True\n",
    "# o(n), o(n)\n",
    "\n",
    "def arraysorted(nums):\n",
    "    if len(nums) <=1:\n",
    "        return True\n",
    "    return (nums[0]<= nums[1] ) and arraysorted(nums[1:])\n",
    "arraysorted([1,2,4,5,8,6])"
   ]
  },
  {
   "cell_type": "code",
   "execution_count": 155,
   "metadata": {},
   "outputs": [
    {
     "data": {
      "text/plain": [
       "[3, 99, -1, -100]"
      ]
     },
     "execution_count": 155,
     "metadata": {},
     "output_type": "execute_result"
    }
   ],
   "source": [
    "def rotatearr(nums, k):\n",
    "    from_k = nums[k:]\n",
    "    before_k = nums[:k]\n",
    "    return from_k + before_k\n",
    "rotatearr([-1,-100,3,99], 2)\n",
    "# rotatearr([1,2,3,4,5,6,7], 3)\n",
    "# 1,2,3,4,5,6,7,8,9,10\n",
    "# 10,9,8,1,2,3,4,5,6,7\n",
    "\n",
    "# temp = 1,2,3 [:k]\n",
    "# 4,5,6,7,8,9,10,8,9,10  k - i\n",
    "def rotatearr(nums, k):\n",
    "    n = len(nums)\n",
    "    k = k%n\n",
    "    temp = nums[:k]\n",
    "    for i in range(k, n):\n",
    "        nums[i-k] = nums[i]\n",
    "    print(nums)\n",
    "    for i in range(n-k, n):\n",
    "        nums[i] = temp [n - i-1]\n",
    "    return nums\n",
    "\n",
    "rotatearr([1,2,3,4,5,6,7,8,9,10],3)"
   ]
  },
  {
   "cell_type": "code",
   "execution_count": 128,
   "metadata": {},
   "outputs": [
    {
     "data": {
      "text/plain": [
       "True"
      ]
     },
     "execution_count": 128,
     "metadata": {},
     "output_type": "execute_result"
    }
   ],
   "source": [
    "def arrayrotated(nums):\n",
    "    n = len(nums)\n",
    "    if n <=2:\n",
    "        return True\n",
    "    k =0\n",
    "    for i in range(1,len(nums)):\n",
    "        if k>1:\n",
    "            print(k)\n",
    "            return False\n",
    "        if nums[i-1] > nums[i]:\n",
    "            k+=1\n",
    "    return True\n",
    "# arrayrotated([3,4,5,1,2])   \n",
    "arrayrotated([2,1,3,4])   "
   ]
  },
  {
   "cell_type": "code",
   "execution_count": 6,
   "metadata": {},
   "outputs": [
    {
     "data": {
      "text/plain": [
       "[2, 3, 4, 5, 6, 1]"
      ]
     },
     "execution_count": 6,
     "metadata": {},
     "output_type": "execute_result"
    }
   ],
   "source": [
    "\n",
    "def reverse(nums, start, end):\n",
    "    i = start\n",
    "    j = end\n",
    "    while (i<j):\n",
    "        nums[i], nums[j] = nums[j], nums[i]\n",
    "        i+=1\n",
    "        j-=1\n",
    "    return nums\n",
    "\n",
    "def rotate(nums: List[int], k: int) -> None:\n",
    "    \"\"\"\n",
    "    Do not return anything, modify nums in-place instead.\n",
    "    \"\"\"\n",
    "    n = len(nums)\n",
    "    k = k%n\n",
    "    nums = reverse(nums, 0,n-k-1)\n",
    "    nums = reverse(nums, n-k,n-1)\n",
    "    nums = reverse(nums, 0, n-1)\n",
    "    return nums\n",
    "rotate([1,2,3,4,5,6], 11)"
   ]
  },
  {
   "cell_type": "code",
   "execution_count": 212,
   "metadata": {},
   "outputs": [
    {
     "data": {
      "text/plain": [
       "[1, 0]"
      ]
     },
     "execution_count": 212,
     "metadata": {},
     "output_type": "execute_result"
    }
   ],
   "source": [
    "# [0,1,0,3,12]\n",
    "# i = 0 \n",
    "# j = 0\n",
    "# if j!= 0\n",
    "# nums[i] = num[j]\n",
    "# i+=\n",
    "# o(n+n)\n",
    "def movezeroes(nums):\n",
    "    i = 0\n",
    "    n = len(nums)\n",
    "    for j in range(n):\n",
    "        if nums[j] !=0:\n",
    "            nums[i] = nums[j]\n",
    "            i+=1\n",
    "    for k in range(i, n):\n",
    "        nums[k] = 0\n",
    "    return nums\n",
    "movezeroes([0,1,0,3,12])\n",
    "# [0,1,0,3,12]\n",
    "# i = 0 \n",
    "# j = 0\n",
    "\n",
    "# [1,0]\n",
    "def movezeroes(nums):\n",
    "    if len(nums)<=1:\n",
    "        return nums\n",
    "    i = 0\n",
    "    for j in range(len(nums)):\n",
    "        if nums[j]==0:\n",
    "            i = j\n",
    "            break\n",
    "    for j in range(i, len(nums)):\n",
    "        if (nums[j]!=0):\n",
    "            nums[i] = nums[j]\n",
    "            nums[j] = 0\n",
    "            i+=1\n",
    "            \n",
    "    return nums\n",
    "# movezeroes([0,1,0,3,12])\n",
    "movezeroes([1,0])\n",
    "movezeroes([0,0])\n",
    "movezeroes([0,1])"
   ]
  },
  {
   "cell_type": "markdown",
   "metadata": {},
   "source": [
    "# duplicates"
   ]
  },
  {
   "cell_type": "code",
   "execution_count": 144,
   "metadata": {},
   "outputs": [
    {
     "data": {
      "text/plain": [
       "[1, 2, 3, 4, 4, 4]"
      ]
     },
     "execution_count": 144,
     "metadata": {},
     "output_type": "execute_result"
    }
   ],
   "source": [
    "# time, space = o(nlogn + n) , o(n)\n",
    "def remove_dup(nums):\n",
    "    has_set = set()\n",
    "    for i in range(len(nums)):\n",
    "        has_set.add(nums[i])\n",
    "    c = 0\n",
    "    for i in has_set:\n",
    "        nums[c] = i\n",
    "        c+=1\n",
    "    return nums\n",
    "remove_dup([1,2,3,3,4,4])"
   ]
  },
  {
   "cell_type": "code",
   "execution_count": 152,
   "metadata": {},
   "outputs": [
    {
     "data": {
      "text/plain": [
       "[1, 2, 3, 4, 5, 2, 3, 3, 4, 4, 5]"
      ]
     },
     "execution_count": 152,
     "metadata": {},
     "output_type": "execute_result"
    }
   ],
   "source": [
    "#time, space = o(n) , o(1)\n",
    "def remove_dup(nums):\n",
    "    i =0 # filter pos\n",
    "    for j in range(1, len(nums)):\n",
    "        if nums[j] != nums[i]:\n",
    "            nums[i+1] = nums[j]\n",
    "            i+=1\n",
    "    return nums\n",
    "remove_dup([1,1,1,1,2,2,3,3,4,4,5])\n"
   ]
  },
  {
   "cell_type": "code",
   "execution_count": 48,
   "metadata": {},
   "outputs": [
    {
     "data": {
      "text/plain": [
       "3"
      ]
     },
     "execution_count": 48,
     "metadata": {},
     "output_type": "execute_result"
    }
   ],
   "source": [
    "def single_elem(nums):\n",
    "    n = len(nums)\n",
    "    for i in range(n):\n",
    "        c = 0\n",
    "        num = nums[i]\n",
    "        for j in range(n):\n",
    "            if nums[j]==num:\n",
    "                c+=1\n",
    "            if c==2:\n",
    "                break\n",
    "        if c==1:\n",
    "            return num\n",
    "    return 0\n",
    "\n",
    "\n",
    "# time, space = o(2n), o(n)\n",
    "def single_elem(nums):\n",
    "    hash_map = {}\n",
    "    for i in nums:\n",
    "        if i in hash_map:\n",
    "            hash_map[i] +=1\n",
    "        else:\n",
    "            hash_map[i] =1\n",
    "    for k,v in hash_map.items():\n",
    "        if v==1:\n",
    "            return k\n",
    "    return 0\n",
    "\n",
    "# def single_elem(nums):\n",
    "#     x = nums[0]\n",
    "#     n = len(nums)\n",
    "#     for i in range(1, n):\n",
    "#         x = x^nums[i]\n",
    "#     return x\n",
    "single_elem([2,2,3])"
   ]
  },
  {
   "cell_type": "markdown",
   "metadata": {},
   "source": [
    "# subarrays"
   ]
  },
  {
   "cell_type": "code",
   "execution_count": 63,
   "metadata": {},
   "outputs": [
    {
     "data": {
      "text/plain": [
       "3"
      ]
     },
     "execution_count": 63,
     "metadata": {},
     "output_type": "execute_result"
    }
   ],
   "source": [
    "def subarraySum(nums, s):\n",
    "    i = 0\n",
    "    n = len(nums)\n",
    "    max_arr_len = 1\n",
    "    \n",
    "    while i<=n:\n",
    "        cur_sum = 0\n",
    "        for j in range(i, n): # 3 - 7, 5 = \n",
    "            if cur_sum >= s:\n",
    "                max_arr_len = max(max_arr_len, j-i)\n",
    "                break\n",
    "            cur_sum+=nums[j]\n",
    "        i+=1\n",
    "    return max_arr_len\n",
    "subarraySum([1,2,3,1,1,0,1,1,1],2)\n",
    "\n",
    "def subarraySum(nums, s):\n",
    "    n = len(nums)\n",
    "    sum = 0\n",
    "    hash_map = {}\n",
    "    for i in range(n):\n",
    "        sum+=nums[i]\n",
    "        hash_map[sum] = i\n",
    "    # print(hash_map)\n",
    "    max_len = 1\n",
    "    subs = 1\n",
    "    for v,i in hash_map.items():\n",
    "        if (v-s) in hash_map:\n",
    "            max_len = max(max_len, i - hash_map[(v-s)]+1) \n",
    "            subs+=1\n",
    "    return max_len, subs\n",
    "\n",
    "# subarraySum([1,2,3,1,1,0,1,1,1],2)\n",
    "subarraySum([-1,-1,1], 0)\n",
    "    \n",
    "subarraySum([1,2,3,1,1,0,1,1,1],2)\n"
   ]
  },
  {
   "cell_type": "code",
   "execution_count": 26,
   "metadata": {},
   "outputs": [
    {
     "data": {
      "text/plain": [
       "(0, 4)"
      ]
     },
     "execution_count": 26,
     "metadata": {},
     "output_type": "execute_result"
    }
   ],
   "source": [
    "def maxSubArrayRange(self, nums) -> int:\n",
    "    maxsum = float('-inf')\n",
    "    n = len(nums)\n",
    "    cursum = 0\n",
    "    start = 0\n",
    "    end = 0\n",
    "    for i in range(n):\n",
    "        if cursum <0:\n",
    "            start = i\n",
    "            cursum = 0\n",
    "        cursum+= nums[i]\n",
    "        if cursum >maxsum:\n",
    "            maxsum = cursum\n",
    "            end = i\n",
    "    return start, end\n",
    "# maxSubArray(None, [-2])\n",
    "# maxSubArray(None, [5,4,-1,7,8])\n",
    "# [1]"
   ]
  },
  {
   "cell_type": "code",
   "execution_count": 43,
   "metadata": {},
   "outputs": [
    {
     "name": "stdout",
     "output_type": "stream",
     "text": [
      "{0: 1} -2\n",
      "{0: 1, 1: 1} 0\n",
      "{0: 1, 1: 1, 3: 1} 3\n"
     ]
    },
    {
     "data": {
      "text/plain": [
       "2"
      ]
     },
     "execution_count": 43,
     "metadata": {},
     "output_type": "execute_result"
    }
   ],
   "source": [
    "# time, space : o(n) * o(logn), o(n)\n",
    "def subarraySumEqual(nums, s):\n",
    "    hash_map = {0:1}\n",
    "    cursum = 0\n",
    "    ans = 0\n",
    "    n = len(nums)\n",
    "    for i in range(n):\n",
    "        cursum +=nums[i]\n",
    "        # print(hash_map, cursum -s )\n",
    "        if (cursum - s) in hash_map:\n",
    "            ans+=hash_map[cursum-s]\n",
    "        if cursum in hash_map:\n",
    "            hash_map[cursum] +=1\n",
    "        else:\n",
    "            hash_map[cursum] =1\n",
    "    return ans\n",
    "# subarraySumEqual([1,1,1], 2)\n",
    "subarraySumEqual([1,2,3], 3)\n",
    "# subarraySumEqual([-1,-1,1], 0)"
   ]
  },
  {
   "cell_type": "code",
   "execution_count": 50,
   "metadata": {},
   "outputs": [
    {
     "data": {
      "text/plain": [
       "2"
      ]
     },
     "execution_count": 50,
     "metadata": {},
     "output_type": "execute_result"
    }
   ],
   "source": [
    "def longestsubarraypos(nums, k):\n",
    "    left = 0\n",
    "    n = len(nums)\n",
    "    right = 0\n",
    "    prefixsum = 0\n",
    "    max_len = 0\n",
    "    while (right <n):\n",
    "        while((prefixsum > k) and (left<=right)):\n",
    "            prefixsum -= nums[left]\n",
    "            left+=1\n",
    "        if prefixsum == k:\n",
    "            max_len = max(max_len, (right-left))\n",
    "        if right<n:\n",
    "            prefixsum += nums[right]\n",
    "            right+=1\n",
    "    return max_len\n",
    "def longestsubarrayneg(nums, k):\n",
    "    return        \n",
    "longestsubarraypos( [1,2,3,1,1,1,1],3)\n",
    "longestsubarrayneg( [1,2,-3,-1,1,1,1],3)"
   ]
  },
  {
   "cell_type": "markdown",
   "metadata": {},
   "source": [
    "# Profit"
   ]
  },
  {
   "cell_type": "code",
   "execution_count": 37,
   "metadata": {},
   "outputs": [
    {
     "name": "stdout",
     "output_type": "stream",
     "text": [
      "0\n",
      "-6\n",
      "4\n",
      "2\n",
      "5\n",
      "3\n"
     ]
    },
    {
     "data": {
      "text/plain": [
       "5"
      ]
     },
     "execution_count": 37,
     "metadata": {},
     "output_type": "execute_result"
    }
   ],
   "source": [
    "# [7,1,5,3,6,4]\n",
    "\n",
    "def maxProfit(prices):\n",
    "    n = len(prices)\n",
    "    min_price = prices[0]\n",
    "    max_profit = 0\n",
    "    for i in range(n):\n",
    "        cost = prices[i] - min_price\n",
    "        print(cost)\n",
    "        max_profit = max(max_profit, cost)\n",
    "        min_price = min(min_price, prices[i])\n",
    "    return max_profit\n",
    "maxProfit([7,1,5,3,6,4]) "
   ]
  },
  {
   "cell_type": "markdown",
   "metadata": {},
   "source": [
    "# rearrange"
   ]
  },
  {
   "cell_type": "code",
   "execution_count": 66,
   "metadata": {},
   "outputs": [
    {
     "name": "stdout",
     "output_type": "stream",
     "text": [
      "[28, -41, 22, -8, 46, -37, 35, -9, 18, -6, 19, -26, 15, -37, 14, -10, 31, -9]\n"
     ]
    }
   ],
   "source": [
    "def rearrange(nums):\n",
    "    n = len(nums)\n",
    "    pos = []\n",
    "    neg = []\n",
    "    for i in range(len(nums)):\n",
    "        if nums[i] < 0:\n",
    "            neg.append(nums[i])\n",
    "        else:\n",
    "            pos.append(nums[i])\n",
    "    for i in range(n//2):\n",
    "        nums[2*i] = pos[i]\n",
    "        nums[2*i +1 ] = neg[i]\n",
    "    return nums\n",
    "def rearrange(nums):\n",
    "    n = len(nums)\n",
    "    pos = []\n",
    "    neg = []\n",
    "    for i in range(n):\n",
    "        if nums[i] < 0:\n",
    "            neg.append(nums[i])\n",
    "        else:\n",
    "            pos.append(nums[i])\n",
    "    num_pos=0\n",
    "    int_pos = 0\n",
    "    while (int_pos < len(pos)):\n",
    "        nums[num_pos] = pos[int_pos]\n",
    "        nums[num_pos+1] = neg[int_pos]\n",
    "        int_pos+=1\n",
    "        num_pos+=2\n",
    "    return nums\n",
    "\n",
    "def rearrange(nums):\n",
    "    n  = len(nums)\n",
    "    num_rearr = [0]*(n)\n",
    "    pos_i = 0\n",
    "    neg_i = 1\n",
    "    for i in range(n):\n",
    "        if nums[i]<0:\n",
    "            num_rearr[neg_i] = nums[i]\n",
    "            neg_i+=2\n",
    "        else:\n",
    "            num_rearr[pos_i] = nums[i]\n",
    "            pos_i+=2\n",
    "    return num_rearr\n",
    "# rearrange([-1,1])\n",
    "# print(rearrange([3,1,-2,-5,2,-4]))\n",
    "print(rearrange([28,-41,22,-8,-37,46,35,-9,18,-6,19,-26,-37,-10,-9,15,14,31]))"
   ]
  },
  {
   "cell_type": "markdown",
   "metadata": {},
   "source": [
    "# breakpoints"
   ]
  },
  {
   "cell_type": "code",
   "execution_count": 55,
   "metadata": {},
   "outputs": [
    {
     "name": "stdout",
     "output_type": "stream",
     "text": [
      "[4, 2, 0, 3, 2, 2, 0]\n"
     ]
    }
   ],
   "source": [
    "# \n",
    "def nextPermutation(self, nums) -> None:\n",
    "    n = len(nums)\n",
    "    break_p = 0\n",
    "    i = n-1\n",
    "    while (i >0):\n",
    "        if nums[i] > nums[i-1]:\n",
    "            break_p = i-1\n",
    "            break\n",
    "        i-=1\n",
    "    swap_idx = n-1\n",
    "    while swap_idx >=break_p:\n",
    "        if nums[swap_idx] > nums[break_p]:\n",
    "            break\n",
    "        else:\n",
    "            swap_idx-=1\n",
    "    if swap_idx ==-1:\n",
    "        nums.reverse()\n",
    "        return \n",
    "    # print(break_p, swap_idx)\n",
    "    nums[swap_idx], nums[break_p] = nums[break_p], nums[swap_idx]\n",
    "    x = break_p+1\n",
    "    c = 1\n",
    "    while (x<=( n-x)):\n",
    "        nums[x], nums[n-c] = nums[n-c], nums[x]\n",
    "        x+=1\n",
    "        c+=1\n",
    "    return \n",
    "\n",
    "# 2345100\n",
    "# 2300543\n",
    "# nextPermutation(None, [2,1,5,4,3,0,0])\n",
    "# nums = [5,1,1]\n",
    "# nums=[3,2,1]\n",
    "# nums = [5,4,7,5,3,2]\n",
    "nums = [4,2,0,2,3,2,0]\n",
    "# nums=[1,3,2]\n",
    "nextPermutation(None, nums)\n",
    "print(nums)\n",
    "# nextPermutation(None, [1,2,3])\n",
    "# nextPermutation(None, [3,2,1])"
   ]
  },
  {
   "cell_type": "markdown",
   "metadata": {},
   "source": [
    "# sequence"
   ]
  },
  {
   "cell_type": "code",
   "execution_count": 89,
   "metadata": {},
   "outputs": [
    {
     "name": "stdout",
     "output_type": "stream",
     "text": [
      "[0, 0, 1, 2, 3, 4, 5, 6, 7, 8]\n"
     ]
    },
    {
     "data": {
      "text/plain": [
       "9"
      ]
     },
     "execution_count": 89,
     "metadata": {},
     "output_type": "execute_result"
    }
   ],
   "source": [
    "# time, space = o(n^2), o(n)\n",
    "def consseq(nums):\n",
    "    n = len(nums)\n",
    "    max_seq = float('-inf')\n",
    "    c = 1\n",
    "    for i in range(n):\n",
    "        c = 0\n",
    "        x = nums[i]\n",
    "        while (x in nums):\n",
    "            c+=1\n",
    "            x+=1\n",
    "        max_seq = max(max_seq, c)\n",
    "    return max_seq\n",
    "\n",
    "# time, space = nlogn + n  , o(1)\n",
    "def consseq(nums:List):\n",
    "    n = len(nums)\n",
    "    max_seq = float('-inf')\n",
    "    nums.sort()\n",
    "    print(nums)\n",
    "    c = 1\n",
    "    for i in range(1, n):\n",
    "        if nums[i-1]+1 == nums[i]:\n",
    "            c+=1\n",
    "        else:\n",
    "            c=1\n",
    "        max_seq = max(max_seq, c)\n",
    "    return max_seq\n",
    "consseq([0,3,7,2,5,8,4,6,0,1] )\n",
    "# consseq([100,4,200,1,3,2])"
   ]
  },
  {
   "cell_type": "code",
   "execution_count": 68,
   "metadata": {},
   "outputs": [
    {
     "data": {
      "text/plain": [
       "10"
      ]
     },
     "execution_count": 68,
     "metadata": {},
     "output_type": "execute_result"
    }
   ],
   "source": [
    "def consseq(nums):\n",
    "    n = len(nums)\n",
    "    hashset = set()\n",
    "    for i in range(n):\n",
    "        hashset.add(nums[i]) # o(n) avg, nlog(n)\n",
    "    max_seq = 0\n",
    "    for i in range(n):\n",
    "        if nums[i]-1 in hashset: # o(n) avg, n^2 in wrost case\n",
    "            continue\n",
    "        c = 0\n",
    "        i2 = i\n",
    "        while (nums[i2] in hashset):\n",
    "            c+=1\n",
    "            if i2 < n-1:\n",
    "                i2+=1\n",
    "            else:\n",
    "                break\n",
    "        max_seq = max(max_seq, c)\n",
    "    return max_seq\n",
    "consseq([0,3,7,2,5,8,4,6,0,1] )"
   ]
  },
  {
   "cell_type": "markdown",
   "metadata": {},
   "source": [
    "# matrix"
   ]
  },
  {
   "cell_type": "code",
   "execution_count": 24,
   "metadata": {},
   "outputs": [
    {
     "name": "stdout",
     "output_type": "stream",
     "text": [
      "[0, 1, 1, 0] [0, 1, 1, 0]\n",
      "[[1, 0, 0, 1], [0, 0, 0, 0], [0, 0, 0, 0], [1, 0, 0, 1]]\n"
     ]
    }
   ],
   "source": [
    "mat1 = [[1,1,1,1], [1,0,0,1], [1,1,0,1], [1,1,1,1]]\n",
    "# mat2  = [[1,1,1],[1,0,1],[1,1,1]]\n",
    "\n",
    "# time, space = o(n*m) + o(m*n) + o(n*m), o(n) + o(m)\n",
    "def setzero(mat):\n",
    "    rows = set()\n",
    "    cols = set()\n",
    "    m = len(mat)\n",
    "    n = len(mat[0])\n",
    "    for i in range(m):\n",
    "        for j in range(n):\n",
    "            if mat[i][j] == 0:\n",
    "                rows.add(i)\n",
    "                cols.add(j)\n",
    "    \n",
    "    for i in range(m):\n",
    "        for j in range(n):\n",
    "            mat[i][j] = 0\n",
    "    for i in cols:\n",
    "        for j in range(m):\n",
    "            mat[j][i] = 0\n",
    "\n",
    "    print(rows, cols)\n",
    "    print(mat)\n",
    "setzero(mat1)\n",
    "\n",
    "# time, space = o(n*m) + o(m*n), o(n) + o(m)\n",
    "def setzero(mat):\n",
    "    m = len(mat)\n",
    "    n = len(mat[0])\n",
    "    rows = [0]*m\n",
    "    cols = [0]*n\n",
    "    for i in range(m):\n",
    "        for j in range(n):\n",
    "            if mat[i][j] == 0:\n",
    "                rows[i] = 1\n",
    "                cols[i] = 1\n",
    "    \n",
    "    for i in range(m):\n",
    "        for j in range(n):\n",
    "            if (rows[i] == 1 or cols[j]==1):\n",
    "                mat[i][j] = 0\n",
    "\n",
    "    print(rows, cols)\n",
    "    print(mat)\n",
    "\n",
    "def setzero(mat):\n",
    "    # rows: matrix[0][..]\n",
    "    # cols: matrix[..][0]\n",
    "    m = len(mat)\n",
    "    n = len(mat[0])\n",
    "    col0=1\n",
    "    for i in range(m):\n",
    "        for j in range( n):\n",
    "            if mat[i][j]==0:\n",
    "                mat[i][0] = 0 # setting row as 0\n",
    "                if j<0:\n",
    "                    col0= 0\n",
    "                else:\n",
    "                    mat[0][j] = 0 # setting cols as 0\n",
    "\n",
    "    for i in range(1,m):\n",
    "        for j in range(1, n):\n",
    "            if mat[0][i]== 0 or mat[i][j]==0:\n",
    "                mat[i][j] = 0\n",
    "            \n",
    "    # this is being done earlier, since this cannot change the value of col0.           \n",
    "    if mat[0][0]==0: # mark first row to be 0\n",
    "        for i in range(n):\n",
    "            mat[i][0] = 0\n",
    "    # this is being done later, since this can change the value of 1st row.\n",
    "    if col0==0: # mark first row as 0\n",
    "        for i in range(m):\n",
    "            mat[0][i] == 0\n",
    "    # print(mat)  \n",
    "    return mat \n",
    "# mat1 = [[1,1,1,1], [1,0,0,1], [1,1,0,1], [1,1,1,1]]\n",
    "mat2  = [[0,1,1],[1,0,1],[1,1,1]]\n",
    "setzero(mat2)"
   ]
  },
  {
   "cell_type": "code",
   "execution_count": 73,
   "metadata": {},
   "outputs": [
    {
     "data": {
      "text/plain": [
       "[[7, 4, 1], [8, 5, 2], [9, 6, 3]]"
      ]
     },
     "execution_count": 73,
     "metadata": {},
     "output_type": "execute_result"
    }
   ],
   "source": [
    "# time, space = o(m*n) + m(m), o(1)\n",
    "def rotate_matrix(mat):\n",
    "    m,n = len(mat), len(mat)\n",
    "    for i in range(m):\n",
    "        for j in range(i):\n",
    "            mat[i][j], mat[j][i] = mat[j][i], mat[i][j]\n",
    "    for i in range(m):\n",
    "        mat[i].reverse()\n",
    "    return mat\n",
    "# rotate_matrix([[1,2,3,5],[4,5,6,6],[7,8,9,9]])\n",
    "rotate_matrix([[1,2,3],[4,5,6],[7,8,9]])\n",
    "\n",
    "# neets solution: solve later.\n",
    "# time, space = o(m*n) + m(m), o(1)\n",
    "def rotate_matrix(mat):\n",
    "    m,n = len(mat), len(mat)\n",
    "    top = 0 # rows\n",
    "    bottom = n-1 # rows\n",
    "    right = m-1 # cols\n",
    "    left = 0 # cols\n",
    "    while(left < right):\n",
    "        topright = mat[top][right]\n",
    "        mat[top][right] = mat[top][left]\n",
    "        bottomright = mat[bottom][right]\n",
    "        mat[bottom][right] = topright\n",
    "        mat[top][right] = mat[bottom][left]\n",
    "        mat[bottom][left] = bottomright\n",
    "        top+=1\n",
    "        bottom-=1\n",
    "        left +=1\n",
    "        right -=1\n",
    "        for i in range(len(arr)):\n",
    "            for j in range(len(arr[0])):\n",
    "                print(arr[i][j], end=' ')\n",
    "            print()\n",
    "        print('---')\n",
    "    \n",
    "    return mat\n",
    "\n",
    "rotate_matrix(arr)\n",
    "print('---')\n",
    "    \n",
    "\n",
    "arr = [[1,2,3],[4,5,6],[7,8,9]]\n",
    "# for i in range(len(arr)):\n",
    "#     for j in range(len(arr[0])):\n",
    "#         print(arr[i][j], end=' ')\n",
    "#     print()\n",
    "# rotate_matrix(arr)\n",
    "# print('---')\n",
    "# for i in range(len(arr)):\n",
    "#     for j in range(len(arr[0])):\n",
    "#         print(arr[i][j], end=' ')\n",
    "#     print()"
   ]
  },
  {
   "cell_type": "code",
   "execution_count": null,
   "metadata": {},
   "outputs": [],
   "source": [
    "def traverse_matrix(mat):\n",
    "    m = len(mat)\n",
    "    n = len(mat[0])\n",
    "    top = 0\n",
    "    left = 0\n",
    "    right = n\n",
    "    bottom = m\n",
    "    while ((left <= right) and (top<= bottom)):\n",
    "        if (left <= right):\n",
    "            for i in range(left, right): # or right-top\n",
    "                print(mat[top][i])\n",
    "            top+=1\n",
    "            print('end 1 here')\n",
    "            for j in range(top, bottom):\n",
    "                print(mat[j][right-1])\n",
    "            right-=1\n",
    "            print('end 2 here' )\n",
    "        if (top <= bottom):\n",
    "            for k in range(right-1, left-1,-1):\n",
    "                print(mat[bottom-1][k])\n",
    "            bottom-=1\n",
    "            print('end 3 here' )\n",
    "        if (left <= right):\n",
    "            for m in range(bottom-1, top-1, -1):\n",
    "                print(mat[m][left])\n",
    "            left+=1\n",
    "            print('end 4 here' )\n",
    "traverse_matrix([[1,2,3,4],[5,6,7,8],[9,10,11,12],[13,14,15,16]])\n",
    "# traverse_matrix([[1,2,3],[10,11,4],[9,12,5],[8,7,6]])"
   ]
  },
  {
   "cell_type": "markdown",
   "metadata": {},
   "source": [
    "# Sum problems"
   ]
  },
  {
   "cell_type": "code",
   "execution_count": null,
   "metadata": {},
   "outputs": [],
   "source": [
    "# space, time = o(n), o(n)\n",
    "def twosum(nums, target):\n",
    "    hash_set = set()\n",
    "    for i in nums:\n",
    "        if nums[i] in hash_set:\n",
    "            return [i, hash_set[nums[i]]]\n",
    "        else:\n",
    "            hash_set[target - nums[i]] = i"
   ]
  },
  {
   "cell_type": "code",
   "execution_count": 73,
   "metadata": {},
   "outputs": [
    {
     "data": {
      "text/plain": [
       "[2, 3]"
      ]
     },
     "execution_count": 73,
     "metadata": {},
     "output_type": "execute_result"
    }
   ],
   "source": [
    "# time, space = 0(n), o(1)\n",
    "def twosumsorted(numbers, target):\n",
    "    n = len(numbers)\n",
    "    low = 0\n",
    "    high = n-1\n",
    "    while (low<=high):\n",
    "        # mid = low + ((high - low) // 2)\n",
    "        if numbers[low] + numbers[high] == target:\n",
    "            return [low+1, high+1]\n",
    "        elif numbers[low] + numbers[high] > target:\n",
    "            high-=1\n",
    "        else:\n",
    "            low+=1\n",
    "    return -1\n",
    "\n",
    "twosumsorted([5,25,75], 100)"
   ]
  },
  {
   "cell_type": "code",
   "execution_count": 70,
   "metadata": {},
   "outputs": [
    {
     "data": {
      "text/plain": [
       "[[-1, 1, 0],\n",
       " [0, 0, 0],\n",
       " [0, 1, -1],\n",
       " [0, -1, 1],\n",
       " [1, -1, 0],\n",
       " [2, 2, -4],\n",
       " [2, -1, -1],\n",
       " [-1, -1, 2]]"
      ]
     },
     "execution_count": 70,
     "metadata": {},
     "output_type": "execute_result"
    }
   ],
   "source": [
    "def threesum(nums, target):\n",
    "    n = len(nums)\n",
    "    ans = []\n",
    "    hashset = set()\n",
    "    for i in range(n):\n",
    "        hashset2 = set()\n",
    "        for j in range(i, n-1):\n",
    "            if (target - (nums[i] + nums[j])) in hashset:\n",
    "                ans.append([nums[i], nums[j], (target - (nums[i] + nums[j]))])\n",
    "            else:\n",
    "                \n",
    "                hashset.add(nums[j+1])\n",
    "    return ans\n",
    "threesum([-1,0,1,2,-1,-4], 0)"
   ]
  },
  {
   "cell_type": "markdown",
   "metadata": {},
   "source": [
    "# 3 pointer approach"
   ]
  },
  {
   "cell_type": "markdown",
   "metadata": {},
   "source": [
    "# 2 pointer approach"
   ]
  },
  {
   "cell_type": "code",
   "execution_count": null,
   "metadata": {},
   "outputs": [],
   "source": [
    "# o(nlogn) + o(n*n) , o(1)\n",
    "def threesum(nums, target):\n",
    "    ans = []\n",
    "    n = len(nums)\n",
    "    nums.sort()\n",
    "    for i in range(n):\n",
    "        if (i!=0) and nums[i] == nums[i-1]:\n",
    "            continue\n",
    "        j = i+1\n",
    "        k = n-1\n",
    "        while(j<k):\n",
    "            sum_ = nums[i] + nums[j] + nums[k]\n",
    "            if sum_ == target:\n",
    "                ans.append([nums[i],nums[j],nums[k]])\n",
    "                k-=1\n",
    "                j+=1\n",
    "                while( (j<k) and nums[k] == nums[k+1]):\n",
    "                    k-=1\n",
    "                while( (j<k) and (nums[j] == nums[j-1])):\n",
    "                    j+=1\n",
    "            elif sum_ > target:\n",
    "                k-=1\n",
    "            else:\n",
    "                j+=1\n",
    "    return ans\n",
    "# threesum([-1,0,1,2,-1,-4], 0)\n",
    "threesum([-2,0,1,1,2], 0)"
   ]
  },
  {
   "cell_type": "code",
   "execution_count": 1,
   "metadata": {},
   "outputs": [
    {
     "data": {
      "text/plain": [
       "[[-2, -1, 1, 2], [-2, 0, 0, 2]]"
      ]
     },
     "execution_count": 1,
     "metadata": {},
     "output_type": "execute_result"
    }
   ],
   "source": [
    "# o(nlogn) + o(n*n*n) , o(1)\n",
    "def foursum(nums, target):\n",
    "    n = len(nums)\n",
    "    ans = []\n",
    "    nums.sort()\n",
    "    for i in range(n):\n",
    "        if i!=0 and nums[i-1] == nums[i]:\n",
    "            continue\n",
    "        for j in range(i+1,n):\n",
    "            if nums[j-1] == nums[j]:\n",
    "                continue\n",
    "\n",
    "            k = j+1\n",
    "            l = n-1\n",
    "            while (k < l):\n",
    "                sum_ = nums[i] + nums[j] + nums[k] + nums[l]\n",
    "                if sum_ > target:\n",
    "                    l-=1\n",
    "                elif sum_ < target:\n",
    "                    k+=1\n",
    "                elif sum_ == target:\n",
    "                    ans.append([nums[i] , nums[j] , nums[k] , nums[l]])\n",
    "                    l-=1\n",
    "                    k+=1\n",
    "                    while ((k<l) and (nums[l] == nums[l+1])):\n",
    "                        l-=1\n",
    "                    while ((k<l) and (nums[k] == nums[k-1])):\n",
    "                        k+=1\n",
    "        return ans\n",
    "foursum([1,0,-1,0,-2,2], 0)\n",
    "# foursum([4, 3, 3, 4, 4, 2, 1, 2, 1, 1], 9)"
   ]
  },
  {
   "cell_type": "code",
   "execution_count": 82,
   "metadata": {},
   "outputs": [
    {
     "data": {
      "text/plain": [
       "[1, 4, 5, 6, 2, 3]"
      ]
     },
     "execution_count": 82,
     "metadata": {},
     "output_type": "execute_result"
    }
   ],
   "source": [
    "def merge(self, nums1: List[int], m: int, nums2: List[int], n: int) -> None:\n",
    "    l = 0\n",
    "    r = n\n",
    "    while ((r<0) and (l<m)):\n",
    "        if (nums1[l] <= nums2[r]) and nums1[l]!=0:\n",
    "            l+=1\n",
    "        else:\n",
    "            temp = nums1[l]\n",
    "            nums1[l] = nums2[r]\n",
    "            nums2[r] = temp\n",
    "            l+=1\n",
    "    while (r<n):\n",
    "        nums1[l] = nums2[r]\n",
    "        l+=1\n",
    "        r+=1\n",
    "    return nums1\n",
    "\n",
    "# merge(None, [1,2,3,0,0,0], 3, [2,5,6], 3)    \n",
    "# merge(None, [1], 1, [], 0)    \n",
    "# merge(None, [0] , 0, [1], 1)    \n",
    "# merge(None, [1,2,4,5,6,0], 5, [3], 1)    \n",
    "merge(None, [4,5,6,0,0,0], 3, [1,2,3], 3)\n"
   ]
  },
  {
   "cell_type": "code",
   "execution_count": 16,
   "metadata": {},
   "outputs": [
    {
     "name": "stdout",
     "output_type": "stream",
     "text": [
      "[4, 5, 6, 0, 0, 0] 2 2\n",
      "[4, 5, 6, 0, 0, 6] 1 2\n",
      "[4, 5, 6, 0, 5, 6] 0 2\n",
      "[4, 5, 6, 4, 5, 6] -1 2\n",
      "[4, 5, 3, 4, 5, 6] -1 1\n",
      "[4, 2, 3, 4, 5, 6] -1 0\n"
     ]
    },
    {
     "data": {
      "text/plain": [
       "[1, 2, 3, 4, 5, 6]"
      ]
     },
     "execution_count": 16,
     "metadata": {},
     "output_type": "execute_result"
    }
   ],
   "source": [
    "def merge(self, nums1: List[int], m: int, nums2: List[int], n: int) -> None:\n",
    "    \"\"\"\n",
    "    Do not return anything, modify nums1 in-place instead.\n",
    "    \"\"\"\n",
    "    l = m-1\n",
    "    r = n-1\n",
    "    k = len(nums1) -1\n",
    "    while ((l>=0) and (r>=0)):\n",
    "        if nums2[r] >= nums1[l]:\n",
    "            nums1[k] = nums2[r]\n",
    "            k-=1\n",
    "            r-=1\n",
    "        else:\n",
    "            nums1[k] = nums1[l]\n",
    "            k-=1\n",
    "            l-=1   \n",
    "    while (l>=0):\n",
    "        nums1[k] = nums1[l]\n",
    "        k-=1\n",
    "        l-=1  \n",
    "    while (r>=0):\n",
    "        nums1[k] = nums2[r]\n",
    "        k-=1\n",
    "        r-=1  \n",
    "    return nums1\n",
    "merge(None, [4,5,6,0,0,0], 3, [1,2,3], 3) "
   ]
  },
  {
   "cell_type": "markdown",
   "metadata": {},
   "source": [
    "# other"
   ]
  },
  {
   "cell_type": "code",
   "execution_count": 219,
   "metadata": {},
   "outputs": [
    {
     "name": "stdout",
     "output_type": "stream",
     "text": [
      "[] 0 0\n",
      "[1] 1 0\n",
      "[1] 1 1\n",
      "[1, 2] 2 1\n",
      "[1, 2] 2 2\n",
      "[1, 2, 3] 3 2\n",
      "[1, 2, 3] 3 3\n",
      "[1, 2, 3, 4] 4 3\n",
      "[1, 2, 3, 4] 4 4\n",
      "[1, 2, 3, 4] 4 5\n"
     ]
    },
    {
     "data": {
      "text/plain": [
       "[1, 2, 3, 4, 5, 6]"
      ]
     },
     "execution_count": 219,
     "metadata": {},
     "output_type": "execute_result"
    }
   ],
   "source": [
    "#time,space =  o(n1logn1 + n2logn2 + n1+n2), n1+n2\n",
    "def union(arr1, arr2):\n",
    "    uniq = set()\n",
    "    for i in range(len(arr1)):\n",
    "        uniq.add(arr1[i])\n",
    "    for i in range(len(arr2)):\n",
    "        uniq.add(arr2[i])\n",
    "    return uniq\n",
    "\n",
    "union([1,2,3,4,5], [1,2,3,4,4,5,6])\n",
    "\n",
    "def union(arr1, arr2):\n",
    "    i = 0\n",
    "    j = 0\n",
    "    n1 = len(arr1)\n",
    "    n2 = len(arr2)\n",
    "    g = []\n",
    "    last_elem = -1\n",
    "    while ((i< n1) and (j<n2)):\n",
    "        print(g, i, j)\n",
    "        if arr1[i] <= arr2[j]:\n",
    "            if arr1[i] != last_elem:\n",
    "                g.append(arr1[i])\n",
    "                last_elem = arr1[i]\n",
    "            i+=1\n",
    "        elif arr1[i] > arr2[j]:\n",
    "            if arr2[j] != last_elem:\n",
    "                g.append(arr2[j])\n",
    "                last_elem = arr2[j]\n",
    "            j+=1 \n",
    "    while(i<n1):\n",
    "        if arr1[i] !=last_elem:\n",
    "            g.append(arr1[i])\n",
    "            last_elem = arr1[i]\n",
    "        i+=1\n",
    "    while(j<n2):\n",
    "        if arr2[j] !=last_elem:\n",
    "            g.append(arr2[j])\n",
    "            last_elem = arr2[j]\n",
    "        j+=1\n",
    "    return g\n",
    "union([1,2,3,4,5], [1,2,3,4,4,5,6])"
   ]
  },
  {
   "cell_type": "code",
   "execution_count": 31,
   "metadata": {},
   "outputs": [
    {
     "data": {
      "text/plain": [
       "2"
      ]
     },
     "execution_count": 31,
     "metadata": {},
     "output_type": "execute_result"
    }
   ],
   "source": [
    "\n",
    "\n",
    "# time, space = o(n), o(1) but integer overload can happen.\n",
    "def missing_number(nums):\n",
    "    n = len(nums)\n",
    "    s = (n*(n+1)) //2  # o(1)\n",
    "    arr_sum = sum(nums) # o(n)\n",
    "    return s - arr_sum\n",
    "missing_number([3,0,1])\n",
    "\n",
    "\n",
    "# with cyclic sort\n",
    "# time, space = o(n^2) , o(1)\n",
    "def missing_number(nums):\n",
    "    n = len(nums)\n",
    "    i  =0\n",
    "    while i<n:\n",
    "        if nums[i] == n:\n",
    "            i+=1\n",
    "            continue\n",
    "        correct_index = nums[i]\n",
    "        if nums[i] != nums[correct_index]:\n",
    "            nums[i], nums[correct_index] =  nums[correct_index],nums[i]\n",
    "        else:\n",
    "            i+=1\n",
    "    for i in range(n):\n",
    "        if nums[i]!= i:\n",
    "            return i\n",
    "missing_number([3,0,1])\n",
    "\n",
    "def missing_number(nums):\n",
    "    n = len(nums)\n",
    "    for i in range(n):\n",
    "        f = False\n",
    "        for j in range(n-1):\n",
    "            if nums[i]==nums[j]:\n",
    "                f=True\n",
    "                break\n",
    "        if f==False:\n",
    "            return i\n",
    "    return -1\n",
    "\n",
    "missing_number([3,0,1])    \n",
    "\n",
    "def missing_number(nums):\n",
    "    n = len(nums)-1\n",
    "    xor1= 0\n",
    "    # for i in range(1,n):\n",
    "    #     xor1 = xor1^i\n",
    "    xor2 = 0\n",
    "    for j in range(n):\n",
    "        xor2 = xor2^nums[j]\n",
    "        xor1 = xor1^j+1\n",
    "    xor1 = xor1^n \n",
    "    return xor1^xor2\n",
    "\n",
    "missing_number([3,0,1])  "
   ]
  },
  {
   "cell_type": "code",
   "execution_count": 36,
   "metadata": {},
   "outputs": [
    {
     "name": "stdout",
     "output_type": "stream",
     "text": [
      "0 0 0\n",
      "1 0 1\n",
      "2 0 2\n",
      "0 2 3\n",
      "1 2 4\n",
      "2 2 5\n"
     ]
    },
    {
     "data": {
      "text/plain": [
       "3"
      ]
     },
     "execution_count": 36,
     "metadata": {},
     "output_type": "execute_result"
    }
   ],
   "source": [
    "def cons_ones(nums):\n",
    "    c = 0\n",
    "    max_c = 0\n",
    "    n = len(nums)\n",
    "    for i in range(n):\n",
    "        print(c, max_c, i)\n",
    "        if nums[i]==1:\n",
    "            c+=1\n",
    "        else:\n",
    "            max_c = max ( max_c, c)\n",
    "            c=0\n",
    "    return max ( max_c, c)\n",
    "\n",
    "cons_ones([1,1,0,1,1,1])"
   ]
  },
  {
   "cell_type": "markdown",
   "metadata": {},
   "source": [
    "# one pointer approach"
   ]
  },
  {
   "cell_type": "code",
   "execution_count": 22,
   "metadata": {},
   "outputs": [
    {
     "data": {
      "text/plain": [
       "[[1, 5]]"
      ]
     },
     "execution_count": 22,
     "metadata": {},
     "output_type": "execute_result"
    }
   ],
   "source": [
    "def merge(intervals):\n",
    "    n = len(intervals)\n",
    "    intervals.sort()\n",
    "    ans = [intervals[0]]\n",
    "    i = 1\n",
    "    ans_c = 0\n",
    "    while (i <n):\n",
    "        if intervals[i][0] <= ans[ans_c][1]:\n",
    "            ans[ans_c][1] = max(intervals[i][1] ,ans[ans_c][1])\n",
    "            i+=1\n",
    "            continue\n",
    "        ans.append(intervals[i])\n",
    "        ans_c+=1\n",
    "        i+=1\n",
    "    return ans\n",
    "# merge([[1,3],[2,6],[8,10],[15,18]])\n",
    "merge([[1,4],[4,5]])"
   ]
  },
  {
   "cell_type": "markdown",
   "metadata": {},
   "source": [
    "# Dsa with Fraz"
   ]
  },
  {
   "cell_type": "code",
   "execution_count": 1,
   "metadata": {},
   "outputs": [
    {
     "data": {
      "text/plain": [
       "[2, 7]"
      ]
     },
     "execution_count": 1,
     "metadata": {},
     "output_type": "execute_result"
    }
   ],
   "source": [
    "def find_pair(arr, target):\n",
    "    new_arr = sorted(arr)\n",
    "    s =0 \n",
    "    e = len(new_arr) -1\n",
    "    while(s<e):\n",
    "        mid  = s + (e-s)//2\n",
    "        if abs(new_arr[s] - new_arr[e]) == target:\n",
    "            return [new_arr[s],new_arr[e]]\n",
    "        elif abs(new_arr[s] - new_arr[e]) > target:\n",
    "            e-=1\n",
    "        else:\n",
    "            s+=1\n",
    "    return []\n",
    "\n",
    "def good_pair(arr):\n",
    "\n",
    "    for i in arr:\n",
    "        ans = find_pair(arr, i)\n",
    "        if len(ans) >0:\n",
    "            return ans\n",
    "    return False\n",
    "\n",
    "good_pair([5,2,7]) "
   ]
  },
  {
   "cell_type": "code",
   "execution_count": 7,
   "metadata": {},
   "outputs": [
    {
     "data": {
      "text/plain": [
       "[1, 0]"
      ]
     },
     "execution_count": 7,
     "metadata": {},
     "output_type": "execute_result"
    }
   ],
   "source": [
    "def plusOne( digits: list) -> list:\n",
    "    e = len(digits) -1\n",
    "    carry = 1\n",
    "    while e>=0:\n",
    "        res = digits[e] + carry\n",
    "        digits[e] = res%10\n",
    "        e-=1\n",
    "        if res <10:\n",
    "            return digits\n",
    "    return [1] + digits\n",
    "plusOne([9])"
   ]
  },
  {
   "cell_type": "code",
   "execution_count": 11,
   "metadata": {},
   "outputs": [
    {
     "data": {
      "text/plain": [
       "[4, 9, 9, 49, 121]"
      ]
     },
     "execution_count": 11,
     "metadata": {},
     "output_type": "execute_result"
    }
   ],
   "source": [
    "def sortedsquares(nums):\n",
    "    n = len(nums)\n",
    "    s = 0\n",
    "    e = n-1\n",
    "    new_arr =[0]*n\n",
    "    left_square = nums[s]**2\n",
    "    right_square = nums[e]**2\n",
    "    write_pointer = n-1\n",
    "    while (write_pointer >=0):\n",
    "        if left_square >= right_square:\n",
    "            new_arr[write_pointer] = left_square\n",
    "            s+=1\n",
    "            left_square = nums[s]**2\n",
    "        else:\n",
    "            new_arr[write_pointer] = right_square\n",
    "            e-=1\n",
    "            right_square = nums[e]**2\n",
    "        write_pointer-=1\n",
    "\n",
    "    return new_arr\n",
    "# sortedsquares([-4,-1,0,3,10])\n",
    "sortedsquares([-7,-3,2,3,11])\n"
   ]
  },
  {
   "cell_type": "code",
   "execution_count": 50,
   "metadata": {},
   "outputs": [
    {
     "name": "stdout",
     "output_type": "stream",
     "text": [
      "3\n",
      "3\n",
      "1\n",
      "2\n",
      "5\n"
     ]
    }
   ],
   "source": [
    "# abcabcbb\n",
    "\n",
    "def longsubstr(s):\n",
    "        hash_map = {}\n",
    "        maxsum = 0\n",
    "        n = len(s)\n",
    "        l = 0\n",
    "        for i in range(n):\n",
    "            if s[i] in hash_map:\n",
    "                l = max(l, hash_map[s[i]]+1 )\n",
    "\n",
    "            maxsum = max(maxsum, i-l+1)\n",
    "            hash_map[s[i]] = i\n",
    "        # maxsum = max(maxsum, n-l)\n",
    "        return maxsum\n",
    "            \n",
    "print(longsubstr('pwwkew'))\n",
    "print(longsubstr('abcabcbb'))\n",
    "print(longsubstr('bbbbb'))\n",
    "print(longsubstr('abba'))\n",
    "print(longsubstr('tmmzuxt'))\n"
   ]
  },
  {
   "cell_type": "code",
   "execution_count": 63,
   "metadata": {},
   "outputs": [
    {
     "data": {
      "text/plain": [
       "[2, 3, 0]"
      ]
     },
     "execution_count": 63,
     "metadata": {},
     "output_type": "execute_result"
    }
   ],
   "source": [
    "def vowelStrings(words, queries) :\n",
    "    vowels = {'a', 'e', 'i', 'o', 'u'}\n",
    "    res = []\n",
    "    n = len(words)\n",
    "    res = [0]*(n+1)\n",
    "    c = 0\n",
    "    for i in range(n):\n",
    "        if (words[i][0] in vowels) and (words[i][-1] in vowels):\n",
    "            c+=1\n",
    "        res[i+1] = c\n",
    "\n",
    "    ans = [0]*(len(queries))\n",
    "    for i in range(len(queries)):\n",
    "        start = queries[i][0]\n",
    "        end = queries[i][1]\n",
    "        ans[i] = res[end +1] - res[start]\n",
    "    return ans\n",
    "\n",
    "vowelStrings([\"aba\",\"bcb\",\"ece\",\"aa\",\"e\"], [[0,2],[1,4],[1,1]])"
   ]
  },
  {
   "cell_type": "code",
   "execution_count": 1,
   "metadata": {},
   "outputs": [
    {
     "data": {
      "text/plain": [
       "3"
      ]
     },
     "execution_count": 1,
     "metadata": {},
     "output_type": "execute_result"
    }
   ],
   "source": [
    "# time, space : o(n), o(n)\n",
    "def nicesubarray(arr, k):\n",
    "    hash_map = {0:1}\n",
    "    n = len(arr)\n",
    "    count = 0\n",
    "    ans = 0\n",
    "    for i in range(n):\n",
    "        if arr[i]%2==1:\n",
    "            count+=1\n",
    "        if count in hash_map:\n",
    "            hash_map[count]+=1\n",
    "        else:\n",
    "            hash_map[count] = 1\n",
    "        if count-k in hash_map:\n",
    "            ans+=hash_map[count-k]\n",
    "    return ans\n",
    "nicesubarray([1,1,1,2,1],3)\n",
    "        \n",
    "def nicesubarray(arr, k):\n",
    "    "
   ]
  },
  {
   "cell_type": "code",
   "execution_count": 13,
   "metadata": {},
   "outputs": [
    {
     "data": {
      "text/plain": [
       "3"
      ]
     },
     "execution_count": 13,
     "metadata": {},
     "output_type": "execute_result"
    }
   ],
   "source": [
    "def pivotIndex(nums):\n",
    "    n = len(nums)\n",
    "    left_sum = [0]*n        \n",
    "    right_sum = [0]*n \n",
    "    left_sum[0] = nums[0]\n",
    "    right_sum[-1] = nums[-1]\n",
    "    for i in range(1, n):\n",
    "        left_sum[i] = left_sum[i-1] + nums[i]\n",
    "        right_sum[n-i-1] = right_sum[n-i] + nums[n-i-1]\n",
    "\n",
    "    for i in range(n):\n",
    "        if left_sum[i]==right_sum[i]:\n",
    "            return i\n",
    "    return -1\n",
    "\n",
    "# pivotIndex()\n",
    "nums = [1,7,3,6,5,6]\n",
    "pivotIndex(nums)"
   ]
  },
  {
   "cell_type": "code",
   "execution_count": 14,
   "metadata": {},
   "outputs": [
    {
     "name": "stdout",
     "output_type": "stream",
     "text": [
      "0\n",
      "0\n",
      "0\n"
     ]
    },
    {
     "data": {
      "text/plain": [
       "[[1, 2, 0], [4, 0, 6], [7, 8, 9]]"
      ]
     },
     "execution_count": 14,
     "metadata": {},
     "output_type": "execute_result"
    }
   ],
   "source": [
    "\n",
    "def modifiedMatrix( matrix):\n",
    "    m = len(matrix)\n",
    "    n = len(matrix[0])\n",
    "    ans = [[0]*n for _ in range(m)]\n",
    "    max_cols = -1\n",
    "    for i in range(n):\n",
    "        for j in range(m):\n",
    "            max_cols = max(max_cols, ans[j][i])\n",
    "        print(max_cols)\n",
    "        for j in range(n):\n",
    "            if matrix[j][i]==-1:\n",
    "                ans[j][i] = max_cols\n",
    "            else:\n",
    "                ans[j][i] = matrix[j][i]\n",
    "        max_cols = -1\n",
    "    return ans\n",
    "\n",
    "modifiedMatrix([[1,2,-1],[4,-1,6],[7,8,9]])"
   ]
  },
  {
   "cell_type": "code",
   "execution_count": 52,
   "metadata": {},
   "outputs": [
    {
     "data": {
      "text/plain": [
       "3"
      ]
     },
     "execution_count": 52,
     "metadata": {},
     "output_type": "execute_result"
    }
   ],
   "source": [
    "# def minimumAverageDifference( nums):\n",
    "#     n = len(nums)\n",
    "#     left_sum = [0]*n\n",
    "#     right_sum = [0]*n\n",
    "#     left_sum[0] = nums[0]\n",
    "#     right_sum[-1] = nums[-1]\n",
    "#     for i in range(1, n):\n",
    "#         left_sum[i] = left_sum[i-1]  + nums[i]\n",
    "#         right_sum[n-i-1] = right_sum[n-i]  + nums[n-i-1]\n",
    "#     min_ans = float('inf')\n",
    "#     res_i = 0\n",
    "#     print(right_sum)\n",
    "#     for i in range(n):\n",
    "#         left = left_sum[i]//(i+1)\n",
    "#         right = right_sum[i+1]// (n-i-1) if (i!=n-1) else 0\n",
    "#         res = abs(left-right)\n",
    "#         if res<min_ans:\n",
    "#             min_ans = res\n",
    "#             res_i = i\n",
    "#     return min_ans, res_i\n",
    "\n",
    "# minimumAverageDifference([2,5,3,9,5,3])\n",
    "\n",
    "def minimumAverageDifference( nums):\n",
    "    n = len(nums)\n",
    "    left_sum = 0\n",
    "    right_sum = 0\n",
    "    for i in range( n):\n",
    "        right_sum+=nums[i]\n",
    "    min_ans = float('inf')\n",
    "    res_i = 0\n",
    "    for i in range(n):\n",
    "        left_sum+=nums[i]\n",
    "        right_sum-=nums[i]\n",
    "        left = left_sum//(i+1)\n",
    "        right = right_sum// (n-i-1) if (i!=n-1) else 0\n",
    "        res = abs(left-right)\n",
    "        if res<min_ans:\n",
    "            min_ans = res\n",
    "            res_i = i\n",
    "    return res_i\n",
    "\n",
    "minimumAverageDifference([2,5,3,9,5,3])"
   ]
  },
  {
   "cell_type": "code",
   "execution_count": 46,
   "metadata": {},
   "outputs": [
    {
     "data": {
      "text/plain": [
       "5"
      ]
     },
     "execution_count": 46,
     "metadata": {},
     "output_type": "execute_result"
    }
   ],
   "source": [
    "i = 0\n",
    "n = 6\n",
    "right_sum = [27, 25, 20, 17, 8, 3]\n",
    "right_sum[i+1]// (n-i-1)"
   ]
  }
 ],
 "metadata": {
  "kernelspec": {
   "display_name": "meiro_venv",
   "language": "python",
   "name": "python3"
  },
  "language_info": {
   "codemirror_mode": {
    "name": "ipython",
    "version": 3
   },
   "file_extension": ".py",
   "mimetype": "text/x-python",
   "name": "python",
   "nbconvert_exporter": "python",
   "pygments_lexer": "ipython3",
   "version": "3.8.17"
  },
  "orig_nbformat": 4
 },
 "nbformat": 4,
 "nbformat_minor": 2
}
