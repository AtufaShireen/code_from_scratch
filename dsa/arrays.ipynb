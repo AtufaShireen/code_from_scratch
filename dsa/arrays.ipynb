{
 "cells": [
  {
   "cell_type": "code",
   "execution_count": 2,
   "metadata": {},
   "outputs": [],
   "source": [
    "from typing import List"
   ]
  },
  {
   "cell_type": "code",
   "execution_count": 20,
   "metadata": {},
   "outputs": [
    {
     "data": {
      "text/plain": [
       "2"
      ]
     },
     "execution_count": 20,
     "metadata": {},
     "output_type": "execute_result"
    }
   ],
   "source": [
    "# pair sum: to count the number of pairs with sum to be target\n",
    "# time, space: o(n^2), o(1)\n",
    "def pair_sum(arr:list, target:int)->int:\n",
    "    n = len(arr)\n",
    "    count = 0\n",
    "    for i in range(len(n)):\n",
    "        for j in range(i,len(n)):\n",
    "            if (arr[i]+arr[j])==target:\n",
    "                # count+=1\n",
    "                count= count + 1\n",
    "                break\n",
    "    return count\n",
    "\n",
    "# time, space: o(n2), o(n)     \n",
    "def pair_sum(arr:list,target:int)->int:\n",
    "    count = 0\n",
    "    n = len(arr)\n",
    "    hash_set = {}\n",
    "    for i in range(len(arr)):\n",
    "        req = target - arr[i]\n",
    "        if req in hash_set:\n",
    "            count+=1\n",
    "        hash_set.add(arr[i])\n",
    "    return count\n",
    "\n",
    "def pair_sum(arr:list,target:int)->int:\n",
    "    count = 0\n",
    "    n = len(arr)\n",
    "    arr.sort()\n",
    "    left = 0\n",
    "    right=n-1\n",
    "    while left<right:\n",
    "        num_sum = arr[left] + arr[right]\n",
    "        if num_sum ==target:\n",
    "            count+=1\n",
    "            left+=1\n",
    "            right-=1\n",
    "        elif num_sum < target:\n",
    "            left+=1\n",
    "        else:\n",
    "            right-=1\n",
    "    return count\n",
    "pair_sum([5,7,-1,1,100],6)"
   ]
  },
  {
   "cell_type": "code",
   "execution_count": 21,
   "metadata": {},
   "outputs": [
    {
     "data": {
      "text/plain": [
       "True"
      ]
     },
     "execution_count": 21,
     "metadata": {},
     "output_type": "execute_result"
    }
   ],
   "source": [
    "# subarray: to check if there are subarrays with sum 0. \n",
    "# notes: \n",
    "# 1. subarray: contigous blocks of array. n*(n+1) / 2\n",
    "# 2. subsequence: contigous and non contigous blocks of array.\n",
    "# time, space: o(n^2), o(1)\n",
    "def check_subarray_0_sum(arr):\n",
    "    n = len(arr)\n",
    "    for i in range(0,n):\n",
    "        cur_sum = 0\n",
    "        for j in range(i, n):\n",
    "            cur_sum+=arr[j]\n",
    "            if cur_sum==0:\n",
    "                return True\n",
    "    return False\n",
    "\n",
    "\n",
    "def check_subarray_0_sum(arr):\n",
    "    n = len(arr)\n",
    "    hash_set = set()\n",
    "    pref_sum = 0\n",
    "    for i in range(n):\n",
    "        pref_sum += arr[i]\n",
    "        if pref_sum ==0:\n",
    "            return True\n",
    "        if pref_sum in hash_set:\n",
    "            return True\n",
    "        else:\n",
    "            hash_set.add(pref_sum)\n",
    "    return False\n",
    "\n",
    "def check_subarray_0_sum(arr):\n",
    "    n = len(arr)\n",
    "    hash_map = dict()\n",
    "    pref_sum = 0\n",
    "    for i in range(n):\n",
    "        pref_sum += arr[i]\n",
    "        if pref_sum ==0:\n",
    "            return True\n",
    "        if pref_sum in hash_map:\n",
    "            return True\n",
    "        else:\n",
    "            hash_map[pref_sum] = i\n",
    "    return False\n",
    "check_subarray_0_sum([4,-3,2,1])\n"
   ]
  },
  {
   "cell_type": "code",
   "execution_count": 1,
   "metadata": {},
   "outputs": [
    {
     "data": {
      "text/plain": [
       "[1, 4, 3, 2, 5, 6]"
      ]
     },
     "execution_count": 1,
     "metadata": {},
     "output_type": "execute_result"
    }
   ],
   "source": [
    "# swap the 2 elements of an array\n",
    "def swap_arr(arr, ind1, ind2):\n",
    "    a = arr[ind1]\n",
    "    arr[ind1] = arr[ind2]\n",
    "    arr[ind2] = a\n",
    "    return arr\n",
    "swap_arr([1,2,3,4,5,6],3,1)"
   ]
  },
  {
   "cell_type": "code",
   "execution_count": 6,
   "metadata": {},
   "outputs": [
    {
     "data": {
      "text/plain": [
       "67"
      ]
     },
     "execution_count": 6,
     "metadata": {},
     "output_type": "execute_result"
    }
   ],
   "source": [
    "# max of an element\n",
    "\n",
    "def max_elem(arr:list) -> int:\n",
    "    if len(arr) <1:\n",
    "        return -1\n",
    "    max_ = arr[0]\n",
    "    n = len(arr)\n",
    "    for i in range(1, n):\n",
    "        # max_ = max(max_,arr[i])\n",
    "        if max_ < arr[i]:\n",
    "            max_ = arr[i]\n",
    "    return max_\n",
    "\n",
    "max_elem([1,2,3,4,5,67,8, -1])"
   ]
  },
  {
   "cell_type": "code",
   "execution_count": 11,
   "metadata": {},
   "outputs": [
    {
     "data": {
      "text/plain": [
       "[4, 3, 2, 1]"
      ]
     },
     "execution_count": 11,
     "metadata": {},
     "output_type": "execute_result"
    }
   ],
   "source": [
    "def reverse_arr(arr:list)->list:\n",
    "    # return arr[::-1]\n",
    "    if len(arr) < 1:\n",
    "        return -1\n",
    "    start = 0\n",
    "    end = len(arr)-1\n",
    "    while start<end:\n",
    "        a = arr[start]\n",
    "        arr[start] = arr[end]\n",
    "        arr[end] = a\n",
    "        start+=1\n",
    "        end-=1\n",
    "    return arr\n",
    "reverse_arr([1,2,3,4])"
   ]
  },
  {
   "cell_type": "code",
   "execution_count": 13,
   "metadata": {},
   "outputs": [
    {
     "data": {
      "text/plain": [
       "True"
      ]
     },
     "execution_count": 13,
     "metadata": {},
     "output_type": "execute_result"
    }
   ],
   "source": [
    "def lin_search(arr:list, target:int)->list:\n",
    "    '''\n",
    "    worst case time, space: o(n), o(1)\n",
    "    best case time, space: o(1), o(1)\n",
    "    '''\n",
    "    n = len(arr)\n",
    "    for i in range(n):\n",
    "        if arr[i] == target:\n",
    "            return True\n",
    "    return False\n",
    "lin_search([1,2,3,4,6],6)"
   ]
  },
  {
   "cell_type": "code",
   "execution_count": 14,
   "metadata": {},
   "outputs": [
    {
     "data": {
      "text/plain": [
       "-9"
      ]
     },
     "execution_count": 14,
     "metadata": {},
     "output_type": "execute_result"
    }
   ],
   "source": [
    "def find_min(arr:list)->list:\n",
    "    n = len(arr)\n",
    "    if n<1:\n",
    "        return -1\n",
    "    arr_min = arr[0]\n",
    "    for i in range(1, n):\n",
    "        if arr_min > arr[i]:\n",
    "            arr_min = arr[i]\n",
    "    return arr_min\n",
    "find_min([1,-1,-9,10,-5])"
   ]
  },
  {
   "cell_type": "code",
   "execution_count": null,
   "metadata": {},
   "outputs": [],
   "source": [
    "def find2d(arr:list, target:int)->list:\n",
    "    if len(arr) <1:\n",
    "        return -1   \n",
    "    n = len(arr)\n",
    "    for i in range(n):\n",
    "        for j in range(len(arr[i])):\n",
    "            if target == arr[i][j]:\n",
    "                return True\n",
    "    return False"
   ]
  },
  {
   "cell_type": "code",
   "execution_count": 1,
   "metadata": {},
   "outputs": [],
   "source": [
    "import math\n",
    "import numpy as np"
   ]
  },
  {
   "cell_type": "code",
   "execution_count": 2,
   "metadata": {},
   "outputs": [
    {
     "data": {
      "text/plain": [
       "6"
      ]
     },
     "execution_count": 2,
     "metadata": {},
     "output_type": "execute_result"
    }
   ],
   "source": [
    "def count_digits(num:int)->int:\n",
    "    if num < 0:\n",
    "        num *=-1\n",
    "    count = 0\n",
    "    if num ==0:\n",
    "        return 1\n",
    "    while num >0:\n",
    "        # print(count)\n",
    "        num= num // 10\n",
    "        count+=1\n",
    "    return count\n",
    "\n",
    "def count_digits(num:int)->int:\n",
    "    if num < 0:\n",
    "        num *=-1\n",
    "    if num ==0:\n",
    "        return 1\n",
    "    return int(math.log10(num)) + 1\n",
    "\n",
    "def even_digits(arr:list)->list:\n",
    "    count = 0\n",
    "    n = len(arr)\n",
    "    for i in range(n):\n",
    "        digits = count_digits(arr[i])\n",
    "        if digits %2 ==0:\n",
    "            count+=1\n",
    "    return count\n",
    "\n",
    "even_digits([-1,-12,-34545,-1234,-12])\n",
    "\n",
    "\n",
    "def richest_person(arr:list)->int:\n",
    "    n_custs = len(arr)\n",
    "    max_w = np.iinfo(np.int32).min # \n",
    "    for i in range(n_custs):\n",
    "        wealth = sum(arr[i])\n",
    "        max_w = max(wealth, max_w)\n",
    "    return max_w\n",
    "richest_person([[1,2,3], [1,2,3]])"
   ]
  },
  {
   "cell_type": "code",
   "execution_count": 5,
   "metadata": {},
   "outputs": [
    {
     "data": {
      "text/plain": [
       "-9223372036854775808"
      ]
     },
     "execution_count": 5,
     "metadata": {},
     "output_type": "execute_result"
    }
   ],
   "source": [
    "import sys\n",
    "-sys.maxsize-1"
   ]
  },
  {
   "cell_type": "code",
   "execution_count": null,
   "metadata": {},
   "outputs": [],
   "source": [
    "def kidsWithCandies(candies: List[int], extraCandies: int) -> List[bool]:\n",
    "    max_cand = max(candies)\n",
    "    arr = []\n",
    "    n = len(candies)\n",
    "    for i in range(n):\n",
    "        print(candies[i]+extraCandies)\n",
    "        if candies[i]+extraCandies >= max_cand:\n",
    "            arr.append(\"true\")\n",
    "        else:\n",
    "            arr.append(\"false\")\n",
    "    return arr\n",
    "kidsWithCandies([2,3,5,1,3], 3)"
   ]
  },
  {
   "cell_type": "code",
   "execution_count": 3,
   "metadata": {},
   "outputs": [],
   "source": [
    "def numIdenticalPairs( nums: List[int]) -> int:\n",
    "    count = 0\n",
    "    for i in range(len(nums)):\n",
    "        for j in range(i+1, len(nums)):\n",
    "            if nums[i] == nums[j]:\n",
    "                count+=1\n",
    "    return count\n",
    "numIdenticalPairs([1,2,3,1,1,3])"
   ]
  },
  {
   "cell_type": "code",
   "execution_count": 6,
   "metadata": {},
   "outputs": [],
   "source": [
    "def createTargetArray(nums: List[int], index: List[int]) -> List[int]:\n",
    "    n = len(nums)\n",
    "    target_arr = [None]*len(nums)\n",
    "    for i in range(n):\n",
    "        target_arr[index[i]] = nums[i]\n",
    "    return target_arr\n",
    "createTargetArray([0,1,2,3,4],[0,1,2,2,1])"
   ]
  },
  {
   "cell_type": "code",
   "execution_count": 11,
   "metadata": {},
   "outputs": [
    {
     "data": {
      "text/plain": [
       "True"
      ]
     },
     "execution_count": 11,
     "metadata": {},
     "output_type": "execute_result"
    }
   ],
   "source": [
    "def checkIfPangram( sentence: str) -> bool:\n",
    "    n = len(sentence)\n",
    "    s = set()\n",
    "    for i in range(n):\n",
    "        if sentence[i] in s:\n",
    "            continue\n",
    "        else:\n",
    "            s.add(sentence[i])\n",
    "    return len(s) == 26\n",
    "checkIfPangram(\"thequickbrownfoxjumpsoverthelazydog\")"
   ]
  },
  {
   "cell_type": "code",
   "execution_count": 14,
   "metadata": {},
   "outputs": [
    {
     "name": "stdout",
     "output_type": "stream",
     "text": [
      "-39\n",
      "33\n"
     ]
    },
    {
     "data": {
      "text/plain": [
       "33"
      ]
     },
     "execution_count": 14,
     "metadata": {},
     "output_type": "execute_result"
    }
   ],
   "source": [
    "def largestAltitude(gain: List[int]) -> int:\n",
    "    max_ = 0\n",
    "    cur  = gain[0]\n",
    "    for i in range(1,len(gain)):\n",
    "        max_ = max(max_,cur)\n",
    "        cur +=gain[i]\n",
    "        print(cur)\n",
    "        \n",
    "    return max_\n",
    "largestAltitude([52,-91,72])"
   ]
  },
  {
   "cell_type": "code",
   "execution_count": 26,
   "metadata": {},
   "outputs": [
    {
     "data": {
      "text/plain": [
       "[[1, 0, 0], [0, 1, 0], [1, 1, 1]]"
      ]
     },
     "execution_count": 26,
     "metadata": {},
     "output_type": "execute_result"
    }
   ],
   "source": [
    "def flipAndInvertImage(image: List[List[int]]) -> List[List[int]]:\n",
    "    arr = []\n",
    "    n = len(image)\n",
    "    for i in range(0,n):\n",
    "        x = image[i]\n",
    "        jg = []\n",
    "        for j in range(len(x)):\n",
    "            if x[(len(x))-j-1]==0:\n",
    "                jg.append(1)\n",
    "            else:\n",
    "                jg.append(0)\n",
    "        arr.append(jg)\n",
    "    return arr\n",
    "\n",
    "flipAndInvertImage([[1,1,0],[1,0,1],[0,0,0]])"
   ]
  },
  {
   "cell_type": "code",
   "execution_count": null,
   "metadata": {},
   "outputs": [],
   "source": [
    "def oddCells( m: int, n: int, indices: List[List[int]]) -> int:\n",
    "    count = 0\n",
    "    for i in range(m):\n",
    "        print(i)\n",
    "        for j in range(n):\n",
    "            print(j)\n",
    "            if (indices[i][j]+1)%2 !=0:\n",
    "                count+=1\n",
    "            print('yield')\n",
    "    return count\n",
    "oddCells(2,3,[[0,1],[1,1]])"
   ]
  },
  {
   "cell_type": "code",
   "execution_count": null,
   "metadata": {},
   "outputs": [],
   "source": [
    "def diagonalSum(mat: List[List[int]]) -> int:\n",
    "    m = len(mat)\n",
    "    n = len(mat[0])\n",
    "    s = 0\n",
    "    for j in range(m):\n",
    "        print(mat[j][n-1-j])\n",
    "        print(mat[j][j])\n",
    "        if j == n-1-j:\n",
    "            s+=mat[j][j]\n",
    "            continue\n",
    "        s+=mat[j][n-1-j]\n",
    "        s+= mat[j][j]\n",
    "    return s\n",
    "\n",
    "diagonalSum([[1,1,1,1],[1,1,1,1],[1,1,1,1],[1,1,1,1]])"
   ]
  },
  {
   "cell_type": "code",
   "execution_count": 34,
   "metadata": {},
   "outputs": [
    {
     "name": "stdout",
     "output_type": "stream",
     "text": [
      "0 0\n",
      "1\n",
      "0\n",
      "0 1\n",
      "4\n",
      "0\n",
      "0 2\n"
     ]
    },
    {
     "ename": "IndexError",
     "evalue": "list index out of range",
     "output_type": "error",
     "traceback": [
      "\u001b[0;31m---------------------------------------------------------------------------\u001b[0m",
      "\u001b[0;31mIndexError\u001b[0m                                Traceback (most recent call last)",
      "\u001b[1;32m/Users/atufasheen/Downloads/projects/practice_code/dsa/arrays.ipynb Cell 21\u001b[0m line \u001b[0;36m1\n\u001b[1;32m     <a href='vscode-notebook-cell:/Users/atufasheen/Downloads/projects/practice_code/dsa/arrays.ipynb#X26sZmlsZQ%3D%3D?line=9'>10</a>\u001b[0m             arr[i][j] \u001b[39m=\u001b[39m matrix[j][i]\n\u001b[1;32m     <a href='vscode-notebook-cell:/Users/atufasheen/Downloads/projects/practice_code/dsa/arrays.ipynb#X26sZmlsZQ%3D%3D?line=10'>11</a>\u001b[0m     \u001b[39mreturn\u001b[39;00m arr\n\u001b[0;32m---> <a href='vscode-notebook-cell:/Users/atufasheen/Downloads/projects/practice_code/dsa/arrays.ipynb#X26sZmlsZQ%3D%3D?line=11'>12</a>\u001b[0m transpose([[\u001b[39m1\u001b[39;49m,\u001b[39m2\u001b[39;49m,\u001b[39m3\u001b[39;49m],[\u001b[39m4\u001b[39;49m,\u001b[39m5\u001b[39;49m,\u001b[39m6\u001b[39;49m]])\n",
      "\u001b[1;32m/Users/atufasheen/Downloads/projects/practice_code/dsa/arrays.ipynb Cell 21\u001b[0m line \u001b[0;36m8\n\u001b[1;32m      <a href='vscode-notebook-cell:/Users/atufasheen/Downloads/projects/practice_code/dsa/arrays.ipynb#X26sZmlsZQ%3D%3D?line=5'>6</a>\u001b[0m \u001b[39mfor\u001b[39;00m j \u001b[39min\u001b[39;00m \u001b[39mrange\u001b[39m(n):\n\u001b[1;32m      <a href='vscode-notebook-cell:/Users/atufasheen/Downloads/projects/practice_code/dsa/arrays.ipynb#X26sZmlsZQ%3D%3D?line=6'>7</a>\u001b[0m     \u001b[39mprint\u001b[39m(i,j)\n\u001b[0;32m----> <a href='vscode-notebook-cell:/Users/atufasheen/Downloads/projects/practice_code/dsa/arrays.ipynb#X26sZmlsZQ%3D%3D?line=7'>8</a>\u001b[0m     \u001b[39mprint\u001b[39m(matrix[j][i])\n\u001b[1;32m      <a href='vscode-notebook-cell:/Users/atufasheen/Downloads/projects/practice_code/dsa/arrays.ipynb#X26sZmlsZQ%3D%3D?line=8'>9</a>\u001b[0m     \u001b[39mprint\u001b[39m(arr[i][j])\n\u001b[1;32m     <a href='vscode-notebook-cell:/Users/atufasheen/Downloads/projects/practice_code/dsa/arrays.ipynb#X26sZmlsZQ%3D%3D?line=9'>10</a>\u001b[0m     arr[i][j] \u001b[39m=\u001b[39m matrix[j][i]\n",
      "\u001b[0;31mIndexError\u001b[0m: list index out of range"
     ]
    }
   ],
   "source": [
    "def transpose(matrix: List[List[int]]) -> List[List[int]]:\n",
    "    m = len(matrix)\n",
    "    n = len(matrix[0])\n",
    "    arr = [[0]*n for _ in range(m)]\n",
    "    for i in range(m):\n",
    "        for j in range(n):\n",
    "            print(i,j)\n",
    "            print(matrix[j][i])\n",
    "            print(arr[i][j])\n",
    "            arr[i][j] = matrix[j][i]\n",
    "    return arr\n",
    "transpose([[1,2,3],[4,5,6]])"
   ]
  },
  {
   "cell_type": "code",
   "execution_count": 30,
   "metadata": {},
   "outputs": [
    {
     "data": {
      "text/plain": [
       "[[1, 4, 7], [2, 5, 8], [3, 6, 9]]"
      ]
     },
     "execution_count": 30,
     "metadata": {},
     "output_type": "execute_result"
    }
   ],
   "source": [
    "def transpose(matrix: List[List[int]]) -> List[List[int]]:\n",
    "    m = len(matrix)\n",
    "    n = len(matrix[0])\n",
    "    arr = [[0]*n for _ in range(m)]\n",
    "    for i in range(m):\n",
    "        for j in range(n):\n",
    "            arr[i][j] = matrix[j][i]\n",
    "    return arr\n",
    "transpose([[1,2,3],[4,5,6],[7,8,9]])"
   ]
  },
  {
   "cell_type": "code",
   "execution_count": 26,
   "metadata": {},
   "outputs": [
    {
     "name": "stdout",
     "output_type": "stream",
     "text": [
      "0 1\n"
     ]
    },
    {
     "data": {
      "text/plain": [
       "[[1, 4, 3], [2, 5, 6], [7, 8, 9]]"
      ]
     },
     "execution_count": 26,
     "metadata": {},
     "output_type": "execute_result"
    }
   ],
   "source": [
    "def transpose(matrix: List[List[int]]) -> List[List[int]]:\n",
    "    m = len(matrix)\n",
    "    n = len(matrix[0])\n",
    "    for i in range(0,m-2):\n",
    "        for j in range(i+1, n-1):\n",
    "            print(i,j)\n",
    "            # print(matrix[i][j], matrix[j][i])\n",
    "            temp = matrix[i][j]\n",
    "            matrix[i][j] = matrix[j][i]\n",
    "            matrix[j][i] = temp\n",
    "    return matrix\n",
    "transpose([[1,2,3],[4,5,6],[7,8,9]])"
   ]
  },
  {
   "cell_type": "code",
   "execution_count": 62,
   "metadata": {},
   "outputs": [
    {
     "data": {
      "text/plain": [
       "[1, 9, 9, 0, 8, 5, 3, 5, 5]"
      ]
     },
     "execution_count": 62,
     "metadata": {},
     "output_type": "execute_result"
    }
   ],
   "source": [
    "def addToArrayForm(num: List[int], k: int) -> List[int]:\n",
    "    n = len(num)\n",
    "     # reverse a list\n",
    "    # s = 0\n",
    "    # e = n -1\n",
    "    # while s<=e:\n",
    "    #     a = num[e]\n",
    "    #     num[e] = num[s]\n",
    "    #     num[s] = a\n",
    "    #     s+=1\n",
    "    #     e-=1\n",
    "    num.reverse()\n",
    "    i = 0\n",
    "    while k:\n",
    "        digit = k%10\n",
    "        if i < len(num):\n",
    "            num[i]+=digit\n",
    "        else:\n",
    "            num.append(digit)\n",
    "        # to check the number that was added\n",
    "        num[i] = num[i] %10\n",
    "        carry  = num[i] //10\n",
    "        k//=10\n",
    "        k+= carry\n",
    "        i+=1\n",
    "    num.reverse()\n",
    "    return num\n",
    "\n",
    "addToArrayForm([1,2,9,7,9,3],199966662)"
   ]
  },
  {
   "cell_type": "code",
   "execution_count": 59,
   "metadata": {},
   "outputs": [
    {
     "data": {
      "text/plain": [
       "200096455"
      ]
     },
     "execution_count": 59,
     "metadata": {},
     "output_type": "execute_result"
    }
   ],
   "source": [
    "def maximumPopulation(self, logs: List[List[int]]) -> int:\n",
    "    min_year = 2051 # else: float('inf')\n",
    "    max_year = 1951 # else: float('-inf')\n",
    "    max_pop = 0\n",
    "    max_pop_year = None\n",
    "    # start with min birth year and max death year.\n",
    "    for birth, death in logs:\n",
    "        min_year = min(min_year, birth) # else: float('inf')\n",
    "        max_year = max(death, max_year) # else: float('-inf')\n",
    "    \n",
    "    for year in range(min_year, max_year+1):\n",
    "        pop = 0\n",
    "        for birth, death in logs:\n",
    "            if birth <= year <= death-1:\n",
    "                pop+=1\n",
    "        if pop >max_pop:\n",
    "            max_pop = pop\n",
    "            max_pop_year  = year\n",
    "    return max_pop_year"
   ]
  },
  {
   "cell_type": "code",
   "execution_count": 77,
   "metadata": {},
   "outputs": [
    {
     "data": {
      "text/plain": [
       "1993"
      ]
     },
     "execution_count": 77,
     "metadata": {},
     "output_type": "execute_result"
    }
   ],
   "source": [
    "def maximumPopulation(logs: List[List[int]]) -> int:\n",
    "    arr = [0]*(2050-1950) # 0(1) space\n",
    "    for i in range(len(logs)): # o(m*n)\n",
    "        for j in range(logs[i][0],logs[i][1]):\n",
    "            arr[j-1950] +=1\n",
    "    # return arr\n",
    "    max_year = 1950\n",
    "    max_val = 0\n",
    "    for i in range(2050-1950):\n",
    "        if arr[i] > max_val:\n",
    "            max_val = arr[i]\n",
    "            max_year = i+1950\n",
    "    return max_year\n",
    "\n",
    "maximumPopulation([[1993,1999],[2000,2010]])"
   ]
  },
  {
   "cell_type": "code",
   "execution_count": 80,
   "metadata": {},
   "outputs": [
    {
     "data": {
      "text/plain": [
       "1993"
      ]
     },
     "execution_count": 80,
     "metadata": {},
     "output_type": "execute_result"
    }
   ],
   "source": [
    "def maximumPopulation(logs: List[List[int]]) -> int:\n",
    "    arr = [0]*(2050-1950 + 1) # 0(1) space\n",
    "    for i in range(len(logs)): # o(m*n)\n",
    "        # running sum\n",
    "        arr[logs[i][0] - 1950] +=1\n",
    "        arr[logs[i][1] - 1950] -=1\n",
    "    for i in range(1,2050-1950):\n",
    "        arr[i] +=arr[i-1]\n",
    "    # return arr\n",
    "    max_year = 1950\n",
    "    max_val = 0\n",
    "    for i in range(2050-1950):\n",
    "        if arr[i] > max_val:\n",
    "            max_val = arr[i]\n",
    "            max_year = i+1950\n",
    "    return max_year\n",
    "\n",
    "maximumPopulation([[1993,1999],[2000,2010]])"
   ]
  },
  {
   "cell_type": "code",
   "execution_count": 92,
   "metadata": {},
   "outputs": [
    {
     "name": "stdout",
     "output_type": "stream",
     "text": [
      "[[1, 1, 0], [0, 0, 0], [0, 1, 1]]\n",
      "---\n",
      "[[1, 0, 0], [1, 0, 1], [0, 0, 1]]\n",
      "---\n",
      "[[1, 1, 0], [0, 0, 0], [0, 1, 1]]\n",
      "---\n",
      "[[1, 0, 0], [1, 0, 1], [0, 0, 1]]\n",
      "---\n"
     ]
    },
    {
     "data": {
      "text/plain": [
       "False"
      ]
     },
     "execution_count": 92,
     "metadata": {},
     "output_type": "execute_result"
    }
   ],
   "source": [
    "def rotate_matrix(matrix:List[List[int]]) -> List[List[int]]: # rotate by 90\n",
    "    m ,n = len(matrix), len(matrix)\n",
    "    for i in range(m):\n",
    "        for j in range(i+1,n):\n",
    "            # temp = matrix[i][n-j-1]\n",
    "            # matrix[i][n-j-1] = matrix[j][i]\n",
    "            # matrix[j][i] = temp\n",
    "            matrix[i][j], matrix[j][i] = matrix[j][i], matrix[i][j]\n",
    "    return matrix\n",
    "\n",
    "def check_equality(matrix: List[List[int]], target: List[List[int]] ) -> bool:\n",
    "    m = len(matrix)\n",
    "    n = len(matrix[0])\n",
    "    for i in range(m):\n",
    "        for j in range(n):\n",
    "            if matrix[i][j]!=target[i][j]:\n",
    "                return False\n",
    "    return True\n",
    "\n",
    "def findRotation(mat: List[List[int]], target: List[List[int]]) -> bool:\n",
    "    for _ in range(4):\n",
    "        if check_equality(mat,target):\n",
    "            return True\n",
    "        else:\n",
    "            mat = rotate_matrix(mat)\n",
    "            print(mat)\n",
    "            print('---')\n",
    "    return False\n",
    "findRotation([[1,0,0],[1,0,1],[0,0,1]], [[0,1,1],[0,0,0],[1,1,0]])"
   ]
  },
  {
   "cell_type": "code",
   "execution_count": 109,
   "metadata": {},
   "outputs": [
    {
     "data": {
      "text/plain": [
       "[0]"
      ]
     },
     "execution_count": 109,
     "metadata": {},
     "output_type": "execute_result"
    }
   ],
   "source": [
    "def sumZero(n: int) -> List[int]:\n",
    "    # consider as an arithmentic series\n",
    "    # sn = ( a[0] + a[n] ) * n/2\n",
    "    # a[0] + a[n-1] = 0\n",
    "    arr = [0]*n\n",
    "    for i in range(0,n-1,2):\n",
    "        arr[i] = i+1\n",
    "        arr[i+1] = -(i+1)\n",
    "        print(1-(n-i))\n",
    "    return arr\n",
    "sumZero(1)"
   ]
  },
  {
   "cell_type": "code",
   "execution_count": 111,
   "metadata": {},
   "outputs": [
    {
     "data": {
      "text/plain": [
       "[]"
      ]
     },
     "execution_count": 111,
     "metadata": {},
     "output_type": "execute_result"
    }
   ],
   "source": [
    "arr = [[1,2],[3,4]]\n",
    "arr[:0]"
   ]
  },
  {
   "cell_type": "code",
   "execution_count": 117,
   "metadata": {},
   "outputs": [
    {
     "name": "stdout",
     "output_type": "stream",
     "text": [
      "[3, 7, 8]\n",
      "[3, 9, 15]\n",
      "--\n",
      "[9, 11, 13]\n",
      "[7, 11, 16]\n",
      "--\n",
      "[15, 16, 17]\n",
      "[8, 13, 17]\n",
      "--\n"
     ]
    },
    {
     "data": {
      "text/plain": [
       "[]"
      ]
     },
     "execution_count": 117,
     "metadata": {},
     "output_type": "execute_result"
    }
   ],
   "source": [
    "def luckyNumbers (matrix: List[List[int]]) -> List[int]:\n",
    "    m = len(matrix)\n",
    "    n = len(matrix[0])\n",
    "    rng = min(m,n)\n",
    "    arr = []\n",
    "    for i in range(rng):\n",
    "        row = matrix[i]\n",
    "        col = [r[i] for r in matrix]\n",
    "        print(row)\n",
    "        print(col)\n",
    "        print('--')\n",
    "        if min(row) == max(col):\n",
    "            arr.append(min(row))\n",
    "    return arr\n",
    "luckyNumbers([[3,7,8],[9,11,13],[15,16,17]])"
   ]
  },
  {
   "cell_type": "code",
   "execution_count": 119,
   "metadata": {},
   "outputs": [
    {
     "data": {
      "text/plain": [
       "[15]"
      ]
     },
     "execution_count": 119,
     "metadata": {},
     "output_type": "execute_result"
    }
   ],
   "source": [
    "def luckyNumbers (matrix: List[List[int]]) -> List[int]:\n",
    "    minrows = []\n",
    "    luck = []\n",
    "    for i in matrix:\n",
    "        minrows.append(min(i))\n",
    "    for col in range(len(matrix[0])):\n",
    "        # col = [r[i] for r in matrix] taking space\n",
    "        max_col = float('-inf')\n",
    "        for row in matrix:\n",
    "            max_col = max(max_col, row[col])\n",
    "        if max_col in minrows:\n",
    "            luck.append(max_col)\n",
    "    return luck\n",
    "        \n",
    "\n",
    "\n",
    "luckyNumbers([[3,7,8],[9,11,13],[15,16,17]])"
   ]
  },
  {
   "cell_type": "code",
   "execution_count": null,
   "metadata": {},
   "outputs": [],
   "source": [
    "def luckyNumbers (matrix: List[List[int]]) -> List[int]:\n",
    "    '''with space: \n",
    "    add mins and maxs to sets\n",
    "    and return their intersection\n",
    "    edit below'''\n",
    "    minrows = []\n",
    "    luck = []\n",
    "    for i in matrix:\n",
    "        minrows.append(min(i))\n",
    "    for col in range(len(matrix[0])):\n",
    "        # col = [r[i] for r in matrix] taking space\n",
    "        max_col = float('-inf')\n",
    "        for row in matrix:\n",
    "            max_col = max(max_col, row[col])\n",
    "        if max_col in minrows:\n",
    "            luck.append(max_col)\n",
    "    return luck\n",
    "        \n",
    "\n",
    "\n",
    "luckyNumbers([[3,7,8],[9,11,13],[15,16,17]])"
   ]
  },
  {
   "cell_type": "code",
   "execution_count": 17,
   "metadata": {},
   "outputs": [
    {
     "data": {
      "text/plain": [
       "[[1, 2], [3, 4]]"
      ]
     },
     "execution_count": 17,
     "metadata": {},
     "output_type": "execute_result"
    }
   ],
   "source": [
    "def matrixReshape(mat: List[List[int]], r: int, c: int) -> List[List[int]]:\n",
    "    m = len(mat)\n",
    "    n = len(mat[0])\n",
    "    arr = [[0]*c for _ in range(r)]\n",
    "    if m*n != r*c:\n",
    "        return mat\n",
    "    if (r==m) &(c==n):\n",
    "        return mat\n",
    "    row = 0\n",
    "    col = 0\n",
    "    for i in range(m):\n",
    "        for j in range(n):\n",
    "            arr[row][col] = mat[i][j]\n",
    "            col+=1\n",
    "            if col == c:\n",
    "                col = 0\n",
    "                row+=1\n",
    "\n",
    "                    \n",
    "                \n",
    "    return arr\n",
    "\n",
    "matrixReshape([[1,2],[3,4]], 2, 4)"
   ]
  },
  {
   "cell_type": "code",
   "execution_count": null,
   "metadata": {},
   "outputs": [],
   "source": [
    "def matrixReshape(mat: List[List[int]], r: int, c: int) -> List[List[int]]:\n",
    "    m = len(mat)\n",
    "    n = len(mat[0])\n",
    "    arr = [[0]*c for _ in range(r)]\n",
    "    if m*n != r*c:\n",
    "        return mat\n",
    "    if (r==m) &(c==n):\n",
    "        return mat\n",
    "    row = 0\n",
    "    col = 0\n",
    "    for i in range(m):\n",
    "        for j in range(n):\n",
    "            arr[row][col] = mat[i][j]\n",
    "            col+=1\n",
    "            if col == c:\n",
    "                col = 0\n",
    "                row+=1\n",
    "\n",
    "                    \n",
    "                \n",
    "    return arr\n",
    "\n",
    "matrixReshape([[1,2],[3,4]], 2, 4)"
   ]
  },
  {
   "cell_type": "code",
   "execution_count": 29,
   "metadata": {},
   "outputs": [
    {
     "data": {
      "text/plain": [
       "[4, 3, 2, 2]"
      ]
     },
     "execution_count": 29,
     "metadata": {},
     "output_type": "execute_result"
    }
   ],
   "source": [
    "def plusOne(digits: List[int]) -> List[int]:\n",
    "    digits.reverse()\n",
    "    i = 0\n",
    "    toadd = 1\n",
    "    while toadd:\n",
    "        if i >= len(digits):\n",
    "            digits.append(toadd)\n",
    "        else:\n",
    "            digits[i] +=toadd\n",
    "        carry = digits[i] // 10\n",
    "        digits[i] = digits[i] %10\n",
    "        toadd-=1\n",
    "        toadd+=carry\n",
    "        i+=1\n",
    "    digits.reverse()\n",
    "    return digits\n",
    "\n",
    "plusOne([4,3,2,1])"
   ]
  }
 ],
 "metadata": {
  "kernelspec": {
   "display_name": "meiro_venv",
   "language": "python",
   "name": "python3"
  },
  "language_info": {
   "codemirror_mode": {
    "name": "ipython",
    "version": 3
   },
   "file_extension": ".py",
   "mimetype": "text/x-python",
   "name": "python",
   "nbconvert_exporter": "python",
   "pygments_lexer": "ipython3",
   "version": "3.8.17"
  },
  "orig_nbformat": 4
 },
 "nbformat": 4,
 "nbformat_minor": 2
}
