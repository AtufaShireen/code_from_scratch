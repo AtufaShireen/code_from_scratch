{
 "cells": [
  {
   "cell_type": "code",
   "execution_count": 10,
   "metadata": {},
   "outputs": [
    {
     "data": {
      "text/plain": [
       "[-32, 1, 2]"
      ]
     },
     "execution_count": 10,
     "metadata": {},
     "output_type": "execute_result"
    }
   ],
   "source": [
    "def get_max(nums, s, l):\n",
    "    val = nums[s]\n",
    "    index = 0\n",
    "    for i in range(1, l):\n",
    "        if nums[i] > val:\n",
    "            val = nums[i]\n",
    "            index = i\n",
    "    return index\n",
    "def selection_sort(nums):\n",
    "    n = len(nums)\n",
    "    for i in range(n-1):\n",
    "        last = n-i-1\n",
    "        max_elem = get_max(nums,0,last)\n",
    "        if nums[max_elem] > nums[n-i-1]:\n",
    "            nums[max_elem], nums[n-i-1] = nums[n-i-1], nums[max_elem]\n",
    "    return nums\n",
    "selection_sort([2,-32,1])"
   ]
  }
 ],
 "metadata": {
  "kernelspec": {
   "display_name": "prac_env",
   "language": "python",
   "name": "python3"
  },
  "language_info": {
   "codemirror_mode": {
    "name": "ipython",
    "version": 3
   },
   "file_extension": ".py",
   "mimetype": "text/x-python",
   "name": "python",
   "nbconvert_exporter": "python",
   "pygments_lexer": "ipython3",
   "version": "3.8.17"
  }
 },
 "nbformat": 4,
 "nbformat_minor": 2
}
