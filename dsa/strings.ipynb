{
 "cells": [
  {
   "cell_type": "markdown",
   "metadata": {},
   "source": [
    "1. Rabin Karp\n",
    "2. knuth-morris-pratt\n"
   ]
  },
  {
   "cell_type": "markdown",
   "metadata": {},
   "source": [
    "1. frequency of strings"
   ]
  },
  {
   "cell_type": "markdown",
   "metadata": {},
   "source": [
    "substrings\n",
    "1. beauty of substring\n",
    "2. palindromic substring"
   ]
  },
  {
   "cell_type": "code",
   "execution_count": null,
   "metadata": {},
   "outputs": [],
   "source": [
    "def frequencySort( s: str) -> str:\n",
    "    return 'yes'\n",
    "    # hash_s = {}\n",
    "    # n = len(s)\n",
    "    # max_count = 0\n",
    "    # for i in range(n): # o(n)\n",
    "    #     if s[i] in hash_s:\n",
    "    #         hash_s[i]+=1 # o(1) in avg case\n",
    "    #         max_count = max(max_count, hash_s[i])\n",
    "    #     else:\n",
    "    #         hash_s[i] =1 # o(1) in avg case\n",
    "    # ans = ''\n",
    "    # hash_s =  sorted(hash_s,key=lambda x:hash_s[x])\n",
    "    # print(hash_s)\n",
    "    # for i in hash_s:\n",
    "    #     ans+=i\n",
    "    # return ans\n",
    "frequencySort('tree')\n",
    "    \n"
   ]
  },
  {
   "cell_type": "code",
   "execution_count": 71,
   "metadata": {},
   "outputs": [
    {
     "data": {
      "text/plain": [
       "'ap'"
      ]
     },
     "execution_count": 71,
     "metadata": {},
     "output_type": "execute_result"
    }
   ],
   "source": [
    "def common_prefix(strings):\n",
    "    n = len(strings)\n",
    "    prefix = strings[0]\n",
    "    for i in range(1,n):\n",
    "        # prefix = prefix[:len(strings[i])]\n",
    "        s_l = len(strings[i])\n",
    "        if s_l<len(prefix):\n",
    "            prefix = prefix[:s_l]\n",
    "        for j in range(len(strings[i])):\n",
    "            if (j< len(prefix)) and (strings[i][j]!=prefix[j]):\n",
    "                prefix = prefix[:j]\n",
    "            if prefix=='':\n",
    "                return -1\n",
    "    return prefix\n",
    "# common_prefix(['Codingninjas','Coding','Coders','Codezen'])\n",
    "# common_prefix(['abcd','Abcd','abc'])\n",
    "# common_prefix(['abcd','abc','abref','abcde'])\n",
    "common_prefix(['apba','ap'])\n",
    "# common_prefix(['abcd','abc'])"
   ]
  },
  {
   "cell_type": "code",
   "execution_count": 95,
   "metadata": {},
   "outputs": [
    {
     "name": "stdout",
     "output_type": "stream",
     "text": [
      "hashs {0: 1, 1: 1, 2: 1, 3: 1, 4: 1}\n"
     ]
    },
    {
     "data": {
      "text/plain": [
       "False"
      ]
     },
     "execution_count": 95,
     "metadata": {},
     "output_type": "execute_result"
    }
   ],
   "source": [
    "def iso(s,t):\n",
    "    hash_s = {0:1}\n",
    "    c =s[0]\n",
    "    idx = 0\n",
    "    if len(s)!=len(t):\n",
    "        print('yes')\n",
    "        return False\n",
    "    for i in range(1,len(s)):\n",
    "        if s[i]==c:\n",
    "            hash_s[idx] +=1\n",
    "        else:\n",
    "            c = s[i]\n",
    "            idx = i\n",
    "            hash_s[idx] = 1\n",
    "    print(\"hashs\",hash_s)\n",
    "    c = t[0]\n",
    "    idx = 0\n",
    "    for k,v in hash_s.items():\n",
    "        if t[k:v] !=t[k]:\n",
    "            return False\n",
    "    \n",
    "    return True\n",
    "# iso(\"bbbaaaba\",'aaabbbba')\n",
    "iso(\"paper\",'title')\n",
    "# iso(\"egg\",'add')"
   ]
  },
  {
   "cell_type": "code",
   "execution_count": 77,
   "metadata": {},
   "outputs": [
    {
     "data": {
      "text/plain": [
       "['ABc', 'Abc', 'abcd']"
      ]
     },
     "execution_count": 77,
     "metadata": {},
     "output_type": "execute_result"
    }
   ],
   "source": [
    "sorted(['abcd','ABc','Abc'])"
   ]
  },
  {
   "cell_type": "code",
   "execution_count": 53,
   "metadata": {},
   "outputs": [
    {
     "data": {
      "text/plain": [
       "'35'"
      ]
     },
     "execution_count": 53,
     "metadata": {},
     "output_type": "execute_result"
    }
   ],
   "source": [
    "nums = \"3542\"\n",
    "n = len(nums)\n",
    "p = n-1\n",
    "while (p>=0):\n",
    "    if int(nums[p])%2==0:\n",
    "        p-=1\n",
    "    else:\n",
    "        break\n",
    "nums[:p+1]"
   ]
  },
  {
   "cell_type": "code",
   "execution_count": null,
   "metadata": {},
   "outputs": [],
   "source": []
  },
  {
   "cell_type": "code",
   "execution_count": 1,
   "metadata": {},
   "outputs": [
    {
     "name": "stdout",
     "output_type": "stream",
     "text": [
      "b\n",
      "c\n",
      "d\n"
     ]
    }
   ],
   "source": [
    "s = 'abaacda'\n",
    "def skip_a(string):\n",
    "    for i in string:\n",
    "        if i!='a':\n",
    "            print(i)\n",
    "skip_a(s)\n",
    "def skip_a(string, idx, n, ans):\n",
    "    if idx == n:\n",
    "        return ans\n",
    "    elif string[idx]=='a':\n",
    "        return skip_a(string, idx+1, n, ans)\n",
    "    else:\n",
    "        ans +=string[idx]\n",
    "        return skip_a(string, idx+1, n, ans)\n",
    "s = 'abaacda'\n",
    "ans = ''\n",
    "skip_a(s,0,len(s),ans)\n",
    "def skip_a(processed_string, unprocessed_string):\n",
    "    if unprocessed_string == '':\n",
    "        return processed_string\n",
    "    elif unprocessed_string[0] == 'a':\n",
    "        return skip_a(processed_string, unprocessed_string[1:])\n",
    "    else:\n",
    "        return skip_a(processed_string+ unprocessed_string[0], unprocessed_string[1:])\n",
    "skip_a(ans,s)\n",
    "def skip_a(string):\n",
    "    if string == '':\n",
    "        return ''\n",
    "    char = string[0]\n",
    "    if char == 'a':\n",
    "        return  skip_a(string[1:])\n",
    "    else:\n",
    "        return char + skip_a(string[1:])\n",
    "s = 'abaacda'\n",
    "print(skip_a(s))\n",
    "\n"
   ]
  },
  {
   "cell_type": "code",
   "execution_count": 33,
   "metadata": {},
   "outputs": [
    {
     "name": "stdout",
     "output_type": "stream",
     "text": [
      "bdfg\n"
     ]
    }
   ],
   "source": [
    "def skip_apple(string):\n",
    "    if string =='':\n",
    "        return ''\n",
    "    char = string[0]\n",
    "    if (len(string) >=5):\n",
    "        if string[0:5] == 'apple':\n",
    "            return skip_apple(string[5:])\n",
    "    return char + skip_apple(string[1:])\n",
    "s = 'bdapplefg'\n",
    "print(skip_apple(s))\n",
    "def skip_apple(string):\n",
    "    if string =='':\n",
    "        return ''\n",
    "    if string.startswith('apple'):\n",
    "            return skip_apple(string[5:])\n",
    "    return string[0] + skip_apple(string[1:])\n",
    "s = 'bdapplefg'\n",
    "print(skip_apple(s))"
   ]
  },
  {
   "cell_type": "code",
   "execution_count": 46,
   "metadata": {},
   "outputs": [
    {
     "name": "stdout",
     "output_type": "stream",
     "text": [
      "bderlefg\n"
     ]
    }
   ],
   "source": [
    "def skip_app_not_apple(string):\n",
    "    if string =='':\n",
    "        return ''\n",
    "    if (string.startswith('app') and (not string.startswith('apple'))):\n",
    "            return skip_app_not_apple(string[3:])\n",
    "    return string[0] + skip_app_not_apple(string[1:])\n",
    "s = 'bdapperlefg'\n",
    "print(skip_app_not_apple(s))"
   ]
  },
  {
   "cell_type": "code",
   "execution_count": 5,
   "metadata": {},
   "outputs": [
    {
     "name": "stdout",
     "output_type": "stream",
     "text": [
      "['', 'c', 'b', 'bc', 'a', 'ac', 'ab', 'abc']\n"
     ]
    }
   ],
   "source": [
    "def subseq(pstring, upstring):\n",
    "    if upstring=='':\n",
    "        return [pstring]\n",
    "    ch = upstring[0]\n",
    "    with_ch = subseq(pstring + ch, upstring[1:])\n",
    "    without_ch = subseq(pstring, upstring[1:])\n",
    "    return without_ch  + with_ch\n",
    "p = ''\n",
    "up = 'abc'\n",
    "print(subseq(p, up))\n",
    "def subseq(pstring, upstring):\n",
    "    if upstring=='':\n",
    "        return [pstring]\n",
    "    ch = upstring[0]\n",
    "    with_ch = subseq(pstring + ch, upstring[1:])\n",
    "    without_ch = subseq(pstring, upstring[1:])\n",
    "    with_ascii = subseq(pstring+str(ord(ch)), upstring[1:])\n",
    "    return without_ch  + with_ch+with_ascii\n",
    "p = ''\n",
    "up = 'abc'\n",
    "print(subseq(p, up))"
   ]
  },
  {
   "cell_type": "code",
   "execution_count": 16,
   "metadata": {},
   "outputs": [],
   "source": [
    "import copy"
   ]
  },
  {
   "cell_type": "code",
   "execution_count": 41,
   "metadata": {},
   "outputs": [
    {
     "name": "stdout",
     "output_type": "stream",
     "text": [
      "cba\n",
      "bca\n",
      "bac\n",
      "cab\n",
      "acb\n",
      "abc\n"
     ]
    }
   ],
   "source": [
    "def permmutation(upstring, pstring): # its just n!  \n",
    "    # print('befr rec',upstring)\n",
    "    if upstring=='':\n",
    "        print(pstring)\n",
    "        return\n",
    "    char = upstring[0]\n",
    "    for i in range(len(pstring)+1):\n",
    "        f = copy.deepcopy(pstring[0:i])\n",
    "        s = copy.deepcopy(pstring[i:])\n",
    "        permmutation(upstring[1:],f+char+s)\n",
    "permmutation('abc','')\n",
    "def permmutationlist(upstring, pstring):\n",
    "    # print('befr rec',upstring)\n",
    "    if upstring=='':\n",
    "        return [pstring]\n",
    "    ans = []\n",
    "    char = upstring[0]\n",
    "    for i in range(len(pstring)+1):\n",
    "        f = copy.deepcopy(pstring[0:i])\n",
    "        s = copy.deepcopy(pstring[i:])\n",
    "        ans.extend(permmutationlist(upstring[1:],f+char+s))\n",
    "    return ans\n",
    "permmutationlist('abc','')\n",
    "\n",
    "def permmutationcount(upstring, pstring):\n",
    "    if upstring =='':\n",
    "        return 1\n",
    "    count = 0\n",
    "    char = upstring[0]\n",
    "    for i in range(len(pstring)+1):\n",
    "        f = copy.deepcopy(pstring[0:i])\n",
    "        s = copy.deepcopy(pstring[i:])\n",
    "        count = count + permmutationcount(upstring[1:], f + char+s)\n",
    "    return count\n",
    "permmutationcount('abc','')\n"
   ]
  },
  {
   "cell_type": "code",
   "execution_count": 68,
   "metadata": {},
   "outputs": [
    {
     "data": {
      "text/plain": [
       "['ad', 'ae', 'af', 'bd', 'be', 'bf', 'cd', 'ce', 'cf']"
      ]
     },
     "execution_count": 68,
     "metadata": {},
     "output_type": "execute_result"
    }
   ],
   "source": [
    "def phone_letter(pstring, upstring):\n",
    "    if upstring=='':\n",
    "        return [pstring]\n",
    "    ans = []\n",
    "    char = int(upstring[0])\n",
    "    for i in range((char-1)*3, char*3):\n",
    "        if i>25:    \n",
    "            return\n",
    "        letter  = chr(97+i) \n",
    "        ans.extend(phone_letter(pstring + letter, upstring[1:]))\n",
    "    return ans\n",
    "phone_letter('', '12')"
   ]
  },
  {
   "cell_type": "code",
   "execution_count": 45,
   "metadata": {},
   "outputs": [
    {
     "data": {
      "text/plain": [
       "'b'"
      ]
     },
     "execution_count": 45,
     "metadata": {},
     "output_type": "execute_result"
    }
   ],
   "source": [
    "chr(ord('a')+1)"
   ]
  },
  {
   "cell_type": "code",
   "execution_count": 10,
   "metadata": {},
   "outputs": [
    {
     "name": "stdout",
     "output_type": "stream",
     "text": [
      "lists here [] x\n",
      "lists here ['x'] y\n",
      "lists here ['x', 'y'] w\n",
      "lists here ['x', 'y', 'w'] r\n",
      "lists here ['x', 'y', 'w', 'r'] r\n",
      "lists here ['x', 'y', 'w', 'r', 'r'] m\n",
      "lists here ['x', 'y', 'w', 'r', 'r', 'm'] p\n",
      "lists here end ['x', 'y', 'w', 'r', 'r', 'm', 'p'] ['x', 'y', 'w', 'r', 'r', 'p']\n"
     ]
    },
    {
     "data": {
      "text/plain": [
       "False"
      ]
     },
     "execution_count": 10,
     "metadata": {},
     "output_type": "execute_result"
    }
   ],
   "source": [
    "def backspaceCompare( s: str, t: str) -> bool:\n",
    "    sp = []\n",
    "    tp = []\n",
    "    for i in range(len(s)):\n",
    "        print(\"lists here\",sp, s[i])\n",
    "        if s[i] == '#':\n",
    "            if len(sp) >= 1:\n",
    "                sp.pop()\n",
    "        else:\n",
    "            sp.append(s[i])\n",
    "\n",
    "    for i in range(len(t)):\n",
    "        if t[i] == '#':\n",
    "            if len(tp) > 1:\n",
    "                tp.pop()\n",
    "        else:\n",
    "            tp.append(t[i])\n",
    "    print(\"lists here end\",sp, tp)\n",
    "    if len(sp)==len(tp):\n",
    "        for i in range(len(sp)):\n",
    "            if sp[i] != tp[i]:\n",
    "                return False\n",
    "    else:\n",
    "        return False\n",
    "    \n",
    "    return True\n",
    "\n",
    "s = \"xywrrmp\"\n",
    "t = \"xywrrm#p\"\n",
    "backspaceCompare(s,t)"
   ]
  },
  {
   "cell_type": "code",
   "execution_count": 40,
   "metadata": {},
   "outputs": [
    {
     "name": "stdout",
     "output_type": "stream",
     "text": [
      "wtb wtoxb\n"
     ]
    },
    {
     "data": {
      "text/plain": [
       "False"
      ]
     },
     "execution_count": 40,
     "metadata": {},
     "output_type": "execute_result"
    }
   ],
   "source": [
    "def backspaceCompare( s: str, t: str) -> bool:\n",
    "    sp = ''\n",
    "    tp = ''\n",
    "    skip_s = 0\n",
    "    n = len(s)\n",
    "    i = n-1\n",
    "    while (i>=0): # taking the last elem\n",
    "        if s[i]=='#':\n",
    "            skip_s+=1\n",
    "            i-=1\n",
    "            continue\n",
    "        else:\n",
    "            i =  i-skip_s\n",
    "            if s[i]=='#':\n",
    "                i-=1\n",
    "                continue\n",
    "            sp = sp + s[i]\n",
    "            i-=1\n",
    "            skip_s = 0\n",
    "        # c_iters +=1\n",
    "    skip_s = 0\n",
    "    n = len(t)\n",
    "    i = n-1\n",
    "    while (i>=0): # taking the last elem\n",
    "        # print(t[i])\n",
    "        if t[i]=='#':\n",
    "            skip_s+=1\n",
    "            i-=1\n",
    "            continue\n",
    "        \n",
    "        else:\n",
    "            i =  i-skip_s\n",
    "            if t[i]=='#':\n",
    "                i-=1\n",
    "                continue\n",
    "            tp = tp + t[i]\n",
    "            i-=1\n",
    "            skip_s = 0\n",
    "    print(sp,tp)\n",
    "    return tp==sp\n",
    "\n",
    "s = \"bxj##tw\"\n",
    "t = \"bxo#j##tw\"\n",
    "# s = \"xywrrmp\"\n",
    "# t = \"xywrrm#p\"\n",
    "# s = 'ab##'\n",
    "# t = 'c#d#'\n",
    "# s = \"a##c\"\n",
    "# t = \"#a#c\"\n",
    "backspaceCompare(s,t)"
   ]
  },
  {
   "cell_type": "code",
   "execution_count": 5,
   "metadata": {},
   "outputs": [
    {
     "name": "stdout",
     "output_type": "stream",
     "text": [
      "()()\n"
     ]
    }
   ],
   "source": [
    "def maxDepth(s: str) -> int:\n",
    "    c = 0\n",
    "    mans = 0\n",
    "    for i in range(len(s)):\n",
    "        if s[i]=='(':\n",
    "            c+=1\n",
    "        else:\n",
    "            c-=1\n",
    "        mans = max(mans, c)\n",
    "\n",
    "    return mans\n",
    "maxDepth(\"(1+(2*3)+((8)/4))+1\")"
   ]
  },
  {
   "cell_type": "code",
   "execution_count": 11,
   "metadata": {},
   "outputs": [
    {
     "data": {
      "text/plain": [
       "4193"
      ]
     },
     "execution_count": 11,
     "metadata": {},
     "output_type": "execute_result"
    }
   ],
   "source": [
    "def myAtoi(s: str) -> int:\n",
    "    s = s.strip()\n",
    "    num_list = ['0','1','2','3','4','5','6','7','8','9']\n",
    "    num = 0\n",
    "    sign = 0\n",
    "    for i in s:\n",
    "        if i=='-':\n",
    "            sign=1\n",
    "        if i in num_list:\n",
    "            num=num*10+int(i)\n",
    "    if sign==1:\n",
    "        num=-num\n",
    "    return num\n",
    "# myAtoi('  -23098 8 0')\n",
    "myAtoi(' with words 4193')"
   ]
  },
  {
   "cell_type": "code",
   "execution_count": 2,
   "metadata": {},
   "outputs": [
    {
     "data": {
      "text/plain": [
       "True"
      ]
     },
     "execution_count": 2,
     "metadata": {},
     "output_type": "execute_result"
    }
   ],
   "source": []
  },
  {
   "cell_type": "code",
   "execution_count": null,
   "metadata": {},
   "outputs": [],
   "source": []
  }
 ],
 "metadata": {
  "kernelspec": {
   "display_name": "prac_env",
   "language": "python",
   "name": "python3"
  },
  "language_info": {
   "codemirror_mode": {
    "name": "ipython",
    "version": 3
   },
   "file_extension": ".py",
   "mimetype": "text/x-python",
   "name": "python",
   "nbconvert_exporter": "python",
   "pygments_lexer": "ipython3",
   "version": "3.8.17"
  }
 },
 "nbformat": 4,
 "nbformat_minor": 2
}
