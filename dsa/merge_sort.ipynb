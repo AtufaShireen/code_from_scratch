{
 "cells": [
  {
   "cell_type": "code",
   "execution_count": 1,
   "metadata": {},
   "outputs": [],
   "source": [
    "import copy"
   ]
  },
  {
   "cell_type": "code",
   "execution_count": 50,
   "metadata": {},
   "outputs": [
    {
     "name": "stdout",
     "output_type": "stream",
     "text": [
      "None\n",
      "[0, 0, 0, 1, 0, 0]\n"
     ]
    }
   ],
   "source": [
    "def merge(nums, low,mid,  high):\n",
    "    lp = low\n",
    "    rp = mid+1\n",
    "    llen = mid\n",
    "    rlen = high\n",
    "    temp = []\n",
    "    while (lp<=llen and rp<=rlen):\n",
    "        if nums[lp] < nums[rp]:\n",
    "            temp.append(nums[lp])\n",
    "            lp+=1\n",
    "        else:\n",
    "            temp.append(nums[rp])\n",
    "            rp+=1\n",
    "    \n",
    "    while (lp<=llen):\n",
    "        temp.append(nums[lp])\n",
    "        lp+=1\n",
    "    while (rp<=rlen):\n",
    "        temp.append(nums[rp])\n",
    "        rp+=1\n",
    "    \n",
    "    for i in range(low, high):\n",
    "        # print(temp[i])\n",
    "        arr[i] = temp[i-low]\n",
    "    # return temp\n",
    "\n",
    "# time, space\n",
    "def merge_sort(nums, low, high):\n",
    "    # base case\n",
    "    if low>=high:\n",
    "        return \n",
    "    # mid = low + ((high-low) //2)\n",
    "    mid = (low+high) //2\n",
    "    merge_sort(nums,low,mid)\n",
    "    merge_sort(nums, mid+1, high)\n",
    "    merge(nums, low,mid, high)\n",
    "\n",
    "# arr = [1,2,3,6,5,7]\n",
    "arr = [2,0,2,1,1,0]\n",
    "print(merge_sort(arr, 0,len(arr)-1))\n",
    "print(arr)"
   ]
  },
  {
   "cell_type": "markdown",
   "metadata": {},
   "source": [
    "# 3 pointer"
   ]
  },
  {
   "cell_type": "code",
   "execution_count": 61,
   "metadata": {},
   "outputs": [
    {
     "name": "stdout",
     "output_type": "stream",
     "text": [
      "[2, 0, 2, 1, 1, 0]\n",
      "[0, 0, 2, 1, 1, 2]\n",
      "[0, 0, 2, 1, 1, 2]\n"
     ]
    },
    {
     "data": {
      "text/plain": [
       "[0, 0, 1, 1, 2, 2]"
      ]
     },
     "execution_count": 61,
     "metadata": {},
     "output_type": "execute_result"
    }
   ],
   "source": [
    "def sortos(nums, n):\n",
    "    low = 0\n",
    "    mid = 0\n",
    "    high = n-1\n",
    "    while(mid <high):\n",
    "        if nums[mid] ==2:\n",
    "            nums[mid], nums[high] =  nums[high], nums[mid]\n",
    "            high-=1\n",
    "        if nums[mid] ==0:\n",
    "            nums[mid], nums[low] =  nums[low], nums[mid]\n",
    "            low+=1\n",
    "            mid+=1\n",
    "        if nums[mid]==1:\n",
    "            mid+=1\n",
    "    return nums\n",
    "arr = [2,0,2,1,1,0]\n",
    "sortos(arr,len(arr))"
   ]
  },
  {
   "cell_type": "code",
   "execution_count": null,
   "metadata": {},
   "outputs": [],
   "source": [
    "class Solution:\n",
    "    def majorityElement(self, nums: List[int]) -> int:\n",
    "        if not len(nums):\n",
    "            return -1\n",
    "        cand = nums[0]\n",
    "        votes = 1\n",
    "        for i in range(1,len(nums)):\n",
    "            if nums[i] == cand:\n",
    "                votes+=1\n",
    "            else:\n",
    "                votes-=1\n",
    "                if votes <=0:\n",
    "                    cand = nums[i]\n",
    "                    votes = 1\n",
    "        f = 0\n",
    "        for i in range(len(nums)):\n",
    "            if nums[i]==cand:\n",
    "                f+=1\n",
    "                if f>len(nums)//2:\n",
    "                    return cand\n",
    "        return -1"
   ]
  },
  {
   "cell_type": "code",
   "execution_count": null,
   "metadata": {},
   "outputs": [],
   "source": []
  }
 ],
 "metadata": {
  "kernelspec": {
   "display_name": "prac_env",
   "language": "python",
   "name": "python3"
  },
  "language_info": {
   "codemirror_mode": {
    "name": "ipython",
    "version": 3
   },
   "file_extension": ".py",
   "mimetype": "text/x-python",
   "name": "python",
   "nbconvert_exporter": "python",
   "pygments_lexer": "ipython3",
   "version": "3.8.17"
  }
 },
 "nbformat": 4,
 "nbformat_minor": 2
}
