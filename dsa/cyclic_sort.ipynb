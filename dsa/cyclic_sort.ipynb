{
 "cells": [
  {
   "cell_type": "code",
   "execution_count": 19,
   "metadata": {},
   "outputs": [],
   "source": [
    "from typing import List"
   ]
  },
  {
   "cell_type": "code",
   "execution_count": 72,
   "metadata": {},
   "outputs": [
    {
     "data": {
      "text/plain": [
       "[1, 2, 3, 4, 5]"
      ]
     },
     "execution_count": 72,
     "metadata": {},
     "output_type": "execute_result"
    }
   ],
   "source": [
    "def cyclic_sort(nums):\n",
    "    # the list contains 1-n numbers\n",
    "    n = len(nums)\n",
    "    i = 1\n",
    "    while(i<n):\n",
    "        correct_index = nums[i] -1\n",
    "        if nums[i] != nums[correct_index]:\n",
    "            nums[i], nums[correct_index] = nums[correct_index],nums[i]\n",
    "        else:\n",
    "            i+=1\n",
    "    return nums\n",
    "cyclic_sort([1,2,3,4,5])"
   ]
  },
  {
   "cell_type": "code",
   "execution_count": 63,
   "metadata": {},
   "outputs": [
    {
     "name": "stdout",
     "output_type": "stream",
     "text": [
      "[1, 6]\n"
     ]
    },
    {
     "data": {
      "text/plain": [
       "[2]"
      ]
     },
     "execution_count": 63,
     "metadata": {},
     "output_type": "execute_result"
    }
   ],
   "source": [
    "class Solution:\n",
    "    def findDisappearedNumbers(self, nums: List[int]) -> int:\n",
    "        n = len(nums)\n",
    "        i = 0\n",
    "        while(i<n):\n",
    "            correct_index = nums[i]-1\n",
    "            if (correct_index>n):\n",
    "                i+=1\n",
    "                continue\n",
    "            if (nums[i] != nums[correct_index]):\n",
    "                    nums[i], nums[correct_index] = nums[correct_index],nums[i]\n",
    "            else:\n",
    "                i+=1\n",
    "        missing_nums = []\n",
    "        for i in range(n):\n",
    "             if nums[i]!=i+1:\n",
    "                  missing_nums.append(i+1)\n",
    "        return missing_nums\n",
    "ans = Solution()\n",
    "ans.missingNumber([1,1])\n",
    "# unsorted list with 1 missing number        \n",
    "# [2,0,1,6] = > [0,1,2,3,4,5,6] => [3,4,5] =>[0,1,2,6]\n",
    "# [1,0,3]\n"
   ]
  },
  {
   "cell_type": "code",
   "execution_count": 66,
   "metadata": {},
   "outputs": [
    {
     "name": "stdout",
     "output_type": "stream",
     "text": [
      "[1, 2, 3, 4, 2]\n"
     ]
    },
    {
     "data": {
      "text/plain": [
       "2"
      ]
     },
     "execution_count": 66,
     "metadata": {},
     "output_type": "execute_result"
    }
   ],
   "source": [
    "class Solution:\n",
    "    def findDuplicate(self, nums: List[int]) -> int:\n",
    "        n = len(nums)\n",
    "        i = 0\n",
    "        while(i<n):\n",
    "            correct_index = nums[i]-1\n",
    "            if (correct_index>n):\n",
    "                i+=1\n",
    "                continue\n",
    "            if (nums[i] != nums[correct_index]):\n",
    "                    nums[i], nums[correct_index] = nums[correct_index],nums[i]\n",
    "            else:\n",
    "                i+=1\n",
    "        print(nums)\n",
    "        for i in range(n):\n",
    "             if nums[i]!=i+1:\n",
    "                  return nums[i]\n",
    "ans = Solution()\n",
    "ans.findDuplicate([1,3,4,2,2])\n",
    "# unsorted list with 1 missing number        \n",
    "# [2,0,1,6] = > [0,1,2,3,4,5,6] => [3,4,5] =>[0,1,2,6]\n",
    "# [1,0,3]\n"
   ]
  },
  {
   "cell_type": "code",
   "execution_count": 68,
   "metadata": {},
   "outputs": [
    {
     "data": {
      "text/plain": [
       "[1, 2]"
      ]
     },
     "execution_count": 68,
     "metadata": {},
     "output_type": "execute_result"
    }
   ],
   "source": [
    "class Solution:\n",
    "    def findErrorNums(self, nums: List[int]) -> List[int]:\n",
    "        n = len(nums)\n",
    "        i = 0\n",
    "        while (i <n):\n",
    "            correct_index = nums[i] -1\n",
    "            if nums[correct_index] != nums[i]:\n",
    "                nums[correct_index], nums[i] = nums[i], nums[correct_index]\n",
    "            else:\n",
    "                i+=1\n",
    "        for i in range(n):\n",
    "            if nums[i]!= i+1:\n",
    "                return [nums[i], i+1]\n",
    "\n",
    "a = Solution()\n",
    "a.findErrorNums([1,1])            \n"
   ]
  },
  {
   "cell_type": "code",
   "execution_count": 128,
   "metadata": {},
   "outputs": [
    {
     "data": {
      "text/plain": [
       "1"
      ]
     },
     "execution_count": 128,
     "metadata": {},
     "output_type": "execute_result"
    }
   ],
   "source": [
    "# edge cases\n",
    "# case1: the list is sorted and starts from 1.\n",
    "# case2: negative numbers\n",
    "# case3: sorted numbers starts n\n",
    "# case4: apparent in the question\n",
    "class Solution:\n",
    "    def firstMissingPositive(self, nums: List[int]) -> int:\n",
    "        n = len(nums)\n",
    "        i = 0\n",
    "        while (i < n):\n",
    "            if nums[i] <0:\n",
    "                i+=1\n",
    "                continue\n",
    "            correct_index = nums[i] - 1\n",
    "            if (correct_index >=n) | (correct_index< 0):\n",
    "                i+=1\n",
    "                continue\n",
    "            if nums[correct_index] != nums[i]:\n",
    "                nums[correct_index], nums[i] =  nums[i], nums[correct_index]\n",
    "            else:\n",
    "                i+=1\n",
    "        # if nums[0] >n: # case3\n",
    "        #     return 1\n",
    "        for i in range(0,n): #case2, case4\n",
    "            if nums[i]!= i+1:\n",
    "                return i+1\n",
    "        return nums[n-1]+1 #case1\n",
    "    \n",
    "a = Solution()\n",
    "# a.firstMissingPositive([-5,-4, 0,1,  2, 4,7]) \n",
    "a.firstMissingPositive([7,8,9,11,12]) \n",
    "# a.firstMissingPositive([1,2,0]) \n",
    "# a.firstMissingPositive([3,4,1,2])"
   ]
  },
  {
   "cell_type": "code",
   "execution_count": null,
   "metadata": {},
   "outputs": [],
   "source": [
    "# [1,0,2]"
   ]
  }
 ],
 "metadata": {
  "kernelspec": {
   "display_name": "prac_env",
   "language": "python",
   "name": "python3"
  },
  "language_info": {
   "codemirror_mode": {
    "name": "ipython",
    "version": 3
   },
   "file_extension": ".py",
   "mimetype": "text/x-python",
   "name": "python",
   "nbconvert_exporter": "python",
   "pygments_lexer": "ipython3",
   "version": "3.8.17"
  }
 },
 "nbformat": 4,
 "nbformat_minor": 2
}
