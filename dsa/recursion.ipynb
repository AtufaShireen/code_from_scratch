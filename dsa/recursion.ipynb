{
 "cells": [
  {
   "cell_type": "code",
   "execution_count": 2,
   "metadata": {},
   "outputs": [
    {
     "data": {
      "text/plain": [
       "7"
      ]
     },
     "execution_count": 2,
     "metadata": {},
     "output_type": "execute_result"
    }
   ],
   "source": [
    "def sum_digit(nums):\n",
    "    if nums<=0:\n",
    "        return 0\n",
    "    else:\n",
    "        return nums%10 + sum_digit(nums//10)\n",
    "sum_digit(124)"
   ]
  },
  {
   "cell_type": "code",
   "execution_count": 4,
   "metadata": {},
   "outputs": [
    {
     "name": "stdout",
     "output_type": "stream",
     "text": [
      "5\n",
      "4\n",
      "3\n",
      "2\n",
      "1\n"
     ]
    }
   ],
   "source": [
    "def numseries(num):\n",
    "    if num ==0:\n",
    "        return\n",
    "    print(num)\n",
    "    num-=1\n",
    "    return numseries(num)\n",
    "numseries(5)"
   ]
  },
  {
   "cell_type": "code",
   "execution_count": 14,
   "metadata": {},
   "outputs": [
    {
     "data": {
      "text/plain": [
       "987654321"
      ]
     },
     "execution_count": 14,
     "metadata": {},
     "output_type": "execute_result"
    }
   ],
   "source": [
    "def reverse_num(num):\n",
    "    s = 0\n",
    "    c = 10\n",
    "    while num>0:\n",
    "        last_digit = num%10\n",
    "        s = s *c + last_digit\n",
    "        # c*=10\n",
    "        num = num//10\n",
    "    return s\n",
    "reverse_num(123456789)\n",
    "def reverse_num(num,r):\n",
    "    if num<=0:\n",
    "        return r\n",
    "    else:\n",
    "        return reverse_num(num//10, r*10 + num%10)\n",
    "reverse_num(567,0)"
   ]
  },
  {
   "cell_type": "code",
   "execution_count": 21,
   "metadata": {},
   "outputs": [
    {
     "data": {
      "text/plain": [
       "9"
      ]
     },
     "execution_count": 21,
     "metadata": {},
     "output_type": "execute_result"
    }
   ],
   "source": [
    "def count_zero(num):\n",
    "    c = 0\n",
    "    while num>0:\n",
    "        if num%10 == 0:\n",
    "            c+=1\n",
    "        num//=10\n",
    "    return c\n",
    "count_zero(1205000000400)\n",
    "def count_zero(num, c):\n",
    "    if num<=0:\n",
    "        return c\n",
    "    else:\n",
    "        if num%10==0:\n",
    "            c = c+1\n",
    "        return count_zero(num//10, c)\n",
    "count_zero(1205000000400, 0)"
   ]
  },
  {
   "cell_type": "code",
   "execution_count": 27,
   "metadata": {},
   "outputs": [
    {
     "data": {
      "text/plain": [
       "4"
      ]
     },
     "execution_count": 27,
     "metadata": {},
     "output_type": "execute_result"
    }
   ],
   "source": [
    "def helper(num, c):\n",
    "    if num<=0:\n",
    "        return c\n",
    "    elif num&1==0:\n",
    "        c+=1\n",
    "        return helper(num//2,c)\n",
    "    else:\n",
    "        c+=1\n",
    "        return helper(num-1,c)\n",
    "def steps(num):\n",
    "    return helper(num, 0)\n",
    "steps(8)"
   ]
  },
  {
   "cell_type": "code",
   "execution_count": 33,
   "metadata": {},
   "outputs": [
    {
     "data": {
      "text/plain": [
       "False"
      ]
     },
     "execution_count": 33,
     "metadata": {},
     "output_type": "execute_result"
    }
   ],
   "source": [
    "def arrsorted(arr,idx):\n",
    "    if idx >=len(arr)-1:\n",
    "        return True\n",
    "    return (arr[idx]  < arr[idx+1 ]) & (arrsorted(arr,idx+1))\n",
    "arrsorted([1,2,4,2],0)\n"
   ]
  },
  {
   "cell_type": "code",
   "execution_count": 18,
   "metadata": {},
   "outputs": [
    {
     "data": {
      "text/plain": [
       "[4]"
      ]
     },
     "execution_count": 18,
     "metadata": {},
     "output_type": "execute_result"
    }
   ],
   "source": [
    "def arrsearch(arr,target,idx):\n",
    "    if idx >=len(arr):\n",
    "        return False\n",
    "    return (arr[idx] == target) | (arrsearch(arr,target,idx+1))\n",
    "# arrsearch([1,2,1,2,-1,0,10],10,0)\n",
    "\n",
    "def arrsearch(arr,target,idx, res):\n",
    "    if idx >=len(arr):\n",
    "        return res\n",
    "    elif arr[idx] == target:\n",
    "        res.append(idx)\n",
    "    return arrsearch(arr,target,idx+1, res)\n",
    "# arrsearch([1,2,1,2,-1,0,10],2,0,[])\n",
    "\n",
    "def arrsearch(arr,target,idx):\n",
    "    res = []\n",
    "    if idx >=len(arr):\n",
    "        return res\n",
    "    elif arr[idx] == target:\n",
    "        res.append(idx)\n",
    "    anss =  arrsearch(arr,target,idx+1)\n",
    "    res.extend(anss)\n",
    "    return res\n",
    "arrsearch([1,2,1,2,-1,0,10],-1,0)\n"
   ]
  },
  {
   "cell_type": "code",
   "execution_count": 13,
   "metadata": {},
   "outputs": [
    {
     "name": "stdout",
     "output_type": "stream",
     "text": [
      "\n",
      "* \n",
      "* * \n",
      "* * * \n",
      "* * * * "
     ]
    }
   ],
   "source": [
    "def pattern1(n):\n",
    "    if n<=1:\n",
    "        print('* '*n)\n",
    "        return\n",
    "    print('* '*n)\n",
    "    return pattern1(n-1)\n",
    "# pattern1(3)\n",
    "\n",
    "def pattern1(r,c):\n",
    "    if r<=0 & c<=0:\n",
    "        return \n",
    "    if c<r:\n",
    "        pattern1(r, c+1)\n",
    "        print('*', end=' ')\n",
    "    else:\n",
    "        pattern1(r-1, 0)\n",
    "        print()\n",
    "\n",
    "pattern1(4,0)"
   ]
  },
  {
   "cell_type": "code",
   "execution_count": 10,
   "metadata": {},
   "outputs": [
    {
     "data": {
      "text/plain": [
       "[1, 2, 3, 4, 4, 51]"
      ]
     },
     "execution_count": 10,
     "metadata": {},
     "output_type": "execute_result"
    }
   ],
   "source": [
    "def bubble_sort(arr):\n",
    "    n = len(arr)\n",
    "    for i in range(n):\n",
    "        for j in range(1,n-i):\n",
    "            if arr[j-1]>arr[j]:\n",
    "                arr[j-1], arr[j] = arr[j], arr[j-1]\n",
    "    return arr\n",
    "bubble_sort([3,2,4,1,51,4])\n",
    "def bubble_sort(arr, i, j):\n",
    "    if i <=1:\n",
    "        return arr\n",
    "    elif j <i:\n",
    "        if arr[j-1] > arr[j]:\n",
    "            arr[j-1] , arr[j] = arr[j], arr[j-1]\n",
    "        return bubble_sort(arr, i, j+1)\n",
    "    else:\n",
    "        return bubble_sort(arr, i-1,1)\n",
    "arr1 = [3,2,4,1,51,4]\n",
    "bubble_sort(arr1, len(arr1), 1)\n"
   ]
  },
  {
   "cell_type": "code",
   "execution_count": 14,
   "metadata": {},
   "outputs": [
    {
     "data": {
      "text/plain": [
       "[1, 2, 3, 4, 4, 51]"
      ]
     },
     "execution_count": 14,
     "metadata": {},
     "output_type": "execute_result"
    }
   ],
   "source": [
    "def insertion_sort(arr):\n",
    "    n = len(arr)\n",
    "    for i in range(n):\n",
    "        max_elem = float('-inf')\n",
    "        idx = 0\n",
    "        for j in range(n-i):\n",
    "            if max_elem < arr[j]:\n",
    "                max_elem = max(max_elem, arr[j])\n",
    "                idx = j\n",
    "        arr[idx], arr[n-i-1]  = arr[n-i-1] , arr[idx]\n",
    "    return arr\n",
    "arr1 = [3,2,4,1,51,4]\n",
    "insertion_sort(arr1)"
   ]
  },
  {
   "cell_type": "code",
   "execution_count": 18,
   "metadata": {},
   "outputs": [
    {
     "data": {
      "text/plain": [
       "[1, 2, 3, 4, 4, 51]"
      ]
     },
     "execution_count": 18,
     "metadata": {},
     "output_type": "execute_result"
    }
   ],
   "source": [
    "def insertion_sort(arr, i, j, max_elem):\n",
    "    if i<=0:\n",
    "        return arr\n",
    "    elif j<i:\n",
    "        if arr[j] > arr[max_elem]:\n",
    "            return insertion_sort(arr, i, j+1, j)\n",
    "        return insertion_sort(arr, i, j+1, max_elem)\n",
    "    else:\n",
    "        arr[max_elem], arr[i-1] = arr[i-1], arr[max_elem]\n",
    "        return insertion_sort(arr, i-1, 0, 0)\n",
    "arr1 = [3,2,4,1,51,4]\n",
    "insertion_sort(arr1, len(arr1), 0, 0)"
   ]
  },
  {
   "cell_type": "code",
   "execution_count": 38,
   "metadata": {},
   "outputs": [],
   "source": [
    "import copy"
   ]
  },
  {
   "cell_type": "code",
   "execution_count": 46,
   "metadata": {},
   "outputs": [
    {
     "data": {
      "text/plain": [
       "[0, 1, 1, 2, 2, 3, 5, 8, 9, 21, 32]"
      ]
     },
     "execution_count": 46,
     "metadata": {},
     "output_type": "execute_result"
    }
   ],
   "source": [
    "def merge(first, second):\n",
    "    merge = [0]* len(first+second)\n",
    "    fl = len(first)\n",
    "    sl = len(second)\n",
    "    i = 0\n",
    "    j = 0\n",
    "    k = 0\n",
    "    while (i<fl and j<sl):\n",
    "        if first[i] < second[j]:\n",
    "            merge[k] = first[i]\n",
    "            i+=1\n",
    "        else:\n",
    "            merge[k] = second[j]\n",
    "            j+=1\n",
    "        k+=1\n",
    "    while(i<fl):\n",
    "        merge[k] = first[i]\n",
    "        i+=1\n",
    "        k+=1\n",
    "    while(j<sl):\n",
    "        merge[k] = second[j]\n",
    "        j+=1\n",
    "        k+=1\n",
    "    return merge\n",
    "\n",
    "def merge_sort(arr):\n",
    "    if len(arr)==1:\n",
    "        return arr\n",
    "    mid = len(arr) //2\n",
    "    left = merge_sort(copy.deepcopy(arr[0:mid]))\n",
    "    right = merge_sort(copy.deepcopy(arr[mid:len(arr)]))\n",
    "    return merge(left, right)\n",
    "\n",
    "arr1 = [1,2,5,1,2,3,8,21,9,0,32]\n",
    "merge_sort(arr1)\n"
   ]
  },
  {
   "cell_type": "code",
   "execution_count": 50,
   "metadata": {},
   "outputs": [
    {
     "name": "stdout",
     "output_type": "stream",
     "text": [
      "2\n",
      "2\n",
      "3\n",
      "5\n",
      "2\n",
      "3\n",
      "2\n",
      "3\n",
      "6\n",
      "11\n"
     ]
    }
   ],
   "source": [
    "def merge(arr, s, m,e):\n",
    "    print(e-s)\n",
    "    merge = [0]* (e-s)\n",
    "    i = s\n",
    "    j = m\n",
    "    k = 0\n",
    "    while (i<m and j<e):\n",
    "        if arr[i] < arr[j]:\n",
    "            merge[k] = arr[i]\n",
    "            i+=1\n",
    "        else:\n",
    "            merge[k] = arr[j]\n",
    "            j+=1\n",
    "        k+=1\n",
    "    while(i<m):\n",
    "        merge[k] = arr[i]\n",
    "        i+=1\n",
    "        k+=1\n",
    "    while(j<e):\n",
    "        merge[k] = arr[j]\n",
    "        j+=1\n",
    "        k+=1\n",
    "    \n",
    "    for i in range(0,len(merge)):\n",
    "        arr[s+i]  = merge[i]\n",
    "    # return merge\n",
    "\n",
    "\n",
    "def merge_sort(arr, s, e):\n",
    "    if e-s==1:\n",
    "        return \n",
    "    mid = s + (e-s) //2\n",
    "    # left = merge_sort(arr, s, mid)\n",
    "    merge_sort(arr, s, mid)\n",
    "    # right = merge_sort(arr, mid, e)\n",
    "    merge_sort(arr, mid, e)\n",
    "    return merge(arr, s,mid, e)\n",
    "\n",
    "arr1 = [1,2,5,1,2,3,8,21,9,0,32]\n",
    "merge_sort(arr1,0,len(arr1))\n"
   ]
  },
  {
   "cell_type": "code",
   "execution_count": 51,
   "metadata": {},
   "outputs": [
    {
     "data": {
      "text/plain": [
       "[0, 1, 1, 2, 2, 3, 5, 8, 9, 21, 32]"
      ]
     },
     "execution_count": 51,
     "metadata": {},
     "output_type": "execute_result"
    }
   ],
   "source": [
    "arr1"
   ]
  },
  {
   "cell_type": "code",
   "execution_count": 5,
   "metadata": {},
   "outputs": [
    {
     "name": "stdout",
     "output_type": "stream",
     "text": [
      "6\n",
      "5\n",
      "4\n",
      "3\n",
      "2\n",
      "1\n"
     ]
    }
   ],
   "source": [
    "def nto1(n):\n",
    "    if n==0:\n",
    "        return \n",
    "    print(n)\n",
    "    nto1(n-1)\n",
    "nto1(6)"
   ]
  },
  {
   "cell_type": "code",
   "execution_count": null,
   "metadata": {},
   "outputs": [],
   "source": [
    "def nto1(n):\n",
    "    if n==0:\n",
    "        return \n",
    "    print(n)\n",
    "    nto1(n-1)\n",
    "    print(n)\n",
    "nto1(6)"
   ]
  },
  {
   "cell_type": "code",
   "execution_count": 10,
   "metadata": {},
   "outputs": [
    {
     "data": {
      "text/plain": [
       "6"
      ]
     },
     "execution_count": 10,
     "metadata": {},
     "output_type": "execute_result"
    }
   ],
   "source": [
    "def fact(n):\n",
    "    if n==1:\n",
    "        return 1\n",
    "    return n*fact(n-1)\n",
    "\n",
    "fact(3)"
   ]
  },
  {
   "cell_type": "code",
   "execution_count": 31,
   "metadata": {},
   "outputs": [
    {
     "data": {
      "text/plain": [
       "51"
      ]
     },
     "execution_count": 31,
     "metadata": {},
     "output_type": "execute_result"
    }
   ],
   "source": [
    "def sumofdigits(n):\n",
    "    if n<=1:\n",
    "        return 1\n",
    "    return  (n%10) + sumofdigits(n//10)\n",
    "    \n",
    "sumofdigits(123)"
   ]
  },
  {
   "cell_type": "code",
   "execution_count": 28,
   "metadata": {},
   "outputs": [
    {
     "data": {
      "text/plain": [
       "True"
      ]
     },
     "execution_count": 28,
     "metadata": {},
     "output_type": "execute_result"
    }
   ],
   "source": [
    "def rev(n):\n",
    "    if n<=1:\n",
    "        return 1\n",
    "    return (n%10) + rev(n//10)*10\n",
    "def palin(n):\n",
    "    print(n, rev(n))\n",
    "    return n==rev(n)\n",
    "\n",
    "palin(12)"
   ]
  },
  {
   "cell_type": "code",
   "execution_count": 36,
   "metadata": {},
   "outputs": [
    {
     "data": {
      "text/plain": [
       "5"
      ]
     },
     "execution_count": 36,
     "metadata": {},
     "output_type": "execute_result"
    }
   ],
   "source": [
    "def count_zero(n,c):\n",
    "    if n<=1:\n",
    "        return c\n",
    "    if n%10==0:\n",
    "        return count_zero(n//10, c+1)\n",
    "    return count_zero(n//10,c)\n",
    "count_zero(1023040050,0)"
   ]
  },
  {
   "cell_type": "code",
   "execution_count": 2,
   "metadata": {},
   "outputs": [
    {
     "data": {
      "text/plain": [
       "False"
      ]
     },
     "execution_count": 2,
     "metadata": {},
     "output_type": "execute_result"
    }
   ],
   "source": [
    "def sorted_arrr(arr, index):\n",
    "    if index==len(arr)-1:\n",
    "        return True\n",
    "    if arr[index]<arr[index+1]:\n",
    "        return sorted_arrr(arr, index+1)\n",
    "    else:\n",
    "        return False\n",
    "    \n",
    "sorted_arrr([1,2,1,4], 0)"
   ]
  },
  {
   "cell_type": "code",
   "execution_count": 7,
   "metadata": {},
   "outputs": [
    {
     "data": {
      "text/plain": [
       "False"
      ]
     },
     "execution_count": 7,
     "metadata": {},
     "output_type": "execute_result"
    }
   ],
   "source": [
    "def linear_search(arr,target,  index):\n",
    "    if index==len(arr):\n",
    "        return False\n",
    "    if arr[index]==target:\n",
    "        return True\n",
    "    else:\n",
    "        return linear_search(arr, target, index+1)\n",
    "linear_search([1,2,3,4,5,6], 'sdf', 0)"
   ]
  },
  {
   "cell_type": "code",
   "execution_count": 8,
   "metadata": {},
   "outputs": [
    {
     "data": {
      "text/plain": [
       "[1, 7, 9]"
      ]
     },
     "execution_count": 8,
     "metadata": {},
     "output_type": "execute_result"
    }
   ],
   "source": [
    "def findindexes(arr, target, index,list):\n",
    "    if index==len(arr):\n",
    "        return list\n",
    "    if arr[index]==target:\n",
    "        list.append(index)\n",
    "    return findindexes(arr, target, index+1, list)\n",
    "findindexes([1,2,3,4,5,6,1,2,1,2], 2, 0, [])"
   ]
  },
  {
   "cell_type": "code",
   "execution_count": 19,
   "metadata": {},
   "outputs": [
    {
     "data": {
      "text/plain": [
       "[0, 6, 8]"
      ]
     },
     "execution_count": 19,
     "metadata": {},
     "output_type": "execute_result"
    }
   ],
   "source": [
    "def findindexes(arr, target, index):\n",
    "    list_ = []\n",
    "    if index==len(arr):\n",
    "        return list_\n",
    "    if arr[index]==target:\n",
    "        list_.append(index)\n",
    "    ans = findindexes(arr, target, index+1)\n",
    "    list_.extend(ans)\n",
    "    return list_\n",
    "findindexes([1,2,3,4,5,6,1,2,1,2], 1, 0)"
   ]
  },
  {
   "cell_type": "code",
   "execution_count": 37,
   "metadata": {},
   "outputs": [
    {
     "data": {
      "text/plain": [
       "5"
      ]
     },
     "execution_count": 37,
     "metadata": {},
     "output_type": "execute_result"
    }
   ],
   "source": [
    "def findrbs(arr, target, s, e):\n",
    "    if s>e:\n",
    "        return False\n",
    "    \n",
    "    mid = s + (e-s)//2\n",
    "    if arr[mid]==target:\n",
    "        return mid\n",
    "    if arr[s] <= arr[mid] :\n",
    "        if target >=arr[s] and target<=arr[mid]:\n",
    "            return findrbs(arr, target, s, mid-1)\n",
    "        else:\n",
    "            return findrbs(arr, target, mid+1, e)\n",
    "        \n",
    "    if arr[mid] <= target and arr[e]<=target:\n",
    "        return findrbs(arr, target, s, mid-1)\n",
    "    else:\n",
    "        return findrbs(arr, target, mid+1, e)\n",
    "\n",
    "# arr = [1,2,3,4,5,6,1,2,1,2]\n",
    "# arr = [1,2,3,4,5,6]\n",
    "arr = [4,5,6,1,2,3]\n",
    "findrbs(arr,3, 0, len(arr)-1)"
   ]
  },
  {
   "cell_type": "code",
   "execution_count": 44,
   "metadata": {},
   "outputs": [
    {
     "name": "stdout",
     "output_type": "stream",
     "text": [
      "* * \n",
      "* \n"
     ]
    }
   ],
   "source": [
    "# def pattern1(rows):\n",
    "#     if rows<=0:\n",
    "#         return\n",
    "#     print('* '*rows)\n",
    "#     pattern1(rows-1)\n",
    "# pattern1(5)\n",
    "\n",
    "def pattern1(rows, col):\n",
    "    if rows<=0:\n",
    "        return\n",
    "    if col==rows:\n",
    "        print()\n",
    "        pattern1(rows-1, 0)\n",
    "    else:\n",
    "        print('*', end=' ')\n",
    "        pattern1(rows, col+1)\n",
    "pattern1(2, 0)"
   ]
  },
  {
   "cell_type": "code",
   "execution_count": 5,
   "metadata": {},
   "outputs": [
    {
     "data": {
      "text/plain": [
       "[1, 2, 3, 4, 5]"
      ]
     },
     "execution_count": 5,
     "metadata": {},
     "output_type": "execute_result"
    }
   ],
   "source": [
    "def bubble_sort(arr, itr, idx):\n",
    "    if itr == 0:\n",
    "        return arr\n",
    "    if idx == itr -1:\n",
    "        return bubble_sort(arr, itr-1, 0)\n",
    "    if arr[idx] > arr[idx+1]:\n",
    "        arr[idx], arr[idx+1] =  arr[idx+1], arr[idx]\n",
    "    return bubble_sort(arr, itr, idx+1)\n",
    "\n",
    "arr = [5,1,2,3,4]\n",
    "bubble_sort(arr,len(arr), 0)"
   ]
  },
  {
   "cell_type": "code",
   "execution_count": 15,
   "metadata": {},
   "outputs": [
    {
     "data": {
      "text/plain": [
       "[2, 3, 4, 5, 6]"
      ]
     },
     "execution_count": 15,
     "metadata": {},
     "output_type": "execute_result"
    }
   ],
   "source": [
    "def selection_sort(arr, itr, idx, max):\n",
    "    if itr == 0:\n",
    "        return arr\n",
    "    if arr[max] < arr[idx]:\n",
    "        max =  idx\n",
    "    if idx == itr:\n",
    "        arr[max], arr[idx] = arr[idx], arr[max]\n",
    "        return selection_sort(arr, itr-1, 0,0)\n",
    "    \n",
    "    return selection_sort(arr, itr, idx+1, max)\n",
    "\n",
    "arr = [5,4,3,2,6]\n",
    "selection_sort(arr,len(arr)-1, 0, 0)"
   ]
  },
  {
   "cell_type": "code",
   "execution_count": 33,
   "metadata": {},
   "outputs": [
    {
     "name": "stdout",
     "output_type": "stream",
     "text": [
      "[1, 2, 3, 4, 5, 7, 8]\n"
     ]
    }
   ],
   "source": [
    "def merge( arr, s,m, e):\n",
    "    ls = s\n",
    "    le = m\n",
    "    rs = m+1\n",
    "    re = e\n",
    "    mix = []\n",
    "    # print('merge here',s,m,e)\n",
    "    while (ls<=le and rs<=re):\n",
    "        if arr[ls] <= arr[rs]:\n",
    "            mix.append(arr[ls])\n",
    "            ls+=1\n",
    "        else:\n",
    "            mix.append(arr[rs])\n",
    "            rs+=1\n",
    "    while (ls<=le):\n",
    "        mix.append(arr[ls])\n",
    "        ls+=1\n",
    "    while (rs<=re):\n",
    "        mix.append(arr[rs])\n",
    "        rs+=1\n",
    "    # return mix\n",
    "    # print('mix here',mix)\n",
    "    for i in range(len(mix)):\n",
    "        arr[s+i] = mix[i]\n",
    "\n",
    "def merge_sort(arr, s, e):\n",
    "    if s>=e:\n",
    "        return arr\n",
    "    m = s + (e-s)//2\n",
    "    merge_sort(arr, s, m)\n",
    "    merge_sort(arr, m+1, e)\n",
    "    merge(arr,s, m, e)\n",
    "\n",
    "# arr = [1,2,3,4,1,2,3,4]\n",
    "arr = [1,2,4,3,5,8,7]\n",
    "merge_sort(arr,0,len(arr)-1)\n",
    "print(arr)"
   ]
  },
  {
   "cell_type": "code",
   "execution_count": 1,
   "metadata": {},
   "outputs": [
    {
     "data": {
      "text/plain": [
       "'bcd'"
      ]
     },
     "execution_count": 1,
     "metadata": {},
     "output_type": "execute_result"
    }
   ],
   "source": [
    "def skipchar(string, char):\n",
    "    if len(string)<=0:\n",
    "        return string\n",
    "    a = string[0]\n",
    "    if a==char:\n",
    "        return skipchar(string[1:], char)\n",
    "    else:\n",
    "        return a + skipchar(string[1:], char)\n",
    "    \n",
    "skipchar('abcd','a')"
   ]
  },
  {
   "cell_type": "code",
   "execution_count": 3,
   "metadata": {},
   "outputs": [
    {
     "data": {
      "text/plain": [
       "'abappcd'"
      ]
     },
     "execution_count": 3,
     "metadata": {},
     "output_type": "execute_result"
    }
   ],
   "source": [
    "def skipword(string:str, char):\n",
    "    if len(string)<=0:\n",
    "        return string\n",
    "    if string.startswith(char):\n",
    "        return skipword(string[len(char):], char)\n",
    "    else:\n",
    "        return string[0] + skipword(string[1:], char)\n",
    "    \n",
    "skipword('abappcd','apple')"
   ]
  },
  {
   "cell_type": "code",
   "execution_count": null,
   "metadata": {},
   "outputs": [],
   "source": []
  },
  {
   "cell_type": "code",
   "execution_count": 28,
   "metadata": {},
   "outputs": [
    {
     "name": "stdout",
     "output_type": "stream",
     "text": [
      "[1, 2, 3, 4, 5]\n"
     ]
    }
   ],
   "source": [
    "from typing import List\n",
    "\n",
    "def number_arr(x: int): \n",
    "    # Write your code here\n",
    "    a = []\n",
    "    if x < 1:\n",
    "        return a\n",
    "    f = number_arr(x-1)\n",
    "    a.extend(f)\n",
    "    a.append(x)\n",
    "    return a\n",
    "\n",
    "result = number_arr(5)\n",
    "print(result)\n"
   ]
  },
  {
   "cell_type": "code",
   "execution_count": null,
   "metadata": {},
   "outputs": [],
   "source": [
    "from typing import List\n",
    "\n",
    "def number_arr(x: int): \n",
    "    # Write your code here\n",
    "    a = []\n",
    "    if x < 1:\n",
    "        return a\n",
    "    a.append(x)\n",
    "    f = number_arr(x-1)\n",
    "    a.extend(f)\n",
    "    \n",
    "    return a\n",
    "\n",
    "result = number_arr(5)\n",
    "print(result)\n"
   ]
  },
  {
   "cell_type": "code",
   "execution_count": 30,
   "metadata": {},
   "outputs": [
    {
     "data": {
      "text/plain": [
       "[4, 3, 2, 1]"
      ]
     },
     "execution_count": 30,
     "metadata": {},
     "output_type": "execute_result"
    }
   ],
   "source": [
    "def reversearray(n,i,nums):\n",
    "    if i>=n//2:\n",
    "        return nums\n",
    "    nums[i], nums[n-i-1] = nums[n-i-1],nums[i]\n",
    "    return reversearray(n,i+1,nums)\n",
    "\n",
    "\n",
    "def reverseArray(n, nums):\n",
    "    # Write your code here\n",
    "    return reversearray(n,0,nums)\n",
    "\n",
    "reverseArray(4, [1,2,3,4])"
   ]
  },
  {
   "cell_type": "code",
   "execution_count": 37,
   "metadata": {},
   "outputs": [
    {
     "name": "stdout",
     "output_type": "stream",
     "text": [
      "amanaplanacanalpanama\n"
     ]
    },
    {
     "data": {
      "text/plain": [
       "True"
      ]
     },
     "execution_count": 37,
     "metadata": {},
     "output_type": "execute_result"
    }
   ],
   "source": [
    "def palin(string, i, n):\n",
    "    if i >=n/2:\n",
    "        return True\n",
    "    if string[i]!=string[n-i-1]:\n",
    "        return False\n",
    "    return palin(string, i+1, n)\n",
    "def isPalindrome(string: str) -> bool:\n",
    "    s = ''\n",
    "    for i in string:\n",
    "        if i.isalpha():\n",
    "            s+=i.lower()\n",
    "    print(s)\n",
    "    return palin(s, 0, len(s))\n",
    "isPalindrome('A man, a plan, a canal: Panama')"
   ]
  },
  {
   "cell_type": "code",
   "execution_count": 49,
   "metadata": {},
   "outputs": [
    {
     "data": {
      "text/plain": [
       "13"
      ]
     },
     "execution_count": 49,
     "metadata": {},
     "output_type": "execute_result"
    }
   ],
   "source": [
    "def fib(n):\n",
    "    if n<=1:\n",
    "        return n\n",
    "    a= fib(n-1)\n",
    "    b = fib(n-2)\n",
    "    return a + b\n",
    "    # return n-1 + n-2\n",
    "fib(7)"
   ]
  },
  {
   "cell_type": "code",
   "execution_count": 15,
   "metadata": {},
   "outputs": [
    {
     "name": "stdout",
     "output_type": "stream",
     "text": [
      "[] 3\n",
      "[1] 3\n",
      "[2] 3\n",
      "[2, 1] 3\n",
      "[3] 3\n",
      "[3, 1] 3\n",
      "[3, 2] 3\n",
      "[3, 2, 1] 3\n"
     ]
    }
   ],
   "source": [
    "def subseq(arr, subarr, n, index):\n",
    "    if index >n:\n",
    "        print(subarr,index)\n",
    "        return \n",
    "    subseq(arr,subarr,n,index+1)\n",
    "    subarr.append(arr[index])\n",
    "    subseq(arr,subarr,n,index+1)\n",
    "    subarr.pop()\n",
    "\n",
    "    # print(subarr)\n",
    "    return \n",
    "\n",
    "subseq([3,2,1], [],2,0)\n",
    "def subseq(arr, subarr, n, index):\n",
    "    if index >n:\n",
    "        print(subarr)\n",
    "        return \n",
    "    subarr.append(arr[index])\n",
    "    subseq(arr,subarr,n,index+1)\n",
    "    subarr.pop()\n",
    "    subseq(arr,subarr,n,index+1)\n",
    "    # print(subarr)\n",
    "    return \n",
    "\n",
    "subseq([3,2,1], [],2,0)"
   ]
  },
  {
   "cell_type": "code",
   "execution_count": 21,
   "metadata": {},
   "outputs": [
    {
     "name": "stdout",
     "output_type": "stream",
     "text": [
      "[1, 4]\n",
      "[2, 3]\n",
      "[5]\n"
     ]
    }
   ],
   "source": [
    "def subseqeqsum(arr,n,s, subarr, index,cursum): \n",
    "    if cursum==s:\n",
    "        print(subarr)\n",
    "        return\n",
    "    if index >n:\n",
    "        return\n",
    "    if cursum>s:\n",
    "        return\n",
    "    subarr.append(arr[index])\n",
    "    subseqeqsum(arr,n,s, subarr, index+1,cursum+arr[index])\n",
    "    subarr.pop()\n",
    "    subseqeqsum(arr,n,s, subarr, index+1,cursum)\n",
    "    # print(subarr)\n",
    "    return \n",
    "\n",
    "subseqeqsum([1,2,3,4,5],4,5, [],0,0)"
   ]
  },
  {
   "cell_type": "code",
   "execution_count": 26,
   "metadata": {},
   "outputs": [
    {
     "data": {
      "text/plain": [
       "3"
      ]
     },
     "execution_count": 26,
     "metadata": {},
     "output_type": "execute_result"
    }
   ],
   "source": [
    "def subseqeqsumcount(arr,n,s, subarr, index,cursum,count): \n",
    "    if cursum==s:\n",
    "        return  1\n",
    "    if index >n:\n",
    "        return 0\n",
    "    if cursum>s:\n",
    "        return 0\n",
    "    subarr.append(arr[index])\n",
    "    l = subseqeqsumcount(arr,n,s, subarr, index+1,cursum+arr[index],count)\n",
    "    subarr.pop()\n",
    "    r = subseqeqsumcount(arr,n,s, subarr, index+1,cursum,count)\n",
    "    # print(subarr)\n",
    "    return l+r\n",
    "\n",
    "subseqeqsumcount([1,2,3,4,5],4,5, [],0,0,0)"
   ]
  },
  {
   "cell_type": "code",
   "execution_count": 14,
   "metadata": {},
   "outputs": [
    {
     "data": {
      "text/plain": [
       "0.037037037037037035"
      ]
     },
     "execution_count": 14,
     "metadata": {},
     "output_type": "execute_result"
    }
   ],
   "source": [
    "def mypow(base,power):\n",
    "    ans = 1\n",
    "    sign = 1\n",
    "    if power<0:\n",
    "        sign = -1\n",
    "        power = power * -1\n",
    "    while (power >0):\n",
    "        if power%2==0:\n",
    "            base = base*base\n",
    "            power = power//2\n",
    "        else:\n",
    "            ans = ans*base\n",
    "            power = power -1\n",
    "    if sign <0:\n",
    "        return 1/ans\n",
    "    return ans\n",
    "\n",
    "mypow(3,-3)"
   ]
  },
  {
   "cell_type": "code",
   "execution_count": null,
   "metadata": {},
   "outputs": [
    {
     "data": {
      "text/plain": [
       "9"
      ]
     },
     "execution_count": 8,
     "metadata": {},
     "output_type": "execute_result"
    }
   ],
   "source": [
    "def goodnums(n,index):\n",
    "    if index>=len(n):\n",
    "        return True\n",
    "    else:\n",
    "        if index%2==int(n[index])%2:\n",
    "            return goodnums(n,index+1)\n",
    "        else:\n",
    "            return False\n",
    "goodnums('123',0)"
   ]
  },
  {
   "cell_type": "code",
   "execution_count": 3,
   "metadata": {},
   "outputs": [
    {
     "name": "stdout",
     "output_type": "stream",
     "text": [
      "2345 xd 0\n",
      "234 xd 1\n",
      "23 xd 2\n",
      "2 xd 3\n"
     ]
    },
    {
     "data": {
      "text/plain": [
       "0"
      ]
     },
     "execution_count": 3,
     "metadata": {},
     "output_type": "execute_result"
    }
   ],
   "source": [
    "def sum_digits_rm(n):\n",
    "    d  = n\n",
    "    n = n//10\n",
    "    s = 0\n",
    "    while (n>0):\n",
    "        s+=n%10\n",
    "        n= n//10\n",
    "    d = d//10\n",
    "    while (d>0):\n",
    "        if d<s:\n",
    "            return False\n",
    "        else:\n",
    "            d = d//10\n",
    "    return True\n"
   ]
  },
  {
   "cell_type": "code",
   "execution_count": 16,
   "metadata": {},
   "outputs": [
    {
     "name": "stdout",
     "output_type": "stream",
     "text": [
      "25 16\n"
     ]
    },
    {
     "data": {
      "text/plain": [
       "400"
      ]
     },
     "execution_count": 16,
     "metadata": {},
     "output_type": "execute_result"
    }
   ],
   "source": [
    "def countGoodNumbers(n: int) -> int:\n",
    "    mod = 10**9 + 7\n",
    "    to = n//2\n",
    "    if n%2==0:\n",
    "        te = n//2  # if even\n",
    "    else:\n",
    "        te = (n+1) //2 \n",
    "    te = pow(5,te,mod)\n",
    "\n",
    "    to = pow(4,to,mod)\n",
    "    c=te*to\n",
    "    return c %mod\n",
    "countGoodNumbers(4)"
   ]
  },
  {
   "cell_type": "code",
   "execution_count": 15,
   "metadata": {},
   "outputs": [
    {
     "data": {
      "text/plain": [
       "512"
      ]
     },
     "execution_count": 15,
     "metadata": {},
     "output_type": "execute_result"
    }
   ],
   "source": [
    "mod = 10**9 + 7\n",
    "(pow(2,5,mod) * pow(2,4,mod)) % mod"
   ]
  },
  {
   "cell_type": "code",
   "execution_count": 23,
   "metadata": {},
   "outputs": [
    {
     "data": {
      "text/plain": [
       "[3, 2, 1]"
      ]
     },
     "execution_count": 23,
     "metadata": {},
     "output_type": "execute_result"
    }
   ],
   "source": [
    "def reversestack(l, n,index):\n",
    "    if index>=n//2:\n",
    "        return l\n",
    "    l[index], l[n-index-1] = l[n-index-1], l[index]\n",
    "    return reversestack(l,n,index+1)\n",
    "\n",
    "# reversestack([1,2,3,4],4,0)\n",
    "reversestack([1,2,3],3,0)\n",
    "# reversestack([2,3],2,0)"
   ]
  },
  {
   "cell_type": "code",
   "execution_count": 31,
   "metadata": {},
   "outputs": [
    {
     "data": {
      "text/plain": [
       "['000', '001', '010', '100', '101']"
      ]
     },
     "execution_count": 31,
     "metadata": {},
     "output_type": "execute_result"
    }
   ],
   "source": [
    "def generatestring(n,idx,string):\n",
    "    ans = []\n",
    "    if idx>=n:\n",
    "        return [string]\n",
    "    if idx>0:\n",
    "        last_char = string[-1]\n",
    "        if last_char=='1':\n",
    "            return generatestring(n, idx+1, string+'0')\n",
    "    left =  generatestring(n, idx+1, string+'0')\n",
    "    ans.extend(left)\n",
    "    right = generatestring(n, idx+1, string+'1')\n",
    "    ans.extend(right)\n",
    "    return ans\n",
    "\n",
    "generatestring(3,0,'')"
   ]
  },
  {
   "cell_type": "code",
   "execution_count": 86,
   "metadata": {},
   "outputs": [
    {
     "data": {
      "text/plain": [
       "[[1, 2, 3, 4],\n",
       " [1, 2, 3],\n",
       " [1, 2, 4],\n",
       " [1, 2],\n",
       " [1, 3, 4],\n",
       " [1, 3],\n",
       " [1, 4],\n",
       " [1],\n",
       " [2, 3, 4],\n",
       " [2, 3],\n",
       " [2, 4],\n",
       " [2],\n",
       " [3, 4],\n",
       " [3],\n",
       " [4],\n",
       " []]"
      ]
     },
     "execution_count": 86,
     "metadata": {},
     "output_type": "execute_result"
    }
   ],
   "source": [
    "def generatesubsets(arr, n, idx,ans):\n",
    "    if idx>=n:\n",
    "        # print(ans)\n",
    "        return [ans.copy()]\n",
    "    ans.append(arr[idx])\n",
    "    left = generatesubsets(arr,n,idx+1,ans)\n",
    "    ans.remove(arr[idx])\n",
    "    right = generatesubsets(arr, n, idx+1,ans)\n",
    "    return left+right\n",
    "generatesubsets([1,2,3,4],4,0,[])"
   ]
  },
  {
   "cell_type": "code",
   "execution_count": 1,
   "metadata": {},
   "outputs": [
    {
     "data": {
      "text/plain": [
       "['((()))', '(()())', '(())()', '()(())', '()()()']"
      ]
     },
     "execution_count": 1,
     "metadata": {},
     "output_type": "execute_result"
    }
   ],
   "source": [
    "def validparts(n,opencount, closecount, ans):\n",
    "    if closecount+opencount>=2*n:\n",
    "        return [ans]\n",
    "    elif (opencount >=n )and (closecount < opencount):\n",
    "        return validparts(n, opencount+1, closecount, ans+')')\n",
    "    \n",
    "    elif closecount < opencount:\n",
    "        left = validparts(n, opencount+1, closecount, ans+'(')\n",
    "        right = validparts(n, opencount, closecount+1, ans+')')\n",
    "        return left+right\n",
    "    \n",
    "    else: # open thesis\n",
    "        return validparts(n, opencount+1, closecount, ans+'(')\n",
    "    \n",
    "validparts(3,1,0, '(')"
   ]
  },
  {
   "cell_type": "code",
   "execution_count": 20,
   "metadata": {},
   "outputs": [
    {
     "data": {
      "text/plain": [
       "['f', '']"
      ]
     },
     "execution_count": 20,
     "metadata": {},
     "output_type": "execute_result"
    }
   ],
   "source": [
    "def distinctsubseq(string, n,ans, idx):\n",
    "    ans_list =[]\n",
    "    if idx>=n:\n",
    "        # print(ans_list)\n",
    "        return [ans]\n",
    "    left = distinctsubseq(string, n, ans+string[idx], idx+1)\n",
    "    ans_list.append(left)\n",
    "    right = distinctsubseq(string, n, ans, idx+1)\n",
    "    ans_list.append(right)\n",
    "    return left + right\n",
    "# distinctsubseq('eeg', 3, '', 0)\n",
    "distinctsubseq('f', 1, '', 0)"
   ]
  },
  {
   "cell_type": "code",
   "execution_count": 21,
   "metadata": {},
   "outputs": [
    {
     "data": {
      "text/plain": [
       "'eeg'"
      ]
     },
     "execution_count": 21,
     "metadata": {},
     "output_type": "execute_result"
    }
   ],
   "source": [
    "def moreSubsequence(n: int, m: int, a: str, b:str) -> str:\n",
    "    # Write your code here.\n",
    "    a_len = len(set(distinctsubseq(a, len(a), '', 0)))\n",
    "    b_len = len(set(distinctsubseq(b, len(b), '', 0)))\n",
    "    if b_len>a_len:\n",
    "        return b\n",
    "    return a\n",
    "\n",
    "moreSubsequence(2,3,'f','eeg')"
   ]
  },
  {
   "cell_type": "code",
   "execution_count": 69,
   "metadata": {},
   "outputs": [
    {
     "ename": "TypeError",
     "evalue": "unhashable type: 'list'",
     "output_type": "error",
     "traceback": [
      "\u001b[0;31m---------------------------------------------------------------------------\u001b[0m",
      "\u001b[0;31mTypeError\u001b[0m                                 Traceback (most recent call last)",
      "\u001b[1;32m/Users/atufasheen/Downloads/projects/practice_code/dsa/recursion.ipynb Cell 53\u001b[0m line \u001b[0;36m1\n\u001b[1;32m     <a href='vscode-notebook-cell:/Users/atufasheen/Downloads/projects/practice_code/dsa/recursion.ipynb#Y105sZmlsZQ%3D%3D?line=10'>11</a>\u001b[0m     right \u001b[39m=\u001b[39m subarrays(arr, n,s, idx\u001b[39m+\u001b[39m\u001b[39m1\u001b[39m,cursum,ans)\n\u001b[1;32m     <a href='vscode-notebook-cell:/Users/atufasheen/Downloads/projects/practice_code/dsa/recursion.ipynb#Y105sZmlsZQ%3D%3D?line=11'>12</a>\u001b[0m     \u001b[39mreturn\u001b[39;00m left\u001b[39m+\u001b[39mright\n\u001b[0;32m---> <a href='vscode-notebook-cell:/Users/atufasheen/Downloads/projects/practice_code/dsa/recursion.ipynb#Y105sZmlsZQ%3D%3D?line=12'>13</a>\u001b[0m \u001b[39mlist\u001b[39m(\u001b[39mset\u001b[39;49m(subarrays([\u001b[39m1\u001b[39;49m,\u001b[39m2\u001b[39;49m,\u001b[39m3\u001b[39;49m,\u001b[39m1\u001b[39;49m,\u001b[39m1\u001b[39;49m,\u001b[39m1\u001b[39;49m], \u001b[39m6\u001b[39;49m,\u001b[39m3\u001b[39;49m, \u001b[39m0\u001b[39;49m,\u001b[39m0\u001b[39;49m, [])))\n\u001b[1;32m     <a href='vscode-notebook-cell:/Users/atufasheen/Downloads/projects/practice_code/dsa/recursion.ipynb#Y105sZmlsZQ%3D%3D?line=13'>14</a>\u001b[0m \u001b[39m# subarrays([1,2,3], 3,5, 0,0, [])\u001b[39;00m\n",
      "\u001b[0;31mTypeError\u001b[0m: unhashable type: 'list'"
     ]
    }
   ],
   "source": [
    "def subarrays(arr,n,s,idx,cursum, ans):\n",
    "    if cursum==s:\n",
    "        return [ans.copy()]\n",
    "    if idx>=n:\n",
    "        return []\n",
    "    if cursum>s:\n",
    "        return []\n",
    "    ans.append(arr[idx])\n",
    "    left = subarrays(arr, n,s, idx+1,cursum+arr[idx],  ans)\n",
    "    ans.remove(arr[idx])\n",
    "    right = subarrays(arr, n,s, idx+1,cursum,ans)\n",
    "    return left+right\n",
    "subarrays([1,2,3,1,1,1], 6,3, 0,0, [])\n",
    "# subarrays([1,2,3], 3,5, 0,0, [])"
   ]
  },
  {
   "cell_type": "code",
   "execution_count": 60,
   "metadata": {},
   "outputs": [
    {
     "data": {
      "text/plain": [
       "True"
      ]
     },
     "execution_count": 60,
     "metadata": {},
     "output_type": "execute_result"
    }
   ],
   "source": [
    "def subarrays(arr,n,s,idx,cursum):\n",
    "    if cursum==s:\n",
    "        return True\n",
    "    if idx>=n:\n",
    "        return False\n",
    "    if subarrays(arr, n, s,idx+1,cursum+arr[idx]):\n",
    "        return True\n",
    "    if subarrays(arr, n,s, idx+1,cursum):\n",
    "        return True\n",
    "    return False\n",
    "# subarrays([1,2,3,1,1,1], 6,10, 0,0)\n",
    "# subarrays([4,2,5,6,7],5, 14, 0,0)\n",
    "subarrays([4,2,5,6,7],5, 14, 0,0)"
   ]
  },
  {
   "cell_type": "code",
   "execution_count": 55,
   "metadata": {},
   "outputs": [
    {
     "name": "stdout",
     "output_type": "stream",
     "text": [
      "False\n",
      "True\n",
      "True\n"
     ]
    }
   ],
   "source": [
    "def subarrays(arr, n, s, idx, cursum):\n",
    "    if idx >= n:\n",
    "        if cursum == s:\n",
    "            return True\n",
    "        else:\n",
    "            return False\n",
    "\n",
    "    # Include the current element in the sum for the left branch\n",
    "    if subarrays(arr, n, s, idx + 1, cursum + arr[idx]):\n",
    "        return True\n",
    "\n",
    "    # Exclude the current element in the sum for the right branch\n",
    "    if subarrays(arr, n, s, idx + 1, cursum):\n",
    "        return True\n",
    "\n",
    "    return False\n",
    "\n",
    "# Test cases\n",
    "print(subarrays([1, 2, 3, 1, 1, 1], 6, 10, 0, 0))\n",
    "print(subarrays([4, 2, 5, 6, 7], 5, 14, 0, 0))\n",
    "print(subarrays([4, 2, 5, 6, 7], 5, 13, 0, 0))\n"
   ]
  }
 ],
 "metadata": {
  "kernelspec": {
   "display_name": "prac_env",
   "language": "python",
   "name": "python3"
  },
  "language_info": {
   "codemirror_mode": {
    "name": "ipython",
    "version": 3
   },
   "file_extension": ".py",
   "mimetype": "text/x-python",
   "name": "python",
   "nbconvert_exporter": "python",
   "pygments_lexer": "ipython3",
   "version": "3.8.17"
  }
 },
 "nbformat": 4,
 "nbformat_minor": 2
}
