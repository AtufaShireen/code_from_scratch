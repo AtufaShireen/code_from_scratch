{
 "cells": [
  {
   "cell_type": "code",
   "execution_count": null,
   "metadata": {},
   "outputs": [],
   "source": [
    "def sum_digit(nums):\n",
    "    if nums<=0:\n",
    "        return 0\n",
    "    else:\n",
    "        return nums%10 + sum_digit(nums//10)\n",
    "sum_digit(124)"
   ]
  },
  {
   "cell_type": "code",
   "execution_count": null,
   "metadata": {},
   "outputs": [],
   "source": [
    "def numseries(num):\n",
    "    if num ==0:\n",
    "        return\n",
    "    print(num)\n",
    "    num-=1\n",
    "    return numseries(num)\n",
    "numseries(5)"
   ]
  },
  {
   "cell_type": "code",
   "execution_count": null,
   "metadata": {},
   "outputs": [],
   "source": [
    "def reverse_num(num):\n",
    "    s = 0\n",
    "    c = 10\n",
    "    while num>0:\n",
    "        last_digit = num%10\n",
    "        s = s *c + last_digit\n",
    "        # c*=10\n",
    "        num = num//10\n",
    "    return s\n",
    "reverse_num(123456789)\n",
    "def reverse_num(num,r):\n",
    "    if num<=0:\n",
    "        return r\n",
    "    else:\n",
    "        return reverse_num(num//10, r*10 + num%10)\n",
    "reverse_num(567,0)"
   ]
  },
  {
   "cell_type": "code",
   "execution_count": null,
   "metadata": {},
   "outputs": [],
   "source": [
    "def count_zero(num):\n",
    "    c = 0\n",
    "    while num>0:\n",
    "        if num%10 == 0:\n",
    "            c+=1\n",
    "        num//=10\n",
    "    return c\n",
    "count_zero(1205000000400)\n",
    "def count_zero(num, c):\n",
    "    if num<=0:\n",
    "        return c\n",
    "    else:\n",
    "        if num%10==0:\n",
    "            c = c+1\n",
    "        return count_zero(num//10, c)\n",
    "count_zero(1205000000400, 0)"
   ]
  },
  {
   "cell_type": "code",
   "execution_count": null,
   "metadata": {},
   "outputs": [],
   "source": [
    "def helper(num, c):\n",
    "    if num<=0:\n",
    "        return c\n",
    "    elif num&1==0:\n",
    "        c+=1\n",
    "        return helper(num//2,c)\n",
    "    else:\n",
    "        c+=1\n",
    "        return helper(num-1,c)\n",
    "def steps(num):\n",
    "    return helper(num, 0)\n",
    "steps(8)"
   ]
  },
  {
   "cell_type": "code",
   "execution_count": null,
   "metadata": {},
   "outputs": [],
   "source": [
    "def arrsorted(arr,idx):\n",
    "    if idx >=len(arr)-1:\n",
    "        return True\n",
    "    return (arr[idx]  < arr[idx+1 ]) & (arrsorted(arr,idx+1))\n",
    "arrsorted([1,2,4,2],0)\n"
   ]
  },
  {
   "cell_type": "code",
   "execution_count": null,
   "metadata": {},
   "outputs": [],
   "source": [
    "def arrsearch(arr,target,idx):\n",
    "    if idx >=len(arr):\n",
    "        return False\n",
    "    return (arr[idx] == target) | (arrsearch(arr,target,idx+1))\n",
    "# arrsearch([1,2,1,2,-1,0,10],10,0)\n",
    "\n",
    "def arrsearch(arr,target,idx, res):\n",
    "    if idx >=len(arr):\n",
    "        return res\n",
    "    elif arr[idx] == target:\n",
    "        res.append(idx)\n",
    "    return arrsearch(arr,target,idx+1, res)\n",
    "# arrsearch([1,2,1,2,-1,0,10],2,0,[])\n",
    "\n",
    "def arrsearch(arr,target,idx):\n",
    "    res = []\n",
    "    if idx >=len(arr):\n",
    "        return res\n",
    "    elif arr[idx] == target:\n",
    "        res.append(idx)\n",
    "    anss =  arrsearch(arr,target,idx+1)\n",
    "    res.extend(anss)\n",
    "    return res\n",
    "arrsearch([1,2,1,2,-1,0,10],-1,0)\n"
   ]
  },
  {
   "cell_type": "code",
   "execution_count": null,
   "metadata": {},
   "outputs": [],
   "source": [
    "def pattern1(n):\n",
    "    if n<=1:\n",
    "        print('* '*n)\n",
    "        return\n",
    "    print('* '*n)\n",
    "    return pattern1(n-1)\n",
    "# pattern1(3)\n",
    "\n",
    "def pattern1(r,c):\n",
    "    if r<=0 & c<=0:\n",
    "        return \n",
    "    if c<r:\n",
    "        pattern1(r, c+1)\n",
    "        print('*', end=' ')\n",
    "    else:\n",
    "        pattern1(r-1, 0)\n",
    "        print()\n",
    "\n",
    "pattern1(4,0)"
   ]
  },
  {
   "cell_type": "code",
   "execution_count": null,
   "metadata": {},
   "outputs": [],
   "source": [
    "def bubble_sort(arr):\n",
    "    n = len(arr)\n",
    "    for i in range(n):\n",
    "        for j in range(1,n-i):\n",
    "            if arr[j-1]>arr[j]:\n",
    "                arr[j-1], arr[j] = arr[j], arr[j-1]\n",
    "    return arr\n",
    "bubble_sort([3,2,4,1,51,4])\n",
    "def bubble_sort(arr, i, j):\n",
    "    if i <=1:\n",
    "        return arr\n",
    "    elif j <i:\n",
    "        if arr[j-1] > arr[j]:\n",
    "            arr[j-1] , arr[j] = arr[j], arr[j-1]\n",
    "        return bubble_sort(arr, i, j+1)\n",
    "    else:\n",
    "        return bubble_sort(arr, i-1,1)\n",
    "arr1 = [3,2,4,1,51,4]\n",
    "bubble_sort(arr1, len(arr1), 1)\n"
   ]
  },
  {
   "cell_type": "code",
   "execution_count": null,
   "metadata": {},
   "outputs": [],
   "source": [
    "def insertion_sort(arr):\n",
    "    n = len(arr)\n",
    "    for i in range(n):\n",
    "        max_elem = float('-inf')\n",
    "        idx = 0\n",
    "        for j in range(n-i):\n",
    "            if max_elem < arr[j]:\n",
    "                max_elem = max(max_elem, arr[j])\n",
    "                idx = j\n",
    "        arr[idx], arr[n-i-1]  = arr[n-i-1] , arr[idx]\n",
    "    return arr\n",
    "arr1 = [3,2,4,1,51,4]\n",
    "insertion_sort(arr1)"
   ]
  },
  {
   "cell_type": "code",
   "execution_count": null,
   "metadata": {},
   "outputs": [],
   "source": [
    "def insertion_sort(arr, i, j, max_elem):\n",
    "    if i<=0:\n",
    "        return arr\n",
    "    elif j<i:\n",
    "        if arr[j] > arr[max_elem]:\n",
    "            return insertion_sort(arr, i, j+1, j)\n",
    "        return insertion_sort(arr, i, j+1, max_elem)\n",
    "    else:\n",
    "        arr[max_elem], arr[i-1] = arr[i-1], arr[max_elem]\n",
    "        return insertion_sort(arr, i-1, 0, 0)\n",
    "arr1 = [3,2,4,1,51,4]\n",
    "insertion_sort(arr1, len(arr1), 0, 0)"
   ]
  },
  {
   "cell_type": "code",
   "execution_count": null,
   "metadata": {},
   "outputs": [],
   "source": [
    "import copy"
   ]
  },
  {
   "cell_type": "code",
   "execution_count": null,
   "metadata": {},
   "outputs": [],
   "source": [
    "def merge(first, second):\n",
    "    merge = [0]* len(first+second)\n",
    "    fl = len(first)\n",
    "    sl = len(second)\n",
    "    i = 0\n",
    "    j = 0\n",
    "    k = 0\n",
    "    while (i<fl and j<sl):\n",
    "        if first[i] < second[j]:\n",
    "            merge[k] = first[i]\n",
    "            i+=1\n",
    "        else:\n",
    "            merge[k] = second[j]\n",
    "            j+=1\n",
    "        k+=1\n",
    "    while(i<fl):\n",
    "        merge[k] = first[i]\n",
    "        i+=1\n",
    "        k+=1\n",
    "    while(j<sl):\n",
    "        merge[k] = second[j]\n",
    "        j+=1\n",
    "        k+=1\n",
    "    return merge\n",
    "\n",
    "def merge_sort(arr):\n",
    "    if len(arr)==1:\n",
    "        return arr\n",
    "    mid = len(arr) //2\n",
    "    left = merge_sort(copy.deepcopy(arr[0:mid]))\n",
    "    right = merge_sort(copy.deepcopy(arr[mid:len(arr)]))\n",
    "    return merge(left, right)\n",
    "\n",
    "arr1 = [1,2,5,1,2,3,8,21,9,0,32]\n",
    "merge_sort(arr1)\n"
   ]
  },
  {
   "cell_type": "code",
   "execution_count": null,
   "metadata": {},
   "outputs": [],
   "source": [
    "def merge(arr, s, m,e):\n",
    "    print(e-s)\n",
    "    merge = [0]* (e-s)\n",
    "    i = s\n",
    "    j = m\n",
    "    k = 0\n",
    "    while (i<m and j<e):\n",
    "        if arr[i] < arr[j]:\n",
    "            merge[k] = arr[i]\n",
    "            i+=1\n",
    "        else:\n",
    "            merge[k] = arr[j]\n",
    "            j+=1\n",
    "        k+=1\n",
    "    while(i<m):\n",
    "        merge[k] = arr[i]\n",
    "        i+=1\n",
    "        k+=1\n",
    "    while(j<e):\n",
    "        merge[k] = arr[j]\n",
    "        j+=1\n",
    "        k+=1\n",
    "    \n",
    "    for i in range(0,len(merge)):\n",
    "        arr[s+i]  = merge[i]\n",
    "    # return merge\n",
    "\n",
    "\n",
    "def merge_sort(arr, s, e):\n",
    "    if e-s==1:\n",
    "        return \n",
    "    mid = s + (e-s) //2\n",
    "    # left = merge_sort(arr, s, mid)\n",
    "    merge_sort(arr, s, mid)\n",
    "    # right = merge_sort(arr, mid, e)\n",
    "    merge_sort(arr, mid, e)\n",
    "    return merge(arr, s,mid, e)\n",
    "\n",
    "arr1 = [1,2,5,1,2,3,8,21,9,0,32]\n",
    "merge_sort(arr1,0,len(arr1))\n"
   ]
  },
  {
   "cell_type": "code",
   "execution_count": null,
   "metadata": {},
   "outputs": [],
   "source": [
    "arr1"
   ]
  },
  {
   "cell_type": "code",
   "execution_count": null,
   "metadata": {},
   "outputs": [],
   "source": [
    "def nto1(n):\n",
    "    if n==0:\n",
    "        return \n",
    "    print(n)\n",
    "    nto1(n-1)\n",
    "nto1(6)"
   ]
  },
  {
   "cell_type": "code",
   "execution_count": null,
   "metadata": {},
   "outputs": [],
   "source": [
    "def nto1(n):\n",
    "    if n==0:\n",
    "        return \n",
    "    print(n)\n",
    "    nto1(n-1)\n",
    "    print(n)\n",
    "nto1(6)"
   ]
  },
  {
   "cell_type": "code",
   "execution_count": null,
   "metadata": {},
   "outputs": [],
   "source": [
    "def fact(n):\n",
    "    if n==1:\n",
    "        return 1\n",
    "    return n*fact(n-1)\n",
    "\n",
    "fact(3)"
   ]
  },
  {
   "cell_type": "code",
   "execution_count": null,
   "metadata": {},
   "outputs": [],
   "source": [
    "def sumofdigits(n):\n",
    "    if n<=1:\n",
    "        return 1\n",
    "    return  (n%10) + sumofdigits(n//10)\n",
    "    \n",
    "sumofdigits(123)"
   ]
  },
  {
   "cell_type": "code",
   "execution_count": null,
   "metadata": {},
   "outputs": [],
   "source": [
    "def rev(n):\n",
    "    if n<=1:\n",
    "        return 1\n",
    "    return (n%10) + rev(n//10)*10\n",
    "def palin(n):\n",
    "    print(n, rev(n))\n",
    "    return n==rev(n)\n",
    "\n",
    "palin(12)"
   ]
  },
  {
   "cell_type": "code",
   "execution_count": null,
   "metadata": {},
   "outputs": [],
   "source": [
    "def count_zero(n,c):\n",
    "    if n<=1:\n",
    "        return c\n",
    "    if n%10==0:\n",
    "        return count_zero(n//10, c+1)\n",
    "    return count_zero(n//10,c)\n",
    "count_zero(1023040050,0)"
   ]
  },
  {
   "cell_type": "code",
   "execution_count": null,
   "metadata": {},
   "outputs": [],
   "source": [
    "def sorted_arrr(arr, index):\n",
    "    if index==len(arr)-1:\n",
    "        return True\n",
    "    if arr[index]<arr[index+1]:\n",
    "        return sorted_arrr(arr, index+1)\n",
    "    else:\n",
    "        return False\n",
    "    \n",
    "sorted_arrr([1,2,1,4], 0)"
   ]
  },
  {
   "cell_type": "code",
   "execution_count": null,
   "metadata": {},
   "outputs": [],
   "source": [
    "def linear_search(arr,target,  index):\n",
    "    if index==len(arr):\n",
    "        return False\n",
    "    if arr[index]==target:\n",
    "        return True\n",
    "    else:\n",
    "        return linear_search(arr, target, index+1)\n",
    "linear_search([1,2,3,4,5,6], 'sdf', 0)"
   ]
  },
  {
   "cell_type": "code",
   "execution_count": null,
   "metadata": {},
   "outputs": [],
   "source": [
    "def findindexes(arr, target, index,list):\n",
    "    if index==len(arr):\n",
    "        return list\n",
    "    if arr[index]==target:\n",
    "        list.append(index)\n",
    "    return findindexes(arr, target, index+1, list)\n",
    "findindexes([1,2,3,4,5,6,1,2,1,2], 2, 0, [])"
   ]
  },
  {
   "cell_type": "code",
   "execution_count": null,
   "metadata": {},
   "outputs": [],
   "source": [
    "def findindexes(arr, target, index):\n",
    "    list_ = []\n",
    "    if index==len(arr):\n",
    "        return list_\n",
    "    if arr[index]==target:\n",
    "        list_.append(index)\n",
    "    ans = findindexes(arr, target, index+1)\n",
    "    list_.extend(ans)\n",
    "    return list_\n",
    "findindexes([1,2,3,4,5,6,1,2,1,2], 1, 0)"
   ]
  },
  {
   "cell_type": "code",
   "execution_count": null,
   "metadata": {},
   "outputs": [],
   "source": [
    "def findrbs(arr, target, s, e):\n",
    "    if s>e:\n",
    "        return False\n",
    "    \n",
    "    mid = s + (e-s)//2\n",
    "    if arr[mid]==target:\n",
    "        return mid\n",
    "    if arr[s] <= arr[mid] :\n",
    "        if target >=arr[s] and target<=arr[mid]:\n",
    "            return findrbs(arr, target, s, mid-1)\n",
    "        else:\n",
    "            return findrbs(arr, target, mid+1, e)\n",
    "        \n",
    "    if arr[mid] <= target and arr[e]<=target:\n",
    "        return findrbs(arr, target, s, mid-1)\n",
    "    else:\n",
    "        return findrbs(arr, target, mid+1, e)\n",
    "\n",
    "# arr = [1,2,3,4,5,6,1,2,1,2]\n",
    "# arr = [1,2,3,4,5,6]\n",
    "arr = [4,5,6,1,2,3]\n",
    "findrbs(arr,3, 0, len(arr)-1)"
   ]
  },
  {
   "cell_type": "code",
   "execution_count": null,
   "metadata": {},
   "outputs": [],
   "source": [
    "# def pattern1(rows):\n",
    "#     if rows<=0:\n",
    "#         return\n",
    "#     print('* '*rows)\n",
    "#     pattern1(rows-1)\n",
    "# pattern1(5)\n",
    "\n",
    "def pattern1(rows, col):\n",
    "    if rows<=0:\n",
    "        return\n",
    "    if col==rows:\n",
    "        print()\n",
    "        pattern1(rows-1, 0)\n",
    "    else:\n",
    "        print('*', end=' ')\n",
    "        pattern1(rows, col+1)\n",
    "pattern1(2, 0)"
   ]
  },
  {
   "cell_type": "code",
   "execution_count": null,
   "metadata": {},
   "outputs": [],
   "source": [
    "def bubble_sort(arr, itr, idx):\n",
    "    if itr == 0:\n",
    "        return arr\n",
    "    if idx == itr -1:\n",
    "        return bubble_sort(arr, itr-1, 0)\n",
    "    if arr[idx] > arr[idx+1]:\n",
    "        arr[idx], arr[idx+1] =  arr[idx+1], arr[idx]\n",
    "    return bubble_sort(arr, itr, idx+1)\n",
    "\n",
    "arr = [5,1,2,3,4]\n",
    "bubble_sort(arr,len(arr), 0)"
   ]
  },
  {
   "cell_type": "code",
   "execution_count": null,
   "metadata": {},
   "outputs": [],
   "source": [
    "def selection_sort(arr, itr, idx, max):\n",
    "    if itr == 0:\n",
    "        return arr\n",
    "    if arr[max] < arr[idx]:\n",
    "        max =  idx\n",
    "    if idx == itr:\n",
    "        arr[max], arr[idx] = arr[idx], arr[max]\n",
    "        return selection_sort(arr, itr-1, 0,0)\n",
    "    \n",
    "    return selection_sort(arr, itr, idx+1, max)\n",
    "\n",
    "arr = [5,4,3,2,6]\n",
    "selection_sort(arr,len(arr)-1, 0, 0)"
   ]
  },
  {
   "cell_type": "code",
   "execution_count": null,
   "metadata": {},
   "outputs": [],
   "source": [
    "def merge( arr, s,m, e):\n",
    "    ls = s\n",
    "    le = m\n",
    "    rs = m+1\n",
    "    re = e\n",
    "    mix = []\n",
    "    # print('merge here',s,m,e)\n",
    "    while (ls<=le and rs<=re):\n",
    "        if arr[ls] <= arr[rs]:\n",
    "            mix.append(arr[ls])\n",
    "            ls+=1\n",
    "        else:\n",
    "            mix.append(arr[rs])\n",
    "            rs+=1\n",
    "    while (ls<=le):\n",
    "        mix.append(arr[ls])\n",
    "        ls+=1\n",
    "    while (rs<=re):\n",
    "        mix.append(arr[rs])\n",
    "        rs+=1\n",
    "    # return mix\n",
    "    # print('mix here',mix)\n",
    "    for i in range(len(mix)):\n",
    "        arr[s+i] = mix[i]\n",
    "\n",
    "def merge_sort(arr, s, e):\n",
    "    if s>=e:\n",
    "        return arr\n",
    "    m = s + (e-s)//2\n",
    "    merge_sort(arr, s, m)\n",
    "    merge_sort(arr, m+1, e)\n",
    "    merge(arr,s, m, e)\n",
    "\n",
    "# arr = [1,2,3,4,1,2,3,4]\n",
    "arr = [1,2,4,3,5,8,7]\n",
    "merge_sort(arr,0,len(arr)-1)\n",
    "print(arr)"
   ]
  },
  {
   "cell_type": "code",
   "execution_count": null,
   "metadata": {},
   "outputs": [],
   "source": [
    "def skipchar(string, char):\n",
    "    if len(string)<=0:\n",
    "        return string\n",
    "    a = string[0]\n",
    "    if a==char:\n",
    "        return skipchar(string[1:], char)\n",
    "    else:\n",
    "        return a + skipchar(string[1:], char)\n",
    "    \n",
    "skipchar('abcd','a')"
   ]
  },
  {
   "cell_type": "code",
   "execution_count": null,
   "metadata": {},
   "outputs": [],
   "source": [
    "def skipword(string:str, char):\n",
    "    if len(string)<=0:\n",
    "        return string\n",
    "    if string.startswith(char):\n",
    "        return skipword(string[len(char):], char)\n",
    "    else:\n",
    "        return string[0] + skipword(string[1:], char)\n",
    "    \n",
    "skipword('abappcd','apple')"
   ]
  },
  {
   "cell_type": "code",
   "execution_count": null,
   "metadata": {},
   "outputs": [],
   "source": []
  },
  {
   "cell_type": "code",
   "execution_count": null,
   "metadata": {},
   "outputs": [],
   "source": [
    "from typing import List\n",
    "\n",
    "def number_arr(x: int): \n",
    "    # Write your code here\n",
    "    a = []\n",
    "    if x < 1:\n",
    "        return a\n",
    "    f = number_arr(x-1)\n",
    "    a.extend(f)\n",
    "    a.append(x)\n",
    "    return a\n",
    "\n",
    "result = number_arr(5)\n",
    "print(result)\n"
   ]
  },
  {
   "cell_type": "code",
   "execution_count": null,
   "metadata": {},
   "outputs": [],
   "source": [
    "from typing import List\n",
    "\n",
    "def number_arr(x: int): \n",
    "    # Write your code here\n",
    "    a = []\n",
    "    if x < 1:\n",
    "        return a\n",
    "    a.append(x)\n",
    "    f = number_arr(x-1)\n",
    "    a.extend(f)\n",
    "    \n",
    "    return a\n",
    "\n",
    "result = number_arr(5)\n",
    "print(result)\n"
   ]
  },
  {
   "cell_type": "code",
   "execution_count": null,
   "metadata": {},
   "outputs": [],
   "source": [
    "def reversearray(n,i,nums):\n",
    "    if i>=n//2:\n",
    "        return nums\n",
    "    nums[i], nums[n-i-1] = nums[n-i-1],nums[i]\n",
    "    return reversearray(n,i+1,nums)\n",
    "\n",
    "\n",
    "def reverseArray(n, nums):\n",
    "    # Write your code here\n",
    "    return reversearray(n,0,nums)\n",
    "\n",
    "reverseArray(4, [1,2,3,4])"
   ]
  },
  {
   "cell_type": "code",
   "execution_count": null,
   "metadata": {},
   "outputs": [],
   "source": [
    "def palin(string, i, n):\n",
    "    if i >=n/2:\n",
    "        return True\n",
    "    if string[i]!=string[n-i-1]:\n",
    "        return False\n",
    "    return palin(string, i+1, n)\n",
    "def isPalindrome(string: str) -> bool:\n",
    "    s = ''\n",
    "    for i in string:\n",
    "        if i.isalpha():\n",
    "            s+=i.lower()\n",
    "    print(s)\n",
    "    return palin(s, 0, len(s))\n",
    "isPalindrome('A man, a plan, a canal: Panama')"
   ]
  },
  {
   "cell_type": "code",
   "execution_count": null,
   "metadata": {},
   "outputs": [],
   "source": [
    "def fib(n):\n",
    "    if n<=1:\n",
    "        return n\n",
    "    a= fib(n-1)\n",
    "    b = fib(n-2)\n",
    "    return a + b\n",
    "    # return n-1 + n-2\n",
    "fib(7)"
   ]
  },
  {
   "cell_type": "code",
   "execution_count": null,
   "metadata": {},
   "outputs": [],
   "source": [
    "def subseq(arr, subarr, n, index):\n",
    "    if index >n:\n",
    "        print(subarr,index)\n",
    "        return \n",
    "    subseq(arr,subarr,n,index+1)\n",
    "    subarr.append(arr[index])\n",
    "    subseq(arr,subarr,n,index+1)\n",
    "    subarr.pop()\n",
    "\n",
    "    # print(subarr)\n",
    "    return \n",
    "\n",
    "subseq([3,2,1], [],2,0)\n",
    "def subseq(arr, subarr, n, index):\n",
    "    if index >n:\n",
    "        print(subarr)\n",
    "        return \n",
    "    subarr.append(arr[index])\n",
    "    subseq(arr,subarr,n,index+1)\n",
    "    subarr.pop()\n",
    "    subseq(arr,subarr,n,index+1)\n",
    "    # print(subarr)\n",
    "    return \n",
    "\n",
    "subseq([3,2,1], [],2,0)"
   ]
  },
  {
   "cell_type": "code",
   "execution_count": null,
   "metadata": {},
   "outputs": [],
   "source": [
    "def subseqeqsum(arr,n,s, subarr, index,cursum): \n",
    "    if cursum==s:\n",
    "        print(subarr)\n",
    "        return\n",
    "    if index >n:\n",
    "        return\n",
    "    if cursum>s:\n",
    "        return\n",
    "    subarr.append(arr[index])\n",
    "    subseqeqsum(arr,n,s, subarr, index+1,cursum+arr[index])\n",
    "    subarr.pop()\n",
    "    subseqeqsum(arr,n,s, subarr, index+1,cursum)\n",
    "    # print(subarr)\n",
    "    return \n",
    "\n",
    "subseqeqsum([1,2,3,4,5],4,5, [],0,0)"
   ]
  },
  {
   "cell_type": "code",
   "execution_count": null,
   "metadata": {},
   "outputs": [],
   "source": [
    "def subseqeqsumcount(arr,n,s, subarr, index,cursum,count): \n",
    "    if cursum==s:\n",
    "        return  1\n",
    "    if index >n:\n",
    "        return 0\n",
    "    if cursum>s:\n",
    "        return 0\n",
    "    subarr.append(arr[index])\n",
    "    l = subseqeqsumcount(arr,n,s, subarr, index+1,cursum+arr[index],count)\n",
    "    subarr.pop()\n",
    "    r = subseqeqsumcount(arr,n,s, subarr, index+1,cursum,count)\n",
    "    # print(subarr)\n",
    "    return l+r\n",
    "\n",
    "subseqeqsumcount([1,2,3,4,5],4,5, [],0,0,0)"
   ]
  },
  {
   "cell_type": "code",
   "execution_count": null,
   "metadata": {},
   "outputs": [],
   "source": [
    "def mypow(base,power):\n",
    "    ans = 1\n",
    "    sign = 1\n",
    "    if power<0:\n",
    "        sign = -1\n",
    "        power = power * -1\n",
    "    while (power >0):\n",
    "        if power%2==0:\n",
    "            base = base*base\n",
    "            power = power//2\n",
    "        else:\n",
    "            ans = ans*base\n",
    "            power = power -1\n",
    "    if sign <0:\n",
    "        return 1/ans\n",
    "    return ans\n",
    "\n",
    "mypow(3,-3)"
   ]
  },
  {
   "cell_type": "code",
   "execution_count": null,
   "metadata": {},
   "outputs": [],
   "source": [
    "def goodnums(n,index):\n",
    "    if index>=len(n):\n",
    "        return True\n",
    "    else:\n",
    "        if index%2==int(n[index])%2:\n",
    "            return goodnums(n,index+1)\n",
    "        else:\n",
    "            return False\n",
    "goodnums('123',0)"
   ]
  },
  {
   "cell_type": "code",
   "execution_count": null,
   "metadata": {},
   "outputs": [],
   "source": [
    "def sum_digits_rm(n):\n",
    "    d  = n\n",
    "    n = n//10\n",
    "    s = 0\n",
    "    while (n>0):\n",
    "        s+=n%10\n",
    "        n= n//10\n",
    "    d = d//10\n",
    "    while (d>0):\n",
    "        if d<s:\n",
    "            return False\n",
    "        else:\n",
    "            d = d//10\n",
    "    return True\n"
   ]
  },
  {
   "cell_type": "code",
   "execution_count": null,
   "metadata": {},
   "outputs": [],
   "source": [
    "def countGoodNumbers(n: int) -> int:\n",
    "    mod = 10**9 + 7\n",
    "    to = n//2\n",
    "    if n%2==0:\n",
    "        te = n//2  # if even\n",
    "    else:\n",
    "        te = (n+1) //2 \n",
    "    te = pow(5,te,mod)\n",
    "\n",
    "    to = pow(4,to,mod)\n",
    "    c=te*to\n",
    "    return c %mod\n",
    "countGoodNumbers(4)"
   ]
  },
  {
   "cell_type": "code",
   "execution_count": null,
   "metadata": {},
   "outputs": [],
   "source": [
    "mod = 10**9 + 7\n",
    "(pow(2,5,mod) * pow(2,4,mod)) % mod"
   ]
  },
  {
   "cell_type": "code",
   "execution_count": null,
   "metadata": {},
   "outputs": [],
   "source": [
    "def reversestack(l, n,index):\n",
    "    if index>=n//2:\n",
    "        return l\n",
    "    l[index], l[n-index-1] = l[n-index-1], l[index]\n",
    "    return reversestack(l,n,index+1)\n",
    "\n",
    "# reversestack([1,2,3,4],4,0)\n",
    "reversestack([1,2,3],3,0)\n",
    "# reversestack([2,3],2,0)"
   ]
  },
  {
   "cell_type": "code",
   "execution_count": null,
   "metadata": {},
   "outputs": [],
   "source": [
    "def generatestring(n,idx,string):\n",
    "    ans = []\n",
    "    if idx>=n:\n",
    "        return [string]\n",
    "    if idx>0:\n",
    "        last_char = string[-1]\n",
    "        if last_char=='1':\n",
    "            return generatestring(n, idx+1, string+'0')\n",
    "    left =  generatestring(n, idx+1, string+'0')\n",
    "    ans.extend(left)\n",
    "    right = generatestring(n, idx+1, string+'1')\n",
    "    ans.extend(right)\n",
    "    return ans\n",
    "\n",
    "generatestring(3,0,'')"
   ]
  },
  {
   "cell_type": "code",
   "execution_count": null,
   "metadata": {},
   "outputs": [],
   "source": [
    "def generatesubsets(arr, n, idx,ans):\n",
    "    if idx>=n:\n",
    "        # print(ans)\n",
    "        return [ans.copy()]\n",
    "    ans.append(arr[idx])\n",
    "    left = generatesubsets(arr,n,idx+1,ans)\n",
    "    ans.remove(arr[idx])\n",
    "    right = generatesubsets(arr, n, idx+1,ans)\n",
    "    return left+right\n",
    "generatesubsets([1,2,3,4],4,0,[])"
   ]
  },
  {
   "cell_type": "code",
   "execution_count": null,
   "metadata": {},
   "outputs": [],
   "source": [
    "def validparts(n,opencount, closecount, ans):\n",
    "    if closecount+opencount>=2*n:\n",
    "        return [ans]\n",
    "    elif (opencount >=n )and (closecount < opencount):\n",
    "        return validparts(n, opencount+1, closecount, ans+')')\n",
    "    \n",
    "    elif closecount < opencount:\n",
    "        left = validparts(n, opencount+1, closecount, ans+'(')\n",
    "        right = validparts(n, opencount, closecount+1, ans+')')\n",
    "        return left+right\n",
    "    \n",
    "    else: # open thesis\n",
    "        return validparts(n, opencount+1, closecount, ans+'(')\n",
    "    \n",
    "validparts(3,1,0, '(')"
   ]
  },
  {
   "cell_type": "code",
   "execution_count": null,
   "metadata": {},
   "outputs": [],
   "source": [
    "def distinctsubseq(string, n,ans, idx):\n",
    "    ans_list =[]\n",
    "    if idx>=n:\n",
    "        # print(ans_list)\n",
    "        return [ans]\n",
    "    left = distinctsubseq(string, n, ans+string[idx], idx+1)\n",
    "    ans_list.append(left)\n",
    "    right = distinctsubseq(string, n, ans, idx+1)\n",
    "    ans_list.append(right)\n",
    "    return left + right\n",
    "# distinctsubseq('eeg', 3, '', 0)\n",
    "distinctsubseq('f', 1, '', 0)"
   ]
  },
  {
   "cell_type": "code",
   "execution_count": null,
   "metadata": {},
   "outputs": [],
   "source": [
    "def moreSubsequence(n: int, m: int, a: str, b:str) -> str:\n",
    "    # Write your code here.\n",
    "    a_len = len(set(distinctsubseq(a, len(a), '', 0)))\n",
    "    b_len = len(set(distinctsubseq(b, len(b), '', 0)))\n",
    "    if b_len>a_len:\n",
    "        return b\n",
    "    return a\n",
    "\n",
    "moreSubsequence(2,3,'f','eeg')"
   ]
  },
  {
   "cell_type": "code",
   "execution_count": null,
   "metadata": {},
   "outputs": [],
   "source": [
    "def subarrays(arr,n,s,idx,cursum, ans):\n",
    "    if cursum==s:\n",
    "        return [ans.copy()]\n",
    "    if idx>=n:\n",
    "        return []\n",
    "    if cursum>s:\n",
    "        return []\n",
    "    ans.append(arr[idx])\n",
    "    left = subarrays(arr, n,s, idx+1,cursum+arr[idx],  ans)\n",
    "    ans.remove(arr[idx])\n",
    "    right = subarrays(arr, n,s, idx+1,cursum,ans)\n",
    "    return left+right\n",
    "subarrays([1,2,3,1,1,1], 6,3, 0,0, [])\n",
    "# subarrays([1,2,3], 3,5, 0,0, [])"
   ]
  },
  {
   "cell_type": "code",
   "execution_count": null,
   "metadata": {},
   "outputs": [],
   "source": [
    "def subarrays(arr,n,s,idx,cursum):\n",
    "    if cursum==s:\n",
    "        return True\n",
    "    if idx>=n:\n",
    "        return False\n",
    "    if subarrays(arr, n, s,idx+1,cursum+arr[idx]):\n",
    "        return True\n",
    "    if subarrays(arr, n,s, idx+1,cursum):\n",
    "        return True\n",
    "    return False\n",
    "# subarrays([1,2,3,1,1,1], 6,10, 0,0)\n",
    "# subarrays([4,2,5,6,7],5, 14, 0,0)\n",
    "subarrays([4,2,5,6,7],5, 14, 0,0)"
   ]
  },
  {
   "cell_type": "code",
   "execution_count": null,
   "metadata": {},
   "outputs": [],
   "source": [
    "def subarrays(arr, n, s, idx, cursum):\n",
    "    if idx >= n:\n",
    "        if cursum == s:\n",
    "            return True\n",
    "        else:\n",
    "            return False\n",
    "\n",
    "    # Include the current element in the sum for the left branch\n",
    "    if subarrays(arr, n, s, idx + 1, cursum + arr[idx]):\n",
    "        return True\n",
    "\n",
    "    # Exclude the current element in the sum for the right branch\n",
    "    if subarrays(arr, n, s, idx + 1, cursum):\n",
    "        return True\n",
    "\n",
    "    return False\n",
    "\n",
    "# Test cases\n",
    "print(subarrays([1, 2, 3, 1, 1, 1], 6, 10, 0, 0))\n",
    "print(subarrays([4, 2, 5, 6, 7], 5, 14, 0, 0))\n",
    "print(subarrays([4, 2, 5, 6, 7], 5, 13, 0, 0))\n"
   ]
  },
  {
   "cell_type": "code",
   "execution_count": null,
   "metadata": {},
   "outputs": [],
   "source": [
    "def combinationsum(arr, n,s, idx,cursum, ans):\n",
    "    if idx>=n:\n",
    "        if cursum==s:\n",
    "            return [ans]\n",
    "        else:\n",
    "            return []\n",
    "    if cursum==s:\n",
    "        return [ans]\n",
    "    if cursum>s:\n",
    "        return []\n",
    "    # ans.append(arr[idx])\n",
    "    left = combinationsum(arr, n, s, idx+1, cursum+arr[idx], ans+[arr[idx]])\n",
    "    # ans.remove(arr[idx])\n",
    "    right = combinationsum(arr, n, s, idx+1, cursum, ans)\n",
    "    return left+right\n",
    "\n",
    "combinationsum([2,1,4,3,6,7],6,7,0,0,[])\n",
    "# combinationsum([2,3,6,7],4,7,0,0,[])"
   ]
  },
  {
   "cell_type": "code",
   "execution_count": null,
   "metadata": {},
   "outputs": [],
   "source": [
    "def combinationsum(arr, n,s, idx,cursum, ans):\n",
    "    if idx>=n:\n",
    "        if cursum==s:\n",
    "            return [ans]\n",
    "        else:\n",
    "            return []\n",
    "    if cursum==s:\n",
    "        return [ans]\n",
    "    if cursum>s:\n",
    "        return []\n",
    "    # ans.append(arr[idx])\n",
    "    if arr[idx]<=cursum:\n",
    "        left = combinationsum(arr, n, s, idx+1, cursum-arr[idx], ans+[arr[idx]])\n",
    "    # ans.remove(arr[idx])\n",
    "    right = combinationsum(arr, n, s, idx+1, cursum, ans)\n",
    "    return left+right\n",
    "\n",
    "combinationsum([2,1,4,3,6,7],6,7,0,7,[])\n",
    "# combinationsum([2,3,6,7],4,7,0,0,[])"
   ]
  },
  {
   "cell_type": "code",
   "execution_count": null,
   "metadata": {},
   "outputs": [],
   "source": [
    "def premutation(arr,i, ans, n):\n",
    "    if i>=n:\n",
    "        print(arr)\n",
    "        return \n",
    "    for j in range(i,n):\n",
    "        arr[i], arr[j] = arr[j], arr[i]\n",
    "        premutation(arr, i+1, arr, n)\n",
    "        arr[j], arr[i] = arr[i], arr[j]\n",
    "        \n",
    "premutation([1,2,3], 0,'', 3)"
   ]
  },
  {
   "cell_type": "code",
   "execution_count": null,
   "metadata": {},
   "outputs": [],
   "source": [
    "def permuatation(arr,n, i, ):\n",
    "    ans = []\n",
    "    if i>=n:\n",
    "        return [arr.copy()]\n",
    "    \n",
    "    ss = set()\n",
    "    for j in range(i, n):\n",
    "        if arr[j] in ss:\n",
    "            continue\n",
    "        else:\n",
    "            ss.add(arr[j])\n",
    "        arr[i], arr[j] = arr[j], arr[i]\n",
    "        res = permuatation(arr, n, i+1)\n",
    "        ans.extend(res)\n",
    "        arr[j], arr[i] = arr[i], arr[j]\n",
    "    return ans\n",
    "    \n",
    "permuatation([1,2,2], 3, 0)\n",
    "# permuatation(list(\"123\"), 3, 0)"
   ]
  },
  {
   "cell_type": "code",
   "execution_count": null,
   "metadata": {},
   "outputs": [],
   "source": [
    "def combination(arr, n, k, s, ans):\n",
    "    # a = []\n",
    "    if k==0:\n",
    "        return [ans.copy()]\n",
    "    if s>=n:\n",
    "        return []\n",
    "    # a.append(arr[s])\n",
    "    left = combination(arr, n, k-1, s+1,ans+[arr[s]])\n",
    "    # a.pop()\n",
    "    right = combination(arr, n, k, s+1, ans)\n",
    "    return left +right\n",
    "\n",
    "combination([1,2,3,4], 4, 2, 0, [])"
   ]
  },
  {
   "cell_type": "code",
   "execution_count": null,
   "metadata": {},
   "outputs": [],
   "source": [
    "def combination( n, k, s, ans):\n",
    "    # a = []\n",
    "    if k==0:\n",
    "        return [ans.copy()]\n",
    "    if s>=n:\n",
    "        return []\n",
    "    # a.append(s])\n",
    "    left = combination( n, k-1, s+1,ans+[s])\n",
    "    # a.pop()\n",
    "    right = combination( n, k, s+1, ans)\n",
    "    return left +right\n",
    "\n",
    "combination(4, 2, 0, [])"
   ]
  },
  {
   "cell_type": "code",
   "execution_count": null,
   "metadata": {},
   "outputs": [],
   "source": [
    "def csum(c,n, t, r, a):\n",
    "    if t==0:\n",
    "        return [a.copy()]\n",
    "    if r>=n:\n",
    "        return []\n",
    "    if t<0:\n",
    "        return []\n",
    "    left = csum(c, n, t-c[r], r, a+[c[r]])\n",
    "    right = csum(c, n, t, r+1, a)\n",
    "    return left+right\n",
    "\n",
    "csum([2,3,6,7],4, 7, 0, [])\n",
    "    "
   ]
  },
  {
   "cell_type": "code",
   "execution_count": null,
   "metadata": {},
   "outputs": [],
   "source": [
    "def phone(s, ans,index, map):\n",
    "    # if len(s)>=len(ans):\n",
    "    #     return [ans.copy()]\n",
    "    if index>=len(s):\n",
    "        return [ans]\n",
    "    x = []\n",
    "    digit = s[index]\n",
    "    value = map[int(digit)]\n",
    "    for i in range(len(value)):\n",
    "        # ans.append(value[i])\n",
    "        x.extend(phone(s, ans+value[i],index+1,map))\n",
    "        # ans.pop()\n",
    "    return x\n",
    "phone('23','',0,['','','abc','def','ghi','jkl','mno','pqrs','tuv','wxyz'])"
   ]
  },
  {
   "cell_type": "code",
   "execution_count": null,
   "metadata": {},
   "outputs": [],
   "source": [
    "def partition(arr,k,s, cs,i, ans):\n",
    "    if cs==s:\n",
    "        return [ans.copy()]\n",
    "    if cs>s:\n",
    "        return []\n",
    "    if i>=len(arr):\n",
    "        return []\n",
    "    left = partition(arr, k, s, cs+arr[i], i+1,ans + [arr[i]])\n",
    "    right = partition(arr, k, s, cs,i+1, ans)\n",
    "    return left + right\n",
    "\n",
    "a = [4,3,2,3,5,2,1]\n",
    "k = 4\n",
    "print(sum(a) // k)\n",
    "partition(a,k,sum(a)//k, 0,0,[] )"
   ]
  },
  {
   "cell_type": "code",
   "execution_count": null,
   "metadata": {},
   "outputs": [],
   "source": [
    "def partitionk(arr,arr_i, k, ts, cs,cur_arr,bool_arr, ans):\n",
    "    \n",
    "    if arr_i>=len(arr):\n",
    "        # print(ans)\n",
    "        return False # partitionk(arr,arr_i, k, ts, 0,[], ans)\n",
    "    if bool_arr[arr_i]:\n",
    "        return partitionk(arr,arr_i+1, k, ts, cs,cur_arr,bool_arr, ans)\n",
    "    if k<=1:\n",
    "        return True\n",
    "    if cs==ts:\n",
    "        # ans.append(cur_arr)\n",
    "        return partitionk(arr,0, k-1, ts, 0,[],bool_arr, cur_arr)\n",
    "    if cs>ts:\n",
    "        return False # partitionk(arr,arr_i, k, ts, 0,[], ans)\n",
    "    \n",
    "    bool_arr[arr_i] = True\n",
    "    left = partitionk(arr,arr_i+1, k, ts, cs+arr[arr_i],cur_arr + [arr[arr_i]],bool_arr, ans)\n",
    "    bool_arr[arr_i] = False\n",
    "    right = partitionk(arr,arr_i+1, k, ts, cs,cur_arr,bool_arr, ans)\n",
    "    return left or right\n",
    "# partitionk([4,3,2,3,5,2,1],0,4,5,0,[],[False]*7,[])\n",
    "# partitionk([2,2,2,2,3,4,5],0,4,5,0,[],[False]*7,[])\n",
    "# partitionk([7,9,5],0,3,21,0,[],[False]*3,[])\n",
    "partitionk([10,1,10,9,6,1,9,5,9,10,7,8,5,2,10,8],0,11,sum([10,1,10,9,6,1,9,5,9,10,7,8,5,2,10,8])//11,0,[],[False]*3,[])\n",
    "\n"
   ]
  },
  {
   "cell_type": "code",
   "execution_count": null,
   "metadata": {},
   "outputs": [],
   "source": [
    "def partitionk(arr,arr_i, k, ts, cs,bool_arr):\n",
    "    print(k)\n",
    "    if arr_i>=len(arr):\n",
    "        return False \n",
    "    \n",
    "    if k<=0:\n",
    "        print('yes')\n",
    "        return True\n",
    "    if cs==ts:\n",
    "        return partitionk(arr,0, k-1, ts, 0,bool_arr)\n",
    "    \n",
    "    if cs>ts:\n",
    "        return False \n",
    "    \n",
    "    if bool_arr[arr_i]:\n",
    "        return partitionk(arr,arr_i+1, k, ts, cs,bool_arr)\n",
    "    bool_arr[arr_i] = True\n",
    "    left = partitionk(arr,arr_i+1, k, ts, cs+arr[arr_i],bool_arr)\n",
    "    bool_arr[arr_i] = False\n",
    "    right = partitionk(arr,arr_i+1, k, ts, cs,bool_arr)\n",
    "    return left or right\n",
    "# partitionk([4,3,2,3,5,2,1],0,4,5,0,[False]*7)\n",
    "partitionk([10,1,10,9,6,1,9,5,9,10,7,8,5,2,10,8],0,11,sum([10,1,10,9,6,1,9,5,9,10,7,8,5,2,10,8])//11,0,[False]*len([10,1,10,9,6,1,9,5,9,10,7,8,5,2,10,8]))\n",
    "# partitionk([4,3,1,3,4,3,1,2],0,3,sum([4,3,1,3,4,3,1,2])//3,0,[False]*8)\n",
    "# partitionk([2,2,2,2,3,4,5],0,4,5,0,[],[False]*7,[])\n",
    "# partitionk([7,9,5],0,3,21,0,[],[False]*3,[])\n",
    "\n"
   ]
  },
  {
   "cell_type": "code",
   "execution_count": null,
   "metadata": {},
   "outputs": [],
   "source": [
    "def maxlength(arr,arr_i, hash_set, max_len):\n",
    "    if arr_i>=len(arr):\n",
    "        return max_len\n",
    "    \n",
    "    for i in arr[arr_i]:\n",
    "        if hash_set[ord(i) - ord('a')]:\n",
    "            maxlength(arr, arr_i+1, hash_set, max_len)\n",
    "            \n",
    "    for i in arr[arr_i]:\n",
    "        hash_set[ord(i) - ord('a')] = True\n",
    "    left = maxlength(arr,arr_i +1 , hash_set,max_len+len(arr[arr_i]))\n",
    "    for i in arr[arr_i]:\n",
    "        hash_set[ord(i) - ord('a')] = False\n",
    "    right = maxlength(arr,arr_i +1 , hash_set, max_len)\n",
    "\n",
    "    return max(left, right)\n",
    "\n",
    "# maxlength([\"cha\",\"r\",\"act\",\"ers\"],0,[False]*26, 0 )\n",
    "# maxlength([\"un\",\"iq\",\"ue\"],0,[False]*26, 0 )\n",
    "maxlength([\"abcdefghijklmnopqrstuvwxyz\"],0,[False]*26, 0 )    "
   ]
  },
  {
   "cell_type": "code",
   "execution_count": null,
   "metadata": {},
   "outputs": [],
   "source": [
    "def compare(curstring, hash_set):\n",
    "    # check if the string is unique itself\n",
    "    self_check = [False]*26\n",
    "    for i in curstring:\n",
    "        # print(ord(i) - ord('a'))\n",
    "        if self_check[ord(i) - ord('a')]==True:\n",
    "            return False\n",
    "        else:\n",
    "            self_check[ord(i) - ord('a')] = True\n",
    "        \n",
    "    for i in curstring:\n",
    "        if hash_set[ord(i) - ord('a')]==True:\n",
    "            return False\n",
    "    return True\n",
    "\n",
    "def maxlength(arr,arr_i,string, hash_set, max_len):\n",
    "    if arr_i>=len(arr):\n",
    "        return max_len\n",
    "    \n",
    "    if compare(arr[arr_i],hash_set)==False:\n",
    "        return maxlength(arr, arr_i+1,string, hash_set, max_len)\n",
    "\n",
    "    for i in arr[arr_i]:\n",
    "        hash_set[ord(i) - ord('a')] = True\n",
    "\n",
    "    left = maxlength(arr,arr_i +1 ,string+arr[arr_i], hash_set,max_len+len(arr[arr_i]))\n",
    "\n",
    "    for i in arr[arr_i]:\n",
    "        hash_set[ord(i) - ord('a')] = False\n",
    "    right = maxlength(arr,arr_i +1 ,string, hash_set, max_len)\n",
    "\n",
    "    return max(left, right)\n",
    "\n",
    "maxlength([\"cha\",\"r\",\"act\",\"ers\"],0,'',[False]*26, 0 )\n",
    "# maxlength([\"un\",\"iq\",\"ue\"],0,[False]*26, 0 )\n",
    "# maxlength([\"abcdefghijklmnopqrstuvwxyz\"],0,'',[False]*26, 0 )    "
   ]
  },
  {
   "cell_type": "code",
   "execution_count": 75,
   "metadata": {},
   "outputs": [
    {
     "data": {
      "text/plain": [
       "3"
      ]
     },
     "execution_count": 75,
     "metadata": {},
     "output_type": "execute_result"
    }
   ],
   "source": [
    "def rob(arr,n, arr_i,money):\n",
    "    if arr_i>=n:\n",
    "        return money\n",
    "    left = rob(arr, n, arr_i+2, money+arr[arr_i])\n",
    "    right = rob(arr, n, arr_i+1, money)\n",
    "    return max(left, right)\n",
    "\n",
    "# rob([1,2,3,1],4, 0, 0)\n",
    "rob([1,2,1,1],4, 0, 0)"
   ]
  },
  {
   "cell_type": "code",
   "execution_count": 79,
   "metadata": {},
   "outputs": [
    {
     "data": {
      "text/plain": [
       "[[2, 2, 2], [2, 2, 0], [2, 0, 1]]"
      ]
     },
     "execution_count": 79,
     "metadata": {},
     "output_type": "execute_result"
    }
   ],
   "source": [
    "def helper( image,m,n, x, y, oldcolor, newcolor):\n",
    "    \n",
    "    if x>=m or x<0 or y>=n or y<0 or image[x][y]!=oldcolor:\n",
    "        # print('yes')\n",
    "        return image\n",
    "    image[x][y] = newcolor\n",
    "    helper(image,m,n, x-1, y, oldcolor, newcolor)\n",
    "    helper(image,m,n, x+1, y, oldcolor, newcolor)\n",
    "    helper(image,m,n, x, y-1, oldcolor, newcolor)\n",
    "    helper(image,m,n, x, y+1, oldcolor, newcolor)\n",
    "    return image\n",
    "def floodFill( image, sr, sc, color):\n",
    "        oldcolor = image[sr][sc]\n",
    "        m = len(image)\n",
    "        n = len(image[0])\n",
    "        if oldcolor==color:\n",
    "            return image\n",
    "        return helper(image,m,n, sr,sc, oldcolor, color)\n",
    "\n",
    "floodFill([[1,1,1],[1,1,0],[1,0,1]], 1,1,2)"
   ]
  },
  {
   "cell_type": "code",
   "execution_count": 104,
   "metadata": {},
   "outputs": [
    {
     "data": {
      "text/plain": [
       "False"
      ]
     },
     "execution_count": 104,
     "metadata": {},
     "output_type": "execute_result"
    }
   ],
   "source": [
    "def helper(board, m,n, x,y, word, word_i):\n",
    "    if word_i>=len(word):\n",
    "        return True\n",
    "    if x>=m or x<0 or y>=n or y<0 or board[x][y]!=word[word_i]:\n",
    "        return False\n",
    "    \n",
    "    board[x][y] = '#'\n",
    "    \n",
    "    down  = helper(board, m,n, x+1,y, word, word_i+1)\n",
    "    up = helper(board, m,n, x-1,y, word, word_i+1)\n",
    "    right= helper(board, m,n, x,y+1, word, word_i+1)\n",
    "    left = helper(board, m,n, x,y-1, word, word_i+1)\n",
    "    board[x][y] = word[word_i]\n",
    "    return up or down or left or right\n",
    "\n",
    "def word_search(board, word):\n",
    "    m = len(board)\n",
    "    n = len(board[0])\n",
    "    for i in range(m):\n",
    "        for j in range(n):\n",
    "            if board[i][j]==word[0]:\n",
    "                if helper(board, m,n, i,j, word, 0):\n",
    "                    return True\n",
    "    return False\n",
    "# word_search([[\"A\",\"B\",\"C\",\"E\"],[\"S\",\"F\",\"C\",\"S\"],[\"A\",\"D\",\"E\",\"E\"]], 'SEE')\n",
    "word_search([[\"A\",\"B\",\"C\",\"E\"],[\"S\",\"F\",\"C\",\"S\"],[\"A\",\"D\",\"E\",\"E\"]], 'ABCB')\n",
    "    "
   ]
  },
  {
   "cell_type": "code",
   "execution_count": 139,
   "metadata": {},
   "outputs": [
    {
     "data": {
      "text/plain": [
       "[]"
      ]
     },
     "execution_count": 139,
     "metadata": {},
     "output_type": "execute_result"
    }
   ],
   "source": [
    "def rat_in_maze(arr, m, n, x, y, path, ans):\n",
    "    # check if bottom right is reached\n",
    "    \n",
    "    if x>=m or x<0 or y>=n or y<0 or arr[x][y]==0:\n",
    "        return []\n",
    "    \n",
    "    if x>=m-1 and y>=n-1:\n",
    "        ans.append(path)\n",
    "        return ans\n",
    "    \n",
    "    arr[x][y] = 0\n",
    "    rat_in_maze(arr, m, n, x+1, y, path+'D',ans)\n",
    "    rat_in_maze(arr, m, n, x, y-1, path+'L', ans)\n",
    "    rat_in_maze(arr, m, n, x, y+1, path+'R',ans)\n",
    "    rat_in_maze(arr, m, n, x-1, y, path+'U',ans)\n",
    "    arr[x][y] = 1\n",
    "    # print(ans)\n",
    "    return ans\n",
    "\n",
    "def searchMaze(arr, n):\n",
    "    m = n\n",
    "    n = n\n",
    "    return rat_in_maze(arr, m, n, 0,0, '', [])\n",
    "\n",
    "\n",
    "# a1 = [[1,0,0,0,],[1,1,0,1],[1,1,0,0],[0,1,1,1]]\n",
    "# a2 = [[1,0],\n",
    "#       [1,1]]\n",
    "a3 = [[0,1,0],\n",
    "      [1,0,1],\n",
    "      [0,0,1]]\n",
    "# searchMaze(a1,4)\n",
    "# searchMaze(a2,2)\n",
    "searchMaze(a3,3)"
   ]
  },
  {
   "cell_type": "code",
   "execution_count": 31,
   "metadata": {},
   "outputs": [
    {
     "data": {
      "text/plain": [
       "[['.Q..', '...Q', 'Q...', '..Q.'], ['..Q.', 'Q...', '...Q', '.Q..']]"
      ]
     },
     "execution_count": 31,
     "metadata": {},
     "output_type": "execute_result"
    }
   ],
   "source": [
    "'''\n",
    "00|01|02\n",
    "10|11|12\n",
    "20|21|22\n",
    "\n",
    "'''\n",
    "#(1,2)\n",
    "def self_check(col_i,row_i,n_rows,n_cols, board):\n",
    "    # (x,y)\n",
    "    # check col \n",
    "    # print(col_i, row_i)\n",
    "    # for i in range(0,col_i):\n",
    "    #     if board[i][col_i]=='Q':\n",
    "    #         return False\n",
    "    for i in range(row_i):\n",
    "        if board[i][col_i] == 'Q':\n",
    "            return False\n",
    "        \n",
    "    # check the upper left diagonal\n",
    "    row_start = row_i\n",
    "    col_start = col_i\n",
    "    while (row_start>=0 and col_start>=0):\n",
    "        if board[row_start][col_start]=='Q':\n",
    "            return False\n",
    "        row_start-=1\n",
    "        col_start-=1\n",
    "        \n",
    "    # check the upper right diagonal\n",
    "    row_start = row_i\n",
    "    col_start = col_i\n",
    "    while ( col_start<n_cols and row_start>=0):\n",
    "        if board[row_start][col_start]=='Q':\n",
    "            return False\n",
    "        row_start-=1\n",
    "        col_start+=1\n",
    "\n",
    "    return True\n",
    "\n",
    "def n_queens(row_i, n_rows, n_cols, board, ans):\n",
    "    if row_i>=n_rows:\n",
    "        # print('yes row ended')\n",
    "        ans.append([''.join(row) for row in board])\n",
    "        return \n",
    "    for col_i in range(n_cols):\n",
    "        if self_check(col_i,row_i,n_rows,n_cols, board):\n",
    "            # print('yes')\n",
    "            board[row_i][col_i] = 'Q'\n",
    "            n_queens(row_i + 1,n_rows, n_cols, board, ans)\n",
    "            board[row_i][col_i] = '.'\n",
    "    return ans\n",
    "\n",
    "\n",
    "def queen(n):\n",
    "    return n_queens(0,n,n,[['.'] * n for _ in range(n)],[])\n",
    "\n",
    "queen(4)"
   ]
  },
  {
   "cell_type": "code",
   "execution_count": 10,
   "metadata": {},
   "outputs": [
    {
     "data": {
      "text/plain": [
       "[['5', '3', '4', '6', '7', '8', '9', '1', '2'],\n",
       " ['6', '7', '2', '1', '9', '5', '3', '4', '8'],\n",
       " ['1', '9', '8', '3', '4', '2', '5', '6', '7'],\n",
       " ['8', '5', '9', '7', '6', '1', '4', '2', '3'],\n",
       " ['4', '2', '6', '8', '5', '3', '7', '9', '1'],\n",
       " ['7', '1', '3', '9', '2', '4', '8', '5', '6'],\n",
       " ['9', '6', '1', '5', '3', '7', '2', '8', '4'],\n",
       " ['2', '8', '7', '4', '1', '9', '6', '3', '5'],\n",
       " ['3', '4', '5', '2', '8', '6', '1', '7', '9']]"
      ]
     },
     "execution_count": 10,
     "metadata": {},
     "output_type": "execute_result"
    }
   ],
   "source": [
    "\n",
    "# (4,2)\n",
    "# 3-5 and 0-3\n",
    "#  4,5,6\n",
    "def self_check(col_i, row_i,val, n_rows, n_cols, board):\n",
    "    \n",
    "    # check the row_i\n",
    "    for col_x in range(n_cols): \n",
    "        if board[row_i][col_x]==str(val):\n",
    "            return False\n",
    "    \n",
    "    # check the col_i\n",
    "    for row_x in range(n_rows): \n",
    "        if board[row_x][col_i]==str(val):\n",
    "            return False\n",
    "    \n",
    "    # check the 3x3 matrix\n",
    "    startRow = row_i - row_i % 3\n",
    "    startCol = col_i - col_i % 3\n",
    "    for x_i in range(3):\n",
    "        for x_j in range(3):\n",
    "            if board[x_i + startRow][x_j + startCol] == str(val):\n",
    "                return False\n",
    "            \n",
    "        \n",
    "    return True\n",
    "\n",
    "def soduko_solver(n_rows, n_cols, board):\n",
    "    for row_i in range(n_rows):\n",
    "        for col_i in range(n_cols):\n",
    "            if board[row_i][col_i] =='.':\n",
    "                for i in range(1,10):\n",
    "                    if self_check(col_i, row_i,i, n_rows, n_cols, board):\n",
    "                        board[row_i][col_i] = str(i)\n",
    "                        if soduko_solver( n_rows, n_cols, board)==True:\n",
    "                            return True\n",
    "                        else:\n",
    "                            board[row_i][col_i] = '.'\n",
    "                return False\n",
    "    return True\n",
    "\n",
    "\n",
    "def soduku(board):\n",
    "    if soduko_solver(len(board), len(board[0]), board)==True:\n",
    "        return board\n",
    "\n",
    "soduku([[\"5\",\"3\",\".\",\".\",\"7\",\".\",\".\",\".\",\".\"],[\"6\",\".\",\".\",\"1\",\"9\",\"5\",\".\",\".\",\".\"],\n",
    "        [\".\",\"9\",\"8\",\".\",\".\",\".\",\".\",\"6\",\".\"],[\"8\",\".\",\".\",\".\",\"6\",\".\",\".\",\".\",\"3\"],\n",
    "        [\"4\",\".\",\".\",\"8\",\".\",\"3\",\".\",\".\",\"1\"],[\"7\",\".\",\".\",\".\",\"2\",\".\",\".\",\".\",\"6\"],\n",
    "        [\".\",\"6\",\".\",\".\",\".\",\".\",\"2\",\"8\",\".\"],[\".\",\".\",\".\",\"4\",\"1\",\"9\",\".\",\".\",\"5\"],\n",
    "        [\".\",\".\",\".\",\".\",\"8\",\".\",\".\",\"7\",\"9\"]])"
   ]
  },
  {
   "cell_type": "code",
   "execution_count": 24,
   "metadata": {},
   "outputs": [
    {
     "data": {
      "text/plain": [
       "1"
      ]
     },
     "execution_count": 24,
     "metadata": {},
     "output_type": "execute_result"
    }
   ],
   "source": [
    "def num_decode(s, index,unprocessed,  ans):\n",
    "    if index >=len(s):\n",
    "        return 0\n",
    "    # if len(unprocessed) >2:\n",
    "    #     return 0\n",
    "    \n",
    "    if len(unprocessed) >0 and unprocessed[0] =='0':\n",
    "        return 0\n",
    "    \n",
    "    if len(unprocessed) ==1 and int(unprocessed) <=9 and int(unprocessed) >=1:\n",
    "        return 1\n",
    "    \n",
    "    if len(unprocessed) >1 and int(unprocessed) >= 10 and int(unprocessed) <= 26:\n",
    "        # ans.append(processed_str)\n",
    "        return 1\n",
    "\n",
    "    x = s[index: index+2]\n",
    "    y = s[index]\n",
    "    left = num_decode(s, index+2,unprocessed+x,  ans)\n",
    "    right = num_decode(s, index+1,unprocessed + y ,  ans)\n",
    "    return left + right\n",
    "\n",
    "# num_decode('06', 0, '', 0)\n",
    "# num_decode('11106', 0, '', 0)\n",
    "num_decode('12', 0, '', 0)"
   ]
  },
  {
   "cell_type": "code",
   "execution_count": 30,
   "metadata": {},
   "outputs": [
    {
     "data": {
      "text/plain": [
       "2"
      ]
     },
     "execution_count": 30,
     "metadata": {},
     "output_type": "execute_result"
    }
   ],
   "source": [
    "def staircase(n, i):\n",
    "    if i>=n:\n",
    "        return 1\n",
    "    left  = staircase(n, i+1 )\n",
    "    right  = staircase(n, i+2 )\n",
    "    return left + right\n",
    "\n",
    "staircase(2, 1)"
   ]
  },
  {
   "cell_type": "code",
   "execution_count": 37,
   "metadata": {},
   "outputs": [
    {
     "data": {
      "text/plain": [
       "['aa', 'a', 'a', 'b', '']"
      ]
     },
     "execution_count": 37,
     "metadata": {},
     "output_type": "execute_result"
    }
   ],
   "source": [
    "def self_check(palin_string, n):\n",
    "    for i in range(n//2):\n",
    "        if palin_string[i]!=palin_string[n - i -1]:\n",
    "            return False\n",
    "    return True\n",
    "\n",
    "def palindrome_partition(string, n, str_i,process_str):\n",
    "    if str_i>=n:\n",
    "        if self_check(process_str, len(process_str)):\n",
    "            return [process_str]\n",
    "        else:\n",
    "            return []\n",
    "    left = palindrome_partition(string, n, str_i + 1,process_str + string[str_i])\n",
    "    right = palindrome_partition(string, n, str_i + 1,process_str)\n",
    "    return left + right\n",
    "\n",
    "palindrome_partition('aab', len('aab'), 0, '')\n",
    "# palindrome_partition('a', len('a'), 0, '')\n"
   ]
  },
  {
   "cell_type": "code",
   "execution_count": null,
   "metadata": {},
   "outputs": [],
   "source": [
    "def self_check(string, start_index, end_index):\n",
    "    print('yes')\n",
    "    while(start_index <= end_index):\n",
    "        if string[start_index]!=string[end_index]:\n",
    "            return False\n",
    "        start_index+=1\n",
    "        end_index-=1\n",
    "    return True\n",
    "\n",
    "def palindrome_partition(string, start_index, end_index, n, ans, res):\n",
    "    \n",
    "    if start_index>=n:\n",
    "        res.append([ans].copy())\n",
    "        return \n",
    "\n",
    "    for i in range(start_index, end_index):\n",
    "        if self_check(string, start_index, i):\n",
    "            ans.append(string[start_index:i])\n",
    "            palindrome_partition(string, i, end_index, n, ans,res)\n",
    "            ans.pop()\n",
    "   \n",
    "\n",
    "palindrome_partition('aaba', 0, len('aaba'),len('aaba'), [],[])"
   ]
  },
  {
   "cell_type": "code",
   "execution_count": 33,
   "metadata": {},
   "outputs": [
    {
     "data": {
      "text/plain": [
       "[['a', 'a', 'b'], ['aa', 'b']]"
      ]
     },
     "execution_count": 33,
     "metadata": {},
     "output_type": "execute_result"
    }
   ],
   "source": [
    "def self_check(string, start_index, end_index):\n",
    "    \n",
    "    while(start_index < end_index):\n",
    "        if string[start_index]!=string[end_index]:\n",
    "            return False\n",
    "        start_index+=1\n",
    "        end_index-=1\n",
    "    return True\n",
    "\n",
    "def palindrome_partition(string, start_index, end_index, n, ans):\n",
    "    res = []\n",
    "    if start_index>=n:\n",
    "        # res.append(ans.copy())\n",
    "        return [ans.copy()]\n",
    "\n",
    "    for i in range(start_index, end_index):\n",
    "        if self_check(string, start_index, i):\n",
    "            ans.append(string[start_index:i+1])\n",
    "            res.extend(palindrome_partition(string, i+1, end_index, n, ans))\n",
    "            ans.pop()\n",
    "    return res\n",
    "\n",
    "def palin(string):\n",
    "    res = []\n",
    "    return palindrome_partition(string, 0, len(string),len(string), [])\n",
    "\n",
    "\n",
    "palin('aab')"
   ]
  },
  {
   "cell_type": "code",
   "execution_count": 50,
   "metadata": {},
   "outputs": [
    {
     "data": {
      "text/plain": [
       "['1.0.10.23', '1.0.102.3', '10.1.0.23', '10.10.2.3', '101.0.2.3']"
      ]
     },
     "execution_count": 50,
     "metadata": {},
     "output_type": "execute_result"
    }
   ],
   "source": [
    "def self_check(string, start_index, end_index):\n",
    "    val = string[start_index: end_index +1]\n",
    "    # print(\"val\",val)\n",
    "    if len(val)>1 and val[0]=='0':\n",
    "        return False\n",
    "    if int(val) >255 or int(val)<0:\n",
    "        return False\n",
    "    return True\n",
    "\n",
    "def restoreipadress(string, n, stops,start_index, end_index, ans, res):\n",
    "    if start_index>=n:\n",
    "        if stops ==0:\n",
    "            res.append(ans.copy())\n",
    "            return \n",
    "        return \n",
    "    if start_index < n and stops == 0:\n",
    "            # we haven't used all the characters to build 4 address fields\n",
    "            return\n",
    "    for i in range(start_index, n):\n",
    "        # print(self_check(string, start_index,i))\n",
    "        if self_check(string, start_index,i):\n",
    "            ans.append(string[start_index: i+1])\n",
    "            restoreipadress(string, n, stops-1, i+1, end_index, ans, res)\n",
    "            ans.pop()\n",
    "    \n",
    "def restore(string):\n",
    "    res = []\n",
    "    restoreipadress(string, len(string), 4,0, len(string), [], res)\n",
    "    return ['.'.join(i) for i in res]\n",
    "# restore(\"0000\")\n",
    "# restore(\"0000\")\n",
    "# restore(\"25525511135\")\n",
    "restore(\"101023\")\n",
    "\n"
   ]
  },
  {
   "cell_type": "code",
   "execution_count": null,
   "metadata": {},
   "outputs": [],
   "source": [
    "def decode(string)"
   ]
  }
 ],
 "metadata": {
  "kernelspec": {
   "display_name": "prac_env",
   "language": "python",
   "name": "python3"
  },
  "language_info": {
   "codemirror_mode": {
    "name": "ipython",
    "version": 3
   },
   "file_extension": ".py",
   "mimetype": "text/x-python",
   "name": "python",
   "nbconvert_exporter": "python",
   "pygments_lexer": "ipython3",
   "version": "3.8.17"
  }
 },
 "nbformat": 4,
 "nbformat_minor": 2
}
