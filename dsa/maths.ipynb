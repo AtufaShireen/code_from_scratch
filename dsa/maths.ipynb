{
 "cells": [
  {
   "cell_type": "code",
   "execution_count": 1,
   "metadata": {},
   "outputs": [],
   "source": [
    "from typing import List"
   ]
  },
  {
   "cell_type": "code",
   "execution_count": 10,
   "metadata": {},
   "outputs": [
    {
     "data": {
      "text/plain": [
       "False"
      ]
     },
     "execution_count": 10,
     "metadata": {},
     "output_type": "execute_result"
    }
   ],
   "source": [
    "def prime_number(x):\n",
    "    if x<=1:\n",
    "        return False\n",
    "    sqrt_x = x**(1/2)\n",
    "    for i in range(2, int(sqrt_x)):\n",
    "        if i%x==0:\n",
    "            return False\n",
    "    return True\n",
    "# prime_number(15)\n",
    "\n",
    "def prime_number(x):\n",
    "    if x<=1:\n",
    "        return False\n",
    "    c =2\n",
    "    while (c*c < x):\n",
    "        if (x%c==0):\n",
    "            return False\n",
    "        c+=1\n",
    "    return True\n",
    "prime_number(20)"
   ]
  },
  {
   "cell_type": "code",
   "execution_count": 12,
   "metadata": {},
   "outputs": [
    {
     "data": {
      "text/plain": [
       "False"
      ]
     },
     "execution_count": 12,
     "metadata": {},
     "output_type": "execute_result"
    }
   ],
   "source": [
    "# if the 2^0 place or the least significant bit is 1, then it is odd, otherwise it even.\n",
    "# the places other than unit, are multiples of 2.\n",
    "# 1&1 will give 1, 1&0 will give 0.\n",
    "def isodd(n):\n",
    "    return (n&1==1) # check against least significant bit \n",
    "isodd(2)"
   ]
  },
  {
   "cell_type": "code",
   "execution_count": 20,
   "metadata": {},
   "outputs": [
    {
     "data": {
      "text/plain": [
       "4"
      ]
     },
     "execution_count": 20,
     "metadata": {},
     "output_type": "execute_result"
    }
   ],
   "source": [
    "def findunique(arr):\n",
    "    uniq_num = 0\n",
    "    n = len(arr)\n",
    "    for i in range(n):\n",
    "        uniq_num = uniq_num ^ arr[i]\n",
    "    return uniq_num\n",
    "# findunique([2,2,3,3,4])\n",
    "findunique([-2,-2,3,3,4,6,6])"
   ]
  },
  {
   "cell_type": "code",
   "execution_count": 89,
   "metadata": {},
   "outputs": [
    {
     "name": "stdout",
     "output_type": "stream",
     "text": [
      "0\n",
      "1\n",
      "1\n",
      "0\n",
      "1\n"
     ]
    }
   ],
   "source": [
    "def number_bin(num):\n",
    "    while (num>0):\n",
    "        print(num&1) # gets the last digit\n",
    "        num = num>>1 # right shift to remove the last digit\n",
    "number_bin(22)"
   ]
  },
  {
   "cell_type": "code",
   "execution_count": 93,
   "metadata": {},
   "outputs": [
    {
     "name": "stdout",
     "output_type": "stream",
     "text": [
      "1\n"
     ]
    },
    {
     "data": {
      "text/plain": [
       "1"
      ]
     },
     "execution_count": 93,
     "metadata": {},
     "output_type": "execute_result"
    }
   ],
   "source": [
    "def set_k_bit(num, i):\n",
    "    mask = 1<<(i-1)\n",
    "    return (num&mask) >> (i-1)\n",
    "    \n",
    "# 10010001\n",
    "print(bin(340)[-5])\n",
    "number_k_bit(340,5)"
   ]
  },
  {
   "cell_type": "code",
   "execution_count": 97,
   "metadata": {},
   "outputs": [
    {
     "data": {
      "text/plain": [
       "10"
      ]
     },
     "execution_count": 97,
     "metadata": {},
     "output_type": "execute_result"
    }
   ],
   "source": [
    "def set_k_bit(num,i): # make the k bit as 1.\n",
    "    mask = 1<<(i-1)\n",
    "    return num | mask\n",
    "set_k_bit(10,2)"
   ]
  },
  {
   "cell_type": "code",
   "execution_count": 106,
   "metadata": {},
   "outputs": [
    {
     "data": {
      "text/plain": [
       "10"
      ]
     },
     "execution_count": 106,
     "metadata": {},
     "output_type": "execute_result"
    }
   ],
   "source": [
    "def reset_k_bit(num,i):# make the k bit as 0\n",
    "    mask = ~(1<<i)\n",
    "    return num & mask\n",
    "reset_k_bit(10,2)"
   ]
  },
  {
   "cell_type": "code",
   "execution_count": null,
   "metadata": {},
   "outputs": [],
   "source": [
    "# def right_most_setbit(num):\n",
    "    "
   ]
  },
  {
   "cell_type": "code",
   "execution_count": null,
   "metadata": {},
   "outputs": [],
   "source": [
    "def magic_number(n):\n",
    "    ans = 0\n",
    "    base= 5\n",
    "    while (n>0):\n",
    "        last = n&1\n",
    "        n = n>>1\n",
    "        ans+=last*base\n",
    "        base*=5"
   ]
  },
  {
   "cell_type": "code",
   "execution_count": 115,
   "metadata": {},
   "outputs": [
    {
     "data": {
      "text/plain": [
       "True"
      ]
     },
     "execution_count": 115,
     "metadata": {},
     "output_type": "execute_result"
    }
   ],
   "source": [
    "def powertwo(num):\n",
    "    return (num & (num-1)) ==0\n",
    "powertwo(32)"
   ]
  },
  {
   "cell_type": "code",
   "execution_count": 117,
   "metadata": {},
   "outputs": [
    {
     "data": {
      "text/plain": [
       "8"
      ]
     },
     "execution_count": 117,
     "metadata": {},
     "output_type": "execute_result"
    }
   ],
   "source": [
    "def apowerb(base, power):\n",
    "    ans = 1\n",
    "    while (power>0):\n",
    "        if power&1 == 1:\n",
    "            ans*=base\n",
    "\n",
    "        base*=base\n",
    "        power = power>>1\n",
    "    return ans\n",
    "apowerb(2,3)"
   ]
  },
  {
   "cell_type": "code",
   "execution_count": 118,
   "metadata": {},
   "outputs": [
    {
     "data": {
      "text/plain": [
       "[[1, 0, 0], [0, 1, 0], [1, 1, 1]]"
      ]
     },
     "execution_count": 118,
     "metadata": {},
     "output_type": "execute_result"
    }
   ],
   "source": [
    "def flip_image(image):\n",
    "    for row in image:\n",
    "        for col in range((len(row)+1)//2):\n",
    "            row[col], row[(len(row)-1-col)] =  row[(len(row)-1-col)] ^1,row[col]^1\n",
    "    return image\n",
    "flip_image([[1,1,0],[1,0,1],[0,0,0]])\n"
   ]
  },
  {
   "cell_type": "code",
   "execution_count": 127,
   "metadata": {},
   "outputs": [
    {
     "name": "stdout",
     "output_type": "stream",
     "text": [
      "2 3 5 7 11 13 17 19 23 29 31 37 "
     ]
    }
   ],
   "source": [
    "#o(log(log(n)))\n",
    "# n (1/2 + 1/3 + 1/5 + 1/7) = log(log(n))\n",
    "def prime_number(n):\n",
    "    primes = [True]*(n+1)\n",
    "    i = 0\n",
    "    while (i*i<n):\n",
    "        if i <=1:\n",
    "            primes[i] = False\n",
    "        if primes[i]:\n",
    "            for j in range(i*2, n+1, i):\n",
    "                primes[j] = False\n",
    "        i+=1\n",
    "    for i in range(len(primes)):\n",
    "        if primes[i]:\n",
    "            print(i, end=' ')\n",
    "\n",
    "            \n",
    "prime_number(40)"
   ]
  },
  {
   "cell_type": "code",
   "execution_count": 156,
   "metadata": {},
   "outputs": [
    {
     "data": {
      "text/plain": [
       "6.40195561907565"
      ]
     },
     "execution_count": 156,
     "metadata": {},
     "output_type": "execute_result"
    }
   ],
   "source": [
    "# def square_root(n):\n",
    "#     for i in range(n):\n",
    "#         if i*i == n:\n",
    "#             return i\n",
    "# square_root(36)\n",
    "def square_root_sieve_of_erathosthenes(n,p):\n",
    "\n",
    "    s = 0\n",
    "    e = n\n",
    "    while (s<e):\n",
    "        m = s + (e-s) //2\n",
    "        if m*m == n:\n",
    "            return m\n",
    "        elif m*m > n:\n",
    "            e = m-1\n",
    "        else:\n",
    "            s = m+1\n",
    "    root = 0.0\n",
    "    incr = 0.1\n",
    "    for i in range(p):\n",
    "        while (root*root < n):\n",
    "            root+=incr\n",
    "        \n",
    "        root-=incr\n",
    "        incr/=10\n",
    "\n",
    "    return root\n",
    "# square_root_sieve_of_erathosthenes(40,3)\n",
    "\n",
    "def square_root_newton_raphson(n):\n",
    "    guess = n\n",
    "    while (True):\n",
    "        root = 0.5* ( guess + (n/guess))\n",
    "        if abs(root - guess) <1:\n",
    "            break\n",
    "        else:\n",
    "            guess = root\n",
    "    return root\n",
    "square_root_newton_raphson(40)"
   ]
  },
  {
   "cell_type": "code",
   "execution_count": 160,
   "metadata": {},
   "outputs": [
    {
     "data": {
      "text/plain": [
       "[1, 20, 2, 10, 4, 5]"
      ]
     },
     "execution_count": 160,
     "metadata": {},
     "output_type": "execute_result"
    }
   ],
   "source": [
    "# o(n)\n",
    "def factors(n):\n",
    "    f = []\n",
    "    for i in range(1,n+1):\n",
    "        if n%i==0:\n",
    "            f.append(i)\n",
    "    return f\n",
    "factors(20)\n",
    "def factors(n):\n",
    "    facts = []\n",
    "    for i in range(1,int(n**(1/2))+1):\n",
    "        if n%i == 0:\n",
    "            facts.append(i)\n",
    "            facts.append(n//i)\n",
    "    return facts\n",
    "factors(20)"
   ]
  },
  {
   "cell_type": "code",
   "execution_count": 162,
   "metadata": {},
   "outputs": [
    {
     "data": {
      "text/plain": [
       "323"
      ]
     },
     "execution_count": 162,
     "metadata": {},
     "output_type": "execute_result"
    }
   ],
   "source": [
    "def gcd(a,b):\n",
    "    if a==0:\n",
    "        return b\n",
    "    else:\n",
    "        return gcd(b%a, a)\n",
    "\n",
    "def lcm(a,b):\n",
    "    return a*b // gcd(a,b)\n",
    "lcm(19,17)"
   ]
  },
  {
   "cell_type": "code",
   "execution_count": 7,
   "metadata": {},
   "outputs": [
    {
     "data": {
      "text/plain": [
       "13"
      ]
     },
     "execution_count": 7,
     "metadata": {},
     "output_type": "execute_result"
    }
   ],
   "source": [
    "def sum_digits(nums):\n",
    "    s = 0\n",
    "    while nums>0:\n",
    "        last_digit = nums%10\n",
    "        s+=last_digit\n",
    "        nums//=10\n",
    "    return s\n",
    "sum_digits(12334)\n"
   ]
  },
  {
   "cell_type": "code",
   "execution_count": 6,
   "metadata": {},
   "outputs": [
    {
     "name": "stdout",
     "output_type": "stream",
     "text": [
      "5 1\n",
      "4 2\n",
      "3 3\n",
      "2 4\n",
      "1 5\n"
     ]
    },
    {
     "data": {
      "text/plain": [
       "1.0"
      ]
     },
     "execution_count": 6,
     "metadata": {},
     "output_type": "execute_result"
    }
   ],
   "source": [
    "# 5C2 = 5x4/2x1\n",
    "def calc_ncr(n,r):\n",
    "    ans = 1\n",
    "    for i in range(r):\n",
    "        print(n-i, i+1)\n",
    "        ans*=n-i\n",
    "        ans/=(i+1)\n",
    "    return ans\n",
    "calc_ncr(5,5)"
   ]
  },
  {
   "cell_type": "code",
   "execution_count": 4,
   "metadata": {},
   "outputs": [
    {
     "data": {
      "text/plain": [
       "0"
      ]
     },
     "execution_count": 4,
     "metadata": {},
     "output_type": "execute_result"
    }
   ],
   "source": [
    "def repeating_number(nums):\n",
    "    r = nums[0]\n",
    "    n = len(nums)\n",
    "    for i in range(1, n):\n",
    "        r = r^nums[i]\n",
    "    return r\n",
    "\n",
    "repeating_number([1,1,2,2,-1,-1,0])"
   ]
  },
  {
   "cell_type": "code",
   "execution_count": null,
   "metadata": {},
   "outputs": [],
   "source": [
    "def missing_number(nums):\n",
    "    r = nums[0]\n",
    "    n = len(nums)\n",
    "    for i in range(1, n):\n",
    "        r = r^nums[i]\n",
    "    return r\n",
    "\n",
    "missing_number([0,1,2,3,5])"
   ]
  },
  {
   "cell_type": "markdown",
   "metadata": {},
   "source": [
    "# Digits\n",
    "1. number of digits\n",
    "2. number is palindrome\n",
    "3. Armstrong\n",
    "4. factors\n",
    "5. sum of faactors (harmonic lemma)\n",
    "6. prime number\n",
    "7. first max, min\n",
    "8. sec max,min"
   ]
  },
  {
   "cell_type": "code",
   "execution_count": 5,
   "metadata": {},
   "outputs": [
    {
     "data": {
      "text/plain": [
       "2"
      ]
     },
     "execution_count": 5,
     "metadata": {},
     "output_type": "execute_result"
    }
   ],
   "source": [
    "def countDigits(n: int) -> int:\n",
    "    n_copy = n\n",
    "    count = 0\n",
    "    while (n_copy>0):\n",
    "        last_digit = n_copy%10\n",
    "        if last_digit==0:\n",
    "            pass\n",
    "        elif n%last_digit == 0:\n",
    "            count+=1\n",
    "        n_copy = n_copy//10\n",
    "    return count\n",
    "countDigits(606)"
   ]
  },
  {
   "cell_type": "code",
   "execution_count": 21,
   "metadata": {},
   "outputs": [
    {
     "name": "stdout",
     "output_type": "stream",
     "text": [
      "53432\n",
      "false\n"
     ]
    }
   ],
   "source": [
    "n=23435\n",
    "# taking n as a input \n",
    "## write your code !!\n",
    "n_copy = n\n",
    "new_num = 0\n",
    "p = 1\n",
    "while (n_copy>0):\n",
    "    new_num = new_num*10 + (n_copy%10)\n",
    "    n_copy= n_copy // 10\n",
    "print(new_num)\n",
    "print(\"true\" if new_num==n else \"false\")"
   ]
  },
  {
   "cell_type": "code",
   "execution_count": 69,
   "metadata": {},
   "outputs": [
    {
     "data": {
      "text/plain": [
       "False"
      ]
     },
     "execution_count": 69,
     "metadata": {},
     "output_type": "execute_result"
    }
   ],
   "source": [
    "def armstrong(n):\n",
    "    # calc digits\n",
    "    t = n\n",
    "    d = 0\n",
    "    while t>0:\n",
    "        d+=1\n",
    "        t//=10\n",
    "    t = n\n",
    "    s = 0\n",
    "    while t>0:\n",
    "        l = t%10\n",
    "        s+=l**d\n",
    "        t//=10\n",
    "    return s==n\n",
    "\n",
    "armstrong(1000)"
   ]
  },
  {
   "cell_type": "code",
   "execution_count": 1,
   "metadata": {},
   "outputs": [
    {
     "data": {
      "text/plain": [
       "[1, 36.0, 2, 18.0, 3, 12.0, 4, 9.0, 6]"
      ]
     },
     "execution_count": 1,
     "metadata": {},
     "output_type": "execute_result"
    }
   ],
   "source": [
    "def factors(n):\n",
    "    facts = []\n",
    "    for i in range(1,n//2):\n",
    "        if i*i>n:\n",
    "            break\n",
    "        \n",
    "        if n%i==0:\n",
    "            facts.append(i)\n",
    "            if (n/i) !=i:\n",
    "                facts.append(n/i)\n",
    "        \n",
    "    return facts.sort()\n"
   ]
  },
  {
   "cell_type": "code",
   "execution_count": null,
   "metadata": {},
   "outputs": [],
   "source": [
    "def sum_facts(n):\n",
    "    s = 0\n",
    "    for i in range(1,n+1):\n",
    "        s+=(n/i) *i\n",
    "    return s"
   ]
  },
  {
   "cell_type": "code",
   "execution_count": 6,
   "metadata": {},
   "outputs": [
    {
     "name": "stdout",
     "output_type": "stream",
     "text": [
      "1\n",
      "NO\n"
     ]
    }
   ],
   "source": [
    "n = 5\n",
    "for i in range(1,n):\n",
    "    if n==1:\n",
    "        print('NO')\n",
    "        break\n",
    "    if i*i >n:\n",
    "        print('YES')\n",
    "        break\n",
    "    if n%i==0:\n",
    "        print(i)\n",
    "        print('NO')\n",
    "        break"
   ]
  },
  {
   "cell_type": "code",
   "execution_count": 13,
   "metadata": {},
   "outputs": [
    {
     "name": "stdout",
     "output_type": "stream",
     "text": [
      "5 1\n"
     ]
    },
    {
     "data": {
      "text/plain": [
       "[4, inf]"
      ]
     },
     "execution_count": 13,
     "metadata": {},
     "output_type": "execute_result"
    }
   ],
   "source": [
    "def getSecondOrderElements(n: int,  nums):\n",
    "    # Write your code here.\n",
    "    first_max = float('-inf')\n",
    "    first_min = float('inf')\n",
    "\n",
    "    sec_max = float('-inf')\n",
    "    sec_min = float('inf')\n",
    "    for i in range(n):\n",
    "        if nums[i] > first_max:\n",
    "            sec_max = first_max\n",
    "            first_max = nums[i]\n",
    "\n",
    "        if nums[i] < first_min:\n",
    "            sec_min = first_min\n",
    "            first_min = nums[i]\n",
    "\n",
    "    print(first_max, first_min)\n",
    "    return[sec_max,sec_min]\n",
    "\n",
    "getSecondOrderElements(5,[1,2,3,4,5])"
   ]
  },
  {
   "cell_type": "markdown",
   "metadata": {},
   "source": [
    "# Maths\n",
    "1. power of a to b\n",
    "2. prime number\n",
    "3. factorials\n",
    "4. ncr\n",
    "5. hcf and lcm\n",
    "6. square root\n",
    "7. Armstrong\n",
    "8. fibonacci"
   ]
  },
  {
   "cell_type": "code",
   "execution_count": null,
   "metadata": {},
   "outputs": [],
   "source": [
    "def cal_pow(a,b):\n",
    "    ans = a\n",
    "    for _ in range(1,b):\n",
    "        ans*=a\n",
    "    return ans"
   ]
  },
  {
   "cell_type": "code",
   "execution_count": 46,
   "metadata": {},
   "outputs": [
    {
     "name": "stdout",
     "output_type": "stream",
     "text": [
      "2\n",
      "3\n",
      "5\n",
      "7\n"
     ]
    }
   ],
   "source": [
    "# time, space = o(log(log(n))), o(n)\n",
    "# n/2 + n/3 + n/4 +.. = n(1/2 + 1/3 + 1/4+ ..) = harmonic progresssion of sum of primes\n",
    "def prime_numbers(n):\n",
    "    # sieve of erathosthenese\n",
    "    # a sqrt(n) will also work\n",
    "    a = [True for _ in range(n+1)]\n",
    "    a[0] = False\n",
    "    a[1] = False\n",
    "    for i in range(2,n+1):\n",
    "        for j in range(i*2,n+1, i):\n",
    "            a[j] = False\n",
    "        if i*i>n:\n",
    "            break\n",
    "    for i in range(n+1):\n",
    "        if a[i]:\n",
    "            print(i)\n",
    "prime_numbers(10)"
   ]
  },
  {
   "cell_type": "code",
   "execution_count": 63,
   "metadata": {},
   "outputs": [
    {
     "data": {
      "text/plain": [
       "50"
      ]
     },
     "execution_count": 63,
     "metadata": {},
     "output_type": "execute_result"
    }
   ],
   "source": [
    "# def gcd(n,m):\n",
    "#     if m==0:\n",
    "#         return n\n",
    "#     return gcd(m,n%m)\n",
    "# # gcd(6,7)\n",
    "# # gcd(7,7)\n",
    "\n",
    "# def gcd(n,m):\n",
    "#     if m==0:\n",
    "#         return n\n",
    "#     if n==0:\n",
    "#         return m\n",
    "#     if n>m:\n",
    "#         return gcd(n-m, m)\n",
    "#     elif n<m:\n",
    "#         return gcd(n,m-n)\n",
    "#     else:\n",
    "#         return m\n",
    "    \n",
    "def gcd(n,m):\n",
    "    while(n>0 and m>0):\n",
    "        if n>m:\n",
    "            n = n%m\n",
    "        else: \n",
    "            m = m%n\n",
    "    if n ==0:\n",
    "        return m\n",
    "    return n\n",
    "\n",
    "# gcd(6,7)\n",
    "gcd(100,50)\n"
   ]
  },
  {
   "cell_type": "code",
   "execution_count": 6,
   "metadata": {},
   "outputs": [
    {
     "data": {
      "text/plain": [
       "9"
      ]
     },
     "execution_count": 6,
     "metadata": {},
     "output_type": "execute_result"
    }
   ],
   "source": [
    "#\n",
    "def power(a,b):\n",
    "    if b==0:\n",
    "        return 1\n",
    "    if b%2==1:\n",
    "        return a*power(a,b//2)*power(a,b//2)\n",
    "    else:\n",
    "        return power(a,b//2)*power(a,b//2)\n",
    "    \n",
    "power(3,2)\n"
   ]
  },
  {
   "cell_type": "code",
   "execution_count": 65,
   "metadata": {},
   "outputs": [
    {
     "data": {
      "text/plain": [
       "[[0], [0, 1], [0, 1, 2], [1], [1, 2], [2]]"
      ]
     },
     "execution_count": 65,
     "metadata": {},
     "output_type": "execute_result"
    }
   ],
   "source": [
    "def powerset(s):\n",
    "    ans = []\n",
    "    for i in range(len(s)):\n",
    "        for j in range(i, len(s)):\n",
    "            ans.append(s[i:j+1])\n",
    "    return ans\n",
    "powerset([0,1,2])\n",
    "\n",
    "# def powerset(arr, i,n,ans):\n",
    "#     if i>=n:\n",
    "#         return [ans.copy()]\n",
    "#     ans.append(arr[i])\n",
    "#     left = powerset(arr, i+1, n, ans)\n",
    "#     ans.pop()\n",
    "#     right = powerset(arr, i+1, n, ans)\n",
    "#     return left+right\n",
    "\n",
    "# (powerset ([0],0,1,[]))"
   ]
  },
  {
   "cell_type": "code",
   "execution_count": 59,
   "metadata": {},
   "outputs": [
    {
     "data": {
      "text/plain": [
       "[1, 2, 3, 1, 3]"
      ]
     },
     "execution_count": 59,
     "metadata": {},
     "output_type": "execute_result"
    }
   ],
   "source": [
    "[1,2,3] + [1,3]"
   ]
  }
 ],
 "metadata": {
  "kernelspec": {
   "display_name": "prac_env",
   "language": "python",
   "name": "python3"
  },
  "language_info": {
   "codemirror_mode": {
    "name": "ipython",
    "version": 3
   },
   "file_extension": ".py",
   "mimetype": "text/x-python",
   "name": "python",
   "nbconvert_exporter": "python",
   "pygments_lexer": "ipython3",
   "version": "3.8.17"
  }
 },
 "nbformat": 4,
 "nbformat_minor": 2
}
