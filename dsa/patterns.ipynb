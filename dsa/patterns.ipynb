{
 "cells": [
  {
   "cell_type": "code",
   "execution_count": 4,
   "metadata": {},
   "outputs": [
    {
     "name": "stdout",
     "output_type": "stream",
     "text": [
      "* \n",
      "* * \n",
      "* * * \n"
     ]
    }
   ],
   "source": [
    "def pattern1(lines):\n",
    "    r = 0\n",
    "    while r < lines-1:\n",
    "        print(\"* \"*(r+1))\n",
    "        r+=1\n",
    "pattern1(4)  "
   ]
  },
  {
   "cell_type": "code",
   "execution_count": 6,
   "metadata": {},
   "outputs": [
    {
     "name": "stdout",
     "output_type": "stream",
     "text": [
      "* * * \n",
      "* * \n",
      "* \n"
     ]
    }
   ],
   "source": [
    "def pattern2(lines):\n",
    "    r = 0\n",
    "    while r < lines-1:\n",
    "        print(\"* \"*(lines-r-1))\n",
    "        r+=1\n",
    "pattern2(4)  "
   ]
  },
  {
   "cell_type": "code",
   "execution_count": 9,
   "metadata": {},
   "outputs": [
    {
     "name": "stdout",
     "output_type": "stream",
     "text": [
      "[1]\n",
      "[1, 2]\n",
      "[1, 2, 3]\n",
      "[1, 2, 3, 4]\n",
      "[1, 2, 3, 4, 5]\n"
     ]
    }
   ],
   "source": [
    "def pattern3(lines):\n",
    "    r = 0\n",
    "    while (r<lines):\n",
    "        print([i for i in range(1, r+2)])\n",
    "        r+=1\n",
    "pattern3(5)     "
   ]
  },
  {
   "cell_type": "code",
   "execution_count": 22,
   "metadata": {},
   "outputs": [
    {
     "name": "stdout",
     "output_type": "stream",
     "text": [
      "* \n",
      "* * \n",
      "* * * \n",
      "* * * * \n",
      "* * * * * \n",
      "* * * * \n",
      "* * * \n",
      "* * \n",
      "* \n",
      "\n"
     ]
    }
   ],
   "source": [
    "def pattern4(lines):\n",
    "    r = 1\n",
    "    c = lines\n",
    "    for i in range(2*lines):\n",
    "        if i<lines:\n",
    "            print(\"* \"*(i+1))\n",
    "        else:            \n",
    "            # print(i,r)\n",
    "            print(\"* \"*(i-r)) # 5 - 6\n",
    "            r+=2\n",
    "pattern4(5)"
   ]
  },
  {
   "cell_type": "code",
   "execution_count": 49,
   "metadata": {},
   "outputs": [
    {
     "name": "stdout",
     "output_type": "stream",
     "text": [
      "     \n",
      "    * \n",
      "   * * \n",
      "  * * * \n",
      " * * * * \n",
      "  * * * \n",
      "   * * \n",
      "    * \n",
      "     \n",
      "      \n"
     ]
    }
   ],
   "source": [
    "def pattern5(lines):\n",
    "    s = 1\n",
    "    for i in range(2*lines):\n",
    "        if i<lines:\n",
    "            print(\" \"*(lines-i-1), \"* \"*i)\n",
    "        else:\n",
    "            print(\" \"*(s), \"* \"*(i-2*s))\n",
    "            s+=1\n",
    "pattern5(5)"
   ]
  },
  {
   "cell_type": "code",
   "execution_count": 91,
   "metadata": {},
   "outputs": [
    {
     "name": "stdout",
     "output_type": "stream",
     "text": [
      "    1 \n",
      "   2 1 2 \n",
      "  3 2 1 2 3 \n",
      " 4 3 2 1 2 3 4 \n"
     ]
    }
   ],
   "source": [
    "def pattern6(lines):\n",
    "    for i in range(1, lines):\n",
    "        print(\" \"*(lines-i-1), end=' ')\n",
    "        for k in range(1,i+1):\n",
    "            print(i-k+1, end=' ')\n",
    "        for j in range(2,i+1):\n",
    "            print(j,end=' ')\n",
    "        print()   \n",
    "pattern6(5)"
   ]
  },
  {
   "cell_type": "code",
   "execution_count": 95,
   "metadata": {},
   "outputs": [
    {
     "name": "stdout",
     "output_type": "stream",
     "text": [
      "444444\n",
      "333333\n",
      "222222\n",
      "111111\n",
      "000000\n",
      "-1-1-1-1-1-1\n",
      "-2-2-2-2-2-2\n",
      "-3-3-3-3-3-3\n"
     ]
    }
   ],
   "source": [
    "def pattern7(lines):\n",
    "    for row in range(2*lines-1):\n",
    "        patt = \"\"\n",
    "        for col in range(2*lines-1):\n",
    "            if (row<lines) & (col<lines):\n",
    "                patt+=(lines-row)\n",
    "\n",
    "pattern7(4)"
   ]
  },
  {
   "cell_type": "code",
   "execution_count": 17,
   "metadata": {},
   "outputs": [
    {
     "data": {
      "text/plain": [
       "0"
      ]
     },
     "execution_count": 17,
     "metadata": {},
     "output_type": "execute_result"
    }
   ],
   "source": [
    "4%2"
   ]
  },
  {
   "cell_type": "code",
   "execution_count": 24,
   "metadata": {},
   "outputs": [
    {
     "name": "stdout",
     "output_type": "stream",
     "text": [
      "1\n",
      "01\n",
      "101\n",
      "0101\n",
      "10101\n"
     ]
    }
   ],
   "source": [
    "def pattern11(n):\n",
    "    for i in range(n):\n",
    "        start_loop = 0\n",
    "        if i%2==0:\n",
    "            start_loop= 1\n",
    "        else:\n",
    "            start_loop = 0\n",
    "        for _ in range(i+1):\n",
    "            print(start_loop, end ='')\n",
    "            start_loop = 1 - start_loop\n",
    "        print()\n",
    "\n",
    "pattern11(5)"
   ]
  },
  {
   "cell_type": "code",
   "execution_count": null,
   "metadata": {},
   "outputs": [],
   "source": [
    "def pattern11(n, i):\n",
    "    if i==n:\n",
    "        return \n",
    "    pattern1()\n"
   ]
  }
 ],
 "metadata": {
  "kernelspec": {
   "display_name": "prac_env",
   "language": "python",
   "name": "python3"
  },
  "language_info": {
   "codemirror_mode": {
    "name": "ipython",
    "version": 3
   },
   "file_extension": ".py",
   "mimetype": "text/x-python",
   "name": "python",
   "nbconvert_exporter": "python",
   "pygments_lexer": "ipython3",
   "version": "3.8.17"
  }
 },
 "nbformat": 4,
 "nbformat_minor": 2
}
