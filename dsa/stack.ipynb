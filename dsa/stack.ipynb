{
 "cells": [
  {
   "cell_type": "code",
   "execution_count": 25,
   "metadata": {},
   "outputs": [
    {
     "name": "stdout",
     "output_type": "stream",
     "text": [
      "[]\n",
      "[5]\n",
      "[1]\n",
      "[1]\n",
      "[1]\n",
      "[1, 1, 1, -1, -1]\n"
     ]
    }
   ],
   "source": [
    "# \n",
    "x = [2,4,7,1,5]\n",
    "def nextsmallest(nums):\n",
    "    stack = []\n",
    "    n = len(nums)\n",
    "    ans = [0]*n\n",
    "    for i in range(n-1, 0-1,-1):\n",
    "        print(stack)\n",
    "        if len(stack) == 0:\n",
    "            ans[i] = -1\n",
    "            stack.append(nums[i])\n",
    "        else:\n",
    "            if stack[-1] <= nums[i]:\n",
    "                ans[i] = stack[-1]\n",
    "            else:\n",
    "                while(stack[-1] > nums[i]):\n",
    "                    stack.pop()\n",
    "                stack.append(nums[i])\n",
    "                ans[i] = -1\n",
    "\n",
    "    return ans\n",
    "\n",
    "print(nextsmallest(x))"
   ]
  },
  {
   "cell_type": "code",
   "execution_count": 17,
   "metadata": {},
   "outputs": [
    {
     "name": "stdout",
     "output_type": "stream",
     "text": [
      "5\n",
      "1\n",
      "7\n",
      "4\n",
      "2\n"
     ]
    }
   ],
   "source": [
    "nums= [2,4,7,1,5]\n",
    "n = len(nums)\n",
    "for i in range(n-1, 0-1,-1):\n",
    "    print(nums[i])"
   ]
  },
  {
   "cell_type": "code",
   "execution_count": 19,
   "metadata": {},
   "outputs": [
    {
     "data": {
      "text/plain": [
       "[2, 4, 7, 1]"
      ]
     },
     "execution_count": 19,
     "metadata": {},
     "output_type": "execute_result"
    }
   ],
   "source": [
    "nums.pop()\n",
    "nums"
   ]
  }
 ],
 "metadata": {
  "kernelspec": {
   "display_name": "prac_env",
   "language": "python",
   "name": "python3"
  },
  "language_info": {
   "codemirror_mode": {
    "name": "ipython",
    "version": 3
   },
   "file_extension": ".py",
   "mimetype": "text/x-python",
   "name": "python",
   "nbconvert_exporter": "python",
   "pygments_lexer": "ipython3",
   "version": "3.8.17"
  }
 },
 "nbformat": 4,
 "nbformat_minor": 2
}
