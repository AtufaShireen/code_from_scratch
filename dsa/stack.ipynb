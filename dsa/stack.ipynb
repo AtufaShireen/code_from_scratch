{
 "cells": [
  {
   "cell_type": "code",
   "execution_count": 25,
   "metadata": {},
   "outputs": [
    {
     "name": "stdout",
     "output_type": "stream",
     "text": [
      "[]\n",
      "[5]\n",
      "[1]\n",
      "[1]\n",
      "[1]\n",
      "[1, 1, 1, -1, -1]\n"
     ]
    }
   ],
   "source": [
    "# \n",
    "x = [2,4,7,1,5]\n",
    "def nextsmallest(nums):\n",
    "    stack = []\n",
    "    n = len(nums)\n",
    "    ans = [0]*n\n",
    "    for i in range(n-1, 0-1,-1):\n",
    "        print(stack)\n",
    "        if len(stack) == 0:\n",
    "            ans[i] = -1\n",
    "            stack.append(nums[i])\n",
    "        else:\n",
    "            if stack[-1] <= nums[i]:\n",
    "                ans[i] = stack[-1]\n",
    "            else:\n",
    "                while(stack[-1] > nums[i]):\n",
    "                    stack.pop()\n",
    "                stack.append(nums[i])\n",
    "                ans[i] = -1\n",
    "\n",
    "    return ans\n",
    "\n",
    "print(nextsmallest(x))"
   ]
  },
  {
   "cell_type": "code",
   "execution_count": 17,
   "metadata": {},
   "outputs": [
    {
     "name": "stdout",
     "output_type": "stream",
     "text": [
      "5\n",
      "1\n",
      "7\n",
      "4\n",
      "2\n"
     ]
    }
   ],
   "source": [
    "nums= [2,4,7,1,5]\n",
    "n = len(nums)\n",
    "for i in range(n-1, 0-1,-1):\n",
    "    print(nums[i])"
   ]
  },
  {
   "cell_type": "code",
   "execution_count": 6,
   "metadata": {},
   "outputs": [
    {
     "data": {
      "text/plain": [
       "3"
      ]
     },
     "execution_count": 6,
     "metadata": {},
     "output_type": "execute_result"
    }
   ],
   "source": [
    "class StackImplementation:\n",
    "    def __init__(self) -> None:\n",
    "        self.top = -1\n",
    "        self.array = []\n",
    "    \n",
    "    def push(self, val):\n",
    "        self.top +=1\n",
    "        self.array.append(val)\n",
    "        return\n",
    "    def pop(self):\n",
    "        self.top-=1\n",
    "        self.array.pop()\n",
    "        return\n",
    "    def peek(self):\n",
    "        return self.array[self.top]\n",
    "    \n",
    "x = StackImplementation()\n",
    "x.push(6)\n",
    "x.push(3)\n",
    "x.push(7)\n",
    "# x.pop()\n",
    "x.peek()\n",
    "x.pop()\n",
    "x.peek()\n",
    "\n"
   ]
  },
  {
   "cell_type": "code",
   "execution_count": null,
   "metadata": {},
   "outputs": [],
   "source": [
    "class QueueImplementation:\n",
    "    def __init__(self) -> None:\n",
    "        self.front = -1 # top\n",
    "        self.rear = -1\n",
    "        self.queue = [0]*1000\n",
    "        self.max_size = 1000\n",
    "        self.cur_size = 0\n",
    "    \n",
    "    def push(self, val):\n",
    "        if self.cur_size >= self.max_size:\n",
    "            print(\"Queue is full\\nExiting...\")\n",
    "            return\n",
    "        if self.front == -1:\n",
    "            self.front = 0\n",
    "            # self.rear = 0\n",
    "        self.rear= (self.rear + 1) % self.max_size\n",
    "        self.queue[self.rear] = val\n",
    "        return\n",
    "    def pop(self):\n",
    "        if self.front == -1:\n",
    "            print(\"Queue Empty\\nExiting...\")\n",
    "            return\n",
    "        popped = self.arr[self.front % self.max_size]\n",
    "        if self.currSize == 1:\n",
    "            self.front = -1\n",
    "            self.end = -1\n",
    "        else:\n",
    "            self.front = (self.front + 1) % self.max_size\n",
    "        self.currSize -= 1\n",
    "        return popped\n",
    "    \n",
    "    def peek(self):\n",
    "        if self.front==-1:\n",
    "            print(\"Queue Empty\\nExiting...\")\n",
    "            return \n",
    "        return self.queue[self.front % self.max_size]\n",
    "        \n",
    "\n",
    "\n"
   ]
  },
  {
   "cell_type": "code",
   "execution_count": 8,
   "metadata": {},
   "outputs": [
    {
     "data": {
      "text/plain": [
       "True"
      ]
     },
     "execution_count": 8,
     "metadata": {},
     "output_type": "execute_result"
    }
   ],
   "source": [
    "\n",
    "def valid_par(s):\n",
    "    stack = []\n",
    "    d = {'(':')', '{':'}','[':']'}\n",
    "    for i in s:\n",
    "        if i in d:\n",
    "            stack.append(i)\n",
    "        elif len(stack)==0 or d[stack.pop()]!=i:\n",
    "            return False\n",
    "    return len(stack)==0\n",
    "valid_par('()')\n",
    "        "
   ]
  },
  {
   "cell_type": "code",
   "execution_count": 10,
   "metadata": {},
   "outputs": [],
   "source": [
    "from collections import deque\n",
    "class StackFromQueues:\n",
    "    def __init__(self) -> None:\n",
    "        self.q = deque()\n",
    "    \n",
    "    def push(self, x):\n",
    "        self.q.append(x)\n",
    "        return\n",
    "    def top(self):\n",
    "        return self.q[-1]\n",
    "    def empty(self):\n",
    "        return len(self.q) ==0\n",
    "    "
   ]
  },
  {
   "cell_type": "code",
   "execution_count": 16,
   "metadata": {},
   "outputs": [
    {
     "name": "stdout",
     "output_type": "stream",
     "text": [
      "3\n"
     ]
    }
   ],
   "source": [
    "q = deque()\n",
    "q.append(1)\n",
    "q.append(2)\n",
    "q.append(3)\n",
    "q.append(4)\n",
    "q2 = deque()\n",
    "for i in range(len(q) -1):\n",
    "    q2.append(q.popleft())\n",
    "\n",
    "for i in range(len(q)):\n",
    "    q.append(q2.popleft())\n",
    "\n",
    "print(q2[-1])\n"
   ]
  },
  {
   "cell_type": "code",
   "execution_count": 26,
   "metadata": {},
   "outputs": [
    {
     "name": "stdout",
     "output_type": "stream",
     "text": [
      "2\n",
      "2\n",
      "False\n"
     ]
    }
   ],
   "source": [
    "from collections import deque\n",
    "\n",
    "class MyStack:\n",
    "\n",
    "    def __init__(self):\n",
    "        self.q = deque()\n",
    "\n",
    "    def push(self, x: int) -> None:\n",
    "        self.q.append(x)\n",
    "        return\n",
    "        \n",
    "\n",
    "    def pop(self) -> int:\n",
    "        if not self.empty():\n",
    "            q2 = deque()\n",
    "            for i in range(len(self.q) -1):\n",
    "                q2.append(self.q.popleft())\n",
    "\n",
    "            x = self.q.popleft()\n",
    "            for i in range(len(q2)):\n",
    "                self.q.append(q2.popleft())\n",
    "            return x\n",
    "        return\n",
    "\n",
    "    def top(self) -> int:\n",
    "        if not self.empty():\n",
    "            return self.q[-1]\n",
    "        return \n",
    "\n",
    "    def empty(self) -> bool:\n",
    "        return len(self.q)==0\n",
    "        \n",
    "\n",
    "\n",
    "# # Your MyStack object will be instantiated and called as such:\n",
    "# obj = MyStack()\n",
    "# obj.push(3)\n",
    "# obj.push(2)\n",
    "# param_2 = obj.pop()\n",
    "# param_3 = obj.top()\n",
    "# param_4 = obj.empty()\n",
    "myStack =  MyStack()\n",
    "myStack.push(1)\n",
    "myStack.push(2)\n",
    "print(myStack.top())#// return 2)\n",
    "print(myStack.pop())#// return 2\n",
    "print(myStack.empty())#// return False"
   ]
  },
  {
   "cell_type": "code",
   "execution_count": 32,
   "metadata": {},
   "outputs": [
    {
     "name": "stdout",
     "output_type": "stream",
     "text": [
      "1\n",
      "1\n",
      "False\n"
     ]
    }
   ],
   "source": [
    "from collections import deque\n",
    "\n",
    "class MyQueue:\n",
    "\n",
    "    def __init__(self):\n",
    "        self.stack = []\n",
    "\n",
    "    def push(self, x: int) -> None:\n",
    "        self.stack.append(x)\n",
    "        return\n",
    "        \n",
    "    def pop(self) -> int:\n",
    "        if not self.empty():\n",
    "            q2 = []\n",
    "            for i in range(len(self.stack) -1 ):\n",
    "                q2.append(self.stack.pop())\n",
    "            x = self.stack.pop()\n",
    "            for i in range(len(q2)):\n",
    "                self.stack.append(q2.pop())\n",
    "            return x\n",
    "        \n",
    "        return\n",
    "\n",
    "    def peek(self) -> int:\n",
    "        if not self.empty():\n",
    "            return self.stack[0]\n",
    "        return \n",
    "\n",
    "    def empty(self) -> bool:\n",
    "        return len(self.stack)==0\n",
    "        \n",
    "\n",
    "\n",
    "myQueue =  MyQueue();\n",
    "myQueue.push(1); #// queue is: [1]\n",
    "myQueue.push(2); #// queue is: [1, 2] (leftmost is front of the queue)\n",
    "print(myQueue.peek()); #// return 1\n",
    "print(myQueue.pop()); #// return 1, queue is [2]\n",
    "print(myQueue.empty()); #// return false"
   ]
  },
  {
   "cell_type": "code",
   "execution_count": null,
   "metadata": {},
   "outputs": [],
   "source": [
    "class Node:\n",
    "    def __init__(self,data) -> None:\n",
    "        self.data = data\n",
    "        self.next = None\n",
    "    \n",
    "class Stack:\n",
    "    def __init__(self) -> None:\n",
    "        self.head = None\n",
    "        self.next = None\n",
    "        self.cursize  = 0\n",
    "\n",
    "    def push(self, x):\n",
    "        new_node = Node(x)\n",
    "        if self.head == None:\n",
    "            self.head = new_node\n",
    "            return\n",
    "        \n",
    "        temp = self.head\n",
    "        while (temp.next !=None):\n",
    "            temp  = temp.next\n",
    "        \n",
    "        temp.next = new_node\n",
    "        return\n",
    "    \n",
    "    def pop(self):\n",
    "        temp = self.head\n",
    "        if temp ==None:\n",
    "            return\n",
    "        while(temp.next.next !=None):\n",
    "            temp = temp.next\n",
    "        x = temp.next.data\n",
    "        temp.next = None\n",
    "        return x\n",
    "    \n",
    "    def peek(self):\n",
    "        temp = self.head\n",
    "        if temp==None:\n",
    "            return \n",
    "        while(temp.next !=None):\n",
    "            temp = temp.next\n",
    "        return temp.data\n"
   ]
  },
  {
   "cell_type": "code",
   "execution_count": null,
   "metadata": {},
   "outputs": [],
   "source": [
    "class Node:\n",
    "    def __init__(self,data) -> None:\n",
    "        self.data = data\n",
    "        self.next = None\n",
    "    \n",
    "class Queue:\n",
    "    def __init__(self) -> None:\n",
    "        self.head = None\n",
    "        self.next = None\n",
    "        self.cursize  = 0\n",
    "\n",
    "    def push(self, x):\n",
    "        new_node = Node(x)\n",
    "        if self.head == None:\n",
    "            self.head = new_node\n",
    "            return\n",
    "        \n",
    "        temp = self.head\n",
    "        while (temp.next !=None):\n",
    "            temp  = temp.next\n",
    "        \n",
    "        temp.next = new_node\n",
    "        return\n",
    "    \n",
    "    def pop(self):\n",
    "        if self.head ==None:\n",
    "            return\n",
    "        x = self.head.data\n",
    "        self.head = self.head.next\n",
    "        return x\n",
    "    \n",
    "    def peek(self):\n",
    "        temp = self.head\n",
    "        if temp==None:\n",
    "            return \n",
    "        while(temp.next !=None):\n",
    "            temp = temp.next\n",
    "        return temp.data\n"
   ]
  },
  {
   "cell_type": "code",
   "execution_count": 38,
   "metadata": {},
   "outputs": [
    {
     "name": "stdout",
     "output_type": "stream",
     "text": [
      "2\n",
      "2\n"
     ]
    }
   ],
   "source": [
    "class MinStack:\n",
    "\n",
    "    def __init__(self):\n",
    "        self.stack = []\n",
    "        self.min_val = float('inf')\n",
    "\n",
    "    def push(self, val: int) -> None:\n",
    "        self.min_val = min(val, self.min_val)\n",
    "        self.stack.append((val, self.min_val))\n",
    "        return \n",
    "\n",
    "    def pop(self) -> None:\n",
    "        if len(self.stack) == 0:\n",
    "            return \n",
    "        x = self.stack.pop()\n",
    "        if len(self.stack) > 0: \n",
    "            self.min_val = self.stack[-1][1]\n",
    "        else:\n",
    "            self.min_val = float('inf')\n",
    "\n",
    "        return x[0]\n",
    "\n",
    "\n",
    "    def top(self) -> int:\n",
    "        if len(self.stack) == 0:\n",
    "            return\n",
    "        return self.stack[-1][0]\n",
    "\n",
    "    def getMin(self) -> int:\n",
    "        if len(self.stack) == 0:\n",
    "            return\n",
    "        return self.stack[-1][1]\n",
    "\n",
    "\n",
    "# Your MinStack object will be instantiated and called as such:\n",
    "obj = MinStack()\n",
    "obj.push(3)\n",
    "obj.push(2)\n",
    "obj.push(1)\n",
    "obj.pop()\n",
    "print(obj.top())\n",
    "print(obj.getMin())"
   ]
  },
  {
   "cell_type": "code",
   "execution_count": null,
   "metadata": {},
   "outputs": [],
   "source": [
    "# def infix_to_postfix(exp):\n",
    "#     digit_queue = deque()\n",
    "#     oper_stack = []\n",
    "#     for i in exp:\n",
    "#         if i in "
   ]
  },
  {
   "cell_type": "code",
   "execution_count": 43,
   "metadata": {},
   "outputs": [
    {
     "data": {
      "text/plain": [
       "[-1]"
      ]
     },
     "execution_count": 43,
     "metadata": {},
     "output_type": "execute_result"
    }
   ],
   "source": [
    "def next_greater(arr):\n",
    "    n = len(arr)\n",
    "    stack = []\n",
    "    max_value = -1  \n",
    "    for i in range(len(arr) -1):\n",
    "        x = arr[n-1-i]\n",
    "        if x > max_value:\n",
    "            stack.append(x)\n",
    "            max_value = x\n",
    "        else:\n",
    "            stack.append(max_value)\n",
    "\n",
    "\n",
    "    ans = [-1]*len(arr)\n",
    "    for i in range(len(stack)):\n",
    "        ans[i] = stack.pop()\n",
    "    return ans\n",
    "\n",
    "# next_greater([17,18,5,4,6,1])\n",
    "next_greater([400])"
   ]
  },
  {
   "cell_type": "code",
   "execution_count": 1,
   "metadata": {},
   "outputs": [
    {
     "data": {
      "text/plain": [
       "[-1, -1, 3, 1, 3, -1, 4]"
      ]
     },
     "execution_count": 1,
     "metadata": {},
     "output_type": "execute_result"
    }
   ],
   "source": [
    "def next_greater(subarr, arr):\n",
    "    stack = [-1]\n",
    "    leaders_stack = [-1]\n",
    "    n = len(arr)\n",
    "    for i in range(n-1):\n",
    "        val = arr[n-i-1]\n",
    "        if val <= stack[-1]:\n",
    "            leaders_stack.append(stack[-1])\n",
    "            stack.append(val)\n",
    "\n",
    "        else:\n",
    "            while (len(stack) >0 and stack[-1] <=val):\n",
    "                stack.pop()\n",
    "            if len(stack) ==0:\n",
    "                leaders_stack.append(-1)\n",
    "                stack.append(val)\n",
    "            else:\n",
    "                leaders_stack.append(stack[-1])\n",
    "                stack.append(val)\n",
    "\n",
    "    return leaders_stack\n",
    "\n",
    "next_greater([],[1,3,4,2,1,1,3])"
   ]
  },
  {
   "cell_type": "code",
   "execution_count": 8,
   "metadata": {},
   "outputs": [
    {
     "name": "stdout",
     "output_type": "stream",
     "text": [
      "{2: -1, 4: -1, 3: 4, 1: 3}\n"
     ]
    },
    {
     "data": {
      "text/plain": [
       "[-1, 3, -1]"
      ]
     },
     "execution_count": 8,
     "metadata": {},
     "output_type": "execute_result"
    }
   ],
   "source": [
    "def next_greater(arr):\n",
    "    stack = [arr[-1]]\n",
    "    leader = {arr[-1]:-1}\n",
    "    n = len(arr) \n",
    "    for i in range(1, n):\n",
    "        val = arr[n-i-1]\n",
    "        if val < stack[-1]:\n",
    "            leader[val] = stack[-1]\n",
    "            stack.append(val)\n",
    "        else:\n",
    "            while( len(stack) >0 and stack[-1] <val):\n",
    "                stack.pop()\n",
    "            if len(stack)==0:\n",
    "                leader[val] = -1\n",
    "                stack.append(val)\n",
    "            else:\n",
    "                leader[val] = stack[-1]\n",
    "                stack.append(val)\n",
    "    return leader\n",
    "\n",
    "def nextGreaterElement(subarr, arr):\n",
    "    leaders = next_greater(arr)\n",
    "    print(leaders)\n",
    "    ans = []\n",
    "    for i in subarr:\n",
    "        ans.append(leaders[i])\n",
    "    return ans\n",
    "\n",
    "nextGreaterElement([4,1,2], [1,3,4,2])\n"
   ]
  },
  {
   "cell_type": "code",
   "execution_count": 31,
   "metadata": {},
   "outputs": [
    {
     "data": {
      "text/plain": [
       "[3, 4, -1, 3]"
      ]
     },
     "execution_count": 31,
     "metadata": {},
     "output_type": "execute_result"
    }
   ],
   "source": [
    "def next_greater(arr):\n",
    "    n = len(arr) \n",
    "    stack = []\n",
    "    leader = [-1]*n\n",
    "    \n",
    "    for i in range(2 * n - 1, -1, -1):\n",
    "        val = arr[i % n]\n",
    "        while( len(stack) >0 and stack[-1] <=val):\n",
    "            stack.pop()\n",
    "        \n",
    "        if i < n:\n",
    "            if len(stack)==0:\n",
    "                stack.append(val)\n",
    "            else:\n",
    "                leader[i] = stack[-1]\n",
    "                stack.append(val)\n",
    "        else:\n",
    "            stack.append(val)\n",
    "    return leader\n",
    "\n",
    "# def nextGreaterElement(subarr, arr):\n",
    "#     leaders = next_greater(arr)\n",
    "#     print(leaders)\n",
    "#     ans = []\n",
    "#     for i in subarr:\n",
    "#         ans.append(leaders[i])\n",
    "#     return ans\n",
    "\n",
    "next_greater( [1,3,4,2])\n"
   ]
  },
  {
   "cell_type": "code",
   "execution_count": 42,
   "metadata": {},
   "outputs": [
    {
     "data": {
      "text/plain": [
       "6"
      ]
     },
     "execution_count": 42,
     "metadata": {},
     "output_type": "execute_result"
    }
   ],
   "source": [
    "def trap_water(heights):\n",
    "    # right heights\n",
    "    right_heights = []\n",
    "    max_ = 0\n",
    "    for i in range(len(heights)):\n",
    "        max_ = max(max_,  heights[i])\n",
    "        right_heights.append(max_)\n",
    "\n",
    "    # left heights\n",
    "    left_heights = [0]*len(heights)\n",
    "    max_ = 0\n",
    "    for i in range(len(heights)-1, -1, -1):\n",
    "        max_ = max(max_,  heights[i])\n",
    "        left_heights[i] = max_\n",
    "\n",
    "    # print('jeft heights', left_heights)\n",
    "    res = 0\n",
    "    for i in range(len(heights)):\n",
    "        res+= min(left_heights[i], right_heights[i]) - heights[i]\n",
    "        # print(min(left_heights[i], right_heights[i]) - heights[i])\n",
    "    return res\n",
    "\n",
    "trap_water([0,1,0,2,1,0,1,3,2,1,2,1])"
   ]
  },
  {
   "cell_type": "code",
   "execution_count": 45,
   "metadata": {},
   "outputs": [
    {
     "data": {
      "text/plain": [
       "6"
      ]
     },
     "execution_count": 45,
     "metadata": {},
     "output_type": "execute_result"
    }
   ],
   "source": [
    "def trap_water(heights):\n",
    "    # right heights\n",
    "    res = 0\n",
    "    left = 0\n",
    "    right = len(heights) -1\n",
    "    left_max = 0\n",
    "    right_max = 0\n",
    "\n",
    "    while (left<=right):\n",
    "        if heights[left] <= heights[right]:\n",
    "            if heights[left] < left_max:\n",
    "                res+= left_max - heights[left]\n",
    "            else:\n",
    "                left_max = heights[left]\n",
    "            left +=1\n",
    "        else:\n",
    "            if heights[right] <= right_max:\n",
    "                res+= right_max - heights[right]\n",
    "            else:\n",
    "                right_max = heights[right]\n",
    "            right -=1            \n",
    "    return res\n",
    "\n",
    "trap_water([0,1,0,2,1,0,1,3,2,1,2,1])"
   ]
  },
  {
   "cell_type": "code",
   "execution_count": 28,
   "metadata": {},
   "outputs": [
    {
     "name": "stdout",
     "output_type": "stream",
     "text": [
      "[1, 4, 4, 4] [-1, -1, 1, 2]\n"
     ]
    },
    {
     "data": {
      "text/plain": [
       "17"
      ]
     },
     "execution_count": 28,
     "metadata": {},
     "output_type": "execute_result"
    }
   ],
   "source": [
    "def next_prev_smallest(arr):\n",
    "    n = len(arr)\n",
    "    next_smallest = [-1]*n\n",
    "    prev_smallest = [-1]*n\n",
    "    stack = []\n",
    "    stack2 = []\n",
    "    for i in range(n):\n",
    "        while(stack and  arr[stack[-1]]>arr[n-i-1]  ): # next smallest\n",
    "            stack.pop()\n",
    "        if stack:\n",
    "            next_smallest[n-i-1] = stack[-1]\n",
    "        else:\n",
    "            next_smallest[n-i-1] =n\n",
    "            pass\n",
    "        stack.append(n-i-1 )\n",
    "\n",
    "        while(stack2 and  arr[stack2[-1]]>arr[i]  ): # next smallest\n",
    "            stack2.pop()\n",
    "        if stack2:\n",
    "            prev_smallest[i] = stack2[-1]\n",
    "        else:\n",
    "            prev_smallest[i] = -1\n",
    "            pass\n",
    "        stack2.append(i )\n",
    "    ans = 0\n",
    "    for i in range(n):\n",
    "        ls = i - prev_smallest[i]\n",
    "        rs = next_smallest[i] - i\n",
    "        total = ls*rs\n",
    "        ans+= arr[i]*total\n",
    "        # ans+= arr[i]*(prev_smallest[i]+1)*(next_smallest[i] + 1)\n",
    "    print(next_smallest, prev_smallest)\n",
    "    return ans\n",
    "\n",
    "\n",
    "# next_prev_smallest([5,8,9,2,1,3,4])\n",
    "next_prev_smallest([3,1,2,4])"
   ]
  },
  {
   "cell_type": "code",
   "execution_count": 59,
   "metadata": {},
   "outputs": [
    {
     "name": "stdout",
     "output_type": "stream",
     "text": [
      "[5, 10]\n",
      "[10]\n",
      "[]\n",
      "[-2, -2, -2]\n",
      "[-2, -2]\n"
     ]
    }
   ],
   "source": [
    "def asteroid_collision(arr):\n",
    "    n = len(arr)\n",
    "    stack = []\n",
    "    for i in range(n):\n",
    "        while(len(stack) >=1 and arr[i] <0 and stack[-1] >0 ):\n",
    "            if abs(arr[i]) > stack[-1]:\n",
    "                stack.pop()\n",
    "                continue\n",
    "                # stack.append(arr[i])\n",
    "            elif abs(arr[i]) < stack[-1]:\n",
    "                break\n",
    "            else:\n",
    "                stack.pop()\n",
    "                break\n",
    "        else:\n",
    "            stack.append(arr[i])\n",
    "    return stack\n",
    "\n",
    "print(asteroid_collision([5,10,-5]))\n",
    "print(asteroid_collision([10,2,-5]))\n",
    "print(asteroid_collision([8,-8]))\n",
    "print(asteroid_collision([-2,-2,1,-2]))\n",
    "\n",
    "print(asteroid_collision([-2,-2,1,-1]))\n",
    "\n",
    "\n"
   ]
  },
  {
   "cell_type": "code",
   "execution_count": 85,
   "metadata": {},
   "outputs": [
    {
     "data": {
      "text/plain": [
       "593"
      ]
     },
     "execution_count": 85,
     "metadata": {},
     "output_type": "execute_result"
    }
   ],
   "source": [
    "def subarrayrangemin(arr):\n",
    "\n",
    "    n = len(arr)\n",
    "    m  = 10**9 + 7\n",
    "    nextsmallest = [n]*n\n",
    "    next_stack = []\n",
    "\n",
    "    prevsmallest = [0]*n\n",
    "    prev_stack = []\n",
    "    ans = 0\n",
    "    for i in range(n):\n",
    "        while(len(next_stack)>=1 and arr[next_stack[-1]] > arr[n-i-1]):\n",
    "            next_stack.pop()\n",
    "        \n",
    "        if len(next_stack)>=1:\n",
    "            nextsmallest[n-i-1]  = next_stack[-1]\n",
    "        else:\n",
    "            nextsmallest[n-i-1]  = n\n",
    "        next_stack.append(n-i-1)\n",
    "\n",
    "        while(len(prev_stack)>=1 and arr[prev_stack[-1]] >= arr[i]):\n",
    "            prev_stack.pop()\n",
    "        if len(prev_stack)>=1:\n",
    "            prevsmallest[i]  = prev_stack[-1]\n",
    "        else:\n",
    "            prevsmallest[i]  = -1\n",
    "        prev_stack.append(i)\n",
    "\n",
    "    for i in range(n):\n",
    "        re =  nextsmallest[i] - i\n",
    "        le = i - prevsmallest[i]\n",
    "        ans+= arr[i]*(re*le)\n",
    "    return  ans%m\n",
    "# subarrayrange([3,1,2,4])\n",
    "subarrayrangemin([71,55,82,55])"
   ]
  },
  {
   "cell_type": "code",
   "execution_count": 90,
   "metadata": {},
   "outputs": [
    {
     "data": {
      "text/plain": [
       "59"
      ]
     },
     "execution_count": 90,
     "metadata": {},
     "output_type": "execute_result"
    }
   ],
   "source": [
    "def subarrayranges(arr):\n",
    "\n",
    "    n = len(arr)\n",
    "    nextsmallest = [n]*n\n",
    "    nextgreatest = [n]*n\n",
    "    next_small_stack = []\n",
    "    next_great_stack = []\n",
    "\n",
    "    prevsmallest = [0]*n\n",
    "    prevgreatest = [0]*n\n",
    "    prev_small_stack = []\n",
    "    prev_great_stack = []\n",
    "    min_ans = 0\n",
    "    max_ans = 0\n",
    "    for i in range(n):\n",
    "        while(len(next_small_stack)>=1 and arr[next_small_stack[-1]] > arr[n-i-1]):\n",
    "            next_small_stack.pop()\n",
    "        \n",
    "        if len(next_small_stack)>=1:\n",
    "            nextsmallest[n-i-1]  = next_small_stack[-1]\n",
    "        else:\n",
    "            nextsmallest[n-i-1]  = n\n",
    "        next_small_stack.append(n-i-1)\n",
    "\n",
    "\n",
    "        while(len(next_great_stack)>=1 and arr[next_great_stack[-1]] < arr[n-i-1]):\n",
    "            next_great_stack.pop()\n",
    "        \n",
    "        if len(next_great_stack)>=1:\n",
    "            nextgreatest[n-i-1]  = next_great_stack[-1]\n",
    "        else:\n",
    "            nextgreatest[n-i-1]  = n\n",
    "        next_great_stack.append(n-i-1)\n",
    "\n",
    "        while(len(prev_small_stack)>=1 and arr[prev_small_stack[-1]] >= arr[i]):\n",
    "            prev_small_stack.pop()\n",
    "        if len(prev_small_stack)>=1:\n",
    "            prevsmallest[i]  = prev_small_stack[-1]\n",
    "        else:\n",
    "            prevsmallest[i]  = -1\n",
    "        prev_small_stack.append(i)\n",
    "\n",
    "\n",
    "        while(len(prev_great_stack)>=1 and arr[prev_great_stack[-1]] <= arr[i]):\n",
    "            prev_great_stack.pop()\n",
    "        if len(prev_great_stack)>=1:\n",
    "            prevgreatest[i]  = prev_great_stack[-1]\n",
    "        else:\n",
    "            prevgreatest[i]  = -1\n",
    "        prev_great_stack.append(i)\n",
    "\n",
    "\n",
    "    for i in range(n):\n",
    "        re =  nextsmallest[i] - i\n",
    "        le = i - prevsmallest[i]\n",
    "        min_ans+= arr[i]*(re*le)\n",
    "\n",
    "    for i in range(n):\n",
    "        re =  nextgreatest[i] - i\n",
    "        le = i - prevgreatest[i]\n",
    "        max_ans+= arr[i]*(re*le)\n",
    "    return  max_ans - min_ans\n",
    "# subarrayrange([3,1,2,4])\n",
    "# subarrayrangemin([71,55,82,55])\n",
    "# subarrayranges([1,2,3])\n",
    "# subarrayranges([1,3,3])\n",
    "subarrayranges([4,-2,-3,4,1])"
   ]
  },
  {
   "cell_type": "code",
   "execution_count": 123,
   "metadata": {},
   "outputs": [
    {
     "name": "stdout",
     "output_type": "stream",
     "text": [
      "1219\n",
      "200\n",
      "0\n",
      "1111\n",
      "0\n"
     ]
    }
   ],
   "source": [
    "def remove_k_digits(num, k):\n",
    "    n = len(num)\n",
    "    stack = []\n",
    "    for i in range(n):\n",
    "        while len(stack) >=1 and k>0 and stack[-1] > num[i]:\n",
    "            stack.pop()\n",
    "            k-=1\n",
    "        if len(stack)<1 and num[i]=='0':\n",
    "            continue\n",
    "        else:   \n",
    "            stack.append(num[i])\n",
    "    if len(stack) <1:\n",
    "        return '0'\n",
    "    while stack and k>0:\n",
    "        stack.pop()\n",
    "        k-=1\n",
    "    if len(stack) <1:\n",
    "        return '0'\n",
    "    return ''.join(stack)\n",
    "print(remove_k_digits(\"1432219\", 3) )\n",
    "print(remove_k_digits(\"10200\", 1) )\n",
    "print(remove_k_digits(\"10\", 1) )\n",
    "print(remove_k_digits(\"1111111\", 3) )\n",
    "print(remove_k_digits(\"1234567890\", 9) )\n"
   ]
  },
  {
   "cell_type": "code",
   "execution_count": 129,
   "metadata": {},
   "outputs": [
    {
     "name": "stdout",
     "output_type": "stream",
     "text": [
      "10\n",
      "4\n"
     ]
    }
   ],
   "source": [
    "def largest_rectangle(arr):\n",
    "    n = len(arr)\n",
    "    next_smallest = [0]*n\n",
    "    prev_smallest = [0]*n\n",
    "    next_stack = []\n",
    "    prev_stack = []\n",
    "    for i in range(n):\n",
    "        while (len(next_stack) >=1 and arr[next_stack[-1]] > arr[n-i-1]):\n",
    "            next_stack.pop()\n",
    "        if len(next_stack) >=1:\n",
    "            next_smallest[n-i-1] = next_stack[-1]\n",
    "        else:\n",
    "            next_smallest[n-i-1] = n\n",
    "        next_stack.append(n-i-1)\n",
    "        \n",
    "        while (len(prev_stack) >=1 and arr[prev_stack[-1]] >= arr[i]):\n",
    "            prev_stack.pop()\n",
    "        if len(prev_stack) >=1:\n",
    "            prev_smallest[i] = prev_stack[-1]\n",
    "        else:\n",
    "            prev_smallest[i] = -1\n",
    "        prev_stack.append(i)\n",
    "    \n",
    "    ans = 0\n",
    "    for i in range(n):\n",
    "        re = next_smallest[i] - i\n",
    "        le = i - prev_smallest[i]\n",
    "        ans = max(ans, arr[i]*(re+le -1))\n",
    "    return ans\n",
    "print(largest_rectangle([2,1,5,6,2,3]))\n",
    "print(largest_rectangle([2,4]))\n",
    "# print(largest_rectangle([2,1,5,6,2,3]))"
   ]
  },
  {
   "cell_type": "code",
   "execution_count": 28,
   "metadata": {},
   "outputs": [
    {
     "data": {
      "text/plain": [
       "[3, 3, 5, 5, 6, 7]"
      ]
     },
     "execution_count": 28,
     "metadata": {},
     "output_type": "execute_result"
    }
   ],
   "source": [
    "arr = [1,3,-1,-3,5,3,6,7]\n",
    "ans = []\n",
    "mono_desc_queue = deque()\n",
    "k = 3\n",
    "for i in range(len(arr)):\n",
    "    if(len(mono_desc_queue) >0 and mono_desc_queue[0] == i-k ):\n",
    "        mono_desc_queue.popleft()\n",
    "    while(len(mono_desc_queue) >0 and arr[mono_desc_queue[-1]] < arr[i] ):\n",
    "        mono_desc_queue.pop()\n",
    "    mono_desc_queue.appendleft(i)\n",
    "    if i >= k-1:\n",
    "        ans.append(arr[mono_desc_queue[-1]])\n",
    "ans\n",
    "    \n"
   ]
  },
  {
   "cell_type": "code",
   "execution_count": 30,
   "metadata": {},
   "outputs": [
    {
     "name": "stdout",
     "output_type": "stream",
     "text": [
      "1\n",
      "1\n",
      "1\n",
      "2\n",
      "1\n",
      "4\n",
      "6\n"
     ]
    }
   ],
   "source": [
    "class StockSpanner:\n",
    "\n",
    "    def __init__(self):\n",
    "        self.mono_desc_stack = [] # (price, span)\n",
    "\n",
    "    def next(self, price: int) -> int:\n",
    "        span = 1\n",
    "        while len(self.mono_desc_stack) >0 and price >=self.mono_desc_stack[-1][0]:\n",
    "            span += self.mono_desc_stack[-1][1]\n",
    "            self.mono_desc_stack.pop()\n",
    "        self.mono_desc_stack.append((price, span))\n",
    "        return span\n",
    "\n",
    "stockSpanner =  StockSpanner();\n",
    "print(stockSpanner.next(100));\n",
    "print(stockSpanner.next(80)); \n",
    "print(stockSpanner.next(60)); \n",
    "print(stockSpanner.next(70));  \n",
    "print(stockSpanner.next(60)); \n",
    "print(stockSpanner.next(75));  \n",
    "print(stockSpanner.next(85)); "
   ]
  },
  {
   "cell_type": "code",
   "execution_count": 29,
   "metadata": {},
   "outputs": [
    {
     "data": {
      "text/plain": [
       "[1, 1, 1, 2, 1, 4, 6]"
      ]
     },
     "execution_count": 29,
     "metadata": {},
     "output_type": "execute_result"
    }
   ],
   "source": [
    "def stock_span(arr):\n",
    "    n = len(arr)\n",
    "    ans = []\n",
    "    mono_desc_stack = [] # (price, span)\n",
    "    for i in range(n):\n",
    "        span = 1\n",
    "        while len(mono_desc_stack) >0 and arr[i] >=mono_desc_stack[-1][0]:\n",
    "            span += mono_desc_stack[-1][1]\n",
    "            mono_desc_stack.pop()\n",
    "        mono_desc_stack.append((arr[i], span))\n",
    "        ans.append(span)\n",
    "    return ans\n",
    "\n",
    "stock_span([100,80,60,70,60,75,85])"
   ]
  },
  {
   "cell_type": "code",
   "execution_count": 65,
   "metadata": {},
   "outputs": [
    {
     "name": "stdout",
     "output_type": "stream",
     "text": [
      "-1\n",
      "None\n",
      "-1\n",
      "None\n",
      "None\n",
      "2\n",
      "6\n"
     ]
    }
   ],
   "source": [
    "class Node:\n",
    "    def __init__(self, value, key) -> None:\n",
    "        self.value = value\n",
    "        self.key = key\n",
    "        self.next = None\n",
    "        self.prev = None\n",
    "\n",
    "\n",
    "class LRUCache:\n",
    "\n",
    "    def __init__(self, capacity: int):\n",
    "        self.capacity = capacity\n",
    "        self.hash_map = {}\n",
    "        self.head = Node(None, None)\n",
    "        self.tail = Node(None, None)\n",
    "\n",
    "        self.head.next = self.tail\n",
    "        self.tail.prev = self.head\n",
    "\n",
    "    def get(self, key: int) -> int:\n",
    "        if len(self.hash_map) <1:\n",
    "            return -1\n",
    "        element  = self.hash_map.get(key, None)\n",
    "        # print(\"elem\", element)\n",
    "        if element == None:\n",
    "            return -1\n",
    "        \n",
    "\n",
    "        delt = self.delete(element)\n",
    "        # make the key as recent i.e., next to the head\n",
    "        add = self.add_front(element)\n",
    "        self.hash_map[key] = self.head.next #element\n",
    "        return element.value\n",
    "\n",
    "    def delete(self, element):\n",
    "        # print(self.hash_map[self.tail.prev.key])\n",
    "        temp = element.prev\n",
    "        temp.next  =element.next\n",
    "        # set elements prev addresss\n",
    "        element.next.prev = temp\n",
    "        return True\n",
    "    \n",
    "    def add_front(self,element):\n",
    "        # set the elements address\n",
    "        element.next = self.head.next\n",
    "        element.prev = self.head\n",
    "        # set the elements next's address\n",
    "        element.next.prev = element\n",
    "        # set teh element's prev's address\n",
    "        self.head.next = element\n",
    "        return True\n",
    "    \n",
    "    def put(self, key: int, value: int) -> None:\n",
    "        \n",
    "        elem = self.hash_map.get(key, None)\n",
    "        if elem!=None:\n",
    "            elem.value = value\n",
    "            # update the value\n",
    "            delt = self.delete(elem)\n",
    "            # and put the eleemnt in front\n",
    "            add = self.add_front(elem)\n",
    "            self.hash_map[key] = self.head.next\n",
    "            return\n",
    "\n",
    "        element1 = Node(value, key)\n",
    "        if len(self.hash_map) < self.capacity:\n",
    "            # create the Node\n",
    "            add = self.add_front(element1)\n",
    "            self.hash_map[key] = self.head.next #element\n",
    "            return\n",
    "        \n",
    "        else:\n",
    "            # otherwise delete an element\n",
    "            # print(\"here\",self.tail.prev.key)\n",
    "            self.hash_map.pop(self.tail.prev.key)\n",
    "            delt = self.delete(self.tail.prev)\n",
    "            # and put the eleemnt in front\n",
    "            add = self.add_front(element1)\n",
    "            self.hash_map[key] = self.head.next\n",
    "            return\n",
    "                \n",
    "\n",
    "\n",
    "\n",
    "# # Your LRUCache object will be instantiated and called as such:\n",
    "# lRUCache = LRUCache(2);\n",
    "# print(lRUCache.put(1, 1)); #// cache is {1=1}\n",
    "# print(lRUCache.put(2, 2)); #// cache is {1=1, 2=2}\n",
    "# print(lRUCache.get(1));    #// return 1\n",
    "# print(lRUCache.put(3, 3)); #// LRU key was 2, evicts key 2, cache is {1=1, 3=3}\n",
    "# print(lRUCache.get(2));    #// returns -1 (not found)\n",
    "# print(lRUCache.put(4, 4)); #// LRU key was 1, evicts key 1, cache is {4=4, 3=3}\n",
    "# print(lRUCache.get(1));    #// return -1 (not found)\n",
    "# print(lRUCache.get(3));    #// return 3\n",
    "# print(lRUCache.get(4));    #// return 4\n",
    "            \n",
    "# # Your LRUCache object will be instantiated and called as such:\n",
    "lRUCache = LRUCache(2);\n",
    "print(lRUCache.get(2)); #//-1\n",
    "print(lRUCache.put(2, 6)); #// cache is {2=6}\n",
    "print(lRUCache.get(1));    #// return -1\n",
    "print(lRUCache.put(1, 5)); #// cache is {1=5, 2=6}\n",
    "print(lRUCache.put(1, 2)); #// LRU key was 2, evicts key 2, cache is {1=2,2=6}\n",
    "print(lRUCache.get(1));    #// returns 2 , \n",
    "print(lRUCache.get(2)); #//6, cache is {2=6,1=2}"
   ]
  },
  {
   "cell_type": "code",
   "execution_count": 63,
   "metadata": {},
   "outputs": [
    {
     "name": "stdout",
     "output_type": "stream",
     "text": [
      "None\n",
      "None\n",
      "2\n",
      "None\n",
      "{1: <__main__.DLL object at 0x115646a00>, 2: <__main__.DLL object at 0x115461520>, 3: <__main__.DLL object at 0x115933ca0>}\n",
      "{2: <__main__.Node object at 0x115764af0>, 1: <__main__.Node object at 0x11564b970>}\n",
      "1\n",
      "None\n",
      "None\n",
      "2\n"
     ]
    }
   ],
   "source": [
    "class Node:\n",
    "    def __init__(self,key,  value) -> None:\n",
    "        self.value =value\n",
    "        self.freq = 0\n",
    "        self.key = key\n",
    "        self.next = None\n",
    "        self.prev = None\n",
    "\n",
    "class DLL:\n",
    "    def __init__(self) -> None:\n",
    "        self.head = Node(None, None)\n",
    "        self.tail = Node(None, None)\n",
    "        self.head.next = self.tail\n",
    "        self.tail.prev = self.head\n",
    "\n",
    "class LFUCache:\n",
    "    def __init__(self, size) -> None:\n",
    "        self.hash_nodes = {} # (freq, nodes)\n",
    "        self.min_key = {} # (key, freq)\n",
    "        self.hash_keys = {} # (key, node address)\n",
    "        self.size = size\n",
    "        self.min_freq = 0\n",
    "        self.cur_size = 0\n",
    "    \n",
    "    def delete_elem(self, elem):\n",
    "        temp = elem.prev\n",
    "        temp.next = elem.next\n",
    "        elem.next.prev = temp\n",
    "        return \n",
    "    \n",
    "    def add_front(self, elem, dll):\n",
    "        elem.next = dll.head.next\n",
    "        elem.prev = dll.head\n",
    "        elem.next.prev = elem\n",
    "        dll.head.next = elem\n",
    "        return \n",
    "\n",
    "\n",
    "    def get(self, key):\n",
    "        element = self.hash_keys.get(key, None)\n",
    "        if element==None:\n",
    "            return -1\n",
    "        if element.freq == self.min_freq and element.prev.value == None and element.next.value==None:\n",
    "            self.min_freq+=1\n",
    "        element.freq+=1\n",
    "        self.delete_elem(element)\n",
    "        \n",
    "        dll = self.hash_nodes.get(element.freq, None)\n",
    "        if dll==None:\n",
    "            self.hash_nodes[element.freq] = DLL()\n",
    "            dll = self.hash_nodes[element.freq]\n",
    "        self.add_front(element,dll)\n",
    "        return element.value\n",
    "\n",
    "\n",
    "\n",
    "    def put(self, key, value):\n",
    "        element = self.hash_keys.get(key, None)\n",
    "        if element!=None:\n",
    "            if element.freq == self.min_freq and element.prev.value == None and element.next.value==None:\n",
    "                self.min_freq+=1\n",
    "            element.freq +=1 \n",
    "            element.value = value\n",
    "            self.delete_elem(element)\n",
    "            dll = self.hash_nodes.get(element.freq, None)\n",
    "            if dll==None:\n",
    "                self.hash_nodes[element.freq] = DLL()\n",
    "                dll = self.hash_nodes[element.freq]\n",
    "                \n",
    "            self.add_front(element,dll)\n",
    "            return \n",
    "        \n",
    "        if self.cur_size + 1 > self.size:\n",
    "\n",
    "            element = self.hash_nodes[self.min_freq].tail.prev\n",
    "            self.hash_keys.pop(element.key)\n",
    "            self.delete_elem(element)\n",
    "            self.cur_size-=1\n",
    "\n",
    "        element = Node(key, value)\n",
    "        self.hash_keys[key] = element\n",
    "        element.freq = 1\n",
    "        self.min_freq = 1\n",
    "        self.cur_size+=1\n",
    "        dll = self.hash_nodes.get(element.freq, None)\n",
    "        if dll==None:\n",
    "            self.hash_nodes[element.freq] = DLL()\n",
    "            dll = self.hash_nodes[element.freq]\n",
    "\n",
    "        self.add_front(element,dll)\n",
    "        return\n",
    "\n",
    "# lfu = LFUCache(2);\n",
    "# print(lfu.put(1, 1));   #// cache=[1,_], cnt(1)=1\n",
    "# print(lfu.put(2, 2));   #// cache=[2,1], cnt(2)=1, cnt(1)=1\n",
    "# # print(lfu.hash_keys)\n",
    "# # print(lfu.hash_nodes)\n",
    "# print(lfu.get(1));      #// return 1\n",
    "# #                  #// cache=[1,2], cnt(2)=1, cnt(1)=2\n",
    "# print(lfu.put(3, 3));   #// 2 is the print(LFU key because cnt(2)=1 is the smallest, invalidate 2.\n",
    "#                  #// cache=[3,1], cnt(3)=1, cnt(1)=2\n",
    "# print(lfu.get(2));      #// return -1 (not found)\n",
    "# print(lfu.get(3));      #// return 3\n",
    "#                  #// cache=[3,1], cnt(3)=2, cnt(1)=2\n",
    "# print(lfu.put(4, 4));   #// Both 1 and 3 have the same cnt, but 1 is LRU, invalidate 1.\n",
    "#                  #// cache=[4,3], cnt(4)=1, cnt(3)=2\n",
    "# print(lfu.get(1));      #// return -1 (not found)\n",
    "# print(lfu.get(3));      #// return 3\n",
    "#                  #// cache=[3,4], cnt(4)=1, cnt(3)=3\n",
    "# print(lfu.get(4));      #// return 4\n",
    "# #                 #  // cache=[4,3], cnt(4)=2, cnt(3)=3\n",
    "    \n",
    "\n",
    "lfu = LFUCache(2);\n",
    "print(lfu.put(2, 1));   #// cache=[1,_], cnt(1)=1\n",
    "print(lfu.put(2, 2));   #// cache=[2,1], cnt(2)=1, cnt(1)=1\n",
    "# print(lfu.hash_keys)\n",
    "# print(lfu.hash_nodes)\n",
    "\n",
    "print(lfu.get(2));      #// return 1\n",
    "#                  #// cache=[1,2], cnt(2)=1, cnt(1)=2\n",
    "\n",
    "print(lfu.put(1, 1));   #// 2 is the print(LFU key because cnt(2)=1 is the smallest, invalidate 2.\n",
    "                 #// cache=[3,1], cnt(3)=1, cnt(1)=2\n",
    "print(lfu.hash_nodes)\n",
    "print(lfu.hash_keys)\n",
    "print(lfu.min_freq)\n",
    "print(lfu.hash_nodes[lfu.min_freq].head.next.next.value)\n",
    "\n",
    "print(lfu.put(4,1))\n",
    "\n",
    "print(lfu.get(2));      #// return -1 (not found)\n"
   ]
  },
  {
   "cell_type": "code",
   "execution_count": 10,
   "metadata": {},
   "outputs": [
    {
     "name": "stdout",
     "output_type": "stream",
     "text": [
      "3\n",
      "1\n",
      "3\n",
      "1\n"
     ]
    }
   ],
   "source": [
    "def longest_substring(string):\n",
    "    # if len(string)\n",
    "    max_val = 0\n",
    "    hash_set = set()\n",
    "    ans  = 0\n",
    "    for i in range(len(string)):\n",
    "        if string[i] not in hash_set:\n",
    "            hash_set.add(string[i])\n",
    "            ans+=1\n",
    "        else:\n",
    "            max_val = max(max_val, ans)\n",
    "            hash_set = set()\n",
    "            hash_set.add(string[i])\n",
    "            ans = 1\n",
    "    return max(max_val, ans)\n",
    "print(longest_substring('abcabcbb'))\n",
    "print(longest_substring('bbbbb'))\n",
    "print(longest_substring('pwwkew')) \n",
    "print(longest_substring(' ')) "
   ]
  },
  {
   "cell_type": "code",
   "execution_count": null,
   "metadata": {},
   "outputs": [],
   "source": [
    "# project idea \n",
    "# places embeddings\n"
   ]
  }
 ],
 "metadata": {
  "kernelspec": {
   "display_name": "prac_env",
   "language": "python",
   "name": "python3"
  },
  "language_info": {
   "codemirror_mode": {
    "name": "ipython",
    "version": 3
   },
   "file_extension": ".py",
   "mimetype": "text/x-python",
   "name": "python",
   "nbconvert_exporter": "python",
   "pygments_lexer": "ipython3",
   "version": "3.8.17"
  }
 },
 "nbformat": 4,
 "nbformat_minor": 2
}
