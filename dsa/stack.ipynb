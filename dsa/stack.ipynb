{
 "cells": [
  {
   "cell_type": "code",
   "execution_count": 25,
   "metadata": {},
   "outputs": [
    {
     "name": "stdout",
     "output_type": "stream",
     "text": [
      "[]\n",
      "[5]\n",
      "[1]\n",
      "[1]\n",
      "[1]\n",
      "[1, 1, 1, -1, -1]\n"
     ]
    }
   ],
   "source": [
    "# \n",
    "x = [2,4,7,1,5]\n",
    "def nextsmallest(nums):\n",
    "    stack = []\n",
    "    n = len(nums)\n",
    "    ans = [0]*n\n",
    "    for i in range(n-1, 0-1,-1):\n",
    "        print(stack)\n",
    "        if len(stack) == 0:\n",
    "            ans[i] = -1\n",
    "            stack.append(nums[i])\n",
    "        else:\n",
    "            if stack[-1] <= nums[i]:\n",
    "                ans[i] = stack[-1]\n",
    "            else:\n",
    "                while(stack[-1] > nums[i]):\n",
    "                    stack.pop()\n",
    "                stack.append(nums[i])\n",
    "                ans[i] = -1\n",
    "\n",
    "    return ans\n",
    "\n",
    "print(nextsmallest(x))"
   ]
  },
  {
   "cell_type": "code",
   "execution_count": 17,
   "metadata": {},
   "outputs": [
    {
     "name": "stdout",
     "output_type": "stream",
     "text": [
      "5\n",
      "1\n",
      "7\n",
      "4\n",
      "2\n"
     ]
    }
   ],
   "source": [
    "nums= [2,4,7,1,5]\n",
    "n = len(nums)\n",
    "for i in range(n-1, 0-1,-1):\n",
    "    print(nums[i])"
   ]
  },
  {
   "cell_type": "code",
   "execution_count": 6,
   "metadata": {},
   "outputs": [
    {
     "data": {
      "text/plain": [
       "3"
      ]
     },
     "execution_count": 6,
     "metadata": {},
     "output_type": "execute_result"
    }
   ],
   "source": [
    "class StackImplementation:\n",
    "    def __init__(self) -> None:\n",
    "        self.top = -1\n",
    "        self.array = []\n",
    "    \n",
    "    def push(self, val):\n",
    "        self.top +=1\n",
    "        self.array.append(val)\n",
    "        return\n",
    "    def pop(self):\n",
    "        self.top-=1\n",
    "        self.array.pop()\n",
    "        return\n",
    "    def peek(self):\n",
    "        return self.array[self.top]\n",
    "    \n",
    "x = StackImplementation()\n",
    "x.push(6)\n",
    "x.push(3)\n",
    "x.push(7)\n",
    "# x.pop()\n",
    "x.peek()\n",
    "x.pop()\n",
    "x.peek()\n",
    "\n"
   ]
  },
  {
   "cell_type": "code",
   "execution_count": null,
   "metadata": {},
   "outputs": [],
   "source": [
    "class QueueImplementation:\n",
    "    def __init__(self) -> None:\n",
    "        self.front = -1 # top\n",
    "        self.rear = -1\n",
    "        self.queue = [0]*1000\n",
    "        self.max_size = 1000\n",
    "        self.cur_size = 0\n",
    "    \n",
    "    def push(self, val):\n",
    "        if self.cur_size >= self.max_size:\n",
    "            print(\"Queue is full\\nExiting...\")\n",
    "            return\n",
    "        if self.front == -1:\n",
    "            self.front = 0\n",
    "            # self.rear = 0\n",
    "        self.rear= (self.rear + 1) % self.max_size\n",
    "        self.queue[self.rear] = val\n",
    "        return\n",
    "    def pop(self):\n",
    "        if self.front == -1:\n",
    "            print(\"Queue Empty\\nExiting...\")\n",
    "            return\n",
    "        popped = self.arr[self.front % self.max_size]\n",
    "        if self.currSize == 1:\n",
    "            self.front = -1\n",
    "            self.end = -1\n",
    "        else:\n",
    "            self.front = (self.front + 1) % self.max_size\n",
    "        self.currSize -= 1\n",
    "        return popped\n",
    "    \n",
    "    def peek(self):\n",
    "        if self.front==-1:\n",
    "            print(\"Queue Empty\\nExiting...\")\n",
    "            return \n",
    "        return self.queue[self.front % self.max_size]\n",
    "        \n",
    "\n",
    "\n"
   ]
  },
  {
   "cell_type": "code",
   "execution_count": 8,
   "metadata": {},
   "outputs": [
    {
     "data": {
      "text/plain": [
       "True"
      ]
     },
     "execution_count": 8,
     "metadata": {},
     "output_type": "execute_result"
    }
   ],
   "source": [
    "\n",
    "def valid_par(s):\n",
    "    stack = []\n",
    "    d = {'(':')', '{':'}','[':']'}\n",
    "    for i in s:\n",
    "        if i in d:\n",
    "            stack.append(i)\n",
    "        elif len(stack)==0 or d[stack.pop()]!=i:\n",
    "            return False\n",
    "    return len(stack)==0\n",
    "valid_par('()')\n",
    "        "
   ]
  },
  {
   "cell_type": "code",
   "execution_count": null,
   "metadata": {},
   "outputs": [],
   "source": []
  }
 ],
 "metadata": {
  "kernelspec": {
   "display_name": "prac_env",
   "language": "python",
   "name": "python3"
  },
  "language_info": {
   "codemirror_mode": {
    "name": "ipython",
    "version": 3
   },
   "file_extension": ".py",
   "mimetype": "text/x-python",
   "name": "python",
   "nbconvert_exporter": "python",
   "pygments_lexer": "ipython3",
   "version": "3.8.17"
  }
 },
 "nbformat": 4,
 "nbformat_minor": 2
}
