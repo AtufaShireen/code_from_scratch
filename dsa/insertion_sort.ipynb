{
 "cells": [
  {
   "cell_type": "code",
   "execution_count": 1,
   "metadata": {},
   "outputs": [
    {
     "data": {
      "text/plain": [
       "[0, 1, 2, 3]"
      ]
     },
     "execution_count": 1,
     "metadata": {},
     "output_type": "execute_result"
    }
   ],
   "source": [
    "def insertion_sort(nums):\n",
    "    n = len(nums)\n",
    "    for i in range(n-1):\n",
    "        j = i+1\n",
    "        while j>0:\n",
    "            if nums[j] < nums[j-1]:\n",
    "                 nums[j] , nums[j-1] = nums[j-1], nums[j]\n",
    "            else:\n",
    "                break\n",
    "            j-=1\n",
    "    return nums    \n",
    "insertion_sort([3,2,1,0])"
   ]
  }
 ],
 "metadata": {
  "kernelspec": {
   "display_name": "prac_env",
   "language": "python",
   "name": "python3"
  },
  "language_info": {
   "codemirror_mode": {
    "name": "ipython",
    "version": 3
   },
   "file_extension": ".py",
   "mimetype": "text/x-python",
   "name": "python",
   "nbconvert_exporter": "python",
   "pygments_lexer": "ipython3",
   "version": "3.8.17"
  }
 },
 "nbformat": 4,
 "nbformat_minor": 2
}
