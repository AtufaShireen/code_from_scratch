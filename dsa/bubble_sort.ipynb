{
 "cells": [
  {
   "cell_type": "markdown",
   "metadata": {},
   "source": [
    "* bubble sort, aka : sinking sort, exchange sort"
   ]
  },
  {
   "cell_type": "code",
   "execution_count": 18,
   "metadata": {},
   "outputs": [
    {
     "data": {
      "text/plain": [
       "[1, 2, 3, 4, 5]"
      ]
     },
     "execution_count": 18,
     "metadata": {},
     "output_type": "execute_result"
    }
   ],
   "source": [
    "def bubble_sort(nums):\n",
    "    n = len(nums)\n",
    "    i = 0\n",
    "    while i < n-1: # since 0 index will get sorted\n",
    "        swap = False\n",
    "        for j in range(1, n-i):# since last index will get sorted\n",
    "            if nums[j] < nums[j-1]:\n",
    "                swap = True\n",
    "                nums[j], nums[j-1] =  nums[j-1], nums[j]\n",
    "        if not swap:\n",
    "            break\n",
    "        i+=1\n",
    "    return nums\n",
    "bubble_sort([5,4,3,2,1])\n"
   ]
  }
 ],
 "metadata": {
  "kernelspec": {
   "display_name": "prac_env",
   "language": "python",
   "name": "python3"
  },
  "language_info": {
   "codemirror_mode": {
    "name": "ipython",
    "version": 3
   },
   "file_extension": ".py",
   "mimetype": "text/x-python",
   "name": "python",
   "nbconvert_exporter": "python",
   "pygments_lexer": "ipython3",
   "version": "3.8.17"
  }
 },
 "nbformat": 4,
 "nbformat_minor": 2
}
