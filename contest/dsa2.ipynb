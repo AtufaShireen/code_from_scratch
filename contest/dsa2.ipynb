{
 "cells": [
  {
   "cell_type": "code",
   "execution_count": 25,
   "metadata": {},
   "outputs": [
    {
     "data": {
      "text/plain": [
       "3"
      ]
     },
     "execution_count": 25,
     "metadata": {},
     "output_type": "execute_result"
    }
   ],
   "source": [
    "def sumdigits(digits, k):\n",
    "    ss = 0\n",
    "    while (digits>0):\n",
    "        if ss > k:\n",
    "            return ss\n",
    "        ss+=digits%10\n",
    "        digits = digits //10\n",
    "    return ss\n",
    "\n",
    "def sum_digit(arr, k):\n",
    "    n = len(arr)\n",
    "    c = 0\n",
    "    for i in range(n):\n",
    "        ss = sumdigits(arr[i], k)\n",
    "        if ss <=k:\n",
    "            c+=1\n",
    "    return c\n",
    "# sum_digit([142,178, 356],9)\n",
    "sum_digit([14,18, 36],9)\n"
   ]
  },
  {
   "cell_type": "code",
   "execution_count": 9,
   "metadata": {},
   "outputs": [
    {
     "data": {
      "text/plain": [
       "1"
      ]
     },
     "execution_count": 9,
     "metadata": {},
     "output_type": "execute_result"
    }
   ],
   "source": [
    "\n",
    "\n",
    "def sumdigits(digits, k):\n",
    "    ss = 0\n",
    "    while (digits>0):\n",
    "        if ss > k:\n",
    "            return ss\n",
    "        ss+=digits%10\n",
    "        digits = digits //10\n",
    "    return ss\n",
    "\n",
    "def sum_digit(arr,n, k):\n",
    "    c = 0\n",
    "    for i in range(n):\n",
    "        ss = sumdigits(arr[i], k)\n",
    "        if ss <k:\n",
    "            c+=1\n",
    "    return c\n",
    "\n",
    "n, k = list(map(int, input().split(\" \")))\n",
    "arr = list(map(int, input().strip().split(\" \")))\n",
    "\n",
    "print(sum_digit(arr,n, k))\n"
   ]
  },
  {
   "cell_type": "code",
   "execution_count": null,
   "metadata": {},
   "outputs": [],
   "source": [
    "def reflection(matrix, n):\n",
    "    for i in range(n):\n",
    "        for j in range(m):\n",
    "            print(matrix[n-i-1][j], end=' ')\n",
    "        print()\n",
    "    return\n",
    "\n",
    "n, m = list(map(int, input().split(\" \")))\n",
    "arr = []\n",
    "for i in range(n):\n",
    "    arr.append(list(map(int, input().strip().split(\" \"))))\n",
    "print(reflection(arr,n))"
   ]
  },
  {
   "cell_type": "code",
   "execution_count": 47,
   "metadata": {},
   "outputs": [
    {
     "data": {
      "text/plain": [
       "6"
      ]
     },
     "execution_count": 47,
     "metadata": {},
     "output_type": "execute_result"
    }
   ],
   "source": [
    "def triangle(a,b, c):\n",
    "    if a+b>c and b+c>b and c+a>b:\n",
    "        return True\n",
    "def input_form(arr:list):\n",
    "    n = len(arr)\n",
    "    c = 0\n",
    "    arr.sort()\n",
    "    for i in range(n-2):\n",
    "        res =  triangle(arr[i], arr[i+1], arr[i+2])\n",
    "        if res==True:\n",
    "            c+=n - i -2\n",
    "    return c\n",
    "\n",
    "\n",
    "input_form([ 5 ,5 ,10, 8 ,6 ])\n",
    "# input_form([ 2,1,4,5])"
   ]
  },
  {
   "cell_type": "code",
   "execution_count": 22,
   "metadata": {},
   "outputs": [
    {
     "data": {
      "text/plain": [
       "139"
      ]
     },
     "execution_count": 22,
     "metadata": {},
     "output_type": "execute_result"
    }
   ],
   "source": [
    "def max_diag(matrix, m , n):\n",
    "    max_sum = float('-inf')\n",
    "    res = calc_sum(matrix)"
   ]
  },
  {
   "cell_type": "code",
   "execution_count": 82,
   "metadata": {},
   "outputs": [
    {
     "data": {
      "text/plain": [
       "122"
      ]
     },
     "execution_count": 82,
     "metadata": {},
     "output_type": "execute_result"
    }
   ],
   "source": [
    "ord('z')"
   ]
  },
  {
   "cell_type": "code",
   "execution_count": 89,
   "metadata": {},
   "outputs": [
    {
     "data": {
      "text/plain": [
       "97"
      ]
     },
     "execution_count": 89,
     "metadata": {},
     "output_type": "execute_result"
    }
   ],
   "source": [
    "ord('a')"
   ]
  },
  {
   "cell_type": "code",
   "execution_count": 98,
   "metadata": {},
   "outputs": [
    {
     "name": "stdout",
     "output_type": "stream",
     "text": [
      "106 l\n",
      "99 e\n",
      "95 a\n",
      "False\n"
     ]
    }
   ],
   "source": [
    "# print(abs((ord('l')-/ord('a')) - ord('j')-ord('a'))%26)\n",
    "\n",
    "def find_k(a, b):\n",
    "    k = ord(a) - ord(b)\n",
    "    return k\n",
    "\n",
    "def convert(str1, str2, k):\n",
    "    for i in range(len(str1)):\n",
    "        res = ord(str1[i]) - k\n",
    "        print(res, str1[i])\n",
    "        if res < 97:\n",
    "            res+= 122 - res\n",
    "        if chr(res)==str2[i]:\n",
    "            continue\n",
    "        else:\n",
    "            return False\n",
    "    return True\n",
    "\n",
    "a = \"learnyard\"\n",
    "b = \"jcyplwypb\"\n",
    "k = find_k(a[0], b[0])\n",
    "print(convert(a, b, k))\n"
   ]
  },
  {
   "cell_type": "code",
   "execution_count": 96,
   "metadata": {},
   "outputs": [
    {
     "data": {
      "text/plain": [
       "122"
      ]
     },
     "execution_count": 96,
     "metadata": {},
     "output_type": "execute_result"
    }
   ],
   "source": [
    "ord('z')"
   ]
  },
  {
   "cell_type": "code",
   "execution_count": 114,
   "metadata": {},
   "outputs": [
    {
     "data": {
      "text/plain": [
       "5"
      ]
     },
     "execution_count": 114,
     "metadata": {},
     "output_type": "execute_result"
    }
   ],
   "source": [
    "def lengthd(string):\n",
    "    n = len(string)\n",
    "    i = 0\n",
    "    j = n-1\n",
    "    while i <n:\n",
    "        if string[i]=='A':\n",
    "            break\n",
    "        i+=1\n",
    "    while (j>0):\n",
    "        if string[j]=='Z':\n",
    "            break\n",
    "        j-=1\n",
    "    return j-i +1\n",
    "lengthd('QWERTYASDFZXCV')\n",
    "# lengthd('QWERTYAVZ')\n"
   ]
  },
  {
   "cell_type": "code",
   "execution_count": 100,
   "metadata": {},
   "outputs": [
    {
     "data": {
      "text/plain": [
       "25"
      ]
     },
     "execution_count": 100,
     "metadata": {},
     "output_type": "execute_result"
    }
   ],
   "source": [
    "122-97"
   ]
  },
  {
   "cell_type": "code",
   "execution_count": 67,
   "metadata": {},
   "outputs": [
    {
     "data": {
      "text/plain": [
       "'\\x19'"
      ]
     },
     "execution_count": 67,
     "metadata": {},
     "output_type": "execute_result"
    }
   ],
   "source": [
    "chr(ord('z') - ord('a'))"
   ]
  }
 ],
 "metadata": {
  "kernelspec": {
   "display_name": "prac_env",
   "language": "python",
   "name": "python3"
  },
  "language_info": {
   "codemirror_mode": {
    "name": "ipython",
    "version": 3
   },
   "file_extension": ".py",
   "mimetype": "text/x-python",
   "name": "python",
   "nbconvert_exporter": "python",
   "pygments_lexer": "ipython3",
   "version": "3.8.17"
  }
 },
 "nbformat": 4,
 "nbformat_minor": 2
}
