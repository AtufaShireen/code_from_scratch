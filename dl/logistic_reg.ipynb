{
 "cells": [
  {
   "cell_type": "code",
   "execution_count": 1,
   "metadata": {},
   "outputs": [],
   "source": [
    "import numpy as np\n",
    "import matplotlib.pyplot as plt"
   ]
  },
  {
   "cell_type": "code",
   "execution_count": 8,
   "metadata": {},
   "outputs": [],
   "source": [
    "def sigmoid(x):\n",
    "    return (1/(1+np.exp(-x)))\n",
    "class LogisticRegression:\n",
    "    def __init__(self) -> None:\n",
    "        self.lr = 1e+3\n",
    "        self.weights = None\n",
    "        self.bias = None\n",
    "        self.n_iter = 10\n",
    "\n",
    "    def cost(self, X, y,theta):\n",
    "        h = sigmoid((np.dot(X, theta)))\n",
    "        cost0 = y * np.log(h) #np.dot(y.T, np.log(self.sigmoid(theta)))\n",
    "        cost1 = (1 - y) * np.log(1 - h) # np.dot((1-y).T, np.log(1-self.sigmoid(theta)))\n",
    "        cost = -1/len(y)*np.sum(cost0+cost1)\n",
    "        return cost\n",
    "    \n",
    "    def fit(self,X, y):\n",
    "        n_points, n_feats = X.shape\n",
    "        self.weights = np.zeros(n_points)\n",
    "        self.bias = 0\n",
    "        for i in range(self.n_iter):\n",
    "            linear_pred = np.dot(self.weights, X) + self.bias\n",
    "            ypred = sigmoid(linear_pred)\n",
    "\n",
    "            dw = (1/n_points)*np.dot(X.T, (ypred-y))\n",
    "            db = (1/n_points)*np.sum(ypred-y)\n",
    "\n",
    "            self.weights = self.weights - self.lr*dw\n",
    "            self.bias = self.bias - self.lr*db\n",
    "        \n",
    "    def predict(self,x):\n",
    "        linear_pred = np.dot(self.weights, x) + self.bias\n",
    "        yprob = sigmoid(linear_pred)\n",
    "        ypred = [1 if i>=0.5 else 0 for i in yprob]\n",
    "        return ypred"
   ]
  },
  {
   "cell_type": "code",
   "execution_count": 9,
   "metadata": {},
   "outputs": [
    {
     "ename": "ValueError",
     "evalue": "operands could not be broadcast together with shapes (30,) (455,) ",
     "output_type": "error",
     "traceback": [
      "\u001b[0;31m---------------------------------------------------------------------------\u001b[0m",
      "\u001b[0;31mValueError\u001b[0m                                Traceback (most recent call last)",
      "\u001b[1;32m/Users/atufasheen/Downloads/projects/practice_code/dl/logistic_reg.ipynb Cell 3\u001b[0m line \u001b[0;36m1\n\u001b[1;32m      <a href='vscode-notebook-cell:/Users/atufasheen/Downloads/projects/practice_code/dl/logistic_reg.ipynb#W3sZmlsZQ%3D%3D?line=7'>8</a>\u001b[0m X_train , X_test , y_train , y_test \u001b[39m=\u001b[39m train_test_split(X,y,test_size\u001b[39m=\u001b[39m\u001b[39m0.2\u001b[39m,random_state\u001b[39m=\u001b[39m\u001b[39m0\u001b[39m)\n\u001b[1;32m     <a href='vscode-notebook-cell:/Users/atufasheen/Downloads/projects/practice_code/dl/logistic_reg.ipynb#W3sZmlsZQ%3D%3D?line=9'>10</a>\u001b[0m clf \u001b[39m=\u001b[39m LogisticRegression()\n\u001b[0;32m---> <a href='vscode-notebook-cell:/Users/atufasheen/Downloads/projects/practice_code/dl/logistic_reg.ipynb#W3sZmlsZQ%3D%3D?line=10'>11</a>\u001b[0m clf\u001b[39m.\u001b[39;49mfit(X_train,y_train)\n\u001b[1;32m     <a href='vscode-notebook-cell:/Users/atufasheen/Downloads/projects/practice_code/dl/logistic_reg.ipynb#W3sZmlsZQ%3D%3D?line=11'>12</a>\u001b[0m preds \u001b[39m=\u001b[39m clf\u001b[39m.\u001b[39mpredict(X_test)\n",
      "\u001b[1;32m/Users/atufasheen/Downloads/projects/practice_code/dl/logistic_reg.ipynb Cell 3\u001b[0m line \u001b[0;36m2\n\u001b[1;32m     <a href='vscode-notebook-cell:/Users/atufasheen/Downloads/projects/practice_code/dl/logistic_reg.ipynb#W3sZmlsZQ%3D%3D?line=21'>22</a>\u001b[0m linear_pred \u001b[39m=\u001b[39m np\u001b[39m.\u001b[39mdot(\u001b[39mself\u001b[39m\u001b[39m.\u001b[39mweights, X) \u001b[39m+\u001b[39m \u001b[39mself\u001b[39m\u001b[39m.\u001b[39mbias\n\u001b[1;32m     <a href='vscode-notebook-cell:/Users/atufasheen/Downloads/projects/practice_code/dl/logistic_reg.ipynb#W3sZmlsZQ%3D%3D?line=22'>23</a>\u001b[0m ypred \u001b[39m=\u001b[39m sigmoid(linear_pred)\n\u001b[0;32m---> <a href='vscode-notebook-cell:/Users/atufasheen/Downloads/projects/practice_code/dl/logistic_reg.ipynb#W3sZmlsZQ%3D%3D?line=24'>25</a>\u001b[0m dw \u001b[39m=\u001b[39m (\u001b[39m1\u001b[39m\u001b[39m/\u001b[39mn_points)\u001b[39m*\u001b[39mnp\u001b[39m.\u001b[39mdot(X\u001b[39m.\u001b[39mT, (ypred\u001b[39m-\u001b[39;49my))\n\u001b[1;32m     <a href='vscode-notebook-cell:/Users/atufasheen/Downloads/projects/practice_code/dl/logistic_reg.ipynb#W3sZmlsZQ%3D%3D?line=25'>26</a>\u001b[0m db \u001b[39m=\u001b[39m (\u001b[39m1\u001b[39m\u001b[39m/\u001b[39mn_points)\u001b[39m*\u001b[39mnp\u001b[39m.\u001b[39msum(ypred\u001b[39m-\u001b[39my)\n\u001b[1;32m     <a href='vscode-notebook-cell:/Users/atufasheen/Downloads/projects/practice_code/dl/logistic_reg.ipynb#W3sZmlsZQ%3D%3D?line=27'>28</a>\u001b[0m \u001b[39mself\u001b[39m\u001b[39m.\u001b[39mweights \u001b[39m=\u001b[39m \u001b[39mself\u001b[39m\u001b[39m.\u001b[39mweights \u001b[39m-\u001b[39m \u001b[39mself\u001b[39m\u001b[39m.\u001b[39mlr\u001b[39m*\u001b[39mdw\n",
      "\u001b[0;31mValueError\u001b[0m: operands could not be broadcast together with shapes (30,) (455,) "
     ]
    }
   ],
   "source": [
    "from sklearn import datasets\n",
    "from sklearn.model_selection import train_test_split\n",
    "\n",
    "bc = datasets.load_breast_cancer()\n",
    "\n",
    "X , y = bc.data , bc.target\n",
    "\n",
    "X_train , X_test , y_train , y_test = train_test_split(X,y,test_size=0.2,random_state=0)\n",
    "\n",
    "clf = LogisticRegression()\n",
    "clf.fit(X_train,y_train)\n",
    "preds = clf.predict(X_test)"
   ]
  },
  {
   "cell_type": "code",
   "execution_count": null,
   "metadata": {},
   "outputs": [],
   "source": [
    "def accuracy(preds,actual):\n",
    "    return np.mean(preds==actual)"
   ]
  }
 ],
 "metadata": {
  "kernelspec": {
   "display_name": "prac_env",
   "language": "python",
   "name": "python3"
  },
  "language_info": {
   "codemirror_mode": {
    "name": "ipython",
    "version": 3
   },
   "file_extension": ".py",
   "mimetype": "text/x-python",
   "name": "python",
   "nbconvert_exporter": "python",
   "pygments_lexer": "ipython3",
   "version": "3.8.0"
  }
 },
 "nbformat": 4,
 "nbformat_minor": 2
}
