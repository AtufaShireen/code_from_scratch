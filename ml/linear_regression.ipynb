{
 "cells": [
  {
   "cell_type": "markdown",
   "metadata": {},
   "source": [
    "### Linear regression: \n",
    "* creates a best fit line, such that the distance betwen true and predicted point is minimal.\n",
    "* eqn: hθ(x)=θo+θ1x, intercept is to move the line from origin, slope is unit movement in y axis wrt x axis.\n",
    "* cost function: measures the difference between truth and predicted value in the forward pass.\n",
    "* convergence algorithm: optimise the changes in parameters.\n",
    "1. The derivative of the cost function is partial derivation, for all the params.\n",
    "2. we get slope of the line (derivative) and based on +- we add or subtract to reach the global minima.\n",
    "3. we use alpha the learning rate to control the speed at which the convergence should happen. A default of 1e-3 is used in most of the algos.\n",
    "![Alt text](image-1.png)\n",
    "\n",
    "4. we use mse as loss function becuase it is a quadratic function, which is differentiable and will have 1 global or local minima.\n",
    "5. ordinary least square derives the eqn to calculate the intercept and coefficient.\n",
    "\n",
    "6. Metrics:\n",
    "- mse: has 1 local and global minima, is differentiable.\n",
    "- mse: not rocust to outliers, it is not in same unit.\n",
    "- mae: robust to outliers, it is in same unit.\n",
    "- mae: convergence takes time, as it required subgradients as it cannot differentiate at 0.\n",
    "- rmse: same unit, differentiable\n",
    "- rmse: not robust to outliers.\n",
    "- r2 and adj r2 is for model perofrmance.\n",
    "- r2 = 1 - SSres / SStot. SSres = y - y^, SStot = y - y_ (avg of all points).\n",
    "- r2: since the line passes close to the actual points the numerator should be small and 1 - that will give us the performance of the model.\n",
    "- adj r2: the r2 increases with an increase in # of features, and therefore we use adj r2.\n",
    "- adj r2:   1 - (1-R2)(N-1) / N-p-1. The adj r2 penalises the r2 for the number of features, and we get less score if an uncorrelated feature was added.  \n",
    "\n",
    "7. Assumptions\n",
    "- No Multicolinearlity in the data: predictor variables should not be correlated among themselves\n",
    "- Homoscedasticity of Residuals or Equal Variances: spread residuals should be qually spaced: can be verfied with a scatter plot\n",
    "- No Autocorrelation in residuals: the residual is indepent of the previous residual.\n",
    "- Predictors are distributed Normally\n",
    "- relationship between the independent and dependent variables should be linear\n",
    "https://www.analyticsvidhya.com/blog/2016/07/deeper-regression-analysis-assumptions-plots-solutions/\n",
    "\n",
    "8. Regression Analysis:\n",
    "coefficient of ols.\n"
   ]
  },
  {
   "cell_type": "code",
   "execution_count": 55,
   "metadata": {},
   "outputs": [
    {
     "name": "stdout",
     "output_type": "stream",
     "text": [
      "env: PYTORCH_ENABLE_MPS_FALLBACK=1\n"
     ]
    }
   ],
   "source": [
    "%env PYTORCH_ENABLE_MPS_FALLBACK=1"
   ]
  },
  {
   "cell_type": "code",
   "execution_count": 1,
   "metadata": {},
   "outputs": [
    {
     "name": "stdout",
     "output_type": "stream",
     "text": [
      "tensor([1.], device='mps:0')\n"
     ]
    },
    {
     "name": "stderr",
     "output_type": "stream",
     "text": [
      "/opt/homebrew/Caskroom/miniforge/base/envs/prac_env/lib/python3.8/site-packages/torch/_tensor_str.py:115: UserWarning: The operator 'aten::nonzero' is not currently supported on the MPS backend and will fall back to run on the CPU. This may have performance implications. (Triggered internally at /Users/runner/miniforge3/conda-bld/pytorch-recipe_1670076299818/work/aten/src/ATen/mps/MPSFallback.mm:11.)\n",
      "  nonzero_finite_vals = torch.masked_select(\n"
     ]
    }
   ],
   "source": [
    "import torch\n",
    "if torch.backends.mps.is_available():\n",
    "    mps_device = torch.device(\"mps\")\n",
    "    x = torch.ones(1, device=mps_device)\n",
    "    print (x)\n",
    "else:\n",
    "    print (\"MPS device not found.\")"
   ]
  },
  {
   "cell_type": "markdown",
   "metadata": {},
   "source": [
    "### linear regression with pytorch\n",
    "1. design model (input, output size, forward pass)\n",
    "2. construct loss and optimiser\n",
    "3. training loop:\n",
    "    - forward pass : compute predictions and loss\n",
    "    - backward pass : gradients\n",
    "    - update weights"
   ]
  },
  {
   "cell_type": "code",
   "execution_count": 6,
   "metadata": {},
   "outputs": [],
   "source": [
    "import torch\n",
    "import torch.nn as nn\n",
    "from sklearn import datasets\n",
    "import matplotlib.pyplot as plt\n",
    "from torch.autograd import Variable"
   ]
  },
  {
   "cell_type": "code",
   "execution_count": 10,
   "metadata": {},
   "outputs": [],
   "source": [
    "import numpy as np"
   ]
  },
  {
   "cell_type": "code",
   "execution_count": 14,
   "metadata": {},
   "outputs": [
    {
     "data": {
      "text/plain": [
       "array([[ 73.,  67.,  43.],\n",
       "       [ 91.,  88.,  64.],\n",
       "       [ 87., 134.,  58.],\n",
       "       [102.,  43.,  37.],\n",
       "       [ 69.,  96.,  70.]], dtype=float32)"
      ]
     },
     "execution_count": 14,
     "metadata": {},
     "output_type": "execute_result"
    }
   ],
   "source": [
    "# Input (temp, rainfall, humidity)\n",
    "inputs = np.array([[73, 67, 43], \n",
    "                   [91, 88, 64], \n",
    "                   [87, 134, 58], \n",
    "                   [102, 43, 37], \n",
    "                   [69, 96, 70]], dtype='float32')\n",
    "inputs"
   ]
  },
  {
   "cell_type": "code",
   "execution_count": 16,
   "metadata": {},
   "outputs": [
    {
     "data": {
      "text/plain": [
       "array([[ 56.],\n",
       "       [ 81.],\n",
       "       [119.],\n",
       "       [ 22.],\n",
       "       [103.]], dtype=float32)"
      ]
     },
     "execution_count": 16,
     "metadata": {},
     "output_type": "execute_result"
    }
   ],
   "source": [
    "targets = np.array([[56,], \n",
    "                    [81, ], \n",
    "                    [119, ], \n",
    "                    [22,], \n",
    "                    [103,]], dtype='float32')\n",
    "targets"
   ]
  },
  {
   "cell_type": "code",
   "execution_count": 28,
   "metadata": {},
   "outputs": [],
   "source": [
    "x_data = torch.Tensor(inputs)\n",
    "y_data = torch.Tensor(targets)"
   ]
  },
  {
   "cell_type": "code",
   "execution_count": 44,
   "metadata": {},
   "outputs": [],
   "source": [
    "x_data = Variable(x_data)\n",
    "y_data = Variable(y_data)\n"
   ]
  },
  {
   "cell_type": "code",
   "execution_count": 46,
   "metadata": {},
   "outputs": [],
   "source": []
  },
  {
   "cell_type": "code",
   "execution_count": 47,
   "metadata": {},
   "outputs": [],
   "source": [
    "from torch.utils.data import DataLoader\n",
    "from torch.utils.data import TensorDataset\n",
    "\n",
    "dataset = TensorDataset(x_data, y_data)\n",
    "n_samples, n_features = x_data.shape\n",
    "batch_size = 2\n",
    "train_loader = DataLoader(dataset, batch_size=batch_size, shuffle=False)"
   ]
  },
  {
   "cell_type": "code",
   "execution_count": 48,
   "metadata": {},
   "outputs": [
    {
     "name": "stdout",
     "output_type": "stream",
     "text": [
      "tensor([[73., 67., 43.],\n",
      "        [91., 88., 64.]])\n",
      "tensor([[56.],\n",
      "        [81.]])\n",
      "---\n",
      "tensor([[ 87., 134.,  58.],\n",
      "        [102.,  43.,  37.]])\n",
      "tensor([[119.],\n",
      "        [ 22.]])\n",
      "---\n",
      "tensor([[69., 96., 70.]])\n",
      "tensor([[103.]])\n",
      "---\n"
     ]
    }
   ],
   "source": [
    "for inp,target in train_loader:\n",
    "    print(inp)\n",
    "    print(target)\n",
    "    print('---')"
   ]
  },
  {
   "cell_type": "code",
   "execution_count": 49,
   "metadata": {},
   "outputs": [
    {
     "data": {
      "text/plain": [
       "2"
      ]
     },
     "execution_count": 49,
     "metadata": {},
     "output_type": "execute_result"
    }
   ],
   "source": [
    "train_loader.batch_size"
   ]
  },
  {
   "cell_type": "code",
   "execution_count": 50,
   "metadata": {},
   "outputs": [
    {
     "name": "stdout",
     "output_type": "stream",
     "text": [
      "tensor([[-0.3600,  1.3603,  0.0490],\n",
      "        [-1.0603,  0.1335,  0.0641]], requires_grad=True)\n",
      "tensor([1.1718, 0.5771], requires_grad=True)\n"
     ]
    }
   ],
   "source": [
    "w = torch.randn(batch_size, n_features, requires_grad=True)\n",
    "b = torch.randn(batch_size, requires_grad=True)\n",
    "print(w)\n",
    "print(b)"
   ]
  },
  {
   "cell_type": "code",
   "execution_count": 51,
   "metadata": {},
   "outputs": [],
   "source": [
    "def model(X):\n",
    "    return X @ w.t() + b #@: matrix multiplication\n"
   ]
  },
  {
   "cell_type": "code",
   "execution_count": 56,
   "metadata": {},
   "outputs": [],
   "source": [
    "def mse_loss(predictions, targets):\n",
    "    difference = predictions - targets\n",
    "    return torch.sum(difference * difference)/ difference.numel() # difference.numel(), number of elems = len"
   ]
  },
  {
   "cell_type": "code",
   "execution_count": 57,
   "metadata": {},
   "outputs": [
    {
     "name": "stdout",
     "output_type": "stream",
     "text": [
      "Prediction is :n tensor([[ 68.1365, -65.1205],\n",
      "        [ 91.2508, -80.0553]], grad_fn=<AddBackward0>)\n",
      "nActual targets is :n tensor([[56.],\n",
      "        [81.]])\n",
      "nLoss is:  tensor(10215.3398, grad_fn=<DivBackward0>)\n"
     ]
    }
   ],
   "source": [
    "for x,y in train_loader:\n",
    "    preds = model(x)\n",
    "    print(\"Prediction is :n\",preds)\n",
    "    print(\"nActual targets is :n\",y)\n",
    "    print(\"nLoss is: \",mse_loss(preds, y))\n",
    "    break"
   ]
  },
  {
   "cell_type": "code",
   "execution_count": 67,
   "metadata": {},
   "outputs": [],
   "source": [
    "mse_loss(preds, y).backward()"
   ]
  },
  {
   "cell_type": "code",
   "execution_count": 71,
   "metadata": {},
   "outputs": [
    {
     "name": "stdout",
     "output_type": "stream",
     "text": [
      "Epoch 0/2: Loss: nan\n",
      "Epoch 1/2: Loss: nan\n"
     ]
    }
   ],
   "source": [
    "epochs = 2\n",
    "lr = 1e-3\n",
    "for i in range(epochs):\n",
    "    for x,y in train_loader:\n",
    "        preds = model(x)\n",
    "        loss = mse_loss(preds,y)\n",
    "        loss.backward()\n",
    "        with torch.no_grad():\n",
    "            w -= w.grad * lr\n",
    "            b -= b.grad * lr\n",
    "            # Set the gradients to zero\n",
    "            w.grad.zero_()\n",
    "            b.grad.zero_()\n",
    "    print(f\"Epoch {i}/{epochs}: Loss: {loss}\")"
   ]
  },
  {
   "cell_type": "code",
   "execution_count": 72,
   "metadata": {},
   "outputs": [
    {
     "name": "stdout",
     "output_type": "stream",
     "text": [
      "Prediction is :n tensor([[nan, nan],\n",
      "        [nan, nan]], grad_fn=<AddBackward0>)\n",
      "nActual targets is :n tensor([[56.],\n",
      "        [81.]])\n"
     ]
    }
   ],
   "source": [
    "for x,y in train_loader:\n",
    "    preds = model(x)\n",
    "    print(\"Prediction is :n\",preds)\n",
    "    print(\"nActual targets is :n\",y)\n",
    "    break"
   ]
  },
  {
   "cell_type": "markdown",
   "metadata": {},
   "source": [
    "#to lear:\n",
    "1. complte the linear regression with pytorch\n",
    "1. complete the linear regression with pytorch nn\n",
    "2. complete the linear regression without pytorch\n",
    "3. complete the linear regresson with least sqaure mwthod\n",
    "4. complete he linear regression metric\n",
    "5. complete the linear regression analysis."
   ]
  },
  {
   "cell_type": "code",
   "execution_count": 56,
   "metadata": {},
   "outputs": [],
   "source": [
    "import matplotlib.pyplot as plt"
   ]
  },
  {
   "cell_type": "code",
   "execution_count": 57,
   "metadata": {},
   "outputs": [],
   "source": [
    "import torch\n",
    "from torch.autograd import Variable\n",
    "class LinearRigression(torch.nn.Module):\n",
    "    def __init__(self, inputsize,outputsize) -> None:\n",
    "        super(LinearRigression, self).__init__()\n",
    "        self.linear = torch.nn.Linear(inputsize,outputsize)# numbr of features\n",
    "    \n",
    "    def forward(self,x):\n",
    "        out = self.linear(x)\n",
    "        return out"
   ]
  },
  {
   "cell_type": "code",
   "execution_count": 58,
   "metadata": {},
   "outputs": [],
   "source": [
    "inputDim = 1        # takes variable 'x' \n",
    "outputDim = 1       # takes variable 'y'\n",
    "learningRate = 0.01 \n",
    "epochs = 100\n",
    "model = LinearRigression(inputDim,outputDim)\n",
    "if torch.backends.mps.is_available():\n",
    "    mps_device = torch.device(\"mps\")\n",
    "    model.to(mps_device)"
   ]
  },
  {
   "cell_type": "code",
   "execution_count": 59,
   "metadata": {},
   "outputs": [
    {
     "data": {
      "text/plain": [
       "[Parameter containing:\n",
       " tensor([[-0.1871]], device='mps:0', requires_grad=True),\n",
       " Parameter containing:\n",
       " tensor([0.3203], device='mps:0', requires_grad=True)]"
      ]
     },
     "execution_count": 59,
     "metadata": {},
     "output_type": "execute_result"
    }
   ],
   "source": [
    "[i for i in model.parameters()]"
   ]
  },
  {
   "cell_type": "code",
   "execution_count": 60,
   "metadata": {},
   "outputs": [],
   "source": [
    "criterion = torch.nn.MSELoss()\n",
    "optimiser = torch.optim.SGD(model.parameters(),learningRate)"
   ]
  },
  {
   "cell_type": "code",
   "execution_count": 61,
   "metadata": {},
   "outputs": [],
   "source": [
    "import numpy as np\n",
    "# create dummy data for training\n",
    "x_values = [i for i in range(11)]\n",
    "x_train = np.array(x_values, dtype=np.float32)\n",
    "x_train = x_train.reshape(-1, 1)\n",
    "\n",
    "y_values = [2*i + 1 for i in x_values]\n",
    "y_train = np.array(y_values, dtype=np.float32)\n",
    "y_train = y_train.reshape(-1, 1)"
   ]
  },
  {
   "cell_type": "code",
   "execution_count": 62,
   "metadata": {},
   "outputs": [],
   "source": [
    "x_ = Variable(torch.tensor(x_train))\n",
    "y_ = Variable(torch.tensor(y_train))\n",
    "if torch.backends.mps.is_available():\n",
    "    mps_device = torch.device(\"mps\")\n",
    "    x_ = x_.to(mps_device)\n",
    "    y_ = y_.to(mps_device)"
   ]
  },
  {
   "cell_type": "code",
   "execution_count": 32,
   "metadata": {},
   "outputs": [],
   "source": [
    "from torch.utils.data import DataLoader\n",
    "from torch.utils.data import TensorDataset\n",
    "\n",
    "dataset = TensorDataset(x_, y_)\n",
    "n_samples, n_features = x_.shape\n",
    "batch_size = 2\n",
    "train_loader = DataLoader(dataset, batch_size=batch_size, shuffle=False)"
   ]
  },
  {
   "cell_type": "code",
   "execution_count": null,
   "metadata": {},
   "outputs": [],
   "source": [
    "for x,y in train_loader:\n",
    "    print(x)\n",
    "    print(y)\n",
    "    print('---')"
   ]
  },
  {
   "cell_type": "code",
   "execution_count": null,
   "metadata": {},
   "outputs": [],
   "source": [
    "for epoch in range(epochs):\n",
    "    for x,y in train_loader:\n",
    "        # Clear gradient buffers because we don't want any gradient from previous epoch to carry forward, dont want to cummulate gradients\n",
    "        optimiser.zero_grad()\n",
    "        outputs = model(x)\n",
    "        loss = criterion(outputs, y)\n",
    "        # get gradients w.r.t to parameters\n",
    "        loss.backward()\n",
    "        # update parameters\n",
    "        optimiser.step()\n",
    "        print('epoch {}, loss {}'.format(epoch, loss.item()))"
   ]
  },
  {
   "cell_type": "code",
   "execution_count": 45,
   "metadata": {},
   "outputs": [
    {
     "data": {
      "image/png": "[encoded data removed]",
      "text/plain": [
       "<Figure size 640x480 with 1 Axes>"
      ]
     },
     "metadata": {},
     "output_type": "display_data"
    }
   ],
   "source": [
    "with torch.no_grad():\n",
    "    preds  = model(x_)\n",
    "\n",
    "plt.clf()\n",
    "plt.plot(x_train,y_train,'go',label='True data', alpha=0.5)\n",
    "plt.plot(x_train,preds.to('cpu'),'--',label='preds data', alpha=0.5)\n",
    "plt.legend(loc='best')\n",
    "plt.show()"
   ]
  },
  {
   "cell_type": "code",
   "execution_count": 46,
   "metadata": {},
   "outputs": [
    {
     "data": {
      "image/png": "[encoded data removed]",
      "text/plain": [
       "<Figure size 640x480 with 1 Axes>"
      ]
     },
     "metadata": {},
     "output_type": "display_data"
    }
   ],
   "source": [
    "plt.scatter(x_train,y_train,label='True data', alpha=0.5)\n",
    "plt.scatter(x_train,preds.to('cpu'),label='preds data', alpha=0.5)\n",
    "plt.legend(loc='best')\n",
    "plt.show()"
   ]
  },
  {
   "cell_type": "markdown",
   "metadata": {},
   "source": [
    "## for muliple linear regression\n"
   ]
  },
  {
   "cell_type": "code",
   "execution_count": 79,
   "metadata": {},
   "outputs": [],
   "source": [
    "x = np.array([\n",
    "    [1,2],\n",
    "    [1,3],\n",
    "    [2,3],\n",
    "    [2,4],\n",
    "    [1,4],\n",
    "    [2,3],\n",
    "    [5,3],\n",
    "    [5,3],\n",
    "    [2,3],\n",
    "])\n",
    "y = np.array([\n",
    "    [1,2],\n",
    "    [1,3],\n",
    "    [2,3],\n",
    "    [2,4],\n",
    "    [1,4],\n",
    "    [2,3],\n",
    "    [5,3],\n",
    "    [5,3],\n",
    "    [2,3],\n",
    "])"
   ]
  },
  {
   "cell_type": "code",
   "execution_count": 80,
   "metadata": {},
   "outputs": [],
   "source": [
    "x_ = Variable(torch.tensor(x,dtype=torch.float32))\n",
    "y_ = Variable(torch.tensor(y,dtype=torch.float32))\n",
    "if torch.backends.mps.is_available():\n",
    "    mps_device = torch.device(\"mps\")\n",
    "    x_ = x_.to(mps_device)\n",
    "    y_ = y_.to(mps_device)"
   ]
  },
  {
   "cell_type": "code",
   "execution_count": 81,
   "metadata": {},
   "outputs": [],
   "source": [
    "inputDim = 2        # takes variable 'x' \n",
    "outputDim = 2       # takes variable 'y'\n",
    "learningRate = 0.01 \n",
    "epochs = 10\n",
    "model = LinearRigression(inputDim,outputDim)\n",
    "if torch.backends.mps.is_available():\n",
    "    mps_device = torch.device(\"mps\")\n",
    "    model.to(mps_device)"
   ]
  },
  {
   "cell_type": "code",
   "execution_count": 83,
   "metadata": {},
   "outputs": [],
   "source": [
    "from torch.utils.data import DataLoader\n",
    "from torch.utils.data import TensorDataset\n",
    "\n",
    "dataset = TensorDataset(x_, y_)\n",
    "n_samples, n_features = x_.shape\n",
    "batch_size = 2\n",
    "train_loader = DataLoader(dataset, batch_size=batch_size, shuffle=False)"
   ]
  },
  {
   "cell_type": "code",
   "execution_count": 84,
   "metadata": {},
   "outputs": [
    {
     "name": "stdout",
     "output_type": "stream",
     "text": [
      "tensor([[1., 2.],\n",
      "        [1., 3.]], device='mps:0')\n",
      "tensor([[1., 2.],\n",
      "        [1., 3.]], device='mps:0')\n",
      "---\n",
      "tensor([[2., 3.],\n",
      "        [2., 4.]], device='mps:0')\n",
      "tensor([[2., 3.],\n",
      "        [2., 4.]], device='mps:0')\n",
      "---\n",
      "tensor([[1., 4.],\n",
      "        [2., 3.]], device='mps:0')\n",
      "tensor([[1., 4.],\n",
      "        [2., 3.]], device='mps:0')\n",
      "---\n",
      "tensor([[5., 3.],\n",
      "        [5., 3.]], device='mps:0')\n",
      "tensor([[5., 3.],\n",
      "        [5., 3.]], device='mps:0')\n",
      "---\n",
      "tensor([[2., 3.]], device='mps:0')\n",
      "tensor([[2., 3.]], device='mps:0')\n",
      "---\n"
     ]
    }
   ],
   "source": [
    "for x,y in train_loader:\n",
    "    print(x)\n",
    "    print(y)\n",
    "    print('---')"
   ]
  },
  {
   "cell_type": "code",
   "execution_count": 85,
   "metadata": {},
   "outputs": [
    {
     "name": "stdout",
     "output_type": "stream",
     "text": [
      "epoch 0, loss 4.042680263519287\n",
      "epoch 0, loss 8.632830619812012\n",
      "epoch 0, loss 8.121474266052246\n",
      "epoch 0, loss 9.644866943359375\n",
      "epoch 0, loss 6.350061893463135\n",
      "epoch 1, loss 4.042680263519287\n",
      "epoch 1, loss 8.632830619812012\n",
      "epoch 1, loss 8.121474266052246\n",
      "epoch 1, loss 9.644866943359375\n",
      "epoch 1, loss 6.350061893463135\n",
      "epoch 2, loss 4.042680263519287\n",
      "epoch 2, loss 8.632830619812012\n",
      "epoch 2, loss 8.121474266052246\n",
      "epoch 2, loss 9.644866943359375\n",
      "epoch 2, loss 6.350061893463135\n",
      "epoch 3, loss 4.042680263519287\n",
      "epoch 3, loss 8.632830619812012\n",
      "epoch 3, loss 8.121474266052246\n",
      "epoch 3, loss 9.644866943359375\n",
      "epoch 3, loss 6.350061893463135\n",
      "epoch 4, loss 4.042680263519287\n",
      "epoch 4, loss 8.632830619812012\n",
      "epoch 4, loss 8.121474266052246\n",
      "epoch 4, loss 9.644866943359375\n",
      "epoch 4, loss 6.350061893463135\n",
      "epoch 5, loss 4.042680263519287\n",
      "epoch 5, loss 8.632830619812012\n",
      "epoch 5, loss 8.121474266052246\n",
      "epoch 5, loss 9.644866943359375\n",
      "epoch 5, loss 6.350061893463135\n",
      "epoch 6, loss 4.042680263519287\n",
      "epoch 6, loss 8.632830619812012\n",
      "epoch 6, loss 8.121474266052246\n",
      "epoch 6, loss 9.644866943359375\n",
      "epoch 6, loss 6.350061893463135\n",
      "epoch 7, loss 4.042680263519287\n",
      "epoch 7, loss 8.632830619812012\n",
      "epoch 7, loss 8.121474266052246\n",
      "epoch 7, loss 9.644866943359375\n",
      "epoch 7, loss 6.350061893463135\n",
      "epoch 8, loss 4.042680263519287\n",
      "epoch 8, loss 8.632830619812012\n",
      "epoch 8, loss 8.121474266052246\n",
      "epoch 8, loss 9.644866943359375\n",
      "epoch 8, loss 6.350061893463135\n",
      "epoch 9, loss 4.042680263519287\n",
      "epoch 9, loss 8.632830619812012\n",
      "epoch 9, loss 8.121474266052246\n",
      "epoch 9, loss 9.644866943359375\n",
      "epoch 9, loss 6.350061893463135\n"
     ]
    }
   ],
   "source": [
    "for epoch in range(epochs):\n",
    "    for x_train,y_train in train_loader:\n",
    "        # Clear gradient buffers because we don't want any_train gradient from previous epoch to carry_train forward, dont want to cummulate gradients\n",
    "        optimiser.zero_grad()\n",
    "        outputs = model(x_train)\n",
    "        loss = criterion(outputs, y_train)\n",
    "        # get gradients w.r.t to parameters\n",
    "        loss.backward()\n",
    "        # update parameters\n",
    "        optimiser.step()\n",
    "        print('epoch {}, loss {}'.format(epoch, loss.item()))\n"
   ]
  },
  {
   "cell_type": "code",
   "execution_count": 89,
   "metadata": {},
   "outputs": [
    {
     "data": {
      "text/plain": [
       "tensor([[2., 3.]], device='mps:0')"
      ]
     },
     "execution_count": 89,
     "metadata": {},
     "output_type": "execute_result"
    }
   ],
   "source": [
    "y"
   ]
  },
  {
   "cell_type": "code",
   "execution_count": 87,
   "metadata": {},
   "outputs": [
    {
     "data": {
      "text/plain": [
       "tensor([[ 1.5759, -0.1618],\n",
       "        [ 1.7405, -0.2584],\n",
       "        [ 2.4431, -0.5361],\n",
       "        [ 2.6077, -0.6327],\n",
       "        [ 1.9051, -0.3551],\n",
       "        [ 2.4431, -0.5361],\n",
       "        [ 4.5509, -1.3690],\n",
       "        [ 4.5509, -1.3690],\n",
       "        [ 2.4431, -0.5361]], device='mps:0')"
      ]
     },
     "execution_count": 87,
     "metadata": {},
     "output_type": "execute_result"
    }
   ],
   "source": [
    "preds"
   ]
  },
  {
   "cell_type": "code",
   "execution_count": 86,
   "metadata": {},
   "outputs": [
    {
     "data": {
      "image/png": "[encoded data removed]",
      "text/plain": [
       "<Figure size 640x480 with 1 Axes>"
      ]
     },
     "metadata": {},
     "output_type": "display_data"
    }
   ],
   "source": [
    "with torch.no_grad():\n",
    "    preds  = model(x_)\n",
    "\n",
    "plt.clf()\n",
    "plt.plot(y_train,'go',label='True data', alpha=0.5)\n",
    "plt.plot(preds.to('cpu'),'go',label='preds data', alpha=0.1)\n",
    "plt.legend(loc='best')\n",
    "plt.show()"
   ]
  },
  {
   "cell_type": "markdown",
   "metadata": {},
   "source": [
    "### Ridge Regression:\n",
    "1. The regularisation is added to the cost function to overcome the overffing problem of the model.\n",
    "2. The L1 regularisation or ridge regression addds .\n",
    "3. It shrinks the parameters. Therefore, it is used to prevent multicollinearity.\n",
    "4. standardize the variables (both dependent and independent)\n",
    "The bias increases as λ increases.\n",
    "The variance decreases as λ increases.\n",
    "distribution of errors to be normal need not be assumed\n"
   ]
  },
  {
   "cell_type": "code",
   "execution_count": null,
   "metadata": {},
   "outputs": [],
   "source": []
  }
 ],
 "metadata": {
  "kernelspec": {
   "display_name": "practice_env",
   "language": "python",
   "name": "python3"
  },
  "language_info": {
   "codemirror_mode": {
    "name": "ipython",
    "version": 3
   },
   "file_extension": ".py",
   "mimetype": "text/x-python",
   "name": "python",
   "nbconvert_exporter": "python",
   "pygments_lexer": "ipython3",
   "version": "3.8.17"
  },
  "orig_nbformat": 4
 },
 "nbformat": 4,
 "nbformat_minor": 2
}
