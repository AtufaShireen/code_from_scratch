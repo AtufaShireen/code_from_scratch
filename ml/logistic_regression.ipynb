{
 "cells": [
  {
   "cell_type": "code",
   "execution_count": 7,
   "metadata": {},
   "outputs": [],
   "source": [
    "import torch\n",
    "import matplotlib.pyplot as plt\n",
    "import numpy as np\n",
    "from torch.utils.data import DataLoader\n",
    "from torch.utils.data import TensorDataset\n",
    "import numpy as np"
   ]
  },
  {
   "cell_type": "markdown",
   "metadata": {},
   "source": [
    "![Alt text](image.png)"
   ]
  },
  {
   "cell_type": "code",
   "execution_count": 16,
   "metadata": {},
   "outputs": [],
   "source": [
    "x = np.array([[1,23,4,5,6],[1,23,4,5,6],[1,23,4,5,6],[1,23,4,5,6],[1,23,4,5,6],[1,23,4,5,6]])\n",
    "# y = np.array([[1,23,4],[1,23,4],[1,23,4],[1,23,4],[1,23,4],[1,23,4]])\n",
    "y = np.array([[1,0,1],[1,0,1],[1,0,1],[1,0,1],[1,0,1],[1,0,1]])"
   ]
  },
  {
   "cell_type": "code",
   "execution_count": 17,
   "metadata": {},
   "outputs": [],
   "source": [
    "class LogisticRegression(torch.nn.Module):\n",
    "    def __init__(self, n_input, n_output) -> None:\n",
    "        super(LogisticRegression,self).__init__()\n",
    "        self.linear = torch.nn.Linear(n_input,n_output)\n",
    "    \n",
    "    def forward(self,x):\n",
    "        out = self.linear(x)\n",
    "        out = torch.sigmoid(out)\n",
    "        return out"
   ]
  },
  {
   "cell_type": "code",
   "execution_count": 18,
   "metadata": {},
   "outputs": [],
   "source": [
    "from torch.utils.data import DataLoader\n",
    "from torch.utils.data import TensorDataset\n",
    "x_ = torch.tensor(x,dtype=torch.float32)\n",
    "y_ = torch.tensor(y,dtype=torch.float32)\n",
    "dataset = TensorDataset(x_, y_)\n",
    "n_samples, n_features = x_.shape\n",
    "batch_size = 2\n",
    "train_loader = DataLoader(dataset, batch_size=batch_size, shuffle=False)"
   ]
  },
  {
   "cell_type": "code",
   "execution_count": 28,
   "metadata": {},
   "outputs": [
    {
     "name": "stdout",
     "output_type": "stream",
     "text": [
      "[tensor([[ 1., 23.,  4.,  5.,  6.],\n",
      "        [ 1., 23.,  4.,  5.,  6.]]), tensor([[1., 0., 1.],\n",
      "        [1., 0., 1.]])]\n",
      "---\n",
      "[tensor([[ 1., 23.,  4.,  5.,  6.],\n",
      "        [ 1., 23.,  4.,  5.,  6.]]), tensor([[1., 0., 1.],\n",
      "        [1., 0., 1.]])]\n",
      "---\n",
      "[tensor([[ 1., 23.,  4.,  5.,  6.],\n",
      "        [ 1., 23.,  4.,  5.,  6.]]), tensor([[1., 0., 1.],\n",
      "        [1., 0., 1.]])]\n",
      "---\n"
     ]
    }
   ],
   "source": [
    "for i in train_loader:\n",
    "    print(i)\n",
    "    print('---')"
   ]
  },
  {
   "cell_type": "code",
   "execution_count": 36,
   "metadata": {},
   "outputs": [],
   "source": [
    "n_input, n_output = 5,3\n",
    "model = LogisticRegression(n_input, n_output)"
   ]
  },
  {
   "cell_type": "code",
   "execution_count": 43,
   "metadata": {},
   "outputs": [],
   "source": [
    "epochs = 10\n",
    "lr = 1e-3\n",
    "optimiser = torch.optim.SGD(model.parameters(), lr = lr)\n",
    "criterion = torch.nn.CrossEntropyLoss()"
   ]
  },
  {
   "cell_type": "code",
   "execution_count": 44,
   "metadata": {},
   "outputs": [
    {
     "name": "stdout",
     "output_type": "stream",
     "text": [
      "epoch 0, loss 2.186084270477295\n",
      "epoch 0, loss 2.163557291030884\n",
      "epoch 0, loss 2.1420133113861084\n",
      "epoch 1, loss 2.121527671813965\n",
      "epoch 1, loss 2.102142810821533\n",
      "epoch 1, loss 2.083871364593506\n",
      "epoch 2, loss 2.0667028427124023\n",
      "epoch 2, loss 2.0506081581115723\n",
      "epoch 2, loss 2.0355453491210938\n",
      "epoch 3, loss 2.0214648246765137\n",
      "epoch 3, loss 2.0083110332489014\n",
      "epoch 3, loss 1.9960262775421143\n",
      "epoch 4, loss 1.984553575515747\n",
      "epoch 4, loss 1.9738357067108154\n",
      "epoch 4, loss 1.963819146156311\n",
      "epoch 5, loss 1.9544520378112793\n",
      "epoch 5, loss 1.945685863494873\n",
      "epoch 5, loss 1.9374749660491943\n",
      "epoch 6, loss 1.9297776222229004\n",
      "epoch 6, loss 1.9225542545318604\n",
      "epoch 6, loss 1.915769100189209\n",
      "epoch 7, loss 1.9093883037567139\n",
      "epoch 7, loss 1.9033820629119873\n",
      "epoch 7, loss 1.8977214097976685\n",
      "epoch 8, loss 1.892381191253662\n",
      "epoch 8, loss 1.8873369693756104\n",
      "epoch 8, loss 1.8825676441192627\n",
      "epoch 9, loss 1.8780529499053955\n",
      "epoch 9, loss 1.8737750053405762\n",
      "epoch 9, loss 1.8697165250778198\n"
     ]
    }
   ],
   "source": [
    "for epoch in range(epochs):\n",
    "    for x,y in train_loader:\n",
    "        optimiser.zero_grad()\n",
    "        outputs = model(x)\n",
    "        loss = criterion(outputs, y)\n",
    "        loss.backward()\n",
    "        optimiser.step()\n",
    "        print('epoch {}, loss {}'.format(epoch, loss.item()))"
   ]
  },
  {
   "cell_type": "code",
   "execution_count": 45,
   "metadata": {},
   "outputs": [
    {
     "data": {
      "text/plain": [
       "tensor([[0.7065, 0.1416, 0.8121],\n",
       "        [0.7065, 0.1416, 0.8121],\n",
       "        [0.7065, 0.1416, 0.8121],\n",
       "        [0.7065, 0.1416, 0.8121],\n",
       "        [0.7065, 0.1416, 0.8121],\n",
       "        [0.7065, 0.1416, 0.8121]], grad_fn=<SigmoidBackward0>)"
      ]
     },
     "execution_count": 45,
     "metadata": {},
     "output_type": "execute_result"
    }
   ],
   "source": [
    "model(x_)"
   ]
  },
  {
   "cell_type": "code",
   "execution_count": 47,
   "metadata": {},
   "outputs": [
    {
     "data": {
      "image/png": "[encoded data removed]",
      "text/plain": [
       "<Figure size 640x480 with 1 Axes>"
      ]
     },
     "metadata": {},
     "output_type": "display_data"
    }
   ],
   "source": [
    "with torch.no_grad():\n",
    "    preds  = model(x_)\n",
    "\n",
    "plt.clf()\n",
    "plt.plot(y_,'go',label='True data', alpha=0.5)\n",
    "plt.plot(preds.to('cpu'),'go',label='preds data', alpha=0.1)\n",
    "plt.legend(loc='best')\n",
    "plt.show()"
   ]
  },
  {
   "cell_type": "markdown",
   "metadata": {},
   "source": [
    "for epo"
   ]
  }
 ],
 "metadata": {
  "kernelspec": {
   "display_name": "prac_env",
   "language": "python",
   "name": "python3"
  },
  "language_info": {
   "codemirror_mode": {
    "name": "ipython",
    "version": 3
   },
   "file_extension": ".py",
   "mimetype": "text/x-python",
   "name": "python",
   "nbconvert_exporter": "python",
   "pygments_lexer": "ipython3",
   "version": "3.8.0"
  },
  "orig_nbformat": 4
 },
 "nbformat": 4,
 "nbformat_minor": 2
}
