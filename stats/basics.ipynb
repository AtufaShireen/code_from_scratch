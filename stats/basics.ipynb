{
 "cells": [
  {
   "cell_type": "markdown",
   "metadata": {},
   "source": [
    "1. correlation\n",
    "2. degreee of freedom\n",
    "3. time series\n",
    "4. bias variance\n",
    "5. under and overfitting\n",
    "6. cross validation\n",
    "7. gridserachcv\n",
    "8. scaling: standardisation and normalisation\n",
    "9. quantile regression\n",
    "10. markov chains\n",
    "11. metrics\n",
    "12. imbalance dataset"
   ]
  },
  {
   "cell_type": "markdown",
   "metadata": {},
   "source": [
    "10. Feature importance:\n",
    "    - Permutation Importance method\n",
    "    - SHAP"
   ]
  },
  {
   "cell_type": "code",
   "execution_count": null,
   "metadata": {},
   "outputs": [],
   "source": []
  }
 ],
 "metadata": {
  "language_info": {
   "name": "python"
  },
  "orig_nbformat": 4
 },
 "nbformat": 4,
 "nbformat_minor": 2
}
